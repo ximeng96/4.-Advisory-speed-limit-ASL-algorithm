{
  "nbformat": 4,
  "nbformat_minor": 0,
  "metadata": {
    "colab": {
      "name": "ASL_algorithm_krauss_model.ipynb",
      "provenance": [],
      "collapsed_sections": [],
      "toc_visible": true
    },
    "kernelspec": {
      "name": "python3",
      "display_name": "Python 3"
    },
    "widgets": {
      "application/vnd.jupyter.widget-state+json": {
        "8a13cfadbde54bbb8dd9becb3a0215f7": {
          "model_module": "@jupyter-widgets/controls",
          "model_name": "VBoxModel",
          "model_module_version": "1.5.0",
          "state": {
            "_dom_classes": [
              "widget-interact"
            ],
            "_model_module": "@jupyter-widgets/controls",
            "_model_module_version": "1.5.0",
            "_model_name": "VBoxModel",
            "_view_count": null,
            "_view_module": "@jupyter-widgets/controls",
            "_view_module_version": "1.5.0",
            "_view_name": "VBoxView",
            "box_style": "",
            "children": [
              "IPY_MODEL_2504cc2948dc497abbe992c9fa5f9765",
              "IPY_MODEL_b251aecf3d524a998907cbb744ecfe75",
              "IPY_MODEL_cd3dd2bab42a432081fb1a8b7d66e5f8",
              "IPY_MODEL_ef5b0b431bbc4b99a730b1919f22fdba",
              "IPY_MODEL_bd74f1ac78b144e18e321c9cc6ceb3d0",
              "IPY_MODEL_2e8fe1c6be0544a1be3a5e2e86bcf402",
              "IPY_MODEL_a1795e0f8a6e42d9a343c35f369610e7",
              "IPY_MODEL_f9a3ad403e5d4ab1957663b34cd44630"
            ],
            "layout": "IPY_MODEL_c482f1121e6e4595a598f1f2b4f8ec25"
          }
        },
        "2504cc2948dc497abbe992c9fa5f9765": {
          "model_module": "@jupyter-widgets/controls",
          "model_name": "FloatSliderModel",
          "model_module_version": "1.5.0",
          "state": {
            "_dom_classes": [],
            "_model_module": "@jupyter-widgets/controls",
            "_model_module_version": "1.5.0",
            "_model_name": "FloatSliderModel",
            "_view_count": null,
            "_view_module": "@jupyter-widgets/controls",
            "_view_module_version": "1.5.0",
            "_view_name": "FloatSliderView",
            "continuous_update": true,
            "description": "$\\tau$",
            "description_tooltip": null,
            "disabled": false,
            "layout": "IPY_MODEL_e37cc58f2a6b4ce7a4c33c625b6f0926",
            "max": 3,
            "min": 0.5,
            "orientation": "horizontal",
            "readout": true,
            "readout_format": ".2f",
            "step": 0.5,
            "style": "IPY_MODEL_5698702d37b7429ebe028b1f239a3408",
            "value": 1.5
          }
        },
        "b251aecf3d524a998907cbb744ecfe75": {
          "model_module": "@jupyter-widgets/controls",
          "model_name": "FloatSliderModel",
          "model_module_version": "1.5.0",
          "state": {
            "_dom_classes": [],
            "_model_module": "@jupyter-widgets/controls",
            "_model_module_version": "1.5.0",
            "_model_name": "FloatSliderModel",
            "_view_count": null,
            "_view_module": "@jupyter-widgets/controls",
            "_view_module_version": "1.5.0",
            "_view_name": "FloatSliderView",
            "continuous_update": true,
            "description": "$\\Delta t$",
            "description_tooltip": null,
            "disabled": false,
            "layout": "IPY_MODEL_a5b4f451c6074f5083f1b70d0f8248df",
            "max": 2,
            "min": 0.1,
            "orientation": "horizontal",
            "readout": true,
            "readout_format": ".2f",
            "step": 0.1,
            "style": "IPY_MODEL_f143d082f38145d79a116fcd11bc1c57",
            "value": 1.5
          }
        },
        "cd3dd2bab42a432081fb1a8b7d66e5f8": {
          "model_module": "@jupyter-widgets/controls",
          "model_name": "FloatSliderModel",
          "model_module_version": "1.5.0",
          "state": {
            "_dom_classes": [],
            "_model_module": "@jupyter-widgets/controls",
            "_model_module_version": "1.5.0",
            "_model_name": "FloatSliderModel",
            "_view_count": null,
            "_view_module": "@jupyter-widgets/controls",
            "_view_module_version": "1.5.0",
            "_view_name": "FloatSliderView",
            "continuous_update": true,
            "description": "$l$",
            "description_tooltip": null,
            "disabled": false,
            "layout": "IPY_MODEL_b9b4d8bffbf74190811bf6f575ad891b",
            "max": 8,
            "min": 3,
            "orientation": "horizontal",
            "readout": true,
            "readout_format": ".2f",
            "step": 1,
            "style": "IPY_MODEL_3a86f6916bf14fc7bece22a11bf1d496",
            "value": 5
          }
        },
        "ef5b0b431bbc4b99a730b1919f22fdba": {
          "model_module": "@jupyter-widgets/controls",
          "model_name": "FloatSliderModel",
          "model_module_version": "1.5.0",
          "state": {
            "_dom_classes": [],
            "_model_module": "@jupyter-widgets/controls",
            "_model_module_version": "1.5.0",
            "_model_name": "FloatSliderModel",
            "_view_count": null,
            "_view_module": "@jupyter-widgets/controls",
            "_view_module_version": "1.5.0",
            "_view_name": "FloatSliderView",
            "continuous_update": true,
            "description": "$S_0$",
            "description_tooltip": null,
            "disabled": false,
            "layout": "IPY_MODEL_0c75d5d17d6b4de3b046d721a6d0293f",
            "max": 4,
            "min": 0,
            "orientation": "horizontal",
            "readout": true,
            "readout_format": ".2f",
            "step": 1,
            "style": "IPY_MODEL_df77ce5895b24e0181b06467f9de6988",
            "value": 2
          }
        },
        "bd74f1ac78b144e18e321c9cc6ceb3d0": {
          "model_module": "@jupyter-widgets/controls",
          "model_name": "FloatSliderModel",
          "model_module_version": "1.5.0",
          "state": {
            "_dom_classes": [],
            "_model_module": "@jupyter-widgets/controls",
            "_model_module_version": "1.5.0",
            "_model_name": "FloatSliderModel",
            "_view_count": null,
            "_view_module": "@jupyter-widgets/controls",
            "_view_module_version": "1.5.0",
            "_view_name": "FloatSliderView",
            "continuous_update": true,
            "description": "$v_f$",
            "description_tooltip": null,
            "disabled": false,
            "layout": "IPY_MODEL_e64848dff6854290b4a468728c5f2fc0",
            "max": 20,
            "min": 10,
            "orientation": "horizontal",
            "readout": true,
            "readout_format": ".2f",
            "step": 1,
            "style": "IPY_MODEL_ab364f8ddc714328a1084d321f71860d",
            "value": 12
          }
        },
        "2e8fe1c6be0544a1be3a5e2e86bcf402": {
          "model_module": "@jupyter-widgets/controls",
          "model_name": "FloatSliderModel",
          "model_module_version": "1.5.0",
          "state": {
            "_dom_classes": [],
            "_model_module": "@jupyter-widgets/controls",
            "_model_module_version": "1.5.0",
            "_model_name": "FloatSliderModel",
            "_view_count": null,
            "_view_module": "@jupyter-widgets/controls",
            "_view_module_version": "1.5.0",
            "_view_name": "FloatSliderView",
            "continuous_update": true,
            "description": "$a_0$",
            "description_tooltip": null,
            "disabled": false,
            "layout": "IPY_MODEL_ac10f8e3e9594082ade7a3e4bd5dc79e",
            "max": 4,
            "min": 0,
            "orientation": "horizontal",
            "readout": true,
            "readout_format": ".2f",
            "step": 1,
            "style": "IPY_MODEL_7bd88c75e1f54d7d966f8b7caa1a5b9b",
            "value": 1.5
          }
        },
        "a1795e0f8a6e42d9a343c35f369610e7": {
          "model_module": "@jupyter-widgets/controls",
          "model_name": "FloatSliderModel",
          "model_module_version": "1.5.0",
          "state": {
            "_dom_classes": [],
            "_model_module": "@jupyter-widgets/controls",
            "_model_module_version": "1.5.0",
            "_model_name": "FloatSliderModel",
            "_view_count": null,
            "_view_module": "@jupyter-widgets/controls",
            "_view_module_version": "1.5.0",
            "_view_name": "FloatSliderView",
            "continuous_update": true,
            "description": "$b$",
            "description_tooltip": null,
            "disabled": false,
            "layout": "IPY_MODEL_5db0393c598744d9a8ac1ac874449738",
            "max": 6,
            "min": 0,
            "orientation": "horizontal",
            "readout": true,
            "readout_format": ".2f",
            "step": 1,
            "style": "IPY_MODEL_72d60b041cf0407b8866ff1433b54014",
            "value": 3
          }
        },
        "f9a3ad403e5d4ab1957663b34cd44630": {
          "model_module": "@jupyter-widgets/output",
          "model_name": "OutputModel",
          "model_module_version": "1.0.0",
          "state": {
            "_dom_classes": [],
            "_model_module": "@jupyter-widgets/output",
            "_model_module_version": "1.0.0",
            "_model_name": "OutputModel",
            "_view_count": null,
            "_view_module": "@jupyter-widgets/output",
            "_view_module_version": "1.0.0",
            "_view_name": "OutputView",
            "layout": "IPY_MODEL_ac21a55c6d124f20a8feb187dad78ab4",
            "msg_id": "",
            "outputs": [
              {
                "output_type": "stream",
                "name": "stdout",
                "text": [
                  "car_number 2 ave_fuel 8.799950111340409e-05\n"
                ]
              },
              {
                "output_type": "stream",
                "name": "stdout",
                "text": [
                  "car_number 3 ave_fuel 8.799950111340409e-05\n"
                ]
              },
              {
                "output_type": "stream",
                "name": "stdout",
                "text": [
                  "car_number 4 ave_fuel 8.799950111340409e-05\n"
                ]
              },
              {
                "output_type": "stream",
                "name": "stderr",
                "text": [
                  "/usr/local/lib/python3.7/dist-packages/ipykernel_launcher.py:27: RuntimeWarning: invalid value encountered in double_scalars\n"
                ]
              },
              {
                "output_type": "stream",
                "name": "stdout",
                "text": [
                  "car_number 5 ave_fuel 8.799950111340409e-05\n"
                ]
              },
              {
                "output_type": "stream",
                "name": "stdout",
                "text": [
                  "car_number 6 ave_fuel 8.799950111340409e-05\n"
                ]
              },
              {
                "output_type": "stream",
                "name": "stdout",
                "text": [
                  "car_number 7 ave_fuel 8.799950111340409e-05\n"
                ]
              },
              {
                "output_type": "stream",
                "name": "stdout",
                "text": [
                  "car_number 8 ave_fuel 8.799950111340409e-05\n"
                ]
              },
              {
                "output_type": "stream",
                "name": "stdout",
                "text": [
                  "car_number 9 ave_fuel 8.799950111340409e-05\n"
                ]
              },
              {
                "output_type": "stream",
                "name": "stdout",
                "text": [
                  "car_number 10 ave_fuel 8.799950111340409e-05\n"
                ]
              },
              {
                "output_type": "stream",
                "name": "stdout",
                "text": [
                  "car_number 11 ave_fuel 8.799950111340409e-05\n"
                ]
              },
              {
                "output_type": "stream",
                "name": "stdout",
                "text": [
                  "car_number 12 ave_fuel 8.799950111340409e-05\n"
                ]
              },
              {
                "output_type": "stream",
                "name": "stdout",
                "text": [
                  "car_number 13 ave_fuel 8.799950111340409e-05\n"
                ]
              },
              {
                "output_type": "stream",
                "name": "stdout",
                "text": [
                  "car_number 14 ave_fuel 9.132377054797279e-05\n"
                ]
              },
              {
                "output_type": "stream",
                "name": "stdout",
                "text": [
                  "car_number 15 ave_fuel 0.0001142209346086203\n"
                ]
              },
              {
                "output_type": "stream",
                "name": "stdout",
                "text": [
                  "car_number 16 ave_fuel 0.00011987244811327922\n"
                ]
              },
              {
                "output_type": "stream",
                "name": "stdout",
                "text": [
                  "car_number 17 ave_fuel 0.00012902516241664419\n"
                ]
              },
              {
                "output_type": "stream",
                "name": "stdout",
                "text": [
                  "car_number 18 ave_fuel 0.0001279958229523396\n"
                ]
              },
              {
                "output_type": "stream",
                "name": "stdout",
                "text": [
                  "car_number 19 ave_fuel 0.0001389288830573346\n"
                ]
              },
              {
                "output_type": "stream",
                "name": "stdout",
                "text": [
                  "car_number 20 ave_fuel 0.0001393854881633656\n"
                ]
              },
              {
                "output_type": "stream",
                "name": "stdout",
                "text": [
                  "car_number 21 ave_fuel 0.00014215512854169363\n"
                ]
              },
              {
                "output_type": "stream",
                "name": "stdout",
                "text": [
                  "car_number 22 ave_fuel 0.0001539154371700715\n"
                ]
              },
              {
                "output_type": "stream",
                "name": "stdout",
                "text": [
                  "car_number 23 ave_fuel 0.00014477125990147\n"
                ]
              },
              {
                "output_type": "stream",
                "name": "stdout",
                "text": [
                  "car_number 24 ave_fuel 0.0001534711493182126\n"
                ]
              },
              {
                "output_type": "stream",
                "name": "stdout",
                "text": [
                  "car_number 25 ave_fuel 0.00016184579204384808\n"
                ]
              },
              {
                "output_type": "stream",
                "name": "stdout",
                "text": [
                  "car_number 26 ave_fuel 0.0001668517669911335\n"
                ]
              },
              {
                "output_type": "stream",
                "name": "stdout",
                "text": [
                  "car_number 27 ave_fuel 0.0001670712081322351\n"
                ]
              },
              {
                "output_type": "stream",
                "name": "stdout",
                "text": [
                  "car_number 28 ave_fuel 0.00015830633853755846\n"
                ]
              },
              {
                "output_type": "stream",
                "name": "stdout",
                "text": [
                  "car_number 29 ave_fuel 0.00017279470055338406\n"
                ]
              },
              {
                "output_type": "stream",
                "name": "stdout",
                "text": [
                  "car_number 30 ave_fuel 0.00017254453019612876\n"
                ]
              },
              {
                "output_type": "stream",
                "name": "stdout",
                "text": [
                  "car_number 31 ave_fuel 0.00018704231242644675\n"
                ]
              },
              {
                "output_type": "stream",
                "name": "stdout",
                "text": [
                  "car_number 32 ave_fuel 0.00017943258626578628\n"
                ]
              },
              {
                "output_type": "stream",
                "name": "stdout",
                "text": [
                  "car_number 33 ave_fuel 0.0001847953982874419\n"
                ]
              },
              {
                "output_type": "stream",
                "name": "stdout",
                "text": [
                  "car_number 34 ave_fuel 0.00019905547163941964\n"
                ]
              },
              {
                "output_type": "stream",
                "name": "stdout",
                "text": [
                  "car_number 35 ave_fuel 0.00020786418342844782\n"
                ]
              },
              {
                "output_type": "stream",
                "name": "stdout",
                "text": [
                  "car_number 36 ave_fuel 0.0002064579928706916\n"
                ]
              },
              {
                "output_type": "stream",
                "name": "stdout",
                "text": [
                  "car_number 37 ave_fuel 0.00019668576038230534\n"
                ]
              },
              {
                "output_type": "stream",
                "name": "stdout",
                "text": [
                  "car_number 38 ave_fuel 0.0002216357371093311\n"
                ]
              },
              {
                "output_type": "stream",
                "name": "stdout",
                "text": [
                  "car_number 39 ave_fuel 0.00021541052542193244\n"
                ]
              },
              {
                "output_type": "stream",
                "name": "stdout",
                "text": [
                  "car_number 40 ave_fuel 0.00023147778335785214\n"
                ]
              },
              {
                "output_type": "stream",
                "name": "stdout",
                "text": [
                  "car_number 41 ave_fuel 0.00023108595438773414\n"
                ]
              },
              {
                "output_type": "stream",
                "name": "stdout",
                "text": [
                  "car_number 42 ave_fuel 0.00022012937180632564\n"
                ]
              },
              {
                "output_type": "stream",
                "name": "stdout",
                "text": [
                  "car_number 43 ave_fuel 0.00022380798024547918\n"
                ]
              },
              {
                "output_type": "stream",
                "name": "stdout",
                "text": [
                  "car_number 44 ave_fuel 0.00021848240148894882\n"
                ]
              },
              {
                "output_type": "stream",
                "name": "stdout",
                "text": [
                  "car_number 45 ave_fuel 0.00022946614565397123\n"
                ]
              },
              {
                "output_type": "stream",
                "name": "stdout",
                "text": [
                  "car_number 46 ave_fuel 0.00023639402036810942\n"
                ]
              },
              {
                "output_type": "stream",
                "name": "stdout",
                "text": [
                  "car_number 47 ave_fuel 0.00024069661122913945\n"
                ]
              },
              {
                "output_type": "stream",
                "name": "stdout",
                "text": [
                  "car_number 48 ave_fuel 0.000252839848187432\n"
                ]
              },
              {
                "output_type": "stream",
                "name": "stdout",
                "text": [
                  "car_number 49 ave_fuel 0.00027235178157442453\n"
                ]
              },
              {
                "output_type": "stream",
                "name": "stdout",
                "text": [
                  "car_number 50 ave_fuel 0.0002628415803310066\n"
                ]
              },
              {
                "output_type": "stream",
                "name": "stdout",
                "text": [
                  "car_number 51 ave_fuel 0.00024646001793879877\n"
                ]
              },
              {
                "output_type": "stream",
                "name": "stdout",
                "text": [
                  "car_number 52 ave_fuel 0.0002640346618549866\n"
                ]
              },
              {
                "output_type": "stream",
                "name": "stdout",
                "text": [
                  "car_number 53 ave_fuel 0.00025560385356666025\n"
                ]
              },
              {
                "output_type": "stream",
                "name": "stdout",
                "text": [
                  "car_number 54 ave_fuel 0.0002511128427030672\n"
                ]
              },
              {
                "output_type": "stream",
                "name": "stdout",
                "text": [
                  "car_number 55 ave_fuel 0.0002505815683042794\n"
                ]
              },
              {
                "output_type": "stream",
                "name": "stdout",
                "text": [
                  "car_number 56 ave_fuel 0.00027975673477431614\n"
                ]
              },
              {
                "output_type": "stream",
                "name": "stdout",
                "text": [
                  "car_number 57 ave_fuel 0.00028019027347965747\n"
                ]
              },
              {
                "output_type": "stream",
                "name": "stdout",
                "text": [
                  "car_number 58 ave_fuel 0.0002887046292854064\n"
                ]
              },
              {
                "output_type": "stream",
                "name": "stdout",
                "text": [
                  "car_number 59 ave_fuel 0.0002734558440593661\n"
                ]
              },
              {
                "output_type": "stream",
                "name": "stdout",
                "text": [
                  "car_number 60 ave_fuel 0.0002955730852689623\n"
                ]
              },
              {
                "output_type": "stream",
                "name": "stdout",
                "text": [
                  "car_number 61 ave_fuel 0.000268127851736041\n"
                ]
              },
              {
                "output_type": "stream",
                "name": "stdout",
                "text": [
                  "car_number 62 ave_fuel 0.0003064087534171592\n"
                ]
              },
              {
                "output_type": "stream",
                "name": "stdout",
                "text": [
                  "car_number 63 ave_fuel 0.0002780861301039483\n"
                ]
              },
              {
                "output_type": "stream",
                "name": "stdout",
                "text": [
                  "car_number 64 ave_fuel 0.0002907399312949483\n"
                ]
              },
              {
                "output_type": "stream",
                "name": "stdout",
                "text": [
                  "car_number 65 ave_fuel 0.0003118717105796238\n"
                ]
              },
              {
                "output_type": "stream",
                "name": "stdout",
                "text": [
                  "car_number 66 ave_fuel 0.0003083700744035803\n"
                ]
              },
              {
                "output_type": "stream",
                "name": "stdout",
                "text": [
                  "car_number 67 ave_fuel 0.00030213919785744526\n"
                ]
              },
              {
                "output_type": "stream",
                "name": "stdout",
                "text": [
                  "car_number 68 ave_fuel 0.0003159329482455302\n"
                ]
              },
              {
                "output_type": "stream",
                "name": "stdout",
                "text": [
                  "car_number 69 ave_fuel 0.00032803630453375295\n"
                ]
              },
              {
                "output_type": "stream",
                "name": "stdout",
                "text": [
                  "car_number 70 ave_fuel 0.00032963742187704206\n"
                ]
              },
              {
                "output_type": "stream",
                "name": "stdout",
                "text": [
                  "car_number 71 ave_fuel 0.00034507098372122693\n"
                ]
              },
              {
                "output_type": "stream",
                "name": "stdout",
                "text": [
                  "car_number 72 ave_fuel 0.0003582618121007636\n"
                ]
              },
              {
                "output_type": "stream",
                "name": "stdout",
                "text": [
                  "car_number 73 ave_fuel 0.00036240225648269945\n"
                ]
              },
              {
                "output_type": "stream",
                "name": "stdout",
                "text": [
                  "car_number 74 ave_fuel 0.00038870720420149275\n"
                ]
              },
              {
                "output_type": "stream",
                "name": "stdout",
                "text": [
                  "car_number 75 ave_fuel 0.0004032658398341082\n"
                ]
              },
              {
                "output_type": "stream",
                "name": "stdout",
                "text": [
                  "car_number 76 ave_fuel 0.0004162262480292861\n"
                ]
              },
              {
                "output_type": "stream",
                "name": "stdout",
                "text": [
                  "car_number 77 ave_fuel 0.0004255716820747328\n"
                ]
              },
              {
                "output_type": "stream",
                "name": "stdout",
                "text": [
                  "car_number 78 ave_fuel 0.0004442722635214677\n"
                ]
              },
              {
                "output_type": "stream",
                "name": "stdout",
                "text": [
                  "car_number 79 ave_fuel 0.0004570534509797876\n"
                ]
              },
              {
                "output_type": "stream",
                "name": "stdout",
                "text": [
                  "car_number 80 ave_fuel 0.0004982991629170431\n"
                ]
              },
              {
                "output_type": "stream",
                "name": "stdout",
                "text": [
                  "car_number 81 ave_fuel 0.0005014981713382884\n"
                ]
              },
              {
                "output_type": "stream",
                "name": "stdout",
                "text": [
                  "car_number 82 ave_fuel 0.0005437004281193499\n"
                ]
              },
              {
                "output_type": "stream",
                "name": "stdout",
                "text": [
                  "car_number 83 ave_fuel 0.0005592170495573505\n"
                ]
              },
              {
                "output_type": "stream",
                "name": "stdout",
                "text": [
                  "car_number 84 ave_fuel 0.0005933402818316122\n"
                ]
              },
              {
                "output_type": "stream",
                "name": "stdout",
                "text": [
                  "car_number 85 ave_fuel 0.0006252846874717733\n"
                ]
              },
              {
                "output_type": "stream",
                "name": "stdout",
                "text": [
                  "car_number 86 ave_fuel 0.0006485291099808356\n"
                ]
              },
              {
                "output_type": "stream",
                "name": "stdout",
                "text": [
                  "car_number 87 ave_fuel 0.0007104379026327887\n"
                ]
              },
              {
                "output_type": "stream",
                "name": "stdout",
                "text": [
                  "car_number 88 ave_fuel 0.0007567735387578314\n"
                ]
              },
              {
                "output_type": "stream",
                "name": "stdout",
                "text": [
                  "car_number 89 ave_fuel 0.0008095246646086261\n"
                ]
              },
              {
                "output_type": "stream",
                "name": "stdout",
                "text": [
                  "car_number 90 ave_fuel 0.0008718362614027602\n"
                ]
              },
              {
                "output_type": "stream",
                "name": "stdout",
                "text": [
                  "car_number 91 ave_fuel 0.0009608701807010628\n"
                ]
              },
              {
                "output_type": "stream",
                "name": "stdout",
                "text": [
                  "car_number 92 ave_fuel 0.0010360795323299697\n"
                ]
              },
              {
                "output_type": "stream",
                "name": "stdout",
                "text": [
                  "car_number 93 ave_fuel 0.001157123769357509\n"
                ]
              },
              {
                "output_type": "stream",
                "name": "stdout",
                "text": [
                  "car_number 94 ave_fuel 0.0012628205992238975\n"
                ]
              },
              {
                "output_type": "stream",
                "name": "stdout",
                "text": [
                  "car_number 95 ave_fuel 0.001425841339752973\n"
                ]
              },
              {
                "output_type": "stream",
                "name": "stdout",
                "text": [
                  "car_number 96 ave_fuel 0.001663400112617859\n"
                ]
              },
              {
                "output_type": "stream",
                "name": "stdout",
                "text": [
                  "car_number 97 ave_fuel 0.0019187334184948683\n"
                ]
              },
              {
                "output_type": "stream",
                "name": "stdout",
                "text": [
                  "car_number 98 ave_fuel 0.0023090263300104058\n"
                ]
              },
              {
                "output_type": "stream",
                "name": "stdout",
                "text": [
                  "car_number 99 ave_fuel 0.0028478780097605317\n"
                ]
              },
              {
                "output_type": "stream",
                "name": "stdout",
                "text": [
                  "car_number 100 ave_fuel 0.003889231542653189\n"
                ]
              },
              {
                "output_type": "stream",
                "name": "stdout",
                "text": [
                  "car_number 2 ave_fuel 8.799950111340409e-05\n"
                ]
              },
              {
                "output_type": "stream",
                "name": "stdout",
                "text": [
                  "car_number 3 ave_fuel 8.799950111340409e-05\n"
                ]
              },
              {
                "output_type": "stream",
                "name": "stdout",
                "text": [
                  "car_number 4 ave_fuel 8.799950111340409e-05\n"
                ]
              },
              {
                "output_type": "stream",
                "name": "stdout",
                "text": [
                  "car_number 5 ave_fuel 8.799950111340409e-05\n"
                ]
              },
              {
                "output_type": "stream",
                "name": "stdout",
                "text": [
                  "car_number 6 ave_fuel 8.799950111340409e-05\n"
                ]
              },
              {
                "output_type": "stream",
                "name": "stdout",
                "text": [
                  "car_number 7 ave_fuel 8.799950111340409e-05\n"
                ]
              },
              {
                "output_type": "stream",
                "name": "stdout",
                "text": [
                  "car_number 8 ave_fuel 8.799950111340409e-05\n"
                ]
              },
              {
                "output_type": "stream",
                "name": "stdout",
                "text": [
                  "car_number 9 ave_fuel 8.799950111340409e-05\n"
                ]
              },
              {
                "output_type": "stream",
                "name": "stdout",
                "text": [
                  "car_number 10 ave_fuel 8.799950111340409e-05\n"
                ]
              },
              {
                "output_type": "stream",
                "name": "stdout",
                "text": [
                  "car_number 11 ave_fuel 8.799950111340409e-05\n"
                ]
              },
              {
                "output_type": "stream",
                "name": "stdout",
                "text": [
                  "car_number 12 ave_fuel 8.799950111340409e-05\n"
                ]
              },
              {
                "output_type": "stream",
                "name": "stdout",
                "text": [
                  "car_number 13 ave_fuel 8.799950111340409e-05\n"
                ]
              },
              {
                "output_type": "stream",
                "name": "stdout",
                "text": [
                  "car_number 14 ave_fuel 8.799950111340409e-05\n"
                ]
              },
              {
                "output_type": "stream",
                "name": "stdout",
                "text": [
                  "car_number 15 ave_fuel 0.00010921956416230215\n"
                ]
              },
              {
                "output_type": "stream",
                "name": "stdout",
                "text": [
                  "car_number 16 ave_fuel 0.00011492747488369886\n"
                ]
              },
              {
                "output_type": "stream",
                "name": "stdout",
                "text": [
                  "car_number 17 ave_fuel 0.00012292956392926803\n"
                ]
              },
              {
                "output_type": "stream",
                "name": "stdout",
                "text": [
                  "car_number 18 ave_fuel 0.00012070034365659102\n"
                ]
              },
              {
                "output_type": "stream",
                "name": "stdout",
                "text": [
                  "car_number 19 ave_fuel 0.00013459701308876266\n"
                ]
              },
              {
                "output_type": "stream",
                "name": "stdout",
                "text": [
                  "car_number 20 ave_fuel 0.00012708032171318158\n"
                ]
              },
              {
                "output_type": "stream",
                "name": "stdout",
                "text": [
                  "car_number 21 ave_fuel 0.00013095995590913396\n"
                ]
              },
              {
                "output_type": "stream",
                "name": "stdout",
                "text": [
                  "car_number 22 ave_fuel 0.00013501449401221534\n"
                ]
              },
              {
                "output_type": "stream",
                "name": "stdout",
                "text": [
                  "car_number 23 ave_fuel 0.00014162551386821067\n"
                ]
              },
              {
                "output_type": "stream",
                "name": "stdout",
                "text": [
                  "car_number 24 ave_fuel 0.00014387189436601954\n"
                ]
              },
              {
                "output_type": "stream",
                "name": "stdout",
                "text": [
                  "car_number 25 ave_fuel 0.0001448217635886638\n"
                ]
              },
              {
                "output_type": "stream",
                "name": "stdout",
                "text": [
                  "car_number 26 ave_fuel 0.00016664822385838705\n"
                ]
              },
              {
                "output_type": "stream",
                "name": "stdout",
                "text": [
                  "car_number 27 ave_fuel 0.0001591446393125351\n"
                ]
              },
              {
                "output_type": "stream",
                "name": "stdout",
                "text": [
                  "car_number 28 ave_fuel 0.00015137289354571177\n"
                ]
              },
              {
                "output_type": "stream",
                "name": "stdout",
                "text": [
                  "car_number 29 ave_fuel 0.00015602142836070384\n"
                ]
              },
              {
                "output_type": "stream",
                "name": "stdout",
                "text": [
                  "car_number 30 ave_fuel 0.0001573061124495741\n"
                ]
              },
              {
                "output_type": "stream",
                "name": "stdout",
                "text": [
                  "car_number 31 ave_fuel 0.00017017296865797768\n"
                ]
              },
              {
                "output_type": "stream",
                "name": "stdout",
                "text": [
                  "car_number 32 ave_fuel 0.00016800372538939632\n"
                ]
              },
              {
                "output_type": "stream",
                "name": "stdout",
                "text": [
                  "car_number 33 ave_fuel 0.00017483793433072418\n"
                ]
              },
              {
                "output_type": "stream",
                "name": "stdout",
                "text": [
                  "car_number 34 ave_fuel 0.00016575441909467097\n"
                ]
              },
              {
                "output_type": "stream",
                "name": "stdout",
                "text": [
                  "car_number 35 ave_fuel 0.00017621190299857385\n"
                ]
              },
              {
                "output_type": "stream",
                "name": "stdout",
                "text": [
                  "car_number 36 ave_fuel 0.00017807772166454023\n"
                ]
              },
              {
                "output_type": "stream",
                "name": "stdout",
                "text": [
                  "car_number 37 ave_fuel 0.00018265126585336833\n"
                ]
              },
              {
                "output_type": "stream",
                "name": "stdout",
                "text": [
                  "car_number 38 ave_fuel 0.00018303018055833097\n"
                ]
              },
              {
                "output_type": "stream",
                "name": "stdout",
                "text": [
                  "car_number 39 ave_fuel 0.0001996601077438196\n"
                ]
              },
              {
                "output_type": "stream",
                "name": "stdout",
                "text": [
                  "car_number 40 ave_fuel 0.00019334415851192862\n"
                ]
              },
              {
                "output_type": "stream",
                "name": "stdout",
                "text": [
                  "car_number 41 ave_fuel 0.0001828988927726283\n"
                ]
              },
              {
                "output_type": "stream",
                "name": "stdout",
                "text": [
                  "car_number 42 ave_fuel 0.000180137815299317\n"
                ]
              },
              {
                "output_type": "stream",
                "name": "stdout",
                "text": [
                  "car_number 43 ave_fuel 0.00019444800888238195\n"
                ]
              },
              {
                "output_type": "stream",
                "name": "stdout",
                "text": [
                  "car_number 44 ave_fuel 0.00020203606686194025\n"
                ]
              },
              {
                "output_type": "stream",
                "name": "stdout",
                "text": [
                  "car_number 45 ave_fuel 0.00020315045086822218\n"
                ]
              },
              {
                "output_type": "stream",
                "name": "stdout",
                "text": [
                  "car_number 46 ave_fuel 0.00021508348382234333\n"
                ]
              },
              {
                "output_type": "stream",
                "name": "stdout",
                "text": [
                  "car_number 47 ave_fuel 0.00020460877190037647\n"
                ]
              },
              {
                "output_type": "stream",
                "name": "stdout",
                "text": [
                  "car_number 48 ave_fuel 0.00021580425937202564\n"
                ]
              },
              {
                "output_type": "stream",
                "name": "stdout",
                "text": [
                  "car_number 49 ave_fuel 0.00021330015966192304\n"
                ]
              },
              {
                "output_type": "stream",
                "name": "stdout",
                "text": [
                  "car_number 50 ave_fuel 0.00021674081032432274\n"
                ]
              },
              {
                "output_type": "stream",
                "name": "stdout",
                "text": [
                  "car_number 51 ave_fuel 0.00022187507240085087\n"
                ]
              },
              {
                "output_type": "stream",
                "name": "stdout",
                "text": [
                  "car_number 52 ave_fuel 0.0002270162669310372\n"
                ]
              },
              {
                "output_type": "stream",
                "name": "stdout",
                "text": [
                  "car_number 53 ave_fuel 0.0002258699130998033\n"
                ]
              },
              {
                "output_type": "stream",
                "name": "stdout",
                "text": [
                  "car_number 54 ave_fuel 0.00023015328837009633\n"
                ]
              },
              {
                "output_type": "stream",
                "name": "stdout",
                "text": [
                  "car_number 55 ave_fuel 0.0002187902075776149\n"
                ]
              },
              {
                "output_type": "stream",
                "name": "stdout",
                "text": [
                  "car_number 56 ave_fuel 0.00023430774583009986\n"
                ]
              },
              {
                "output_type": "stream",
                "name": "stdout",
                "text": [
                  "car_number 57 ave_fuel 0.0002383406706360476\n"
                ]
              },
              {
                "output_type": "stream",
                "name": "stdout",
                "text": [
                  "car_number 58 ave_fuel 0.00024037783677567634\n"
                ]
              },
              {
                "output_type": "stream",
                "name": "stdout",
                "text": [
                  "car_number 59 ave_fuel 0.00023883628964211262\n"
                ]
              },
              {
                "output_type": "stream",
                "name": "stdout",
                "text": [
                  "car_number 60 ave_fuel 0.00024647222389707294\n"
                ]
              },
              {
                "output_type": "stream",
                "name": "stdout",
                "text": [
                  "car_number 61 ave_fuel 0.0002513557752518962\n"
                ]
              },
              {
                "output_type": "stream",
                "name": "stdout",
                "text": [
                  "car_number 62 ave_fuel 0.00025876977077862084\n"
                ]
              },
              {
                "output_type": "stream",
                "name": "stdout",
                "text": [
                  "car_number 63 ave_fuel 0.00026442233526050875\n"
                ]
              },
              {
                "output_type": "stream",
                "name": "stdout",
                "text": [
                  "car_number 64 ave_fuel 0.0002733648788126125\n"
                ]
              },
              {
                "output_type": "stream",
                "name": "stdout",
                "text": [
                  "car_number 65 ave_fuel 0.00028793905529795336\n"
                ]
              },
              {
                "output_type": "stream",
                "name": "stdout",
                "text": [
                  "car_number 66 ave_fuel 0.0002832210972383641\n"
                ]
              },
              {
                "output_type": "stream",
                "name": "stdout",
                "text": [
                  "car_number 67 ave_fuel 0.0002929500179149135\n"
                ]
              },
              {
                "output_type": "stream",
                "name": "stdout",
                "text": [
                  "car_number 68 ave_fuel 0.0003012289383084798\n"
                ]
              },
              {
                "output_type": "stream",
                "name": "stdout",
                "text": [
                  "car_number 69 ave_fuel 0.0003099075086342173\n"
                ]
              },
              {
                "output_type": "stream",
                "name": "stdout",
                "text": [
                  "car_number 70 ave_fuel 0.000321188654513028\n"
                ]
              },
              {
                "output_type": "stream",
                "name": "stdout",
                "text": [
                  "car_number 71 ave_fuel 0.00033072398899343207\n"
                ]
              },
              {
                "output_type": "stream",
                "name": "stdout",
                "text": [
                  "car_number 72 ave_fuel 0.0003432526750545231\n"
                ]
              },
              {
                "output_type": "stream",
                "name": "stdout",
                "text": [
                  "car_number 73 ave_fuel 0.0003544814667802404\n"
                ]
              },
              {
                "output_type": "stream",
                "name": "stdout",
                "text": [
                  "car_number 74 ave_fuel 0.0003683086550731658\n"
                ]
              },
              {
                "output_type": "stream",
                "name": "stdout",
                "text": [
                  "car_number 75 ave_fuel 0.00037481416938828845\n"
                ]
              },
              {
                "output_type": "stream",
                "name": "stdout",
                "text": [
                  "car_number 76 ave_fuel 0.00039863528327974286\n"
                ]
              },
              {
                "output_type": "stream",
                "name": "stdout",
                "text": [
                  "car_number 77 ave_fuel 0.0004176170059183887\n"
                ]
              },
              {
                "output_type": "stream",
                "name": "stdout",
                "text": [
                  "car_number 78 ave_fuel 0.00043058498408997164\n"
                ]
              },
              {
                "output_type": "stream",
                "name": "stdout",
                "text": [
                  "car_number 79 ave_fuel 0.0004504809330448772\n"
                ]
              },
              {
                "output_type": "stream",
                "name": "stdout",
                "text": [
                  "car_number 80 ave_fuel 0.0004706261526942517\n"
                ]
              },
              {
                "output_type": "stream",
                "name": "stdout",
                "text": [
                  "car_number 81 ave_fuel 0.0004921024442589578\n"
                ]
              },
              {
                "output_type": "stream",
                "name": "stdout",
                "text": [
                  "car_number 82 ave_fuel 0.0005179590770171827\n"
                ]
              },
              {
                "output_type": "stream",
                "name": "stdout",
                "text": [
                  "car_number 83 ave_fuel 0.0005439535058169263\n"
                ]
              },
              {
                "output_type": "stream",
                "name": "stdout",
                "text": [
                  "car_number 84 ave_fuel 0.0005706942319117748\n"
                ]
              },
              {
                "output_type": "stream",
                "name": "stdout",
                "text": [
                  "car_number 85 ave_fuel 0.0006037514874883864\n"
                ]
              },
              {
                "output_type": "stream",
                "name": "stdout",
                "text": [
                  "car_number 86 ave_fuel 0.0006416945480045156\n"
                ]
              },
              {
                "output_type": "stream",
                "name": "stdout",
                "text": [
                  "car_number 87 ave_fuel 0.0006876101965416148\n"
                ]
              },
              {
                "output_type": "stream",
                "name": "stdout",
                "text": [
                  "car_number 88 ave_fuel 0.000727693132443725\n"
                ]
              },
              {
                "output_type": "stream",
                "name": "stdout",
                "text": [
                  "car_number 89 ave_fuel 0.0007973023777662583\n"
                ]
              },
              {
                "output_type": "stream",
                "name": "stdout",
                "text": [
                  "car_number 90 ave_fuel 0.0008565508144106088\n"
                ]
              },
              {
                "output_type": "stream",
                "name": "stdout",
                "text": [
                  "car_number 91 ave_fuel 0.0009336143294915702\n"
                ]
              },
              {
                "output_type": "stream",
                "name": "stdout",
                "text": [
                  "car_number 92 ave_fuel 0.0010119296769259495\n"
                ]
              },
              {
                "output_type": "stream",
                "name": "stdout",
                "text": [
                  "car_number 93 ave_fuel 0.0011291982036404301\n"
                ]
              },
              {
                "output_type": "stream",
                "name": "stdout",
                "text": [
                  "car_number 94 ave_fuel 0.0012392852428666076\n"
                ]
              },
              {
                "output_type": "stream",
                "name": "stdout",
                "text": [
                  "car_number 95 ave_fuel 0.0013933275055186714\n"
                ]
              },
              {
                "output_type": "stream",
                "name": "stdout",
                "text": [
                  "car_number 96 ave_fuel 0.0016233642449024904\n"
                ]
              },
              {
                "output_type": "stream",
                "name": "stdout",
                "text": [
                  "car_number 97 ave_fuel 0.0018899076421283808\n"
                ]
              },
              {
                "output_type": "stream",
                "name": "stdout",
                "text": [
                  "car_number 98 ave_fuel 0.0022762962791727\n"
                ]
              },
              {
                "output_type": "stream",
                "name": "stdout",
                "text": [
                  "car_number 99 ave_fuel 0.0028194919410114666\n"
                ]
              },
              {
                "output_type": "stream",
                "name": "stdout",
                "text": [
                  "car_number 100 ave_fuel 0.003838388629812758\n"
                ]
              },
              {
                "output_type": "stream",
                "name": "stdout",
                "text": [
                  "car_number 2 ave_fuel 8.799950111340409e-05\n"
                ]
              },
              {
                "output_type": "stream",
                "name": "stdout",
                "text": [
                  "car_number 3 ave_fuel 8.799950111340409e-05\n"
                ]
              },
              {
                "output_type": "stream",
                "name": "stdout",
                "text": [
                  "car_number 4 ave_fuel 8.799950111340409e-05\n"
                ]
              },
              {
                "output_type": "stream",
                "name": "stdout",
                "text": [
                  "car_number 5 ave_fuel 8.799950111340409e-05\n"
                ]
              }
            ]
          }
        },
        "c482f1121e6e4595a598f1f2b4f8ec25": {
          "model_module": "@jupyter-widgets/base",
          "model_name": "LayoutModel",
          "model_module_version": "1.2.0",
          "state": {
            "_model_module": "@jupyter-widgets/base",
            "_model_module_version": "1.2.0",
            "_model_name": "LayoutModel",
            "_view_count": null,
            "_view_module": "@jupyter-widgets/base",
            "_view_module_version": "1.2.0",
            "_view_name": "LayoutView",
            "align_content": null,
            "align_items": null,
            "align_self": null,
            "border": null,
            "bottom": null,
            "display": null,
            "flex": null,
            "flex_flow": null,
            "grid_area": null,
            "grid_auto_columns": null,
            "grid_auto_flow": null,
            "grid_auto_rows": null,
            "grid_column": null,
            "grid_gap": null,
            "grid_row": null,
            "grid_template_areas": null,
            "grid_template_columns": null,
            "grid_template_rows": null,
            "height": null,
            "justify_content": null,
            "justify_items": null,
            "left": null,
            "margin": null,
            "max_height": null,
            "max_width": null,
            "min_height": null,
            "min_width": null,
            "object_fit": null,
            "object_position": null,
            "order": null,
            "overflow": null,
            "overflow_x": null,
            "overflow_y": null,
            "padding": null,
            "right": null,
            "top": null,
            "visibility": null,
            "width": null
          }
        },
        "e37cc58f2a6b4ce7a4c33c625b6f0926": {
          "model_module": "@jupyter-widgets/base",
          "model_name": "LayoutModel",
          "model_module_version": "1.2.0",
          "state": {
            "_model_module": "@jupyter-widgets/base",
            "_model_module_version": "1.2.0",
            "_model_name": "LayoutModel",
            "_view_count": null,
            "_view_module": "@jupyter-widgets/base",
            "_view_module_version": "1.2.0",
            "_view_name": "LayoutView",
            "align_content": null,
            "align_items": null,
            "align_self": null,
            "border": null,
            "bottom": null,
            "display": null,
            "flex": null,
            "flex_flow": null,
            "grid_area": null,
            "grid_auto_columns": null,
            "grid_auto_flow": null,
            "grid_auto_rows": null,
            "grid_column": null,
            "grid_gap": null,
            "grid_row": null,
            "grid_template_areas": null,
            "grid_template_columns": null,
            "grid_template_rows": null,
            "height": null,
            "justify_content": null,
            "justify_items": null,
            "left": null,
            "margin": null,
            "max_height": null,
            "max_width": null,
            "min_height": null,
            "min_width": null,
            "object_fit": null,
            "object_position": null,
            "order": null,
            "overflow": null,
            "overflow_x": null,
            "overflow_y": null,
            "padding": null,
            "right": null,
            "top": null,
            "visibility": null,
            "width": null
          }
        },
        "5698702d37b7429ebe028b1f239a3408": {
          "model_module": "@jupyter-widgets/controls",
          "model_name": "SliderStyleModel",
          "model_module_version": "1.5.0",
          "state": {
            "_model_module": "@jupyter-widgets/controls",
            "_model_module_version": "1.5.0",
            "_model_name": "SliderStyleModel",
            "_view_count": null,
            "_view_module": "@jupyter-widgets/base",
            "_view_module_version": "1.2.0",
            "_view_name": "StyleView",
            "description_width": "",
            "handle_color": null
          }
        },
        "a5b4f451c6074f5083f1b70d0f8248df": {
          "model_module": "@jupyter-widgets/base",
          "model_name": "LayoutModel",
          "model_module_version": "1.2.0",
          "state": {
            "_model_module": "@jupyter-widgets/base",
            "_model_module_version": "1.2.0",
            "_model_name": "LayoutModel",
            "_view_count": null,
            "_view_module": "@jupyter-widgets/base",
            "_view_module_version": "1.2.0",
            "_view_name": "LayoutView",
            "align_content": null,
            "align_items": null,
            "align_self": null,
            "border": null,
            "bottom": null,
            "display": null,
            "flex": null,
            "flex_flow": null,
            "grid_area": null,
            "grid_auto_columns": null,
            "grid_auto_flow": null,
            "grid_auto_rows": null,
            "grid_column": null,
            "grid_gap": null,
            "grid_row": null,
            "grid_template_areas": null,
            "grid_template_columns": null,
            "grid_template_rows": null,
            "height": null,
            "justify_content": null,
            "justify_items": null,
            "left": null,
            "margin": null,
            "max_height": null,
            "max_width": null,
            "min_height": null,
            "min_width": null,
            "object_fit": null,
            "object_position": null,
            "order": null,
            "overflow": null,
            "overflow_x": null,
            "overflow_y": null,
            "padding": null,
            "right": null,
            "top": null,
            "visibility": null,
            "width": null
          }
        },
        "f143d082f38145d79a116fcd11bc1c57": {
          "model_module": "@jupyter-widgets/controls",
          "model_name": "SliderStyleModel",
          "model_module_version": "1.5.0",
          "state": {
            "_model_module": "@jupyter-widgets/controls",
            "_model_module_version": "1.5.0",
            "_model_name": "SliderStyleModel",
            "_view_count": null,
            "_view_module": "@jupyter-widgets/base",
            "_view_module_version": "1.2.0",
            "_view_name": "StyleView",
            "description_width": "",
            "handle_color": null
          }
        },
        "b9b4d8bffbf74190811bf6f575ad891b": {
          "model_module": "@jupyter-widgets/base",
          "model_name": "LayoutModel",
          "model_module_version": "1.2.0",
          "state": {
            "_model_module": "@jupyter-widgets/base",
            "_model_module_version": "1.2.0",
            "_model_name": "LayoutModel",
            "_view_count": null,
            "_view_module": "@jupyter-widgets/base",
            "_view_module_version": "1.2.0",
            "_view_name": "LayoutView",
            "align_content": null,
            "align_items": null,
            "align_self": null,
            "border": null,
            "bottom": null,
            "display": null,
            "flex": null,
            "flex_flow": null,
            "grid_area": null,
            "grid_auto_columns": null,
            "grid_auto_flow": null,
            "grid_auto_rows": null,
            "grid_column": null,
            "grid_gap": null,
            "grid_row": null,
            "grid_template_areas": null,
            "grid_template_columns": null,
            "grid_template_rows": null,
            "height": null,
            "justify_content": null,
            "justify_items": null,
            "left": null,
            "margin": null,
            "max_height": null,
            "max_width": null,
            "min_height": null,
            "min_width": null,
            "object_fit": null,
            "object_position": null,
            "order": null,
            "overflow": null,
            "overflow_x": null,
            "overflow_y": null,
            "padding": null,
            "right": null,
            "top": null,
            "visibility": null,
            "width": null
          }
        },
        "3a86f6916bf14fc7bece22a11bf1d496": {
          "model_module": "@jupyter-widgets/controls",
          "model_name": "SliderStyleModel",
          "model_module_version": "1.5.0",
          "state": {
            "_model_module": "@jupyter-widgets/controls",
            "_model_module_version": "1.5.0",
            "_model_name": "SliderStyleModel",
            "_view_count": null,
            "_view_module": "@jupyter-widgets/base",
            "_view_module_version": "1.2.0",
            "_view_name": "StyleView",
            "description_width": "",
            "handle_color": null
          }
        },
        "0c75d5d17d6b4de3b046d721a6d0293f": {
          "model_module": "@jupyter-widgets/base",
          "model_name": "LayoutModel",
          "model_module_version": "1.2.0",
          "state": {
            "_model_module": "@jupyter-widgets/base",
            "_model_module_version": "1.2.0",
            "_model_name": "LayoutModel",
            "_view_count": null,
            "_view_module": "@jupyter-widgets/base",
            "_view_module_version": "1.2.0",
            "_view_name": "LayoutView",
            "align_content": null,
            "align_items": null,
            "align_self": null,
            "border": null,
            "bottom": null,
            "display": null,
            "flex": null,
            "flex_flow": null,
            "grid_area": null,
            "grid_auto_columns": null,
            "grid_auto_flow": null,
            "grid_auto_rows": null,
            "grid_column": null,
            "grid_gap": null,
            "grid_row": null,
            "grid_template_areas": null,
            "grid_template_columns": null,
            "grid_template_rows": null,
            "height": null,
            "justify_content": null,
            "justify_items": null,
            "left": null,
            "margin": null,
            "max_height": null,
            "max_width": null,
            "min_height": null,
            "min_width": null,
            "object_fit": null,
            "object_position": null,
            "order": null,
            "overflow": null,
            "overflow_x": null,
            "overflow_y": null,
            "padding": null,
            "right": null,
            "top": null,
            "visibility": null,
            "width": null
          }
        },
        "df77ce5895b24e0181b06467f9de6988": {
          "model_module": "@jupyter-widgets/controls",
          "model_name": "SliderStyleModel",
          "model_module_version": "1.5.0",
          "state": {
            "_model_module": "@jupyter-widgets/controls",
            "_model_module_version": "1.5.0",
            "_model_name": "SliderStyleModel",
            "_view_count": null,
            "_view_module": "@jupyter-widgets/base",
            "_view_module_version": "1.2.0",
            "_view_name": "StyleView",
            "description_width": "",
            "handle_color": null
          }
        },
        "e64848dff6854290b4a468728c5f2fc0": {
          "model_module": "@jupyter-widgets/base",
          "model_name": "LayoutModel",
          "model_module_version": "1.2.0",
          "state": {
            "_model_module": "@jupyter-widgets/base",
            "_model_module_version": "1.2.0",
            "_model_name": "LayoutModel",
            "_view_count": null,
            "_view_module": "@jupyter-widgets/base",
            "_view_module_version": "1.2.0",
            "_view_name": "LayoutView",
            "align_content": null,
            "align_items": null,
            "align_self": null,
            "border": null,
            "bottom": null,
            "display": null,
            "flex": null,
            "flex_flow": null,
            "grid_area": null,
            "grid_auto_columns": null,
            "grid_auto_flow": null,
            "grid_auto_rows": null,
            "grid_column": null,
            "grid_gap": null,
            "grid_row": null,
            "grid_template_areas": null,
            "grid_template_columns": null,
            "grid_template_rows": null,
            "height": null,
            "justify_content": null,
            "justify_items": null,
            "left": null,
            "margin": null,
            "max_height": null,
            "max_width": null,
            "min_height": null,
            "min_width": null,
            "object_fit": null,
            "object_position": null,
            "order": null,
            "overflow": null,
            "overflow_x": null,
            "overflow_y": null,
            "padding": null,
            "right": null,
            "top": null,
            "visibility": null,
            "width": null
          }
        },
        "ab364f8ddc714328a1084d321f71860d": {
          "model_module": "@jupyter-widgets/controls",
          "model_name": "SliderStyleModel",
          "model_module_version": "1.5.0",
          "state": {
            "_model_module": "@jupyter-widgets/controls",
            "_model_module_version": "1.5.0",
            "_model_name": "SliderStyleModel",
            "_view_count": null,
            "_view_module": "@jupyter-widgets/base",
            "_view_module_version": "1.2.0",
            "_view_name": "StyleView",
            "description_width": "",
            "handle_color": null
          }
        },
        "ac10f8e3e9594082ade7a3e4bd5dc79e": {
          "model_module": "@jupyter-widgets/base",
          "model_name": "LayoutModel",
          "model_module_version": "1.2.0",
          "state": {
            "_model_module": "@jupyter-widgets/base",
            "_model_module_version": "1.2.0",
            "_model_name": "LayoutModel",
            "_view_count": null,
            "_view_module": "@jupyter-widgets/base",
            "_view_module_version": "1.2.0",
            "_view_name": "LayoutView",
            "align_content": null,
            "align_items": null,
            "align_self": null,
            "border": null,
            "bottom": null,
            "display": null,
            "flex": null,
            "flex_flow": null,
            "grid_area": null,
            "grid_auto_columns": null,
            "grid_auto_flow": null,
            "grid_auto_rows": null,
            "grid_column": null,
            "grid_gap": null,
            "grid_row": null,
            "grid_template_areas": null,
            "grid_template_columns": null,
            "grid_template_rows": null,
            "height": null,
            "justify_content": null,
            "justify_items": null,
            "left": null,
            "margin": null,
            "max_height": null,
            "max_width": null,
            "min_height": null,
            "min_width": null,
            "object_fit": null,
            "object_position": null,
            "order": null,
            "overflow": null,
            "overflow_x": null,
            "overflow_y": null,
            "padding": null,
            "right": null,
            "top": null,
            "visibility": null,
            "width": null
          }
        },
        "7bd88c75e1f54d7d966f8b7caa1a5b9b": {
          "model_module": "@jupyter-widgets/controls",
          "model_name": "SliderStyleModel",
          "model_module_version": "1.5.0",
          "state": {
            "_model_module": "@jupyter-widgets/controls",
            "_model_module_version": "1.5.0",
            "_model_name": "SliderStyleModel",
            "_view_count": null,
            "_view_module": "@jupyter-widgets/base",
            "_view_module_version": "1.2.0",
            "_view_name": "StyleView",
            "description_width": "",
            "handle_color": null
          }
        },
        "5db0393c598744d9a8ac1ac874449738": {
          "model_module": "@jupyter-widgets/base",
          "model_name": "LayoutModel",
          "model_module_version": "1.2.0",
          "state": {
            "_model_module": "@jupyter-widgets/base",
            "_model_module_version": "1.2.0",
            "_model_name": "LayoutModel",
            "_view_count": null,
            "_view_module": "@jupyter-widgets/base",
            "_view_module_version": "1.2.0",
            "_view_name": "LayoutView",
            "align_content": null,
            "align_items": null,
            "align_self": null,
            "border": null,
            "bottom": null,
            "display": null,
            "flex": null,
            "flex_flow": null,
            "grid_area": null,
            "grid_auto_columns": null,
            "grid_auto_flow": null,
            "grid_auto_rows": null,
            "grid_column": null,
            "grid_gap": null,
            "grid_row": null,
            "grid_template_areas": null,
            "grid_template_columns": null,
            "grid_template_rows": null,
            "height": null,
            "justify_content": null,
            "justify_items": null,
            "left": null,
            "margin": null,
            "max_height": null,
            "max_width": null,
            "min_height": null,
            "min_width": null,
            "object_fit": null,
            "object_position": null,
            "order": null,
            "overflow": null,
            "overflow_x": null,
            "overflow_y": null,
            "padding": null,
            "right": null,
            "top": null,
            "visibility": null,
            "width": null
          }
        },
        "72d60b041cf0407b8866ff1433b54014": {
          "model_module": "@jupyter-widgets/controls",
          "model_name": "SliderStyleModel",
          "model_module_version": "1.5.0",
          "state": {
            "_model_module": "@jupyter-widgets/controls",
            "_model_module_version": "1.5.0",
            "_model_name": "SliderStyleModel",
            "_view_count": null,
            "_view_module": "@jupyter-widgets/base",
            "_view_module_version": "1.2.0",
            "_view_name": "StyleView",
            "description_width": "",
            "handle_color": null
          }
        },
        "ac21a55c6d124f20a8feb187dad78ab4": {
          "model_module": "@jupyter-widgets/base",
          "model_name": "LayoutModel",
          "model_module_version": "1.2.0",
          "state": {
            "_model_module": "@jupyter-widgets/base",
            "_model_module_version": "1.2.0",
            "_model_name": "LayoutModel",
            "_view_count": null,
            "_view_module": "@jupyter-widgets/base",
            "_view_module_version": "1.2.0",
            "_view_name": "LayoutView",
            "align_content": null,
            "align_items": null,
            "align_self": null,
            "border": null,
            "bottom": null,
            "display": null,
            "flex": null,
            "flex_flow": null,
            "grid_area": null,
            "grid_auto_columns": null,
            "grid_auto_flow": null,
            "grid_auto_rows": null,
            "grid_column": null,
            "grid_gap": null,
            "grid_row": null,
            "grid_template_areas": null,
            "grid_template_columns": null,
            "grid_template_rows": null,
            "height": null,
            "justify_content": null,
            "justify_items": null,
            "left": null,
            "margin": null,
            "max_height": null,
            "max_width": null,
            "min_height": null,
            "min_width": null,
            "object_fit": null,
            "object_position": null,
            "order": null,
            "overflow": null,
            "overflow_x": null,
            "overflow_y": null,
            "padding": null,
            "right": null,
            "top": null,
            "visibility": null,
            "width": null
          }
        }
      }
    },
    "accelerator": "TPU"
  },
  "cells": [
    {
      "cell_type": "markdown",
      "metadata": {
        "id": "QngPAxtF_Wu2"
      },
      "source": [
        "# Impacts of connected and autonomous vehicles on the performance of signalized networks:  A network fundamental diagram approach"
      ]
    },
    {
      "cell_type": "code",
      "metadata": {
        "id": "G-gC5ROKOnuk"
      },
      "source": [
        "from ipywidgets import interact, interactive, fixed, interact_manual\n",
        "import ipywidgets as widgets\n",
        "import numpy as np\n",
        "import matplotlib.pyplot as plt\n",
        "import random\n",
        "import math\n",
        "import datetime\n",
        "from collections import OrderedDict #order the dictionary\n",
        "import copy #deep copy\n",
        "\n",
        "np.set_printoptions(precision=3, suppress=True)#3 digit, no scientific notation\n",
        "np.set_printoptions(threshold=np.inf) #no ellipses\n",
        "\n",
        "delta_n = 1\n",
        "L_int = 0; intersection = 0\n",
        "delta = 4\n",
        "reactime = 1\n",
        "start = datetime.datetime.now()"
      ],
      "execution_count": 17,
      "outputs": []
    },
    {
      "cell_type": "markdown",
      "metadata": {
        "id": "5-42TINyPClo"
      },
      "source": [
        "# Notation list\n",
        "|Variables | Definitions | Variables | Definitions |\n",
        "| :----:| :----: | :----: | :----: |\n",
        "| Length and position variables        |\n",
        "| $L$ |  Road length | $l_n$ | Length of vehicle $n$ |\n",
        "| $s_0$ | Minimum bumper to bumper distance | $\\zeta$ | Jam spacing |\n",
        "| $D$ | ASL implementation area length | $\\gamma$ | Transmission range |\n",
        "| $t_{RE}$  | reaction time  | $\\tau$ | Time gap |\n",
        "| $x_n(t)$ | TPosition of vehicle $n$ at time $t$ |\n",
        "| Time variables |\n",
        "| $t$ | Time | $\\Delta t$ | Time step |\n",
        "| $\\tau$ | Time gap | $t_{re}$ | Reaction time |\n",
        "| $B$ | Cycle length | $G$| Green interval |\n",
        "| $Y$ | Yellow plus all-red interval | $R$  | Red interval |\n",
        "| $\\sigma$ | Simulation duration | $h$| Saturation headway  |\n",
        "| $h_{n}^{'}$ | Headway between vehicle $n$ and $n+1$ | $t_{n}^{*}$  | Time when vehicle $n$ enters the ASL implementation area |\n",
        "|  $\\Phi_n(t)$ | Desired arrival time of vehicle $n$ at time $t$ | $T_n(N)$ | Period of vehicle $n$'s speed in stationary states when there are N vehicles in the system |\n",
        "| $T_{sys}(N)$ | Period of system average speed in stationary states when there are N vehicles in the system  |\n",
        "| Speed and acceleration variables       |\n",
        "| $v_f$ |  Original speed limit (free-flow speed) | $w$ | Shock wave speed in congested traffic|\n",
        "| $a_0$ | Bounded acceleration | $b$ | Bounded deceleration |\n",
        "| $v_n(t)$ | Speed of vehicle $n$ at time $t$ | $a_n(t)$ | Acceleration of vehicle $n$ at time $t$ |\n",
        "| $U_n(t)$  | ASL of vehicle $n$ at time $t$  | $\\bar v_{ind,n}(m)$ | Average speed of vehicle $n$ in the $m_{th}$ cycle |\n",
        "| $\\bar v_{sys}(m)$ | System average speed in the $m_{th}$ cycle|\n",
        "| Other variables |\n",
        "| $\\pi$ | $=\\frac{G+Y}{T}$, phase ratio | $V_n$ | Fuel consumption of vehicle $n$ |\n",
        "| $q_c$ | Capacity | $\\bar{V_n}$ | The average fuel consumption of vehicle $n$ to move a unit distance |\n",
        "| $J_t^n$ | Number of vehicles in front of vehicle $n$ at time $t$ |\n"
      ]
    },
    {
      "cell_type": "markdown",
      "metadata": {
        "id": "02seqkBxPLpV"
      },
      "source": [
        "# ASL algorithms"
      ]
    },
    {
      "cell_type": "markdown",
      "source": [
        "\n",
        "1. Vehicle speeds cannot exceed the original speed limit. The earliest time vehicle $n$ can enter the intersection can be calculated based on the original speed limit and the signal as follows:\n",
        "$$\n",
        "\\varphi_n (t)=\n",
        "\\begin{cases}\n",
        "H_n(t), &\\frac{H_n(t)}{B}-\\lfloor \\frac{H_n(t)}{B} \\rfloor \\leq F_n(t)\\ (2)\\\\ \n",
        "(\\lfloor \\frac{H_n(t)}{B} \\rfloor + 1)B, &otherwise\n",
        "\\end{cases}\n",
        "$$\n",
        "$$\n",
        "H_n(t) = t + \\frac{L-x_n(t)}{v_f}, (3)\n",
        "$$\n",
        "where $L$ is road length, $v_f$ is the original speed limit and $x_n(t)$ is the position of vehicle $n$ at time $t$. $F_n(t)B$ is the time during which there will be no vehicle stops at the stop line. Note that unlike the effective green time, i.e. the amount of time that vehicles can departure at a rate of one vehicle every $h$ seconds, $F_n(t)B$ only focuses on whether vehicles can cross the stop line, regardless of the rate. Aggressive drivers will choose to cross the intersection at their first chance once they enter the intersection at phase, thus $F_n(t)B = \\pi B$. Non-aggressive drivers will choose to stop at their first chance. At the time point when the signal changes to yellow from green, they will choose to stop once the distance to the intersection is enough for them to brake. We assume the reaction time is $t_{re}$, and the braking distance and the time they need for braking can be written as $t_{re}\\times v_n(t)+\\frac{v_n(t)^2}{2b_0}$ and $t_{re}+\\frac{v_n(t)}{b_0}$ respectively. Thus, a non-aggressive driver is impossible to cross the stop line in one cycle after $G+t_{re}+\\frac{v_n(t)}{b_0}$ and $F_n(t)B = G+t_{re}+\\frac{v_n(t)}{b_0}$ for non-aggressive drivers, as follows: \n",
        "$$\n",
        "F_n (t)=\n",
        "\\begin{cases}\n",
        "\\pi, & for\\ aggressive\\ drivers \\ (4)\\\\\n",
        "\\frac{G+t_{re}+\\frac{v_n(t)}{b_0}}{B}. &for\\ non-aggressive\\ drivers\n",
        "\\end{cases}\n",
        "$$ (4)\n",
        "2. The vehicle should obey the car-following rule. The ideal condition is that connected vehicles in the ASL implementation can enter the intersection at saturation headway ($h$) intervals. Meanwhile, if a vehicle is expected to enter the intersection at the end of one phase, the vehicle behind it can enter the intersection at the starting point of the next green interval. From this perspective, the earliest time vehicle $n$ can enter the intersection can be calculated as follows:\n",
        "$$\n",
        "\\mathop{\\eta_n^j (t)}\\limits_{j\\in[1,J_t^n]}=\n",
        "\\begin{cases}\n",
        "\\eta_n^{j-1}(t) + h, & \\frac{\\eta_n^{j-1}(t) + h}{B}-\\lfloor \\frac{\\eta_n^{j-1}(t) + h}{B}\\rfloor \\leq F_n(t) \\ (5)\\\\\n",
        "(\\lfloor \\frac{\\eta_n^{j-1}(t) + h}{B}\\rfloor+1)B, &otherwise\n",
        "\\end{cases} \n",
        "$$ (5)\n",
        "where $h$ is the saturation headway, $j$ increases from $1$ to $J_t^n$, and $\\eta_n^{J_t^n}(t)$ is the final result we want to obtain. Note that if there are no vehicles in front of vehicle $n$ ($J_t^n=0$), then $\\eta_n^0(t)=t$ if current signal is in phase, otherwise it is equal to $(\\lfloor \\frac{t}{B}\\rfloor+1)B$. \n",
        "3.  Finally, we can calculate the advisory speed at the next time step. The time left for vehicle $n$ to reach the intersection is $max\\{\\eta_n^{J_t^n}(t),\\varphi_n (t)\\}-t$ and the distance it needs to cover is $L-x_n(t)$. Therefore, the ASL of vehicle $n$ can be calculated as follows:\n",
        "$$\n",
        "U_n(t+\\Delta t) = \\frac{L-x_n(n)}{max\\{\\eta_n^{J_t^n}(t),\\varphi_n (t)\\}-t}. \\ (6)\n",
        "$$\n",
        "The the original speed limit will then be replaced by the ASL. There are two ways of implementing our ASL algorithm: 1. calculate it only when the vehicle enters the ASL implementation area; 2. keep updating it once the vehicle enters the ASL implementation area."
      ],
      "metadata": {
        "id": "6YWuOcq7i9BL"
      }
    },
    {
      "cell_type": "markdown",
      "metadata": {
        "id": "5Oh8WtlB_g-3"
      },
      "source": [
        "# input:\n",
        "the vehicles and corresponding status in the ASL implementation area, assume there are $x$ vehicles in the ASL implementation area, then the input is a $x\\times 7$ matrix. <br>\n",
        "output: \n",
        "the dynamic ASL for those vehicles, the output should be a dictionary which contains $x$ keys and $x$ values.\n",
        "matrix:\n",
        "**0**.vehicle number, **1**.position, **2**.speed, **3**.acceleration, **4**.cumulative position, **5**.ASL, **6**.desired arrival time, **7**.indicate veriable (connected or non-connected) <br>\n",
        "**veh_dic**: the number of the vehicle corresponding to its position <br>\n",
        "**veh_D**: parameters of the vehicles in the ASL implementation area \n",
        "\n",
        "indicate variable\n",
        "\n",
        "*   connected vehicle: 1;\n",
        "*   non-connected vehicles: 0 \n",
        "* ASL: 0\n",
        "* extended ASL 1\n",
        "* aggressive 1\n",
        "* non-aggressive 0\n",
        "\n",
        "\n",
        "\n",
        "\n",
        "\n",
        "\n"
      ]
    },
    {
      "cell_type": "code",
      "metadata": {
        "id": "PfenuPeFZ6cL"
      },
      "source": [
        "def dynamic_asl(veh_D,leader_t,L_int,L,D,l_n,s_0,t,T,G,Y,R,delta_t,tau,v_f,a_0,b,a,n,model_id): #input: the vehicles in the ASL implementation area\n",
        "    rho = l_n + s_0; veh_1 = 0; ASL_t = {}; phi_t = {} #to store the ASL and the desired arrival time\n",
        "    h =  (v_f*delta_t+l_n+s_0)/v_f #(1.5*delta_t+(l_n+s_0)*delta_n/v_f); #2/delta_t #\n",
        "    v_0 = v_f \n",
        "    global varphi_t; veh_dic = {}; leader_pos = {}; veh_agg = {}; veh_con = {}; veh_v = {};veh_exp = {} # veh_dic is to store the current position of the vehicles in the ASL implementation area\n",
        "    for i in range(len(veh_D)): #vehicle number corresponds to the position, a dictionary that illustrate the position of each vehicle\n",
        "        veh_dic[veh_D[i][0]] = veh_D[i][1]; leader_pos[veh_D[i][0]] = leader_t[int(veh_D[i][0])][1] #position \n",
        "        veh_agg[veh_D[i][0]] = veh_D[i][8]; veh_con[veh_D[i][0]] = veh_D[i][7]\n",
        "        veh_v[veh_D[i][0]] = veh_D[i][2]; veh_exp[veh_D[i][0]] = veh_D[i][6] \n",
        "    #print(\"t\",t,\"vehicle dic\",veh_con)\n",
        "    veh_dic = sort_value(veh_dic, reverse=True)\n",
        "    front_veh = front_vehicle(veh_dic,L) # for each vehicle, how many vehicles are in front of it\n",
        "    if veh_dic != {}:\n",
        "        for key in veh_dic: #if this vehicle is in the ASL implementation area\n",
        "            if veh_con[key] == 1: #connected vehicle\n",
        "                if veh_agg[key] == [1]: #aggressive\n",
        "                    expected_arrival1 = t*delta_t if t*delta_t % (T*delta_t) <= (G+Y)*delta_t else t*delta_t - (t*delta_t % (T*delta_t)) + (T*delta_t); sigma = 0 #unit is delta_t\n",
        "                    for i in range(front_veh[key]):  # Eq(5)\n",
        "                        if (expected_arrival1 + h) % (T*delta_t) <= (G+Y)*delta_t - sigma:\n",
        "                            expected_arrival1 += h #sec\n",
        "                        elif (expected_arrival1 + h) % (T*delta_t) > (G+Y)*delta_t - sigma:\n",
        "                            expected_arrival1 = expected_arrival1 + h - ((expected_arrival1 + h) % (T*delta_t)) + (T*delta_t)\n",
        "                    expected_arrival2 = t*delta_t + ((L+L_int +0 -veh_dic[key])/v_0) #sec\n",
        "                    if expected_arrival2 % (T*delta_t) > (G+Y)*delta_t-sigma:\n",
        "                        expected_arrival2 = expected_arrival2 - (expected_arrival2 % (T*delta_t)) + (T*delta_t) #Eq (2)\n",
        "                    phi_t[key] = max(expected_arrival1,expected_arrival2) \n",
        "                    ASL_t[key] = max(veh_v[key]-b*delta_t, min(v_f, (L+L_int +0 -veh_dic[key])/(phi_t[key]-t*(delta_t)) ) ) #Eq(6) , veh_v[key]-b*delta_t \n",
        "                if veh_agg[key] == [0]: #non-aggressive\n",
        "                    expected_arrival1 = t*delta_t if t*delta_t % (T*delta_t) <= (G+Y)*delta_t else t*delta_t - (t*delta_t % (T*delta_t)) + (T*delta_t); #unit is sec\n",
        "                    for i in range(front_veh[key]): # Eq(5)\n",
        "                        if (expected_arrival1 + h) % (T*delta_t) <= G*delta_t + (reactime + (veh_v[key])/(b)):\n",
        "                            expected_arrival1 += h\n",
        "                        elif (expected_arrival1 + h) % (T*delta_t) > G*delta_t + (reactime + (veh_v[key])/(b)):\n",
        "                            expected_arrival1 = expected_arrival1 + h - ((expected_arrival1 + h) % (T*delta_t)) + (T*delta_t)\n",
        "                    expected_arrival2 = t*delta_t + ((L+L_int +0.5 -veh_dic[key])/v_0) #sec \n",
        "                    if expected_arrival2%(T*delta_t) > G*delta_t + (reactime + (veh_v[key]+0*delta_t)/(b)): #Eq (2)\n",
        "                        expected_arrival2 = expected_arrival2 - (expected_arrival2 % (T*delta_t)) + (T*delta_t)\n",
        "                    phi_t[key] = max(expected_arrival1,expected_arrival2) #eq(14)-eq(15)\n",
        "                    ASL_t[key] = max( min(v_f, (L+L_int +0.5 -veh_dic[key])/(phi_t[key]-t*(delta_t))), veh_v[key]-b*delta_t) # Eq(6) \n",
        "        if t > 10*T and t < 2*T: print(\"new_timestep------------------------------------------------------------------------------------\")\n",
        "            #if veh_con[key] == 0 or veh_dic[key] == L: ASL_t[key] = v_f\n",
        "            \n",
        "    return veh_1, veh_dic, phi_t, ASL_t"
      ],
      "execution_count": 18,
      "outputs": []
    },
    {
      "cell_type": "code",
      "metadata": {
        "id": "IBWzEy8N_zhO"
      },
      "source": [
        "def front_vehicle(veh_pos,L): #how many vehicles are in front of a specific vehicle\n",
        "    front_veh = {}; \n",
        "    for key in veh_pos:\n",
        "        veh_in_front = 0\n",
        "        for value in veh_pos.values():\n",
        "            #print(\"function front_vehicle\",\"value\",value,\"veh_pos\",veh_pos[key])\n",
        "            if value > veh_pos[key] and value <= L:\n",
        "                veh_in_front += 1\n",
        "        front_veh[key] = veh_in_front\n",
        "    return front_veh\n",
        "\n",
        "\n",
        "def ASL_imp_area(veh_t,L,D):\n",
        "    veh_D = []\n",
        "    veh_id = np.argwhere(np.array(veh_t)[:,1] >= L-D) # the index of the vehicles that are in the ASL implementation area\n",
        "    for i in range(len(veh_id)):\n",
        "        veh_D.append(veh_t[veh_id[i,0]]) #the set of those vehicles\n",
        "    return veh_D\n",
        "\n",
        "# define whether a vehicle is connected\n",
        "def random_pick(some_list, probabilities):\n",
        "    x = random.uniform(0,1)\n",
        "    cumulative_probability = 0\n",
        "    for item, item_probability in zip(some_list, probabilities):\n",
        "        cumulative_probability += item_probability\n",
        "        if x < cumulative_probability:break\n",
        "    return item\n",
        "\n",
        "#reorder the dictionary according to value (the position of vehicle, large to small)\n",
        "def sort_value(old_dict, reverse=True):\n",
        "    # reorder the dic according to value\n",
        "    items = sorted(old_dict.items(), key=lambda obj: obj[1], reverse=True)\n",
        "    # create a new list\n",
        "    new_dict = OrderedDict()\n",
        "    for item in items:\n",
        "        # item[0] store the value of \"key\"\n",
        "        new_dict[item[0]] = old_dict[item[0]]\n",
        "    return new_dict"
      ],
      "execution_count": 19,
      "outputs": []
    },
    {
      "cell_type": "markdown",
      "metadata": {
        "id": "B0kF4HWyAyJn"
      },
      "source": [
        "# Driving behavior model"
      ]
    },
    {
      "cell_type": "markdown",
      "metadata": {
        "id": "SEWpfFtgQ0iJ"
      },
      "source": [
        "## krauss\n",
        "$$\n",
        "v_n(t+\\Delta t)=\\max\\{ 0,v_{des,n}(t+\\Delta t)-\\epsilon \\} (9)\n",
        "$$\n",
        "$$\n",
        "v_{des,n}(t+\\Delta t)=\\min \\{ v_f, v_n(t)+\\Delta ta_0,v_{safe,n}(t+\\Delta t) \\}(10)\n",
        "$$\n",
        "$$\n",
        "v_{safe,n}(t+\\Delta t)= v_{n-1}(t)+\\frac{x_{n-1}(t)-x_n(t)-l_{n-1}-v_{n-1}t_{re}}{\\frac{v_{n-1}(t)+v_n(t)}{2b}+t_{re}}, (11)\n",
        "$$\n",
        "\n",
        "\n",
        "0: id <br> 1:position <br> 2:speed <br> 3:aceleration <br> 4:cum position <br>\n",
        "5: ASL <br> 6: time to intersection <br> 7: whether connected <br> 8: aggressiveness <br> 9: ASL id\n",
        "\n",
        "\n"
      ]
    },
    {
      "cell_type": "code",
      "metadata": {
        "id": "rBRwsI44dRcY"
      },
      "source": [
        "def krauss(veh_t,leader_t,L_int,L,D,l_n,s_0,t,T,G,Y,R,delta_t,tau,v_f,a_0,b,n,delta_n,a,model_id,asl_id):\n",
        "    model_id = 3; rho = l_n + s_0; h = 2/delta_t #tau+(l_n+s_0)/v_f; #calculate parameters\n",
        "    veh_t1 = np.zeros((n,10)); veh_t1[:,0] = veh_t[:,0]; veh_t1[:,7] = veh_t[:,7] ;veh_t1[:,8] = veh_t[:,8]; veh_t1[:,9] = veh_t[:,9]# initialize the matrix at (t+delta_t)\n",
        "    #veh_D = ASL_imp_area(veh_t,L,D); \n",
        "    veh_D = ASL_imp_area(veh_t,L,D)\n",
        "    veh_1, veh_dic, phi_t, ASL_t = dynamic_asl(veh_D,leader_t,L_int,L,D,l_n,s_0,t,T,G,Y,R,delta_t,tau,v_f,a_0,b,a,n,model_id); # get the dynamic ASL for the vehicles in the ASL implementation area\n",
        "    for i in range(n):                           \n",
        "        if asl_id == 1 or veh_t[i,7] == 0: #if dynamic ASL or non connected vehicle                         \n",
        "            veh_t1[i,5] = v_f if i not in ASL_t else ASL_t[i]; veh_t1[i,6] = t if i not in phi_t else phi_t[i] #ASL and desired arrival time of the next time point\n",
        "        elif asl_id == 0: #static ASL\n",
        "            if veh_t[i,1] >= L-D and veh_t[i,1]-veh_t[i,2]*delta_t <= L-D:\n",
        "                veh_t1[i,5] = ASL_t[i]; veh_t1[i,6] = phi_t[i]\n",
        "            elif veh_t[i,1] >= L-D and veh_t[i,1]-veh_t[i,2]*delta_t >= L-D:\n",
        "                veh_t1[i,5] = veh_t[i,5]; veh_t1[i,6] = veh_t[i,6]\n",
        "            else:\n",
        "                veh_t1[i,5] = v_f; veh_t1[i,6] = t\n",
        "    v_safe = leader_t[:,2] + (leader_t[:,1]-veh_t[:,1]-rho-leader_t[:,2]*delta_t)/((leader_t[:,2]+veh_t[:,2])/(2*b)+delta_t) #Eq(11)\n",
        "    veh_t1[:,2] =  np.maximum( np.array([0]*len(veh_t))[:], np.minimum(veh_t1[:,5], np.minimum(veh_t[:,2]+a_0*delta_t, v_safe ))) #Eq(9) speed\n",
        "    veh_t1[:,1] = (veh_t[:,1] + veh_t1[:,2] * delta_t) % L #position in ring road 0.5*(veh_t[:,2]+veh_t1[:,2])\n",
        "    veh_t1[:,4] = (veh_t[:,4] + veh_t1[:,2] * delta_t) #cum position\n",
        "    veh_t1[:,3] = (veh_t1[:,2] - veh_t[:,2])/delta_t #acceleration\n",
        "    \n",
        "    if veh_t[a,2] <= 0.05 and t%T <= reactime-0.05: #first vehicle is stopping\n",
        "        t_re = reactime\n",
        "        veh_t1[a,1] = veh_t[a,1] #Eq(24) position\n",
        "        veh_t1[a,2] = veh_t1[a,2]; veh_t1[a,3] = veh_t1[a,3]; veh_t1[a,4] = veh_t1[a,4]\n",
        "    \n",
        "    #print(\"time\",t,\"position\",veh_t[a,1],\"leader\",leader_t[a,1],\"speed\",veh_t[a,2],\"next_v\",veh_t1[a,2],\"acceleration\",veh_t[a,3],\"ASL\",veh_t1[a,5],\"s_desire\",s_desire,\"s_actual\",s_actual)\n",
        "    if round(veh_t1[a,1],3) == 0: \n",
        "        veh_t1[a,1] = L;\n",
        "    \n",
        "    return veh_t1"
      ],
      "execution_count": 20,
      "outputs": []
    },
    {
      "cell_type": "markdown",
      "metadata": {
        "id": "6iQJIXouEp9f"
      },
      "source": [
        "## Decision process\n",
        "When the signal changes to yellow from green, a vehicle can safely stop before the stop line if it satisfies 27(a), otherwise if it satisfies 27(b), it can go through the intersection before the signal turns to red.\n",
        "$$\n",
        "x_{int} - x_n(t) \\geq t_{RE}\\times v_n(t)+\\frac{v_n(t)^2}{2b}, (13)\n",
        "$$\n",
        "$$\n",
        "X_{int} + L_{int} - x_n(t) < v_n(t)\\times Y, (14)\n",
        "$$\n"
      ]
    },
    {
      "cell_type": "code",
      "metadata": {
        "id": "bAsh-arQEsCv"
      },
      "source": [
        "def decision_process(veh_t,L_int,L,D,l_n,s_0,t,T,G,Y,R,delta_t,tau,v_f,a_0,b,n,delta_n,a,model_id,asl_id): #define the leader based on vehicle's current state, should be calculated at each time step\n",
        "    time = t % T; rho = l_n + s_0; leader_t = np.zeros((n,10))    \n",
        "    for i in range(n):    \n",
        "        if time <= G or i != a: # gerrn interval or not the first vehicle\n",
        "            leader_t[i] = veh_t[i-1]\n",
        "            if leader_t[i,1] <= veh_t[i,1]:\n",
        "                leader_t[i,1] += L; leader_t[i,4] += L;\n",
        "        if time > G and i == a:        \n",
        "            item1 = veh_t[(i-1),1]-veh_t[i,1]; item2 = L + rho - veh_t[i,1] #item1: distance between fron vehicle and follower, item2: distance between stop bar and follower\n",
        "            if item1 <= item2 and item1 > 0: leader_t[i] = veh_t[i-1]\n",
        "            if item1 <= 0 and veh_t[(i-1),1] >= rho: leader_t[i] = [abs((i-1)%n), L+rho, 0, 0, ((veh_t[i,4]//L)+1)*L, 0, veh_t[i,6], veh_t[i,7],veh_t[i,8],veh_t[i,9]]\n",
        "            if veh_t[(i-1),1] < rho : leader_t[i] = [abs((i-1)%n), L+veh_t[i-1,1], 0, 0, ((veh_t[i,4]//L)+1)*L, 0, veh_t[i-1,6], veh_t[i-1,7],veh_t[i-1,8],veh_t[i-1,9]] # cannot reach the stop bar because of the front vehicle\n",
        "            if veh_t[i,1] <= 0.0001: leader_t[i] = [abs((i-1)%n), rho*delta_n, 0, 0, ((veh_t[i,4]//L)+1)*L, 0, veh_t[i,6], veh_t[i,7],veh_t[i,8],veh_t[i,9]]\n",
        "    return leader_t\n",
        "\n",
        "def pos_switch(veh_t,rho,n,t,G,Y,R,T,L):\n",
        "    veh_t1 = copy.deepcopy(veh_t)\n",
        "    for i in range(n):\n",
        "        if veh_t[i,1] <= rho and t%T >= (G):\n",
        "            veh_t1[i,1] = L+veh_t[i,1]\n",
        "\n",
        "    return veh_t1\n",
        "\n"
      ],
      "execution_count": 21,
      "outputs": []
    },
    {
      "cell_type": "markdown",
      "metadata": {
        "id": "aClsbNeOgtpw"
      },
      "source": [
        "## Vehicle update"
      ]
    },
    {
      "cell_type": "code",
      "metadata": {
        "id": "VM4O0qguPXea"
      },
      "source": [
        "def vehicle_update(L_int,L,D,l_n,s_0,t_sim,T,G,Y,R,delta_t,tau,v_f,a_0,b,n,delta_n,model_id,con,agg,asl_id): \n",
        "    rho = (l_n + s_0)*delta_n; h = 2/delta_t; num_t = int(t_sim/delta_t); v_0 = 0 #((tau * delta_n) + rho*delta_n/v_f) / delta_t\n",
        "    veh_t = np.zeros((n,num_t,10)); veh_t1 = np.zeros((n,num_t,10)); distance_non = np.zeros((num_t,n)); distance_agg = np.zeros((num_t,n))\n",
        "    time_tc = np.zeros((num_t,1)); a=np.zeros((num_t,1));a_non=np.zeros((num_t,1));a_agg=np.zeros((num_t,1))# initialize the vehicle state\n",
        "    for i in range(n):    \n",
        "        vehicle_con = random_pick([0,1],[1-con,con]); aggressive = random_pick([0,1],[1-agg,agg]) #initialize whether a vehicle is a connected vehicle,connectivity is the percentage of the connected vehicles\n",
        "        veh_t[i][0] = [i, L-(L/n)*i, v_0, a_0, L-(L/n)*i, v_f, 0, vehicle_con, aggressive, asl_id];#n, m, m/sec, m/sec^2, m, m/s, timestep, 0|1  300+(n-i)*3*rho L-(L/n)*i   \n",
        "    for t in range(num_t-1): #update vehicles' behaviors according to the signal phase\n",
        "        time = t % T; \n",
        "        if veh_t[i][t,8] == 0: #non aggressive\n",
        "            if time == G+1:\n",
        "                for i in range(n): #+a_0*delta_t veh_t[i,t,2]+a_0*delta_t\n",
        "                    distance_non[t,i] = L + L_int - veh_t[i,t,1] - reactime*veh_t[i,t,2] - ((veh_t[i,t,2]+a_0)**2)/(2*b)\n",
        "                distance_non[t,:] = [L if x <= 0 else x for x in distance_non[t,:]]            \n",
        "                a_non[t] = int(np.argwhere(distance_non[t,:] == np.min(distance_non[t,:]))[0,0])\n",
        "            else:\n",
        "                a_non[t] = a[t-1]\n",
        "        elif veh_t[i][t,8] == 1: #aggressive\n",
        "            if time >= G+1 and time <= G+Y:\n",
        "                for i in range(n): #+a_0*delta_t veh_t[i,t,2]+a_0*delta_t\n",
        "                    distance_agg[t,i] = L + L_int - veh_t[i,t,1] - (veh_t[i,t,2]) * (Y-(time-G)) * delta_t         \n",
        "                distance_agg[t,:] = [L if x <= 0 else x for x in distance_agg[t,:]]            \n",
        "                a_agg[t] = int(np.argwhere(distance_agg[t,:] == np.min(distance_agg[t,:]))[0,0])#judge the first vehicle which can not pass the intersection    \n",
        "            else:\n",
        "                a_agg[t] = a[t-1]    \n",
        "        #print(\"t\", t, \"a\",a_non[t],\"distance\",distance[t,:])\n",
        "        a[t] = a_agg[t] if int(a_non[t])==0 else a_non[t] #veh_t[int(a_non[t]),t,1] < veh_t[int(a_non[t]),t,1]\n",
        "        leader_t = decision_process(veh_t[:,t,:],L_int,L,D,l_n,s_0,t,T,G,Y,R,delta_t,tau,v_f,a_0,b,n,delta_n,a[t],model_id,asl_id); follower_current_state = veh_t[:,t,:]; #vehicles'current state and corresponding leaders\n",
        "        veh_t[:,t+1,:] = krauss(follower_current_state,leader_t,L_int,L,D,l_n,s_0,t,T,G,Y,R,delta_t,tau,v_f,a_0,b,n,delta_n,int(a[t]),model_id,asl_id)\n",
        "        #print(\"t\", t,\"a\",a[t], \"leader_x_t\", leader_t[:,1],\"fo_x_t\",follower_current_state[:,1],\"fo_x_t1\",veh_t[:,t+1,1],\"fo_v_t1\",veh_t[:,t+1,2]) #\"asl\", follower_current_state[:,5]\n",
        "    return veh_t"
      ],
      "execution_count": 22,
      "outputs": []
    },
    {
      "cell_type": "markdown",
      "metadata": {
        "id": "gQZMwhAeqdqA"
      },
      "source": [
        "# individual sample"
      ]
    },
    {
      "cell_type": "code",
      "metadata": {
        "colab": {
          "base_uri": "https://localhost:8080/"
        },
        "id": "CFsS9H5R61gP",
        "outputId": "9fdd3941-d190-46c5-babc-122f6a595745"
      },
      "source": [
        "tau = 1.5; delta_t = 1.5; t_sim = 7200; num_t = int(t_sim/delta_t)\n",
        "R = int(30/delta_t); G = int(24/delta_t); Y = int(6/delta_t); T = G + Y + R\n",
        "v_f = 12; a_0 = 1.5; b = 3;\n",
        "l_n = 5; s_0 = 2; rho = l_n + s_0; L = T * v_f * delta_t;  w = rho/tau; D = 100 #m T * v_f * delta_t\n",
        "delta_n = 1\n",
        "n1 = 50; n2 = 51\n",
        "non_connected = 0; all_connected = 1; aggressive = 1; asl_id = 1\n",
        "veh_update = vehicle_update(L_int,L,D,l_n,s_0,t_sim,T,G,Y,R,delta_t,tau,v_f,a_0,b,n2,delta_n,3,all_connected,aggressive,asl_id)\n",
        "veh_update_non = vehicle_update(L_int,L,D,l_n,s_0,t_sim,T,G,Y,R,delta_t,tau,v_f,a_0,b,n2,delta_n,3,non_connected,aggressive,asl_id)"
      ],
      "execution_count": 23,
      "outputs": [
        {
          "output_type": "stream",
          "name": "stderr",
          "text": [
            "/usr/local/lib/python3.7/dist-packages/ipykernel_launcher.py:27: RuntimeWarning: invalid value encountered in double_scalars\n"
          ]
        }
      ]
    },
    {
      "cell_type": "code",
      "source": [
        "fig = plt.figure(figsize=(14,4),num = 1,dpi = 80)\n",
        "\n",
        "p = 5 #int(num_t/T)\n",
        "a = 1\n",
        "time1_1 = np.zeros([num_t,1])\n",
        "for i in range(num_t):\n",
        "    time1_1[i] = i*delta_t\n",
        "m4 = int(num_t)\n",
        "m1 = int(num_t-p*T)  \n",
        "\n",
        "ax2 = fig.add_subplot(1,2,1)\n",
        "#ax2.set_title(\"Trajectories,penetrate rate: %x\" %all_connected)\n",
        "ax2.set_xlabel(\"$time \\ (sec)$\")\n",
        "ax2.set_ylabel(\"$distance \\ (x/L)$\")\n",
        "#plt.xlim(0,p+0.2)\n",
        "plt.xticks(np.arange(0,time1_1[-1]+5,30))\n",
        "#plt.yticks(np.arange(0,2,1))\n",
        "for i in range(0,int(n2/delta_n),int(1/delta_n)):\n",
        "    t1 = m1\n",
        "    for t in range(t1,m4):\n",
        "        if veh_update[i][t-1,1] <= veh_update[i][t,1] and t != m4-1:\n",
        "            continue\n",
        "        else:\n",
        "            #print(\"t1\",t1*time_step,\"loop_over time\",t*time_step,\"vehicle\",i)\n",
        "            ax2.plot(time1_1[t1:t],veh_update[i][t1:t,1]/L,color = 'm',linewidth = 1)\n",
        "            t1 = t\n",
        "            continue\n",
        "ax2.grid()"
      ],
      "metadata": {
        "colab": {
          "base_uri": "https://localhost:8080/",
          "height": 308
        },
        "id": "3xdWk1-KV065",
        "outputId": "6c9b928a-1e08-433d-b20e-19b592c1f775"
      },
      "execution_count": 24,
      "outputs": [
        {
          "output_type": "display_data",
          "data": {
            "text/plain": [
              "<Figure size 1120x320 with 1 Axes>"
            ],
            "image/png": "[encoded data removed]"
          },
          "metadata": {
            "needs_background": "light"
          }
        }
      ]
    },
    {
      "cell_type": "markdown",
      "metadata": {
        "id": "SqfWJ4W2UAuB"
      },
      "source": [
        "# Periodicity and NFD"
      ]
    },
    {
      "cell_type": "markdown",
      "metadata": {
        "id": "JybgNXkpTb3-"
      },
      "source": [
        "## Individual periods and system periods\n",
        "The average speed of vehicle $n$ in the $m_{th}$ cycle length is the distance it can cover in this cycle length over the time.\n",
        "$$\n",
        "\\bar v_{ind,n}(m) = \\frac{x_n((m+1)B)-x_n(mB)}{B}, (15)\n",
        "$$\n",
        "where $x_n((m+1)B)-x_n(mB)$ means the distance vehicle $n$ can cover in the $m$th cycle length. The system average speed in the $m$th cycle length is the sum of all the individual average speed in such cycle length over the number of vehicles.\n",
        "$$\n",
        "\\bar v_{sys}(m) = \\frac{\\sum_{n=0}^{n=N}\\bar v_{ind,n}(m)}{N}. (16)\n",
        "$$\n",
        "We assume there are $M$ cycles during the whole simulation duration. We use $m$ to represent the number which can be shifted along the cycle numbers and $m$ is shifted forward from the last cycle length. We shift $m$ along up to $50$ cycle numbers for calculating periods. If there exists some integers $i$ that can satisfy the following equations for any $m$: \n",
        "$$\n",
        "\\max \\limits_{m = M-50,M-49,…,M-1,M}|\\bar v_{ind,n}(m)-\\bar v_{ind,n}(m-i)| < \\epsilon, (17)\n",
        "$$\n",
        "$$\n",
        "\\max \\limits_{m = M-50,M-49,…,M-1,M}|\\bar v_{sys}(m)-\\bar v_{sys}(m-i)| < \\epsilon, (18)\n",
        "$$\n",
        "\n",
        "where $\\epsilon$ is a small enough number. We consider that those integers are the periods of individual speed or system average speed for corresponding cycle length $B$ and number of vehicles $N$. The final $i$ is the smallest number among those integers."
      ]
    },
    {
      "cell_type": "code",
      "metadata": {
        "id": "pK-btqbyE9Av"
      },
      "source": [
        "def period_individual(n,delta_n,D,connectivity,G,Y,R,T,vehicle_state,model_id,num_t):\n",
        "    #average_speed1 = np.zeros([num_timestep,1])\n",
        "    P = 50\n",
        "    I = 50\n",
        "    convergence1 = np.zeros([I,P]); convergence2 = np.zeros([I,P])\n",
        "    minus = np.zeros([I,P]) #speed gap, if all < 10^-5, it is the period\n",
        "\n",
        "    num_cycle = int(num_t/T); individual_average = []; period = np.zeros([n,1])                \n",
        "    for j in range(n):\n",
        "        individual_average.append(np.zeros([num_cycle,1]))\n",
        "        for x in range(num_cycle):#the average speed of the vehicle in each signal circle eq(15)\n",
        "            individual_average[j][x] = sum(vehicle_state[j][int(T*x) :int(T*(x+1))-1,1])/T #the length a vehicle run in a cycle/cycle_length #Eq(15)\n",
        "        total_period = []   \n",
        "        for i in range(1,I+1):\n",
        "            for k in range(num_cycle-P,num_cycle):\n",
        "                convergence1[i-1,k+(P)-num_cycle] = individual_average[j][k]\n",
        "                convergence2[i-1,k+(P)-num_cycle]= individual_average[j][k-i]\n",
        "                minus[i-1,k+(P)-num_cycle] = abs(convergence1[i-1,k+(P)-num_cycle]-convergence2[i-1,k+(P)-num_cycle])  #Eq(17)\n",
        "            if all(x < 0.00001 for x in minus[i-1]):\n",
        "                total_period.append(i)\n",
        "            if len(total_period) == 0 and i == I:\n",
        "                total_period.append(I)        \n",
        "        period[j] = min(total_period)\n",
        "    return period,individual_average"
      ],
      "execution_count": 25,
      "outputs": []
    },
    {
      "cell_type": "code",
      "metadata": {
        "id": "mJGXsLxHG8Rv"
      },
      "source": [
        "def period_system(n,delta_n,D,connectivity,G,Y,R,T,vehicle_state,model_id,num_t):\n",
        "    P = 50; I = 50\n",
        "    convergence1 = np.zeros([I,P]); convergence2 = np.zeros([I,P])\n",
        "    minus = np.zeros([I,P]) #speed gap, if all < 10^-5, it is the period\n",
        "    total_period = []; individual_average = []\n",
        "    num_cycle = int(num_t/T); average_speed1 = np.zeros([num_cycle,1]); #print(\"num_cycle\",num_cycle,\"t\",num_t,\"T\",T)              \n",
        "    for x in range(num_cycle):#the average speed of the vehicle in each signal circle\n",
        "        system_speed1 = 0; individual_average.append(np.zeros([n,1]))\n",
        "        for i in range(n):\n",
        "            individual_average[x][i] = sum(vehicle_state[i][int(T*(x-1)):int(T*(x)),2])/T #the length a vehicle run in a cycle/cycle_length            \n",
        "            system_speed1 = system_speed1 + individual_average[x][i,0]#the length of all the vehicles run in this cycle\n",
        "        average_speed1[x] = (system_speed1/(n)) #Eq(16) \n",
        "    for i in range(1,I+1): #calculate the period of the system average speed at each density value \n",
        "        for k in range(num_cycle-P,num_cycle):\n",
        "            convergence1[i-1,k+(P)-num_cycle] = average_speed1[k,0]\n",
        "            convergence2[i-1,k+(P)-num_cycle]= average_speed1[k-i,0]\n",
        "            minus[i-1,k+(P)-num_cycle] = abs(convergence1[i-1,k+(P)-num_cycle]-convergence2[i-1,k+(P)-num_cycle]) #Eq(18)\n",
        "        if all(x < 0.00001 for x in minus[i-1]):\n",
        "            total_period.append(i)\n",
        "        if len(total_period) == 0 and i == I:\n",
        "            total_period.append(I)\n",
        "    #print(\"average1\", average_speed1)        \n",
        "    period = min(total_period)\n",
        "    return period,average_speed1"
      ],
      "execution_count": 26,
      "outputs": []
    },
    {
      "cell_type": "markdown",
      "metadata": {
        "id": "Ab6xgEMKTyWh"
      },
      "source": [
        "## Calculate NFD\n",
        "\n",
        "We assume the density of the system is $k$; the system has reached the stationary state and $\\bar v(k)$ is the system average speed in one period. Flow-rate can be calculated through:\n",
        "$$\n",
        "\\bar q(k)=k \\bar v(k), (21)\n",
        "$$\n"
      ]
    },
    {
      "cell_type": "code",
      "metadata": {
        "id": "MF-L-5g9G-0X"
      },
      "source": [
        "def nfd_calc(n1,n2,delta_n,L_int,L,D,l_n,connectivity,G,Y,R,T,tau,delta_t,t_sim,s_0,v_f,a_0,b,model_id,agg,asl_id): \n",
        "    rho = l_n + s_0; L = v_f*T*delta_t; w = rho/(tau); num_t = int(t_sim/delta_t); flow_rate = []; density = []\n",
        "    num_signal = int(num_t/T)\n",
        "    w = rho/(tau); capacity = v_f * w * (1/rho) / (v_f + w)\n",
        "    global vehicle_state\n",
        "    for n in range(n1,n2): # a specific vehicle number represents a corresponding density\n",
        "        vehicle_state = vehicle_update(L_int,L,D,l_n,s_0,t_sim,T,G,Y,R,delta_t,tau,v_f,a_0,b,n,delta_n,model_id,connectivity,agg,asl_id)\n",
        "        period,average = period_system(n,delta_n,D,connectivity,G,Y,R,T,vehicle_state,model_id,num_t) #period correspongding to that density\n",
        "        density.append((n*delta_n/(L+L_int))/(1/rho))\n",
        "        system_average = sum(average[num_signal-int(period):num_signal,0])/period\n",
        "        flow_rate.append(((n*delta_n/(L+L_int))*system_average)/capacity) #Eq(21)\n",
        "        print(\"car_number\",n*delta_n,\"density =\",density[-1],\"flow rate = \",flow_rate[-1],\"connectivity =\",connectivity,\"ASL\",asl_id,'period',period,\"speed\",system_average,\"D\",D)\n",
        "    return vehicle_state,flow_rate,density,period"
      ],
      "execution_count": 27,
      "outputs": []
    },
    {
      "cell_type": "code",
      "metadata": {
        "colab": {
          "base_uri": "https://localhost:8080/"
        },
        "id": "WoTkqTrk7JTF",
        "outputId": "ddc73421-0591-4337-acad-5cc09f09d074"
      },
      "source": [
        "tau = 1.5; delta_t = 1.5; t_sim = 7200; num_t = int(t_sim/delta_t)\n",
        "R = int(30/delta_t); G = int(24/delta_t); Y = int(6/delta_t); T = G + Y + R\n",
        "v_f = 12; a_0 = 1.5; b = 3;\n",
        "l_n = 5; s_0 = 2; rho = l_n + s_0; L = T * v_f * delta_t;  w = rho/tau; D = 300 #m\n",
        "delta_n = 1\n",
        "n1 = 2; n2 = 102\n",
        "non_connected = 0; all_connected = 1; aggressive = 1; asl_id_dy = 1; asl_id_sa = 0\n",
        "np.set_printoptions(precision=3, suppress=True)#3 digit, no scientific notation\n",
        "np.set_printoptions(threshold=np.inf) #no ellipses\n",
        "\n",
        "\n",
        "import datetime\n",
        "start = datetime.datetime.now()\n",
        "vehicle_banewell_dy,flow_banewell_dy,density_banewell_dy,period_banewell_dy = nfd_calc(n1,n2,delta_n,L_int,L,D,l_n,all_connected,G,Y,R,T,tau,delta_t,t_sim,s_0,v_f,a_0,b,3,aggressive,asl_id_dy)\n",
        "vehicle_banewell_sa,flow_banewell_sa,density_banewell_sa,period_banewell_sa = nfd_calc(n1,n2,delta_n,L_int,L,D,l_n,all_connected,G,Y,R,T,tau,delta_t,t_sim,s_0,v_f,a_0,b,3,aggressive,asl_id_sa)\n",
        "vehicle_banewell_non,flow_banewell_non,density_banewell_non,period_banewell_non = nfd_calc(n1,n2,delta_n,L_int,L,D,l_n,non_connected,G,Y,R,T,tau,delta_t,t_sim,s_0,v_f,a_0,b,3,aggressive,asl_id_dy)\n",
        "end = datetime.datetime.now()\n",
        "print(\"time\",end-start)\n"
      ],
      "execution_count": null,
      "outputs": [
        {
          "metadata": {
            "tags": null
          },
          "name": "stderr",
          "output_type": "stream",
          "text": [
            "/usr/local/lib/python3.7/dist-packages/ipykernel_launcher.py:27: RuntimeWarning: invalid value encountered in double_scalars\n"
          ]
        },
        {
          "output_type": "stream",
          "name": "stdout",
          "text": [
            "car_number 2 density = 0.019444444444444445 flow rate =  0.06944444444444445 connectivity = 1 ASL 1 period 1 speed 12.0 D 300\n",
            "car_number 3 density = 0.029166666666666667 flow rate =  0.10416666666666667 connectivity = 1 ASL 1 period 1 speed 12.0 D 300\n",
            "car_number 4 density = 0.03888888888888889 flow rate =  0.1388888888888889 connectivity = 1 ASL 1 period 1 speed 12.0 D 300\n",
            "car_number 5 density = 0.04861111111111111 flow rate =  0.1736111111111111 connectivity = 1 ASL 1 period 1 speed 12.0 D 300\n",
            "car_number 6 density = 0.058333333333333334 flow rate =  0.20833333333333334 connectivity = 1 ASL 1 period 1 speed 12.0 D 300\n",
            "car_number 7 density = 0.06805555555555556 flow rate =  0.24305555555555558 connectivity = 1 ASL 1 period 1 speed 12.0 D 300\n",
            "car_number 8 density = 0.07777777777777778 flow rate =  0.2777777777777778 connectivity = 1 ASL 1 period 1 speed 12.0 D 300\n",
            "car_number 9 density = 0.08750000000000001 flow rate =  0.31250000000000006 connectivity = 1 ASL 1 period 1 speed 12.0 D 300\n",
            "car_number 10 density = 0.09722222222222222 flow rate =  0.3472222222222222 connectivity = 1 ASL 1 period 1 speed 12.0 D 300\n",
            "car_number 11 density = 0.10694444444444445 flow rate =  0.3819444444444444 connectivity = 1 ASL 1 period 1 speed 12.0 D 300\n",
            "car_number 12 density = 0.11666666666666667 flow rate =  0.4166666666666667 connectivity = 1 ASL 1 period 1 speed 12.0 D 300\n",
            "car_number 13 density = 0.12638888888888888 flow rate =  0.45138888888888884 connectivity = 1 ASL 1 period 1 speed 12.0 D 300\n",
            "car_number 14 density = 0.13611111111111113 flow rate =  0.48611111111111116 connectivity = 1 ASL 1 period 1 speed 12.0 D 300\n",
            "car_number 15 density = 0.14583333333333334 flow rate =  0.486111111111111 connectivity = 1 ASL 1 period 3 speed 11.199999999999998 D 300\n",
            "car_number 16 density = 0.15555555555555556 flow rate =  0.48611111111111127 connectivity = 1 ASL 1 period 1 speed 10.500000000000002 D 300\n",
            "car_number 17 density = 0.16527777777777777 flow rate =  0.48611111111111116 connectivity = 1 ASL 1 period 1 speed 9.882352941176471 D 300\n",
            "car_number 18 density = 0.17500000000000002 flow rate =  0.4861111111111112 connectivity = 1 ASL 1 period 1 speed 9.333333333333334 D 300\n",
            "car_number 19 density = 0.18472222222222223 flow rate =  0.4861111111111112 connectivity = 1 ASL 1 period 1 speed 8.842105263157896 D 300\n",
            "car_number 20 density = 0.19444444444444445 flow rate =  0.48611111111111116 connectivity = 1 ASL 1 period 1 speed 8.4 D 300\n",
            "car_number 21 density = 0.2041666666666667 flow rate =  0.4861111111111114 connectivity = 1 ASL 1 period 1 speed 8.000000000000004 D 300\n",
            "car_number 22 density = 0.2138888888888889 flow rate =  0.4861111111111112 connectivity = 1 ASL 1 period 1 speed 7.636363636363638 D 300\n",
            "car_number 23 density = 0.2236111111111111 flow rate =  0.486111111111111 connectivity = 1 ASL 1 period 1 speed 7.304347826086955 D 300\n",
            "car_number 24 density = 0.23333333333333334 flow rate =  0.48611111111111116 connectivity = 1 ASL 1 period 2 speed 7.0 D 300\n",
            "car_number 25 density = 0.24305555555555558 flow rate =  0.4861111111111112 connectivity = 1 ASL 1 period 2 speed 6.720000000000001 D 300\n",
            "car_number 26 density = 0.25277777777777777 flow rate =  0.48611111111111116 connectivity = 1 ASL 1 period 1 speed 6.461538461538463 D 300\n",
            "car_number 27 density = 0.2625 flow rate =  0.4861111111111112 connectivity = 1 ASL 1 period 1 speed 6.222222222222223 D 300\n",
            "car_number 28 density = 0.27222222222222225 flow rate =  0.48611111111111116 connectivity = 1 ASL 1 period 1 speed 6.0 D 300\n",
            "car_number 29 density = 0.2819444444444445 flow rate =  0.48611111111111116 connectivity = 1 ASL 1 period 1 speed 5.793103448275862 D 300\n",
            "car_number 30 density = 0.2916666666666667 flow rate =  0.486111111111111 connectivity = 1 ASL 1 period 1 speed 5.599999999999999 D 300\n",
            "car_number 31 density = 0.30138888888888893 flow rate =  0.486111111111111 connectivity = 1 ASL 1 period 1 speed 5.419354838709676 D 300\n",
            "car_number 32 density = 0.3111111111111111 flow rate =  0.4861111111111111 connectivity = 1 ASL 1 period 1 speed 5.249999999999999 D 300\n",
            "car_number 33 density = 0.3208333333333333 flow rate =  0.4861111111111109 connectivity = 1 ASL 1 period 1 speed 5.090909090909089 D 300\n",
            "car_number 34 density = 0.33055555555555555 flow rate =  0.486111111111111 connectivity = 1 ASL 1 period 1 speed 4.941176470588235 D 300\n",
            "car_number 35 density = 0.3402777777777778 flow rate =  0.4861111111111113 connectivity = 1 ASL 1 period 1 speed 4.800000000000002 D 300\n",
            "car_number 36 density = 0.35000000000000003 flow rate =  0.4861111111111111 connectivity = 1 ASL 1 period 1 speed 4.666666666666666 D 300\n",
            "car_number 37 density = 0.3597222222222222 flow rate =  0.486111111111111 connectivity = 1 ASL 1 period 1 speed 4.5405405405405395 D 300\n",
            "car_number 38 density = 0.36944444444444446 flow rate =  0.4861111111111115 connectivity = 1 ASL 1 period 1 speed 4.4210526315789505 D 300\n",
            "car_number 39 density = 0.3791666666666667 flow rate =  0.48611111111111155 connectivity = 1 ASL 1 period 1 speed 4.307692307692311 D 300\n",
            "car_number 40 density = 0.3888888888888889 flow rate =  0.4861111111111113 connectivity = 1 ASL 1 period 1 speed 4.200000000000002 D 300\n",
            "car_number 41 density = 0.39861111111111114 flow rate =  0.4861111111111114 connectivity = 1 ASL 1 period 1 speed 4.097560975609758 D 300\n",
            "car_number 42 density = 0.4083333333333334 flow rate =  0.4861111111111114 connectivity = 1 ASL 1 period 1 speed 4.000000000000002 D 300\n",
            "car_number 43 density = 0.4180555555555556 flow rate =  0.48611111111111144 connectivity = 1 ASL 1 period 1 speed 3.9069767441860486 D 300\n",
            "car_number 44 density = 0.4277777777777778 flow rate =  0.48611111111111144 connectivity = 1 ASL 1 period 1 speed 3.8181818181818206 D 300\n",
            "car_number 45 density = 0.4375 flow rate =  0.4861111111111112 connectivity = 1 ASL 1 period 1 speed 3.733333333333334 D 300\n",
            "car_number 46 density = 0.4472222222222222 flow rate =  0.4861111111111112 connectivity = 1 ASL 1 period 1 speed 3.652173913043479 D 300\n",
            "car_number 47 density = 0.4569444444444445 flow rate =  0.4861111111111111 connectivity = 1 ASL 1 period 1 speed 3.5744680851063824 D 300\n",
            "car_number 48 density = 0.4666666666666667 flow rate =  0.4861111111111113 connectivity = 1 ASL 1 period 1 speed 3.5000000000000013 D 300\n",
            "car_number 49 density = 0.47638888888888886 flow rate =  0.48611111111111127 connectivity = 1 ASL 1 period 1 speed 3.4285714285714297 D 300\n",
            "car_number 50 density = 0.48611111111111116 flow rate =  0.48611111111111116 connectivity = 1 ASL 1 period 1 speed 3.36 D 300\n",
            "car_number 51 density = 0.49583333333333335 flow rate =  0.4861111111111111 connectivity = 1 ASL 1 period 1 speed 3.2941176470588234 D 300\n",
            "car_number 52 density = 0.5055555555555555 flow rate =  0.48611111111111116 connectivity = 1 ASL 1 period 1 speed 3.2307692307692313 D 300\n",
            "car_number 53 density = 0.5152777777777778 flow rate =  0.486111111111111 connectivity = 1 ASL 1 period 1 speed 3.1698113207547163 D 300\n",
            "car_number 54 density = 0.525 flow rate =  0.4861111111111115 connectivity = 1 ASL 1 period 1 speed 3.1111111111111134 D 300\n",
            "car_number 55 density = 0.5347222222222223 flow rate =  0.48611111111111127 connectivity = 1 ASL 1 period 1 speed 3.054545454545455 D 300\n",
            "car_number 56 density = 0.5444444444444445 flow rate =  0.48611111111111116 connectivity = 1 ASL 1 period 1 speed 3.0 D 300\n",
            "car_number 57 density = 0.5541666666666667 flow rate =  0.486111111111111 connectivity = 1 ASL 1 period 1 speed 2.947368421052631 D 300\n",
            "car_number 58 density = 0.563888888888889 flow rate =  0.4861111111111111 connectivity = 1 ASL 1 period 1 speed 2.8965517241379306 D 300\n",
            "car_number 59 density = 0.5736111111111112 flow rate =  0.48611111111111094 connectivity = 1 ASL 1 period 1 speed 2.847457627118643 D 300\n",
            "car_number 60 density = 0.5833333333333334 flow rate =  0.46879112067361595 connectivity = 1 ASL 1 period 4 speed 2.700236855080028 D 300\n",
            "car_number 61 density = 0.5930555555555557 flow rate =  0.46301730726004137 connectivity = 1 ASL 1 period 3 speed 2.6232587112962342 D 300\n",
            "car_number 62 density = 0.6027777777777779 flow rate =  0.4514713173487323 connectivity = 1 ASL 1 period 2 speed 2.5165885044471272 D 300\n",
            "car_number 63 density = 0.6125 flow rate =  0.4399237899873911 connectivity = 1 ASL 1 period 3 speed 2.413296219359403 D 300\n",
            "car_number 64 density = 0.6222222222222222 flow rate =  0.44270833333333326 connectivity = 1 ASL 1 period 4 speed 2.3906249999999996 D 300\n",
            "car_number 65 density = 0.6319444444444444 flow rate =  0.43402777777777773 connectivity = 1 ASL 1 period 4 speed 2.3076923076923075 D 300\n",
            "car_number 66 density = 0.6416666666666666 flow rate =  0.4253472222222223 connectivity = 1 ASL 1 period 4 speed 2.227272727272728 D 300\n",
            "car_number 67 density = 0.6513888888888889 flow rate =  0.4166666666666667 connectivity = 1 ASL 1 period 3 speed 2.1492537313432836 D 300\n",
            "car_number 68 density = 0.6611111111111111 flow rate =  0.40509259259259267 connectivity = 1 ASL 1 period 3 speed 2.058823529411765 D 300\n",
            "car_number 69 density = 0.6708333333333334 flow rate =  0.3935737388375136 connectivity = 1 ASL 1 period 3 speed 1.9712910745252852 D 300\n",
            "car_number 70 density = 0.6805555555555556 flow rate =  0.38199963995747915 connectivity = 1 ASL 1 period 3 speed 1.8859867938472112 D 300\n",
            "car_number 71 density = 0.6902777777777778 flow rate =  0.3704255658135396 connectivity = 1 ASL 1 period 3 speed 1.8030855710585814 D 300\n",
            "car_number 72 density = 0.7000000000000001 flow rate =  0.35885149173944 connectivity = 1 ASL 1 period 3 speed 1.7224871603493117 D 300\n",
            "car_number 73 density = 0.7097222222222223 flow rate =  0.34727741766536596 connectivity = 1 ASL 1 period 3 speed 1.6440969252760338 D 300\n",
            "car_number 74 density = 0.7194444444444444 flow rate =  0.3357033435912919 connectivity = 1 ASL 1 period 3 speed 1.5678253452047362 D 300\n",
            "car_number 75 density = 0.7291666666666667 flow rate =  0.3241292695172176 connectivity = 1 ASL 1 period 3 speed 1.4935876739353386 D 300\n",
            "car_number 76 density = 0.7388888888888889 flow rate =  0.3126105220891383 connectivity = 1 ASL 1 period 3 speed 1.4215552162369234 D 300\n",
            "car_number 77 density = 0.7486111111111111 flow rate =  0.30109177328113174 connectivity = 1 ASL 1 period 3 speed 1.3513937252721966 D 300\n",
            "car_number 78 density = 0.7583333333333334 flow rate =  0.28951770435920937 connectivity = 1 ASL 1 period 3 speed 1.2827861362377275 D 300\n",
            "car_number 79 density = 0.7680555555555556 flow rate =  0.2779435029682115 connectivity = 1 ASL 1 period 3 speed 1.2159148686811887 D 300\n",
            "car_number 80 density = 0.7777777777777778 flow rate =  0.26636929693211 connectivity = 1 ASL 1 period 3 speed 1.150715362746715 D 300\n",
            "car_number 81 density = 0.7875000000000001 flow rate =  0.2547952194089274 connectivity = 1 ASL 1 period 3 speed 1.0871262694780903 D 300\n",
            "car_number 82 density = 0.7972222222222223 flow rate =  0.2432211418852321 connectivity = 1 ASL 1 period 3 speed 1.0250881297016612 D 300\n",
            "car_number 83 density = 0.8069444444444446 flow rate =  0.23164706781115801 connectivity = 1 ASL 1 period 3 speed 0.9645448992233278 D 300\n",
            "car_number 84 density = 0.8166666666666668 flow rate =  0.22007299373696407 connectivity = 1 ASL 1 period 3 speed 0.9054431742320806 D 300\n",
            "car_number 85 density = 0.826388888888889 flow rate =  0.20849891966277015 connectivity = 1 ASL 1 period 3 speed 0.8477320780641572 D 300\n",
            "car_number 86 density = 0.8361111111111112 flow rate =  0.196924845588693 connectivity = 1 ASL 1 period 3 speed 0.791363100412236 D 300\n",
            "car_number 87 density = 0.8458333333333334 flow rate =  0.18535077151461588 connectivity = 1 ASL 1 period 3 speed 0.7362899613270257 D 300\n",
            "car_number 88 density = 0.8555555555555556 flow rate =  0.1737766974405418 connectivity = 1 ASL 1 period 3 speed 0.6824684844937642 D 300\n",
            "car_number 89 density = 0.8652777777777778 flow rate =  0.1622026233664677 connectivity = 1 ASL 1 period 3 speed 0.629856479050014 D 300\n",
            "car_number 90 density = 0.875 flow rate =  0.1506285492923937 connectivity = 1 ASL 1 period 3 speed 0.5784136292827917 D 300\n",
            "car_number 91 density = 0.8847222222222222 flow rate =  0.13905447521831957 connectivity = 1 ASL 1 period 3 speed 0.5281013915983653 D 300\n",
            "car_number 92 density = 0.8944444444444444 flow rate =  0.1274804011442455 connectivity = 1 ASL 1 period 3 speed 0.47888289821142654 D 300\n",
            "car_number 93 density = 0.9041666666666668 flow rate =  0.1159063270701714 connectivity = 1 ASL 1 period 3 speed 0.43072286704786267 D 300\n",
            "car_number 94 density = 0.913888888888889 flow rate =  0.10433225299609733 connectivity = 1 ASL 1 period 3 speed 0.3835875173984174 D 300\n",
            "car_number 95 density = 0.9236111111111112 flow rate =  0.0927581789220233 connectivity = 1 ASL 1 period 3 speed 0.33744449089948686 D 300\n",
            "car_number 96 density = 0.9333333333333333 flow rate =  0.08118410484794922 connectivity = 1 ASL 1 period 3 speed 0.2922627774526172 D 300\n",
            "car_number 97 density = 0.9430555555555555 flow rate =  0.06961003077387513 connectivity = 1 ASL 1 period 1 speed 0.24801264572630152 D 300\n",
            "car_number 98 density = 0.9527777777777777 flow rate =  0.05803595669980106 connectivity = 1 ASL 1 period 3 speed 0.20466557791276782 D 300\n",
            "car_number 99 density = 0.9625000000000001 flow rate =  0.04646188262572701 connectivity = 1 ASL 1 period 3 speed 0.16219420843890153 D 300\n",
            "car_number 100 density = 0.9722222222222223 flow rate =  0.03488780855165294 connectivity = 1 ASL 1 period 1 speed 0.12057226635451253 D 300\n",
            "car_number 101 density = 0.9819444444444445 flow rate =  0.02324272390868324 connectivity = 1 ASL 1 period 3 speed 0.07953153844396958 D 300\n",
            "car_number 2 density = 0.019444444444444445 flow rate =  0.06944444444444445 connectivity = 1 ASL 0 period 1 speed 12.0 D 300\n",
            "car_number 3 density = 0.029166666666666667 flow rate =  0.10416666666666667 connectivity = 1 ASL 0 period 1 speed 12.0 D 300\n",
            "car_number 4 density = 0.03888888888888889 flow rate =  0.1388888888888889 connectivity = 1 ASL 0 period 1 speed 12.0 D 300\n",
            "car_number 5 density = 0.04861111111111111 flow rate =  0.1736111111111111 connectivity = 1 ASL 0 period 1 speed 12.0 D 300\n",
            "car_number 6 density = 0.058333333333333334 flow rate =  0.20833333333333334 connectivity = 1 ASL 0 period 1 speed 12.0 D 300\n",
            "car_number 7 density = 0.06805555555555556 flow rate =  0.24305555555555558 connectivity = 1 ASL 0 period 1 speed 12.0 D 300\n",
            "car_number 8 density = 0.07777777777777778 flow rate =  0.2777777777777778 connectivity = 1 ASL 0 period 1 speed 12.0 D 300\n",
            "car_number 9 density = 0.08750000000000001 flow rate =  0.31250000000000006 connectivity = 1 ASL 0 period 1 speed 12.0 D 300\n",
            "car_number 10 density = 0.09722222222222222 flow rate =  0.3472222222222222 connectivity = 1 ASL 0 period 1 speed 12.0 D 300\n",
            "car_number 11 density = 0.10694444444444445 flow rate =  0.3819444444444444 connectivity = 1 ASL 0 period 1 speed 12.0 D 300\n",
            "car_number 12 density = 0.11666666666666667 flow rate =  0.4166666666666667 connectivity = 1 ASL 0 period 1 speed 12.0 D 300\n",
            "car_number 13 density = 0.12638888888888888 flow rate =  0.45138888888888884 connectivity = 1 ASL 0 period 1 speed 12.0 D 300\n",
            "car_number 14 density = 0.13611111111111113 flow rate =  0.45155164930555575 connectivity = 1 ASL 0 period 1 speed 11.146875000000003 D 300\n",
            "car_number 15 density = 0.14583333333333334 flow rate =  0.4515516493055555 connectivity = 1 ASL 0 period 1 speed 10.403749999999999 D 300\n",
            "car_number 16 density = 0.15555555555555556 flow rate =  0.42454547646604945 connectivity = 1 ASL 0 period 9 speed 9.170182291666668 D 300\n",
            "car_number 17 density = 0.16527777777777777 flow rate =  0.39599609375000006 connectivity = 1 ASL 0 period 5 speed 8.050367647058824 D 300\n",
            "car_number 18 density = 0.17500000000000002 flow rate =  0.3473849826388889 connectivity = 1 ASL 0 period 1 speed 6.669791666666667 D 300\n",
            "car_number 19 density = 0.18472222222222223 flow rate =  0.3473849826388576 connectivity = 1 ASL 0 period 20 speed 6.31874999999943 D 300\n",
            "car_number 20 density = 0.19444444444444445 flow rate =  0.34738498263888895 connectivity = 1 ASL 0 period 4 speed 6.002812500000001 D 300\n",
            "car_number 21 density = 0.2041666666666667 flow rate =  0.31266276041666674 connectivity = 1 ASL 0 period 1 speed 5.145535714285716 D 300\n",
            "car_number 22 density = 0.2138888888888889 flow rate =  0.31266276041666663 connectivity = 1 ASL 0 period 8 speed 4.911647727272727 D 300\n",
            "car_number 23 density = 0.2236111111111111 flow rate =  0.31266276041666663 connectivity = 1 ASL 0 period 1 speed 4.698097826086956 D 300\n",
            "car_number 24 density = 0.23333333333333334 flow rate =  0.3126627604166667 connectivity = 1 ASL 0 period 1 speed 4.5023437500000005 D 300\n",
            "car_number 25 density = 0.24305555555555558 flow rate =  0.3126627604166665 connectivity = 1 ASL 0 period 1 speed 4.322249999999998 D 300\n",
            "car_number 26 density = 0.25277777777777777 flow rate =  0.3126627604166665 connectivity = 1 ASL 0 period 1 speed 4.1560096153846136 D 300\n",
            "car_number 27 density = 0.2625 flow rate =  0.31266276041666663 connectivity = 1 ASL 0 period 6 speed 4.002083333333333 D 300\n",
            "car_number 28 density = 0.27222222222222225 flow rate =  0.31266276041666646 connectivity = 1 ASL 0 period 1 speed 3.859151785714283 D 300\n",
            "car_number 29 density = 0.2819444444444445 flow rate =  0.27794545262409837 connectivity = 1 ASL 0 period 50 speed 3.312343049203048 D 300\n",
            "car_number 30 density = 0.2916666666666667 flow rate =  0.2779405381944756 connectivity = 1 ASL 0 period 16 speed 3.2018750000003595 D 300\n",
            "car_number 31 density = 0.30138888888888893 flow rate =  0.2571072048611111 connectivity = 1 ASL 0 period 10 speed 2.86633064516129 D 300\n",
            "car_number 32 density = 0.3111111111111111 flow rate =  0.2605794270833333 connectivity = 1 ASL 0 period 2 speed 2.8142578124999993 D 300\n",
            "car_number 33 density = 0.3208333333333333 flow rate =  0.2605794270833333 connectivity = 1 ASL 0 period 2 speed 2.7289772727272723 D 300\n",
            "car_number 34 density = 0.33055555555555555 flow rate =  0.26250843942901236 connectivity = 1 ASL 0 period 9 speed 2.6683210784313727 D 300\n",
            "car_number 35 density = 0.3402777777777778 flow rate =  0.2702811633727646 connectivity = 1 ASL 0 period 50 speed 2.6688334303322123 D 300\n",
            "car_number 36 density = 0.35000000000000003 flow rate =  0.2432183159722222 connectivity = 1 ASL 0 period 1 speed 2.334895833333333 D 300\n",
            "car_number 37 density = 0.3597222222222222 flow rate =  0.24321831597222227 connectivity = 1 ASL 0 period 1 speed 2.271790540540541 D 300\n",
            "car_number 38 density = 0.36944444444444446 flow rate =  0.24321666476454795 connectivity = 1 ASL 0 period 1 speed 2.2119915616480994 D 300\n",
            "car_number 39 density = 0.3791666666666667 flow rate =  0.24140421017440264 connectivity = 1 ASL 0 period 50 speed 2.1392126932377833 D 300\n",
            "car_number 40 density = 0.3888888888888889 flow rate =  0.2258443910132717 connectivity = 1 ASL 0 period 2 speed 1.9512955383546675 D 300\n",
            "car_number 41 density = 0.39861111111111114 flow rate =  0.20848091828785012 connectivity = 1 ASL 0 period 1 speed 1.7573415941531951 D 300\n",
            "car_number 42 density = 0.4083333333333334 flow rate =  0.2084767697555668 connectivity = 1 ASL 0 period 1 speed 1.715465991131521 D 300\n",
            "car_number 43 density = 0.4180555555555556 flow rate =  0.20846938816108945 connectivity = 1 ASL 0 period 1 speed 1.6755121057784306 D 300\n",
            "car_number 44 density = 0.4277777777777778 flow rate =  0.2084693881610896 connectivity = 1 ASL 0 period 1 speed 1.6374322851925582 D 300\n",
            "car_number 45 density = 0.4375 flow rate =  0.20846938816108945 connectivity = 1 ASL 0 period 1 speed 1.601044901077167 D 300\n",
            "car_number 46 density = 0.4472222222222222 flow rate =  0.20846938816108954 connectivity = 1 ASL 0 period 1 speed 1.5662395771407076 D 300\n",
            "car_number 47 density = 0.4569444444444445 flow rate =  0.2084693881610895 connectivity = 1 ASL 0 period 1 speed 1.5329153308185646 D 300\n",
            "car_number 48 density = 0.4666666666666667 flow rate =  0.20846938816108948 connectivity = 1 ASL 0 period 1 speed 1.5009795947598443 D 300\n",
            "car_number 49 density = 0.47638888888888886 flow rate =  0.2084693881610895 connectivity = 1 ASL 0 period 1 speed 1.4703473581320927 D 300\n",
            "car_number 50 density = 0.48611111111111116 flow rate =  0.2084693881610895 connectivity = 1 ASL 0 period 1 speed 1.4409404109694506 D 300\n",
            "car_number 51 density = 0.49583333333333335 flow rate =  0.2084693881610894 connectivity = 1 ASL 0 period 1 speed 1.4126866774210294 D 300\n",
            "car_number 52 density = 0.5055555555555555 flow rate =  0.2084693881610895 connectivity = 1 ASL 0 period 1 speed 1.3855196259321643 D 300\n",
            "car_number 53 density = 0.5152777777777778 flow rate =  0.20846938816108962 connectivity = 1 ASL 0 period 1 speed 1.3593777461975955 D 300\n",
            "car_number 54 density = 0.525 flow rate =  0.20846938816108954 connectivity = 1 ASL 0 period 1 speed 1.334204084230973 D 300\n",
            "car_number 55 density = 0.5347222222222223 flow rate =  0.20846938816108945 connectivity = 1 ASL 0 period 1 speed 1.3099458281540457 D 300\n",
            "car_number 56 density = 0.5444444444444445 flow rate =  0.20846938816108945 connectivity = 1 ASL 0 period 1 speed 1.2865539383655806 D 300\n",
            "car_number 57 density = 0.5541666666666667 flow rate =  0.20846938816108954 connectivity = 1 ASL 0 period 1 speed 1.2639828166398692 D 300\n",
            "car_number 58 density = 0.563888888888889 flow rate =  0.2084693881610895 connectivity = 1 ASL 0 period 1 speed 1.2421900094564229 D 300\n",
            "car_number 59 density = 0.5736111111111112 flow rate =  0.20846938816108945 connectivity = 1 ASL 0 period 1 speed 1.2211359414995342 D 300\n",
            "car_number 60 density = 0.5833333333333334 flow rate =  0.20846938816108954 connectivity = 1 ASL 0 period 1 speed 1.2007836758078758 D 300\n",
            "car_number 61 density = 0.5930555555555557 flow rate =  0.2084693881610896 connectivity = 1 ASL 0 period 1 speed 1.1810986975159434 D 300\n",
            "car_number 62 density = 0.6027777777777779 flow rate =  0.20846938816108954 connectivity = 1 ASL 0 period 1 speed 1.1620487185237507 D 300\n",
            "car_number 63 density = 0.6125 flow rate =  0.2084693881610895 connectivity = 1 ASL 0 period 1 speed 1.1436035007694054 D 300\n",
            "car_number 64 density = 0.6222222222222222 flow rate =  0.2084693881610895 connectivity = 1 ASL 0 period 1 speed 1.1257346960698833 D 300\n",
            "car_number 65 density = 0.6319444444444444 flow rate =  0.2084693881610895 connectivity = 1 ASL 0 period 1 speed 1.1084157007457314 D 300\n",
            "car_number 66 density = 0.6416666666666666 flow rate =  0.2084693881610896 connectivity = 1 ASL 0 period 1 speed 1.0916215234617055 D 300\n",
            "car_number 67 density = 0.6513888888888889 flow rate =  0.20846938816108962 connectivity = 1 ASL 0 period 1 speed 1.0753286649025755 D 300\n",
            "car_number 68 density = 0.6611111111111111 flow rate =  0.20846938816108954 connectivity = 1 ASL 0 period 1 speed 1.0595150080657727 D 300\n",
            "car_number 69 density = 0.6708333333333334 flow rate =  0.20846938816108948 connectivity = 1 ASL 0 period 1 speed 1.0441597180938047 D 300\n",
            "car_number 70 density = 0.6805555555555556 flow rate =  0.20846938816108948 connectivity = 1 ASL 0 period 1 speed 1.0292431506924646 D 300\n",
            "car_number 71 density = 0.6902777777777778 flow rate =  0.20846938816108954 connectivity = 1 ASL 0 period 1 speed 1.0147467682883458 D 300\n",
            "car_number 72 density = 0.7000000000000001 flow rate =  0.2084693881610895 connectivity = 1 ASL 0 period 1 speed 1.0006530631732296 D 300\n",
            "car_number 73 density = 0.7097222222222223 flow rate =  0.20846938816108954 connectivity = 1 ASL 0 period 1 speed 0.9869454869653773 D 300\n",
            "car_number 74 density = 0.7194444444444444 flow rate =  0.2084693881610896 connectivity = 1 ASL 0 period 1 speed 0.9736083857901697 D 300\n",
            "car_number 75 density = 0.7291666666666667 flow rate =  0.20846938816108954 connectivity = 1 ASL 0 period 1 speed 0.9606269406463006 D 300\n",
            "car_number 76 density = 0.7388888888888889 flow rate =  0.2084693881610894 connectivity = 1 ASL 0 period 1 speed 0.9479871124799013 D 300\n",
            "car_number 77 density = 0.7486111111111111 flow rate =  0.2084693881610896 connectivity = 1 ASL 0 period 1 speed 0.9356755915386047 D 300\n",
            "car_number 78 density = 0.7583333333333334 flow rate =  0.20846938816108954 connectivity = 1 ASL 0 period 1 speed 0.9236797506214429 D 300\n",
            "car_number 79 density = 0.7680555555555556 flow rate =  0.20846938816108945 connectivity = 1 ASL 0 period 1 speed 0.911987601879399 D 300\n",
            "car_number 80 density = 0.7777777777777778 flow rate =  0.2084693881610896 connectivity = 1 ASL 0 period 1 speed 0.900587756855907 D 300\n",
            "car_number 81 density = 0.7875000000000001 flow rate =  0.20846938816108967 connectivity = 1 ASL 0 period 1 speed 0.8894693894873159 D 300\n",
            "car_number 82 density = 0.7972222222222223 flow rate =  0.2084693881610896 connectivity = 1 ASL 0 period 1 speed 0.878622201810641 D 300\n",
            "car_number 83 density = 0.8069444444444446 flow rate =  0.20846938816108954 connectivity = 1 ASL 0 period 1 speed 0.8680363921502716 D 300\n",
            "car_number 84 density = 0.8166666666666668 flow rate =  0.20846943509359595 connectivity = 1 ASL 0 period 6 speed 0.8577028186707948 D 300\n",
            "car_number 85 density = 0.826388888888889 flow rate =  0.2084694668984207 connectivity = 1 ASL 0 period 3 speed 0.8476123265893435 D 300\n",
            "car_number 86 density = 0.8361111111111112 flow rate =  0.19690312312488992 connectivity = 1 ASL 0 period 3 speed 0.7912758064181623 D 300\n",
            "car_number 87 density = 0.8458333333333334 flow rate =  0.1853292263824757 connectivity = 1 ASL 0 period 3 speed 0.7362043751469379 D 300\n",
            "car_number 88 density = 0.8555555555555556 flow rate =  0.17375316802857685 connectivity = 1 ASL 0 period 3 speed 0.6823760780758654 D 300\n",
            "car_number 89 density = 0.8652777777777778 flow rate =  0.16216830160320034 connectivity = 1 ASL 0 period 3 speed 0.6297232026299554 D 300\n",
            "car_number 90 density = 0.875 flow rate =  0.15061434059637824 connectivity = 1 ASL 0 period 3 speed 0.5783590678900924 D 300\n",
            "car_number 91 density = 0.8847222222222222 flow rate =  0.1390392730090072 connectivity = 1 ASL 0 period 3 speed 0.5280436566144273 D 300\n",
            "car_number 92 density = 0.8944444444444444 flow rate =  0.12747352701072734 connectivity = 1 ASL 0 period 3 speed 0.47885707537942795 D 300\n",
            "car_number 93 density = 0.9041666666666668 flow rate =  0.11588835048778302 connectivity = 1 ASL 0 period 3 speed 0.43065606374814847 D 300\n",
            "car_number 94 density = 0.913888888888889 flow rate =  0.10430550580352826 connectivity = 1 ASL 0 period 3 speed 0.3834891787840358 D 300\n",
            "car_number 95 density = 0.9236111111111112 flow rate =  0.09273938425526701 connectivity = 1 ASL 0 period 3 speed 0.33737611788021343 D 300\n",
            "car_number 96 density = 0.9333333333333333 flow rate =  0.08114544492723752 connectivity = 1 ASL 0 period 3 speed 0.29212360173805507 D 300\n",
            "car_number 97 density = 0.9430555555555555 flow rate =  0.06957052626626434 connectivity = 1 ASL 0 period 1 speed 0.24787189564557685 D 300\n",
            "car_number 98 density = 0.9527777777777777 flow rate =  0.05801429582603064 connectivity = 1 ASL 0 period 3 speed 0.20458919017832847 D 300\n",
            "car_number 99 density = 0.9625000000000001 flow rate =  0.04640036179617043 connectivity = 1 ASL 0 period 50 speed 0.16197944481572218 D 300\n",
            "car_number 100 density = 0.9722222222222223 flow rate =  0.0348473292095863 connectivity = 1 ASL 0 period 1 speed 0.12043236974833026 D 300\n",
            "car_number 101 density = 0.9819444444444445 flow rate =  0.023258538073160907 connectivity = 1 ASL 0 period 50 speed 0.07958565107014266 D 300\n",
            "car_number 2 density = 0.019444444444444445 flow rate =  0.06944444444444445 connectivity = 0 ASL 1 period 1 speed 12.0 D 300\n",
            "car_number 3 density = 0.029166666666666667 flow rate =  0.10416666666666667 connectivity = 0 ASL 1 period 1 speed 12.0 D 300\n",
            "car_number 4 density = 0.03888888888888889 flow rate =  0.1388888888888889 connectivity = 0 ASL 1 period 1 speed 12.0 D 300\n",
            "car_number 5 density = 0.04861111111111111 flow rate =  0.1736111111111111 connectivity = 0 ASL 1 period 1 speed 12.0 D 300\n",
            "car_number 6 density = 0.058333333333333334 flow rate =  0.20833333333333334 connectivity = 0 ASL 1 period 1 speed 12.0 D 300\n",
            "car_number 7 density = 0.06805555555555556 flow rate =  0.24305555555555558 connectivity = 0 ASL 1 period 1 speed 12.0 D 300\n",
            "car_number 8 density = 0.07777777777777778 flow rate =  0.2777777777777778 connectivity = 0 ASL 1 period 1 speed 12.0 D 300\n",
            "car_number 9 density = 0.08750000000000001 flow rate =  0.31250000000000006 connectivity = 0 ASL 1 period 1 speed 12.0 D 300\n",
            "car_number 10 density = 0.09722222222222222 flow rate =  0.3472222222222222 connectivity = 0 ASL 1 period 1 speed 12.0 D 300\n",
            "car_number 11 density = 0.10694444444444445 flow rate =  0.3819444444444444 connectivity = 0 ASL 1 period 1 speed 12.0 D 300\n",
            "car_number 12 density = 0.11666666666666667 flow rate =  0.4166666666666667 connectivity = 0 ASL 1 period 1 speed 12.0 D 300\n",
            "car_number 13 density = 0.12638888888888888 flow rate =  0.45138888888888884 connectivity = 0 ASL 1 period 1 speed 12.0 D 300\n",
            "car_number 14 density = 0.13611111111111113 flow rate =  0.4515516493055556 connectivity = 0 ASL 1 period 1 speed 11.146875 D 300\n",
            "car_number 15 density = 0.14583333333333334 flow rate =  0.4515516493055556 connectivity = 0 ASL 1 period 1 speed 10.40375 D 300\n",
            "car_number 16 density = 0.15555555555555556 flow rate =  0.4515516493055555 connectivity = 0 ASL 1 period 1 speed 9.753515624999999 D 300\n",
            "car_number 17 density = 0.16527777777777777 flow rate =  0.4515516493055556 connectivity = 0 ASL 1 period 1 speed 9.179779411764706 D 300\n",
            "car_number 18 density = 0.17500000000000002 flow rate =  0.45155164930555564 connectivity = 0 ASL 1 period 1 speed 8.669791666666667 D 300\n",
            "car_number 19 density = 0.18472222222222223 flow rate =  0.4515516493055555 connectivity = 0 ASL 1 period 1 speed 8.213486842105262 D 300\n",
            "car_number 20 density = 0.19444444444444445 flow rate =  0.4515516493055557 connectivity = 0 ASL 1 period 1 speed 7.802812500000002 D 300\n",
            "car_number 21 density = 0.2041666666666667 flow rate =  0.45155164930555564 connectivity = 0 ASL 1 period 1 speed 7.43125 D 300\n",
            "car_number 22 density = 0.2138888888888889 flow rate =  0.4515516493055556 connectivity = 0 ASL 1 period 1 speed 7.093465909090909 D 300\n",
            "car_number 23 density = 0.2236111111111111 flow rate =  0.4515516493055556 connectivity = 0 ASL 1 period 1 speed 6.785054347826088 D 300\n",
            "car_number 24 density = 0.23333333333333334 flow rate =  0.45155164930555564 connectivity = 0 ASL 1 period 1 speed 6.5023437500000005 D 300\n",
            "car_number 25 density = 0.24305555555555558 flow rate =  0.4515516493055556 connectivity = 0 ASL 1 period 1 speed 6.242249999999999 D 300\n",
            "car_number 26 density = 0.25277777777777777 flow rate =  0.45155164930555564 connectivity = 0 ASL 1 period 1 speed 6.002163461538463 D 300\n",
            "car_number 27 density = 0.2625 flow rate =  0.4515516493055556 connectivity = 0 ASL 1 period 1 speed 5.779861111111111 D 300\n",
            "car_number 28 density = 0.27222222222222225 flow rate =  0.4515516493055556 connectivity = 0 ASL 1 period 1 speed 5.5734375 D 300\n",
            "car_number 29 density = 0.2819444444444445 flow rate =  0.4515516493055556 connectivity = 0 ASL 1 period 1 speed 5.38125 D 300\n",
            "car_number 30 density = 0.2916666666666667 flow rate =  0.4515516493055556 connectivity = 0 ASL 1 period 1 speed 5.201875 D 300\n",
            "car_number 31 density = 0.30138888888888893 flow rate =  0.4515516493055556 connectivity = 0 ASL 1 period 1 speed 5.034072580645161 D 300\n",
            "car_number 32 density = 0.3111111111111111 flow rate =  0.4515516493055557 connectivity = 0 ASL 1 period 1 speed 4.876757812500001 D 300\n",
            "car_number 33 density = 0.3208333333333333 flow rate =  0.4515516493055555 connectivity = 0 ASL 1 period 1 speed 4.728977272727272 D 300\n",
            "car_number 34 density = 0.33055555555555555 flow rate =  0.4515516493055556 connectivity = 0 ASL 1 period 1 speed 4.589889705882353 D 300\n",
            "car_number 35 density = 0.3402777777777778 flow rate =  0.4515516493055557 connectivity = 0 ASL 1 period 1 speed 4.458750000000001 D 300\n",
            "car_number 36 density = 0.35000000000000003 flow rate =  0.45155164930555564 connectivity = 0 ASL 1 period 1 speed 4.334895833333333 D 300\n",
            "car_number 37 density = 0.3597222222222222 flow rate =  0.45155164930555564 connectivity = 0 ASL 1 period 1 speed 4.217736486486487 D 300\n",
            "car_number 38 density = 0.36944444444444446 flow rate =  0.4515516493055555 connectivity = 0 ASL 1 period 1 speed 4.106743421052631 D 300\n",
            "car_number 39 density = 0.3791666666666667 flow rate =  0.45155164930555564 connectivity = 0 ASL 1 period 1 speed 4.001442307692308 D 300\n",
            "car_number 40 density = 0.3888888888888889 flow rate =  0.4515516493055555 connectivity = 0 ASL 1 period 1 speed 3.9014062499999995 D 300\n",
            "car_number 41 density = 0.39861111111111114 flow rate =  0.45155164930555564 connectivity = 0 ASL 1 period 1 speed 3.8062500000000004 D 300\n",
            "car_number 42 density = 0.4083333333333334 flow rate =  0.4515516493055555 connectivity = 0 ASL 1 period 1 speed 3.7156249999999993 D 300\n",
            "car_number 43 density = 0.4180555555555556 flow rate =  0.45155164930555575 connectivity = 0 ASL 1 period 1 speed 3.6292151162790707 D 300\n",
            "car_number 44 density = 0.4277777777777778 flow rate =  0.4515516493055556 connectivity = 0 ASL 1 period 1 speed 3.5467329545454547 D 300\n",
            "car_number 45 density = 0.4375 flow rate =  0.45155164930555575 connectivity = 0 ASL 1 period 1 speed 3.467916666666668 D 300\n",
            "car_number 46 density = 0.4472222222222222 flow rate =  0.4515516493055556 connectivity = 0 ASL 1 period 1 speed 3.392527173913044 D 300\n",
            "car_number 47 density = 0.4569444444444445 flow rate =  0.45155164930555564 connectivity = 0 ASL 1 period 1 speed 3.3203457446808513 D 300\n",
            "car_number 48 density = 0.4666666666666667 flow rate =  0.45155164930555564 connectivity = 0 ASL 1 period 1 speed 3.2511718750000003 D 300\n",
            "car_number 49 density = 0.47638888888888886 flow rate =  0.45155164930555575 connectivity = 0 ASL 1 period 1 speed 3.18482142857143 D 300\n",
            "car_number 50 density = 0.48611111111111116 flow rate =  0.45155164930555564 connectivity = 0 ASL 1 period 1 speed 3.121125 D 300\n",
            "car_number 51 density = 0.49583333333333335 flow rate =  0.4515516493055556 connectivity = 0 ASL 1 period 1 speed 3.0599264705882354 D 300\n",
            "car_number 52 density = 0.5055555555555555 flow rate =  0.4515516493055554 connectivity = 0 ASL 1 period 1 speed 3.00108173076923 D 300\n",
            "car_number 53 density = 0.5152777777777778 flow rate =  0.4515516493055555 connectivity = 0 ASL 1 period 1 speed 2.9444575471698107 D 300\n",
            "car_number 54 density = 0.525 flow rate =  0.4515516493055557 connectivity = 0 ASL 1 period 1 speed 2.8899305555555563 D 300\n",
            "car_number 55 density = 0.5347222222222223 flow rate =  0.4515516493055556 connectivity = 0 ASL 1 period 1 speed 2.837386363636363 D 300\n",
            "car_number 56 density = 0.5444444444444445 flow rate =  0.45155164930555575 connectivity = 0 ASL 1 period 1 speed 2.786718750000001 D 300\n",
            "car_number 57 density = 0.5541666666666667 flow rate =  0.4515516493055556 connectivity = 0 ASL 1 period 1 speed 2.737828947368421 D 300\n",
            "car_number 58 density = 0.563888888888889 flow rate =  0.45155164930555575 connectivity = 0 ASL 1 period 1 speed 2.6906250000000007 D 300\n",
            "car_number 59 density = 0.5736111111111112 flow rate =  0.45155164930555575 connectivity = 0 ASL 1 period 1 speed 2.6450211864406787 D 300\n",
            "car_number 60 density = 0.5833333333333334 flow rate =  0.4515516493055556 connectivity = 0 ASL 1 period 1 speed 2.6009375 D 300\n",
            "car_number 61 density = 0.5930555555555557 flow rate =  0.45155164930555564 connectivity = 0 ASL 1 period 1 speed 2.558299180327869 D 300\n",
            "car_number 62 density = 0.6027777777777779 flow rate =  0.4515516493055555 connectivity = 0 ASL 1 period 1 speed 2.5170362903225802 D 300\n",
            "car_number 63 density = 0.6125 flow rate =  0.4399775752314815 connectivity = 0 ASL 1 period 3 speed 2.41359126984127 D 300\n",
            "car_number 64 density = 0.6222222222222222 flow rate =  0.4284035011574074 connectivity = 0 ASL 1 period 3 speed 2.3133789062499996 D 300\n",
            "car_number 65 density = 0.6319444444444444 flow rate =  0.41682942708333354 connectivity = 0 ASL 1 period 1 speed 2.216250000000001 D 300\n",
            "car_number 66 density = 0.6416666666666666 flow rate =  0.41682942708333326 connectivity = 0 ASL 1 period 1 speed 2.1826704545454545 D 300\n",
            "car_number 67 density = 0.6513888888888889 flow rate =  0.4168294270833333 connectivity = 0 ASL 1 period 1 speed 2.1500932835820894 D 300\n",
            "car_number 68 density = 0.6611111111111111 flow rate =  0.40525535300925924 connectivity = 0 ASL 1 period 3 speed 2.0596507352941176 D 300\n",
            "car_number 69 density = 0.6708333333333334 flow rate =  0.39368127893518523 connectivity = 0 ASL 1 period 3 speed 1.9718297101449276 D 300\n",
            "car_number 70 density = 0.6805555555555556 flow rate =  0.3821072048611112 connectivity = 0 ASL 1 period 3 speed 1.8865178571428576 D 300\n",
            "car_number 71 density = 0.6902777777777778 flow rate =  0.37053313078703703 connectivity = 0 ASL 1 period 3 speed 1.8036091549295774 D 300\n",
            "car_number 72 density = 0.7000000000000001 flow rate =  0.35895905671296297 connectivity = 0 ASL 1 period 3 speed 1.7230034722222218 D 300\n",
            "car_number 73 density = 0.7097222222222223 flow rate =  0.3473849826388889 connectivity = 0 ASL 1 period 3 speed 1.6446061643835617 D 300\n",
            "car_number 74 density = 0.7194444444444444 flow rate =  0.3358109085648147 connectivity = 0 ASL 1 period 3 speed 1.5683277027027023 D 300\n",
            "car_number 75 density = 0.7291666666666667 flow rate =  0.3242368344907408 connectivity = 0 ASL 1 period 3 speed 1.4940833333333334 D 300\n",
            "car_number 76 density = 0.7388888888888889 flow rate =  0.3126627604166667 connectivity = 0 ASL 1 period 3 speed 1.4217927631578948 D 300\n",
            "car_number 77 density = 0.7486111111111111 flow rate =  0.3010886863425927 connectivity = 0 ASL 1 period 3 speed 1.3513798701298707 D 300\n",
            "car_number 78 density = 0.7583333333333334 flow rate =  0.28951461226851855 connectivity = 0 ASL 1 period 3 speed 1.282772435897436 D 300\n",
            "car_number 79 density = 0.7680555555555556 flow rate =  0.2779405381944445 connectivity = 0 ASL 1 period 3 speed 1.2159018987341772 D 300\n",
            "car_number 80 density = 0.7777777777777778 flow rate =  0.26636646412037035 connectivity = 0 ASL 1 period 3 speed 1.150703125 D 300\n",
            "car_number 81 density = 0.7875000000000001 flow rate =  0.2547923900462963 connectivity = 0 ASL 1 period 3 speed 1.087114197530864 D 300\n",
            "car_number 82 density = 0.7972222222222223 flow rate =  0.24321831597222224 connectivity = 0 ASL 1 period 3 speed 1.0250762195121952 D 300\n",
            "car_number 83 density = 0.8069444444444446 flow rate =  0.23164424189814825 connectivity = 0 ASL 1 period 3 speed 0.9645331325301209 D 300\n",
            "car_number 84 density = 0.8166666666666668 flow rate =  0.2200701678240741 connectivity = 0 ASL 1 period 3 speed 0.9054315476190476 D 300\n",
            "car_number 85 density = 0.826388888888889 flow rate =  0.2084960937500001 connectivity = 0 ASL 1 period 3 speed 0.8477205882352945 D 300\n",
            "car_number 86 density = 0.8361111111111112 flow rate =  0.196922019675926 connectivity = 0 ASL 1 period 3 speed 0.7913517441860468 D 300\n",
            "car_number 87 density = 0.8458333333333334 flow rate =  0.18534794560185192 connectivity = 0 ASL 1 period 3 speed 0.7362787356321842 D 300\n",
            "car_number 88 density = 0.8555555555555556 flow rate =  0.17377387152777785 connectivity = 0 ASL 1 period 3 speed 0.6824573863636366 D 300\n",
            "car_number 89 density = 0.8652777777777778 flow rate =  0.1621997974537038 connectivity = 0 ASL 1 period 3 speed 0.6298455056179778 D 300\n",
            "car_number 90 density = 0.875 flow rate =  0.15062572337962968 connectivity = 0 ASL 1 period 3 speed 0.5784027777777779 D 300\n",
            "car_number 91 density = 0.8847222222222222 flow rate =  0.1390516493055556 connectivity = 0 ASL 1 period 3 speed 0.5280906593406596 D 300\n",
            "car_number 92 density = 0.8944444444444444 flow rate =  0.12747757523148157 connectivity = 0 ASL 1 period 3 speed 0.47887228260869596 D 300\n",
            "car_number 93 density = 0.9041666666666668 flow rate =  0.11590350115740745 connectivity = 0 ASL 1 period 3 speed 0.43071236559139797 D 300\n",
            "car_number 94 density = 0.913888888888889 flow rate =  0.1043294270833334 connectivity = 0 ASL 1 period 3 speed 0.3835771276595747 D 300\n",
            "car_number 95 density = 0.9236111111111112 flow rate =  0.09275535300925931 connectivity = 0 ASL 1 period 3 speed 0.337434210526316 D 300\n",
            "car_number 96 density = 0.9333333333333333 flow rate =  0.08118127893518523 connectivity = 0 ASL 1 period 3 speed 0.2922526041666668 D 300\n",
            "car_number 97 density = 0.9430555555555555 flow rate =  0.06960720486111112 connectivity = 0 ASL 1 period 1 speed 0.24800257731958766 D 300\n",
            "car_number 98 density = 0.9527777777777777 flow rate =  0.058033130787037035 connectivity = 0 ASL 1 period 3 speed 0.20465561224489795 D 300\n",
            "car_number 99 density = 0.9625000000000001 flow rate =  0.046459056712962986 connectivity = 0 ASL 1 period 3 speed 0.1621843434343435 D 300\n",
            "car_number 100 density = 0.9722222222222223 flow rate =  0.03488498263888891 connectivity = 0 ASL 1 period 1 speed 0.12056250000000004 D 300\n",
            "car_number 101 density = 0.9819444444444445 flow rate =  0.023250626929012343 connectivity = 0 ASL 1 period 3 speed 0.0795585808580858 D 300\n",
            "time 0:23:04.792033\n"
          ]
        }
      ]
    },
    {
      "cell_type": "code",
      "metadata": {
        "id": "yrse-N-kG792",
        "colab": {
          "base_uri": "https://localhost:8080/"
        },
        "outputId": "953f9553-ae7d-4c4f-bddf-6f7acae162cd"
      },
      "source": [
        "# when there is no signal\n",
        "R = int(0/delta_t); G = int(60/delta_t); Y = int(0/delta_t); T = G + Y + R\n",
        "vehicle_banewell_free,flow_banewell_free,density_banewell_free,period_banewell_free = nfd_calc(n1,n2,delta_n,L_int,L,D,l_n,non_connected,G,Y,R,T,tau,delta_t,t_sim,s_0,v_f,a_0,b,3,aggressive,asl_id_dy)"
      ],
      "execution_count": null,
      "outputs": [
        {
          "output_type": "stream",
          "name": "stdout",
          "text": [
            "car_number 2 density = 0.019444444444444445 flow rate =  0.06944444444444445 connectivity = 0 ASL 1 period 1 speed 12.0 D 300\n",
            "car_number 3 density = 0.029166666666666667 flow rate =  0.10416666666666667 connectivity = 0 ASL 1 period 1 speed 12.0 D 300\n",
            "car_number 4 density = 0.03888888888888889 flow rate =  0.1388888888888889 connectivity = 0 ASL 1 period 1 speed 12.0 D 300\n",
            "car_number 5 density = 0.04861111111111111 flow rate =  0.1736111111111111 connectivity = 0 ASL 1 period 1 speed 12.0 D 300\n",
            "car_number 6 density = 0.058333333333333334 flow rate =  0.20833333333333334 connectivity = 0 ASL 1 period 1 speed 12.0 D 300\n",
            "car_number 7 density = 0.06805555555555556 flow rate =  0.24305555555555558 connectivity = 0 ASL 1 period 1 speed 12.0 D 300\n",
            "car_number 8 density = 0.07777777777777778 flow rate =  0.2777777777777778 connectivity = 0 ASL 1 period 1 speed 12.0 D 300\n",
            "car_number 9 density = 0.08750000000000001 flow rate =  0.31250000000000006 connectivity = 0 ASL 1 period 1 speed 12.0 D 300\n",
            "car_number 10 density = 0.09722222222222222 flow rate =  0.3472222222222222 connectivity = 0 ASL 1 period 1 speed 12.0 D 300\n",
            "car_number 11 density = 0.10694444444444445 flow rate =  0.3819444444444444 connectivity = 0 ASL 1 period 1 speed 12.0 D 300\n",
            "car_number 12 density = 0.11666666666666667 flow rate =  0.4166666666666667 connectivity = 0 ASL 1 period 1 speed 12.0 D 300\n",
            "car_number 13 density = 0.12638888888888888 flow rate =  0.45138888888888884 connectivity = 0 ASL 1 period 1 speed 12.0 D 300\n",
            "car_number 14 density = 0.13611111111111113 flow rate =  0.48611111111111116 connectivity = 0 ASL 1 period 1 speed 12.0 D 300\n",
            "car_number 15 density = 0.14583333333333334 flow rate =  0.5208333333333334 connectivity = 0 ASL 1 period 1 speed 12.0 D 300\n",
            "car_number 16 density = 0.15555555555555556 flow rate =  0.5555555555555556 connectivity = 0 ASL 1 period 1 speed 12.0 D 300\n",
            "car_number 17 density = 0.16527777777777777 flow rate =  0.5902777777777778 connectivity = 0 ASL 1 period 1 speed 12.0 D 300\n",
            "car_number 18 density = 0.17500000000000002 flow rate =  0.6250000000000001 connectivity = 0 ASL 1 period 1 speed 12.0 D 300\n",
            "car_number 19 density = 0.18472222222222223 flow rate =  0.6597222222222222 connectivity = 0 ASL 1 period 1 speed 12.0 D 300\n",
            "car_number 20 density = 0.19444444444444445 flow rate =  0.6944444444444444 connectivity = 0 ASL 1 period 1 speed 12.0 D 300\n",
            "car_number 21 density = 0.2041666666666667 flow rate =  0.7291666666666666 connectivity = 0 ASL 1 period 1 speed 12.0 D 300\n",
            "car_number 22 density = 0.2138888888888889 flow rate =  0.7638888888888888 connectivity = 0 ASL 1 period 1 speed 12.0 D 300\n",
            "car_number 23 density = 0.2236111111111111 flow rate =  0.798611111111111 connectivity = 0 ASL 1 period 1 speed 12.0 D 300\n",
            "car_number 24 density = 0.23333333333333334 flow rate =  0.8333333333333334 connectivity = 0 ASL 1 period 1 speed 12.0 D 300\n",
            "car_number 25 density = 0.24305555555555558 flow rate =  0.8680555555555556 connectivity = 0 ASL 1 period 1 speed 12.0 D 300\n",
            "car_number 26 density = 0.25277777777777777 flow rate =  0.9027777777777777 connectivity = 0 ASL 1 period 1 speed 12.0 D 300\n",
            "car_number 27 density = 0.2625 flow rate =  0.9374999999999999 connectivity = 0 ASL 1 period 1 speed 12.0 D 300\n",
            "car_number 28 density = 0.27222222222222225 flow rate =  0.9722222222222223 connectivity = 0 ASL 1 period 1 speed 12.0 D 300\n",
            "car_number 29 density = 0.2819444444444445 flow rate =  0.9972993827160493 connectivity = 0 ASL 1 period 1 speed 11.885057471264366 D 300\n",
            "car_number 30 density = 0.2916666666666667 flow rate =  0.9837962962962963 connectivity = 0 ASL 1 period 1 speed 11.333333333333334 D 300\n",
            "car_number 31 density = 0.30138888888888893 flow rate =  0.9702932098765432 connectivity = 0 ASL 1 period 1 speed 10.817204301075268 D 300\n",
            "car_number 32 density = 0.3111111111111111 flow rate =  0.9567901234567904 connectivity = 0 ASL 1 period 1 speed 10.333333333333336 D 300\n",
            "car_number 33 density = 0.3208333333333333 flow rate =  0.943287037037037 connectivity = 0 ASL 1 period 1 speed 9.878787878787879 D 300\n",
            "car_number 34 density = 0.33055555555555555 flow rate =  0.929783950617284 connectivity = 0 ASL 1 period 1 speed 9.450980392156863 D 300\n",
            "car_number 35 density = 0.3402777777777778 flow rate =  0.9162808641975311 connectivity = 0 ASL 1 period 1 speed 9.04761904761905 D 300\n",
            "car_number 36 density = 0.35000000000000003 flow rate =  0.902777777777778 connectivity = 0 ASL 1 period 1 speed 8.666666666666668 D 300\n",
            "car_number 37 density = 0.3597222222222222 flow rate =  0.8892746913580248 connectivity = 0 ASL 1 period 1 speed 8.306306306306308 D 300\n",
            "car_number 38 density = 0.36944444444444446 flow rate =  0.8757716049382717 connectivity = 0 ASL 1 period 1 speed 7.964912280701755 D 300\n",
            "car_number 39 density = 0.3791666666666667 flow rate =  0.8622685185185186 connectivity = 0 ASL 1 period 1 speed 7.641025641025641 D 300\n",
            "car_number 40 density = 0.3888888888888889 flow rate =  0.8487654320987655 connectivity = 0 ASL 1 period 1 speed 7.333333333333334 D 300\n",
            "car_number 41 density = 0.39861111111111114 flow rate =  0.8352623456790126 connectivity = 0 ASL 1 period 1 speed 7.040650406504067 D 300\n",
            "car_number 42 density = 0.4083333333333334 flow rate =  0.8217592592592592 connectivity = 0 ASL 1 period 1 speed 6.761904761904761 D 300\n",
            "car_number 43 density = 0.4180555555555556 flow rate =  0.8082561728395062 connectivity = 0 ASL 1 period 1 speed 6.496124031007752 D 300\n",
            "car_number 44 density = 0.4277777777777778 flow rate =  0.794753086419753 connectivity = 0 ASL 1 period 1 speed 6.242424242424241 D 300\n",
            "car_number 45 density = 0.4375 flow rate =  0.7812500000000001 connectivity = 0 ASL 1 period 1 speed 6.000000000000001 D 300\n",
            "car_number 46 density = 0.4472222222222222 flow rate =  0.7677469135802468 connectivity = 0 ASL 1 period 1 speed 5.768115942028985 D 300\n",
            "car_number 47 density = 0.4569444444444445 flow rate =  0.7542438271604938 connectivity = 0 ASL 1 period 1 speed 5.546099290780141 D 300\n",
            "car_number 48 density = 0.4666666666666667 flow rate =  0.7407407407407409 connectivity = 0 ASL 1 period 1 speed 5.333333333333335 D 300\n",
            "car_number 49 density = 0.47638888888888886 flow rate =  0.7272376543209879 connectivity = 0 ASL 1 period 1 speed 5.129251700680274 D 300\n",
            "car_number 50 density = 0.48611111111111116 flow rate =  0.7137345679012347 connectivity = 0 ASL 1 period 1 speed 4.933333333333334 D 300\n",
            "car_number 51 density = 0.49583333333333335 flow rate =  0.7002314814814817 connectivity = 0 ASL 1 period 1 speed 4.745098039215687 D 300\n",
            "car_number 52 density = 0.5055555555555555 flow rate =  0.6867283950617283 connectivity = 0 ASL 1 period 1 speed 4.564102564102564 D 300\n",
            "car_number 53 density = 0.5152777777777778 flow rate =  0.6732253086419756 connectivity = 0 ASL 1 period 1 speed 4.389937106918241 D 300\n",
            "car_number 54 density = 0.525 flow rate =  0.6597222222222222 connectivity = 0 ASL 1 period 1 speed 4.222222222222222 D 300\n",
            "car_number 55 density = 0.5347222222222223 flow rate =  0.646219135802469 connectivity = 0 ASL 1 period 1 speed 4.06060606060606 D 300\n",
            "car_number 56 density = 0.5444444444444445 flow rate =  0.6327160493827162 connectivity = 0 ASL 1 period 1 speed 3.904761904761905 D 300\n",
            "car_number 57 density = 0.5541666666666667 flow rate =  0.6192129629629629 connectivity = 0 ASL 1 period 1 speed 3.7543859649122804 D 300\n",
            "car_number 58 density = 0.563888888888889 flow rate =  0.6057098765432103 connectivity = 0 ASL 1 period 1 speed 3.609195402298852 D 300\n",
            "car_number 59 density = 0.5736111111111112 flow rate =  0.5922067901234568 connectivity = 0 ASL 1 period 1 speed 3.468926553672316 D 300\n",
            "car_number 60 density = 0.5833333333333334 flow rate =  0.5787037037037036 connectivity = 0 ASL 1 period 1 speed 3.333333333333333 D 300\n",
            "car_number 61 density = 0.5930555555555557 flow rate =  0.5652006172839504 connectivity = 0 ASL 1 period 1 speed 3.2021857923497254 D 300\n",
            "car_number 62 density = 0.6027777777777779 flow rate =  0.5516975308641973 connectivity = 0 ASL 1 period 1 speed 3.0752688172042992 D 300\n",
            "car_number 63 density = 0.6125 flow rate =  0.5381944444444445 connectivity = 0 ASL 1 period 1 speed 2.9523809523809526 D 300\n",
            "car_number 64 density = 0.6222222222222222 flow rate =  0.5246913580246916 connectivity = 0 ASL 1 period 1 speed 2.8333333333333344 D 300\n",
            "car_number 65 density = 0.6319444444444444 flow rate =  0.5111882716049382 connectivity = 0 ASL 1 period 1 speed 2.717948717948717 D 300\n",
            "car_number 66 density = 0.6416666666666666 flow rate =  0.4976851851851854 connectivity = 0 ASL 1 period 1 speed 2.6060606060606073 D 300\n",
            "car_number 67 density = 0.6513888888888889 flow rate =  0.48418209876543183 connectivity = 0 ASL 1 period 1 speed 2.497512437810944 D 300\n",
            "car_number 68 density = 0.6611111111111111 flow rate =  0.4706790123456787 connectivity = 0 ASL 1 period 1 speed 2.3921568627450966 D 300\n",
            "car_number 69 density = 0.6708333333333334 flow rate =  0.45717592592592604 connectivity = 0 ASL 1 period 1 speed 2.2898550724637685 D 300\n",
            "car_number 70 density = 0.6805555555555556 flow rate =  0.4436728395061728 connectivity = 0 ASL 1 period 1 speed 2.1904761904761902 D 300\n",
            "car_number 71 density = 0.6902777777777778 flow rate =  0.43016975308641986 connectivity = 0 ASL 1 period 1 speed 2.093896713615024 D 300\n",
            "car_number 72 density = 0.7000000000000001 flow rate =  0.4166666666666666 connectivity = 0 ASL 1 period 1 speed 1.9999999999999996 D 300\n",
            "car_number 73 density = 0.7097222222222223 flow rate =  0.40316358024691357 connectivity = 0 ASL 1 period 1 speed 1.9086757990867578 D 300\n",
            "car_number 74 density = 0.7194444444444444 flow rate =  0.3896604938271602 connectivity = 0 ASL 1 period 1 speed 1.8198198198198186 D 300\n",
            "car_number 75 density = 0.7291666666666667 flow rate =  0.3761574074074075 connectivity = 0 ASL 1 period 1 speed 1.7333333333333334 D 300\n",
            "car_number 76 density = 0.7388888888888889 flow rate =  0.3626543209876546 connectivity = 0 ASL 1 period 1 speed 1.6491228070175452 D 300\n",
            "car_number 77 density = 0.7486111111111111 flow rate =  0.34915123456790104 connectivity = 0 ASL 1 period 1 speed 1.5670995670995662 D 300\n",
            "car_number 78 density = 0.7583333333333334 flow rate =  0.33564814814814825 connectivity = 0 ASL 1 period 1 speed 1.4871794871794874 D 300\n",
            "car_number 79 density = 0.7680555555555556 flow rate =  0.32214506172839497 connectivity = 0 ASL 1 period 1 speed 1.4092827004219406 D 300\n",
            "car_number 80 density = 0.7777777777777778 flow rate =  0.308641975308642 connectivity = 0 ASL 1 period 1 speed 1.3333333333333335 D 300\n",
            "car_number 81 density = 0.7875000000000001 flow rate =  0.2951388888888888 connectivity = 0 ASL 1 period 1 speed 1.2592592592592586 D 300\n",
            "car_number 82 density = 0.7972222222222223 flow rate =  0.28163580246913594 connectivity = 0 ASL 1 period 1 speed 1.1869918699186996 D 300\n",
            "car_number 83 density = 0.8069444444444446 flow rate =  0.26813271604938244 connectivity = 0 ASL 1 period 1 speed 1.116465863453814 D 300\n",
            "car_number 84 density = 0.8166666666666668 flow rate =  0.25462962962962987 connectivity = 0 ASL 1 period 1 speed 1.0476190476190486 D 300\n",
            "car_number 85 density = 0.826388888888889 flow rate =  0.24112654320987656 connectivity = 0 ASL 1 period 1 speed 0.9803921568627452 D 300\n",
            "car_number 86 density = 0.8361111111111112 flow rate =  0.22762345679012355 connectivity = 0 ASL 1 period 1 speed 0.914728682170543 D 300\n",
            "car_number 87 density = 0.8458333333333334 flow rate =  0.2141203703703703 connectivity = 0 ASL 1 period 1 speed 0.8505747126436778 D 300\n",
            "car_number 88 density = 0.8555555555555556 flow rate =  0.2006172839506173 connectivity = 0 ASL 1 period 1 speed 0.787878787878788 D 300\n",
            "car_number 89 density = 0.8652777777777778 flow rate =  0.18711419753086447 connectivity = 0 ASL 1 period 1 speed 0.7265917602996265 D 300\n",
            "car_number 90 density = 0.875 flow rate =  0.17361111111111102 connectivity = 0 ASL 1 period 1 speed 0.6666666666666663 D 300\n",
            "car_number 91 density = 0.8847222222222222 flow rate =  0.160108024691358 connectivity = 0 ASL 1 period 1 speed 0.6080586080586079 D 300\n",
            "car_number 92 density = 0.8944444444444444 flow rate =  0.146604938271605 connectivity = 0 ASL 1 period 1 speed 0.5507246376811598 D 300\n",
            "car_number 93 density = 0.9041666666666668 flow rate =  0.13310172111531784 connectivity = 0 ASL 1 period 50 speed 0.4946231700801488 D 300\n",
            "car_number 94 density = 0.913888888888889 flow rate =  0.11959876543209884 connectivity = 0 ASL 1 period 1 speed 0.43971631205673783 D 300\n",
            "car_number 95 density = 0.9236111111111112 flow rate =  0.10609567901234558 connectivity = 0 ASL 1 period 1 speed 0.38596491228070134 D 300\n",
            "car_number 96 density = 0.9333333333333333 flow rate =  0.0925925925925925 connectivity = 0 ASL 1 period 1 speed 0.333333333333333 D 300\n",
            "car_number 97 density = 0.9430555555555555 flow rate =  0.07908950617283947 connectivity = 0 ASL 1 period 1 speed 0.28178694158075585 D 300\n",
            "car_number 98 density = 0.9527777777777777 flow rate =  0.06558641975308643 connectivity = 0 ASL 1 period 1 speed 0.23129251700680276 D 300\n",
            "car_number 99 density = 0.9625000000000001 flow rate =  0.05208333333333338 connectivity = 0 ASL 1 period 1 speed 0.18181818181818193 D 300\n",
            "car_number 100 density = 0.9722222222222223 flow rate =  0.03858024691358021 connectivity = 0 ASL 1 period 1 speed 0.1333333333333332 D 300\n",
            "car_number 101 density = 0.9819444444444445 flow rate =  0.025077160493827164 connectivity = 0 ASL 1 period 1 speed 0.08580858085808582 D 300\n"
          ]
        }
      ]
    },
    {
      "cell_type": "code",
      "metadata": {
        "id": "wXhP8MCyFIJM",
        "colab": {
          "base_uri": "https://localhost:8080/",
          "height": 363
        },
        "outputId": "7e9edad3-4004-473d-8d0b-dc6f8feaec5c"
      },
      "source": [
        "fig = plt.figure(figsize=(7,10),num = 1,dpi = 80)\n",
        "\n",
        "ax2 = fig.add_subplot(2,1,1)\n",
        "#ax2.set_title(\"Trajectories,penetrate rate: %x\" %all_connected)\n",
        "ax2.set_xlabel(\"$Density \\ (k/k_j)$\")\n",
        "ax2.set_ylabel(\"$Flow\\ rate \\ (q/C)$\")\n",
        "#plt.xlim(0,p+0.2)\n",
        "#plt.xticks(np.arange(0,30000,30))\n",
        "ax2.scatter(density_banewell_free,flow_banewell_free, marker = 'o', color = 'red', s = 12, label = 'no signal')\n",
        "ax2.scatter(density_banewell_non,flow_banewell_non, marker = '>', color = 'b', s = 12, label = '$\\pi = 0.5$, without ASL')\n",
        "ax2.scatter(density_banewell_sa,flow_banewell_sa, marker = '+', color = 'm', s = 12, label = '$\\pi = 0.5$, with static ASL')\n",
        "ax2.scatter(density_banewell_dy,flow_banewell_dy, marker = 'D', color = 'g', s = 12, label = '$\\pi = 0.5$, with dynamic ASL')\n",
        "ax2.grid()\n",
        "ax2.legend()"
      ],
      "execution_count": null,
      "outputs": [
        {
          "output_type": "execute_result",
          "data": {
            "text/plain": [
              "<matplotlib.legend.Legend at 0x7fc530be2c90>"
            ]
          },
          "metadata": {},
          "execution_count": 240
        },
        {
          "output_type": "display_data",
          "data": {
            "text/plain": [
              "<Figure size 560x800 with 1 Axes>"
            ],
            "image/png": "[encoded data removed]"
          },
          "metadata": {
            "needs_background": "light"
          }
        }
      ]
    },
    {
      "cell_type": "markdown",
      "metadata": {
        "id": "sMjKwL6isWly"
      },
      "source": [
        "# Fuel consumption\n",
        "The model has the following form:\n",
        "$$\n",
        "MOE_e(t,n)=\n",
        "\\begin{cases}\n",
        "e^{\\sum_{i=0}^3\\sum_{j=0}^3 L_{i,j}^e\\times v_n(t)^i \\times a_n(t)^j}, &if\\ a_n(t)\\geq 0\\\\\n",
        "e^{\\sum_{i=0}^3\\sum_{j=0}^3 F_{i,j}^e\\times v_n(t)^i \\times a_n(t)^j}, &if\\ a_n(t) < 0\n",
        "\\end{cases} (21)\n",
        "$$\n",
        "where $MOE_e(t,n)$ is instantaneous fuel consumption ($l/s$) of vehicle $n$ at time $t$, $L_{i,j}^e$ and $F_{i,j}^e$ are regression model coefficients for MOE `$e$' at speed power `$i$' and acceleration power `$j$', $v_n(t)$ is instantaneous vehicle speed $(km/h)$, and $a_n(t)$ is instantaneous vehicle acceleration ($km/h/s$). <br>\n",
        "As mentioned above, all the vehicles have the same individual periods and cover the same distance during one individual period in stationary states. The speed profiles of any two vehicles in one individual period can coincide with each other. Therefore, we can use average fuel consumption of one vehicle (the first vehicle) to move one unit distance in one individual period to represent the fuel consumption level. Sometimes periods of individuals can be very large. Considering the computation cost, we choose 50 cycle lengths as the upper boundary of individual periods in this study. Because $50$ cycle lengths is a long enough time which only results in small and acceptable error. It means that in this study, if individual periods are less than 50 cycle lengths, we use values in one individual period to calculate the average fuel consumption. Else if periods are larger than 50 cycle lengths, we calculate the average fuel consumption during these 50 cycle lengths.<br>\n",
        "The total fuel consumption  of the first vehicle in one period is the sum of the instantaneous fuel consumption.\n",
        "$$\n",
        "V_1 = \\sum_{t_{step}=\\frac{\\sigma-z}{\\Delta t}}^{t_{step}=\\frac{\\sigma}{\\Delta t}}MOE_e(t_{step} \\Delta t,1)\\Delta t, (22)\n",
        "$$\n",
        "The corresponding distance the vehicle has covered:\n",
        "$$\n",
        "d_1 = x(\\sigma)-x_1(\\sigma-z), (23)\n",
        "$$\n",
        "$$\n",
        "z=\n",
        "\\begin{cases}\n",
        "T_1(N)B, &if\\ T_1(N) \\leq 50\\\\\n",
        "50B, &if\\ T_1(N) > 50\n",
        "\\end{cases} \n",
        "$$\n",
        "where $\\sigma$ is the simulation duration, $T_1(N)$ is the individual period of vehicle $1$ (its unit is cycle length $B$), $N$ is the total number of vehicles in the system (it can represent congestion levels), $\\Delta t$ is the time-step size, $t_{step}$ is time in the unit of time step-size. In order to move a certain distance $d(1)$, the fuel we need is $V(1)$. Thus the quotient of the two represents the fuel required for a car to travel per unit distance.\n",
        "$$\n",
        "\\bar V_1 = \\frac{V_1}{d_1} (36)\n",
        "$$\n",
        "\n",
        "\n",
        "\n",
        "\n",
        "\n"
      ]
    },
    {
      "cell_type": "code",
      "source": [
        "def fuel_consumption(n1,n2,delta_n,L,D,connectivity,G,Y,R,T,tau,t_sim,delta_t,l_n,s_0,v_f,a_0,b,model_id,agg,asl_id):\n",
        "#(n1,n2,loop_start,connectivity,green,cycle_length,yellow,all_red,time_gap,time_step,vehicle_length,s0,freeflow_speed,bounded_acc,bounded_dec,agg,asl_id,model_id,num_timestep):\n",
        "    rho = l_n + s_0; w = rho/(tau); num_t = int(t_sim/delta_t);\n",
        "    fuel = []; density = []; p1 = 3.6 #m/s to km/h; k = 2 #gap\n",
        "    for n in range(n1,n2,1):\n",
        "        i = n - 1; density.append((n*delta_n/L)/(1/rho)); final_fuel = 0; total_fuel = 0\n",
        "        vehicle_state = vehicle_update(L_int,L,D,l_n,s_0,t_sim,T,G,Y,R,delta_t,tau,v_f,a_0,b,n,delta_n,model_id,connectivity,agg,asl_id)\n",
        "        period,individual_average = period_individual(n,delta_n,D,connectivity,G,Y,R,T,vehicle_state,model_id,num_t) #individual period correspongding to that density            \n",
        "        for t in range(int(num_t-1 - period[i] * T), num_t-1):#total fuel consumption for one vehicle\n",
        "            if vehicle_state[i][t,3] >= 0:   \n",
        "                fuel_comsume_sec = math.exp( -7.73452 + 0.22946 * vehicle_state[i][t,3]*p1 - 0.00561 * (vehicle_state[i][t,3]*p1)**2 + 0.000097730 * (vehicle_state[i][t,3]*p1)**3\\\n",
        "                                + 0.02799*vehicle_state[i][t,2]*p1 + 0.0068*(vehicle_state[i][t,2]*p1)*vehicle_state[i][t,3]*p1 - 0.00077221*(vehicle_state[i][t,2]*p1)*(vehicle_state[i][t,3]*p1)**2 + 0.00000838*(vehicle_state[i][t,2]*p1)*(vehicle_state[i][t+1,3]*p1)**3\\\n",
        "                                - 0.0002228*(vehicle_state[i][t,2]*p1)**2 - 0.00004402*(vehicle_state[i][t,2]*p1)**2*vehicle_state[i][t,3]*p1 + 7.9*10**(-7)*(vehicle_state[i][t,2]*p1)**2*(vehicle_state[i][t+1,3]*p1)**2 + 8.17*(10)**(-7)*(vehicle_state[i][t,2]*p1)**2*(vehicle_state[i][t+1,3]*p1)**3\\\n",
        "                                +1.09*(10)**(-6)*(vehicle_state[i][t,2]*p1)**3 + 4.8*(10)**(-8)*(vehicle_state[i][t,2]*p1)**3*vehicle_state[i][t,3]*p1 + 3.27*10**(-8)*(vehicle_state[i][t,2]*p1)**3*(vehicle_state[i][t,3]*p1)**2 + (-7.79)*10**(-9)*(vehicle_state[i][t,2]*p1)**3*(vehicle_state[i][t,3]*p1)**3)\n",
        "\n",
        "            if vehicle_state[i][t,3] < 0:\n",
        "                fuel_comsume_sec = math.exp( -7.73452 - 0.01799 * vehicle_state[i][t,3]*p1 - 0.00427 * (vehicle_state[i][t,3]*p1)**2 + 0.000188290 * (vehicle_state[i][t,3]*p1)**3\\\n",
        "                                +0.02804*vehicle_state[i][t,2]*p1 + 0.00772*(vehicle_state[i][t,2]*p1)*vehicle_state[i][t,3]*p1 + 0.00083744*(vehicle_state[i][t,2]*p1)*(vehicle_state[i][t,3]*p1)**2 - 0.00003387*(vehicle_state[i][t,2]*p1)*(vehicle_state[i][t,3]*p1)**3\\\n",
        "                                - 0.00021988*(vehicle_state[i][t,2]*p1)**2 - 0.00005219*(vehicle_state[i][t,2]*p1)**2*vehicle_state[i][t,3]*p1 - 7.44*10**(-6)*(vehicle_state[i][t,2]*p1)**2*(vehicle_state[i][t,3]*p1)**2 + 2.77*(10)**(-7)*(vehicle_state[i][t,2]*p1)**2*(vehicle_state[i][t,3]*p1)**3\\\n",
        "                                +1.08*(10)**(-6)*(vehicle_state[i][t,2]*p1)**3 + 2.47*(10)**(-7)*(vehicle_state[i][t,2]*p1)**3*vehicle_state[i][t,3]*p1 + 4.87*10**(-8)*(vehicle_state[i][t,2]*p1)**3*(vehicle_state[i][t,3]*p1)**2 + (3.79)*10**(-10)*(vehicle_state[i][t,2]*p1)**3*(vehicle_state[i][t,3]*p1)**3)\n",
        "            total_fuel += delta_t * fuel_comsume_sec #Eq(36)       \n",
        "        car_distance = sum(vehicle_state[i][int(num_t-1 - period[i]*T):int(num_t-1),2])*delta_t #m calculate the distance it has run\n",
        "        fuel_per_m = total_fuel/car_distance; fuel.append(fuel_per_m)  #fuel consumption per meter for one car        \n",
        "        print(\"car_number\",n*delta_n,\"density\",(n*delta_n/L)/(1/rho),\"final_fuel\",fuel[-1],\"period\",period[i],\"MPR\",connectivity,\"ASL\",asl_id, \"ASL area\", D)\n",
        "    return density,fuel,vehicle_state,individual_average"
      ],
      "metadata": {
        "id": "bbnXhzrAEC4i"
      },
      "execution_count": 28,
      "outputs": []
    },
    {
      "cell_type": "code",
      "metadata": {
        "id": "YhBeypUtbKTL"
      },
      "source": [
        "def improvement_rate(n1,n2,delta_n,L,D,G,Y,R,T,tau,t_sim,delta_t,l_n,s_0,v_f,a_0,b,model_id,agg,asl_id):\n",
        "    all_connected = 1; non_connected = 0; ASL = 0; extend_ASL = 1 #connectivity and which ASL algorithm to apply\n",
        "    improvement_rate1 = []; improvement_rate2 = []\n",
        "    #density_con, fuel_con, vehicle_state_con, individual_average_con = fuel_consumption(n1,n2,delta_n,L,D,all_connected,G,Y,R,T,tau,t_sim,delta_t,l_n,s_0,v_f,a_0,b,model_id,agg,ASL)\n",
        "    density_dy, fuel_dy, vehicle_state_dy, individual_average_dy = fuel_consumption(n1,n2,delta_n,L,D,all_connected,G,Y,R,T,tau,t_sim,delta_t,l_n,s_0,v_f,a_0,b,model_id,agg,extend_ASL)\n",
        "    density_non, fuel_non, vehicle_state_non, individual_average_non = fuel_consumption(n1,n2,delta_n,L,D,non_connected,G,Y,R,T,tau,t_sim,delta_t,l_n,s_0,v_f,a_0,b,model_id,agg,extend_ASL)\n",
        "    for i in range(len(density_non)):\n",
        "        if fuel_non[i] > 50: fuel_non[i] = 50 #if error is too large, set 100 to be the upper boundary\n",
        "        #if fuel_con[i] > 50: fuel_con[i] = 50\n",
        "        if fuel_dy[i] > 50: fuel_dy[i] = 50\n",
        "        #improvement_rate1.append((fuel_non[i]-fuel_con[i])/(fuel_non[i]*0.01))\n",
        "        #improvement_rate1.append((fuel_non[i]-fuel_con[i])/(fuel_non[i]*0.01))\n",
        "        improvement_rate2.append((fuel_non[i]-fuel_dy[i])/(fuel_non[i]*0.01))\n",
        "        print(\"density\",density_non[i],\"improvement\",improvement_rate2[i])\n",
        "    return density_non,improvement_rate2,fuel_non,fuel_dy"
      ],
      "execution_count": 29,
      "outputs": []
    },
    {
      "cell_type": "code",
      "metadata": {
        "colab": {
          "base_uri": "https://localhost:8080/"
        },
        "id": "zxElUyB4dHEl",
        "outputId": "e35e374f-4c43-46f0-bd8c-77cb6a687adb"
      },
      "source": [
        "tau = 1.5; delta_t = 1.5; t_sim = 7200; num_t = int(t_sim/delta_t)\n",
        "R = int(30/delta_t); G = int(24/delta_t); Y = int(6/delta_t); T = G + Y + R\n",
        "v_f = 12; a_0 = 1.5; b = 3;\n",
        "l_n = 5; s_0 = 2; rho = l_n + s_0; L = T * v_f * delta_t;  w = rho/tau; D = 300 #m\n",
        "delta_n = 1\n",
        "n1 = 2; n2 = 101; model_id =  3\n",
        "non_connected = 0; all_connected = 1; aggressive = 1; asl_id = 1\n",
        "\n",
        "density_non,improvement2,fuel_dy,fuel_non = improvement_rate(n1,n2,delta_n,L,D,G,Y,R,T,tau,t_sim,delta_t,l_n,s_0,v_f,a_0,b,model_id,aggressive,asl_id)\n",
        "    "
      ],
      "execution_count": 45,
      "outputs": [
        {
          "output_type": "stream",
          "name": "stderr",
          "text": [
            "/usr/local/lib/python3.7/dist-packages/ipykernel_launcher.py:27: RuntimeWarning: invalid value encountered in double_scalars\n"
          ]
        },
        {
          "output_type": "stream",
          "name": "stdout",
          "text": [
            "car_number 2 density 0.019444444444444445 final_fuel 8.799950111340409e-05 period [1.] MPR 1 ASL 1 ASL area 300\n",
            "car_number 3 density 0.029166666666666667 final_fuel 8.799950111340409e-05 period [1.] MPR 1 ASL 1 ASL area 300\n",
            "car_number 4 density 0.03888888888888889 final_fuel 8.799950111340409e-05 period [1.] MPR 1 ASL 1 ASL area 300\n",
            "car_number 5 density 0.04861111111111111 final_fuel 8.799950111340409e-05 period [1.] MPR 1 ASL 1 ASL area 300\n",
            "car_number 6 density 0.058333333333333334 final_fuel 8.799950111340409e-05 period [1.] MPR 1 ASL 1 ASL area 300\n",
            "car_number 7 density 0.06805555555555556 final_fuel 8.799950111340409e-05 period [1.] MPR 1 ASL 1 ASL area 300\n",
            "car_number 8 density 0.07777777777777778 final_fuel 8.799950111340409e-05 period [1.] MPR 1 ASL 1 ASL area 300\n",
            "car_number 9 density 0.08750000000000001 final_fuel 8.799950111340409e-05 period [1.] MPR 1 ASL 1 ASL area 300\n",
            "car_number 10 density 0.09722222222222222 final_fuel 8.799950111340409e-05 period [1.] MPR 1 ASL 1 ASL area 300\n",
            "car_number 11 density 0.10694444444444445 final_fuel 8.799950111340409e-05 period [1.] MPR 1 ASL 1 ASL area 300\n",
            "car_number 12 density 0.11666666666666667 final_fuel 8.799950111340409e-05 period [1.] MPR 1 ASL 1 ASL area 300\n",
            "car_number 13 density 0.12638888888888888 final_fuel 8.799950111340409e-05 period [1.] MPR 1 ASL 1 ASL area 300\n",
            "car_number 14 density 0.13611111111111113 final_fuel 8.799950111340409e-05 period [1.] MPR 1 ASL 1 ASL area 300\n",
            "car_number 15 density 0.14583333333333334 final_fuel 0.00010213378801002147 period [15.] MPR 1 ASL 1 ASL area 300\n",
            "car_number 16 density 0.15555555555555556 final_fuel 0.00010664210830588912 period [8.] MPR 1 ASL 1 ASL area 300\n",
            "car_number 17 density 0.16527777777777777 final_fuel 0.00011174068342283078 period [17.] MPR 1 ASL 1 ASL area 300\n",
            "car_number 18 density 0.17500000000000002 final_fuel 0.00011645876146721083 period [9.] MPR 1 ASL 1 ASL area 300\n",
            "car_number 19 density 0.18472222222222223 final_fuel 0.00011942040471293469 period [19.] MPR 1 ASL 1 ASL area 300\n",
            "car_number 20 density 0.19444444444444445 final_fuel 0.00012389193031912165 period [10.] MPR 1 ASL 1 ASL area 300\n",
            "car_number 21 density 0.2041666666666667 final_fuel 0.00012523978943892214 period [3.] MPR 1 ASL 1 ASL area 300\n",
            "car_number 22 density 0.2138888888888889 final_fuel 0.0001288036649124938 period [11.] MPR 1 ASL 1 ASL area 300\n",
            "car_number 23 density 0.2236111111111111 final_fuel 0.0001327635371596782 period [23.] MPR 1 ASL 1 ASL area 300\n",
            "car_number 24 density 0.23333333333333334 final_fuel 0.00013687633117227674 period [12.] MPR 1 ASL 1 ASL area 300\n",
            "car_number 25 density 0.24305555555555558 final_fuel 0.0001382207049660296 period [50.] MPR 1 ASL 1 ASL area 300\n",
            "car_number 26 density 0.25277777777777777 final_fuel 0.00013967815443630236 period [13.] MPR 1 ASL 1 ASL area 300\n",
            "car_number 27 density 0.2625 final_fuel 0.00014332928823800612 period [27.] MPR 1 ASL 1 ASL area 300\n",
            "car_number 28 density 0.27222222222222225 final_fuel 0.00014963588521562296 period [2.] MPR 1 ASL 1 ASL area 300\n",
            "car_number 29 density 0.2819444444444445 final_fuel 0.0001484428706964446 period [29.] MPR 1 ASL 1 ASL area 300\n",
            "car_number 30 density 0.2916666666666667 final_fuel 0.00015104011371250907 period [15.] MPR 1 ASL 1 ASL area 300\n",
            "car_number 31 density 0.30138888888888893 final_fuel 0.00015364755551720534 period [31.] MPR 1 ASL 1 ASL area 300\n",
            "car_number 32 density 0.3111111111111111 final_fuel 0.00015590061829151778 period [16.] MPR 1 ASL 1 ASL area 300\n",
            "car_number 33 density 0.3208333333333333 final_fuel 0.00015905708482890182 period [33.] MPR 1 ASL 1 ASL area 300\n",
            "car_number 34 density 0.33055555555555555 final_fuel 0.0001613229906184716 period [17.] MPR 1 ASL 1 ASL area 300\n",
            "car_number 35 density 0.3402777777777778 final_fuel 0.00016280042442734196 period [5.] MPR 1 ASL 1 ASL area 300\n",
            "car_number 36 density 0.35000000000000003 final_fuel 0.00016556007893375938 period [18.] MPR 1 ASL 1 ASL area 300\n",
            "car_number 37 density 0.3597222222222222 final_fuel 0.00016832641955806372 period [37.] MPR 1 ASL 1 ASL area 300\n",
            "car_number 38 density 0.36944444444444446 final_fuel 0.00016991513331883807 period [19.] MPR 1 ASL 1 ASL area 300\n",
            "car_number 39 density 0.3791666666666667 final_fuel 0.00017255447646244795 period [39.] MPR 1 ASL 1 ASL area 300\n",
            "car_number 40 density 0.3888888888888889 final_fuel 0.0001753668278592061 period [20.] MPR 1 ASL 1 ASL area 300\n",
            "car_number 41 density 0.39861111111111114 final_fuel 0.00017837938070389795 period [41.] MPR 1 ASL 1 ASL area 300\n",
            "car_number 42 density 0.4083333333333334 final_fuel 0.0001801418153890625 period [3.] MPR 1 ASL 1 ASL area 300\n",
            "car_number 43 density 0.4180555555555556 final_fuel 0.0001826993311886386 period [43.] MPR 1 ASL 1 ASL area 300\n",
            "car_number 44 density 0.4277777777777778 final_fuel 0.00018537443363062235 period [22.] MPR 1 ASL 1 ASL area 300\n",
            "car_number 45 density 0.4375 final_fuel 0.00018865577558772973 period [45.] MPR 1 ASL 1 ASL area 300\n",
            "car_number 46 density 0.4472222222222222 final_fuel 0.00019036176961450836 period [23.] MPR 1 ASL 1 ASL area 300\n",
            "car_number 47 density 0.4569444444444445 final_fuel 0.00019310478604923898 period [47.] MPR 1 ASL 1 ASL area 300\n",
            "car_number 48 density 0.4666666666666667 final_fuel 0.00019605576942582738 period [24.] MPR 1 ASL 1 ASL area 300\n",
            "car_number 49 density 0.47638888888888886 final_fuel 0.0001990609608386855 period [7.] MPR 1 ASL 1 ASL area 300\n",
            "car_number 50 density 0.48611111111111116 final_fuel 0.0002009227168811111 period [25.] MPR 1 ASL 1 ASL area 300\n",
            "car_number 51 density 0.49583333333333335 final_fuel 0.00020426726965536884 period [50.] MPR 1 ASL 1 ASL area 300\n",
            "car_number 52 density 0.5055555555555555 final_fuel 0.00020622914220498755 period [26.] MPR 1 ASL 1 ASL area 300\n",
            "car_number 53 density 0.5152777777777778 final_fuel 0.00020935830269265998 period [50.] MPR 1 ASL 1 ASL area 300\n",
            "car_number 54 density 0.525 final_fuel 0.00021261037482861586 period [27.] MPR 1 ASL 1 ASL area 300\n",
            "car_number 55 density 0.5347222222222223 final_fuel 0.0002134165641089963 period [50.] MPR 1 ASL 1 ASL area 300\n",
            "car_number 56 density 0.5444444444444445 final_fuel 0.00021636923999873194 period [4.] MPR 1 ASL 1 ASL area 300\n",
            "car_number 57 density 0.5541666666666667 final_fuel 0.00021936147422923206 period [50.] MPR 1 ASL 1 ASL area 300\n",
            "car_number 58 density 0.563888888888889 final_fuel 0.0002225474327283177 period [29.] MPR 1 ASL 1 ASL area 300\n",
            "car_number 59 density 0.5736111111111112 final_fuel 0.0002241230843449235 period [50.] MPR 1 ASL 1 ASL area 300\n",
            "car_number 60 density 0.5833333333333334 final_fuel 0.00023604408843176647 period [40.] MPR 1 ASL 1 ASL area 300\n",
            "car_number 61 density 0.5930555555555557 final_fuel 0.00024161958501667802 period [50.] MPR 1 ASL 1 ASL area 300\n",
            "car_number 62 density 0.6027777777777779 final_fuel 0.00024999824444576184 period [50.] MPR 1 ASL 1 ASL area 300\n",
            "car_number 63 density 0.6125 final_fuel 0.00026120668220981375 period [50.] MPR 1 ASL 1 ASL area 300\n",
            "car_number 64 density 0.6222222222222222 final_fuel 0.00026115650582545457 period [50.] MPR 1 ASL 1 ASL area 300\n",
            "car_number 65 density 0.6319444444444444 final_fuel 0.00027233627106019624 period [50.] MPR 1 ASL 1 ASL area 300\n",
            "car_number 66 density 0.6416666666666666 final_fuel 0.00027990102444738996 period [50.] MPR 1 ASL 1 ASL area 300\n",
            "car_number 67 density 0.6513888888888889 final_fuel 0.0002878365069102066 period [50.] MPR 1 ASL 1 ASL area 300\n",
            "car_number 68 density 0.6611111111111111 final_fuel 0.0002979106345401042 period [50.] MPR 1 ASL 1 ASL area 300\n",
            "car_number 69 density 0.6708333333333334 final_fuel 0.0003032994686039791 period [50.] MPR 1 ASL 1 ASL area 300\n",
            "car_number 70 density 0.6805555555555556 final_fuel 0.00031266190671292105 period [50.] MPR 1 ASL 1 ASL area 300\n",
            "car_number 71 density 0.6902777777777778 final_fuel 0.0003276296334140804 period [50.] MPR 1 ASL 1 ASL area 300\n",
            "car_number 72 density 0.7000000000000001 final_fuel 0.0003334085933283613 period [50.] MPR 1 ASL 1 ASL area 300\n",
            "car_number 73 density 0.7097222222222223 final_fuel 0.0003517015918911604 period [50.] MPR 1 ASL 1 ASL area 300\n",
            "car_number 74 density 0.7194444444444444 final_fuel 0.0003651266970920462 period [50.] MPR 1 ASL 1 ASL area 300\n",
            "car_number 75 density 0.7291666666666667 final_fuel 0.0003740788311434309 period [50.] MPR 1 ASL 1 ASL area 300\n",
            "car_number 76 density 0.7388888888888889 final_fuel 0.0003921509711742193 period [50.] MPR 1 ASL 1 ASL area 300\n",
            "car_number 77 density 0.7486111111111111 final_fuel 0.0004110498909053546 period [50.] MPR 1 ASL 1 ASL area 300\n",
            "car_number 78 density 0.7583333333333334 final_fuel 0.00042660283758268685 period [50.] MPR 1 ASL 1 ASL area 300\n",
            "car_number 79 density 0.7680555555555556 final_fuel 0.0004457596724951391 period [50.] MPR 1 ASL 1 ASL area 300\n",
            "car_number 80 density 0.7777777777777778 final_fuel 0.00046836463795640936 period [50.] MPR 1 ASL 1 ASL area 300\n",
            "car_number 81 density 0.7875000000000001 final_fuel 0.0004886485559216674 period [50.] MPR 1 ASL 1 ASL area 300\n",
            "car_number 82 density 0.7972222222222223 final_fuel 0.0005131858373568354 period [50.] MPR 1 ASL 1 ASL area 300\n",
            "car_number 83 density 0.8069444444444446 final_fuel 0.0005402762518985801 period [50.] MPR 1 ASL 1 ASL area 300\n",
            "car_number 84 density 0.8166666666666668 final_fuel 0.0005669434054835312 period [50.] MPR 1 ASL 1 ASL area 300\n",
            "car_number 85 density 0.826388888888889 final_fuel 0.0005988053152284873 period [50.] MPR 1 ASL 1 ASL area 300\n",
            "car_number 86 density 0.8361111111111112 final_fuel 0.0006377771745349276 period [50.] MPR 1 ASL 1 ASL area 300\n",
            "car_number 87 density 0.8458333333333334 final_fuel 0.0006794107969328976 period [50.] MPR 1 ASL 1 ASL area 300\n",
            "car_number 88 density 0.8555555555555556 final_fuel 0.0007206495557504413 period [50.] MPR 1 ASL 1 ASL area 300\n",
            "car_number 89 density 0.8652777777777778 final_fuel 0.0007898330205253082 period [50.] MPR 1 ASL 1 ASL area 300\n",
            "car_number 90 density 0.875 final_fuel 0.0008458080792648592 period [50.] MPR 1 ASL 1 ASL area 300\n",
            "car_number 91 density 0.8847222222222222 final_fuel 0.0009233053741087062 period [50.] MPR 1 ASL 1 ASL area 300\n",
            "car_number 92 density 0.8944444444444444 final_fuel 0.001003121169152517 period [50.] MPR 1 ASL 1 ASL area 300\n",
            "car_number 93 density 0.9041666666666668 final_fuel 0.0011168413185426137 period [50.] MPR 1 ASL 1 ASL area 300\n",
            "car_number 94 density 0.913888888888889 final_fuel 0.0012308078546332103 period [50.] MPR 1 ASL 1 ASL area 300\n",
            "car_number 95 density 0.9236111111111112 final_fuel 0.0013774531429525069 period [50.] MPR 1 ASL 1 ASL area 300\n",
            "car_number 96 density 0.9333333333333333 final_fuel 0.0016119911002302166 period [50.] MPR 1 ASL 1 ASL area 300\n",
            "car_number 97 density 0.9430555555555555 final_fuel 0.0018780160042808005 period [50.] MPR 1 ASL 1 ASL area 300\n",
            "car_number 98 density 0.9527777777777777 final_fuel 0.002244828675158031 period [50.] MPR 1 ASL 1 ASL area 300\n",
            "car_number 99 density 0.9625000000000001 final_fuel 0.0028102667865060253 period [50.] MPR 1 ASL 1 ASL area 300\n",
            "car_number 100 density 0.9722222222222223 final_fuel 0.003798397325666632 period [50.] MPR 1 ASL 1 ASL area 300\n",
            "car_number 2 density 0.019444444444444445 final_fuel 8.799950111340409e-05 period [1.] MPR 0 ASL 1 ASL area 300\n",
            "car_number 3 density 0.029166666666666667 final_fuel 8.799950111340409e-05 period [1.] MPR 0 ASL 1 ASL area 300\n",
            "car_number 4 density 0.03888888888888889 final_fuel 8.799950111340409e-05 period [1.] MPR 0 ASL 1 ASL area 300\n",
            "car_number 5 density 0.04861111111111111 final_fuel 8.799950111340409e-05 period [1.] MPR 0 ASL 1 ASL area 300\n",
            "car_number 6 density 0.058333333333333334 final_fuel 8.799950111340409e-05 period [1.] MPR 0 ASL 1 ASL area 300\n",
            "car_number 7 density 0.06805555555555556 final_fuel 8.799950111340409e-05 period [1.] MPR 0 ASL 1 ASL area 300\n",
            "car_number 8 density 0.07777777777777778 final_fuel 8.799950111340409e-05 period [1.] MPR 0 ASL 1 ASL area 300\n",
            "car_number 9 density 0.08750000000000001 final_fuel 8.799950111340409e-05 period [1.] MPR 0 ASL 1 ASL area 300\n",
            "car_number 10 density 0.09722222222222222 final_fuel 8.799950111340409e-05 period [1.] MPR 0 ASL 1 ASL area 300\n",
            "car_number 11 density 0.10694444444444445 final_fuel 8.799950111340409e-05 period [1.] MPR 0 ASL 1 ASL area 300\n",
            "car_number 12 density 0.11666666666666667 final_fuel 8.799950111340409e-05 period [1.] MPR 0 ASL 1 ASL area 300\n",
            "car_number 13 density 0.12638888888888888 final_fuel 8.799950111340409e-05 period [1.] MPR 0 ASL 1 ASL area 300\n",
            "car_number 14 density 0.13611111111111113 final_fuel 0.00010462084828624746 period [14.] MPR 0 ASL 1 ASL area 300\n",
            "car_number 15 density 0.14583333333333334 final_fuel 0.00011542846722356109 period [15.] MPR 0 ASL 1 ASL area 300\n",
            "car_number 16 density 0.15555555555555556 final_fuel 0.00012442492568614917 period [16.] MPR 0 ASL 1 ASL area 300\n",
            "car_number 17 density 0.16527777777777777 final_fuel 0.0001328200350018048 period [17.] MPR 0 ASL 1 ASL area 300\n",
            "car_number 18 density 0.17500000000000002 final_fuel 0.00013780339010007752 period [18.] MPR 0 ASL 1 ASL area 300\n",
            "car_number 19 density 0.18472222222222223 final_fuel 0.0001432960559027665 period [19.] MPR 0 ASL 1 ASL area 300\n",
            "car_number 20 density 0.19444444444444445 final_fuel 0.00014895587257885494 period [20.] MPR 0 ASL 1 ASL area 300\n",
            "car_number 21 density 0.2041666666666667 final_fuel 0.00015398813909400831 period [21.] MPR 0 ASL 1 ASL area 300\n",
            "car_number 22 density 0.2138888888888889 final_fuel 0.00016063256098502099 period [22.] MPR 0 ASL 1 ASL area 300\n",
            "car_number 23 density 0.2236111111111111 final_fuel 0.00016469929427374586 period [23.] MPR 0 ASL 1 ASL area 300\n",
            "car_number 24 density 0.23333333333333334 final_fuel 0.0001699737829680188 period [24.] MPR 0 ASL 1 ASL area 300\n",
            "car_number 25 density 0.24305555555555558 final_fuel 0.00017585558076888902 period [25.] MPR 0 ASL 1 ASL area 300\n",
            "car_number 26 density 0.25277777777777777 final_fuel 0.00018277763096866153 period [2.] MPR 0 ASL 1 ASL area 300\n",
            "car_number 27 density 0.2625 final_fuel 0.0001863035576084859 period [27.] MPR 0 ASL 1 ASL area 300\n",
            "car_number 28 density 0.27222222222222225 final_fuel 0.00019142519223558238 period [28.] MPR 0 ASL 1 ASL area 300\n",
            "car_number 29 density 0.2819444444444445 final_fuel 0.00020645941816969303 period [29.] MPR 0 ASL 1 ASL area 300\n",
            "car_number 30 density 0.2916666666666667 final_fuel 0.00022379749067324818 period [30.] MPR 0 ASL 1 ASL area 300\n",
            "car_number 31 density 0.30138888888888893 final_fuel 0.0002346926612843662 period [31.] MPR 0 ASL 1 ASL area 300\n",
            "car_number 32 density 0.3111111111111111 final_fuel 0.0002454896514260523 period [32.] MPR 0 ASL 1 ASL area 300\n",
            "car_number 33 density 0.3208333333333333 final_fuel 0.0002507051989256236 period [33.] MPR 0 ASL 1 ASL area 300\n",
            "car_number 34 density 0.33055555555555555 final_fuel 0.00025639399817381335 period [34.] MPR 0 ASL 1 ASL area 300\n",
            "car_number 35 density 0.3402777777777778 final_fuel 0.0002625354980929983 period [35.] MPR 0 ASL 1 ASL area 300\n",
            "car_number 36 density 0.35000000000000003 final_fuel 0.0002671568988966873 period [36.] MPR 0 ASL 1 ASL area 300\n",
            "car_number 37 density 0.3597222222222222 final_fuel 0.000272645796559144 period [37.] MPR 0 ASL 1 ASL area 300\n",
            "car_number 38 density 0.36944444444444446 final_fuel 0.0002780948412415006 period [38.] MPR 0 ASL 1 ASL area 300\n",
            "car_number 39 density 0.3791666666666667 final_fuel 0.00028458119735143387 period [3.] MPR 0 ASL 1 ASL area 300\n",
            "car_number 40 density 0.3888888888888889 final_fuel 0.0002895326938183454 period [40.] MPR 0 ASL 1 ASL area 300\n",
            "car_number 41 density 0.39861111111111114 final_fuel 0.00029391583969869464 period [41.] MPR 0 ASL 1 ASL area 300\n",
            "car_number 42 density 0.4083333333333334 final_fuel 0.000299256513261512 period [42.] MPR 0 ASL 1 ASL area 300\n",
            "car_number 43 density 0.4180555555555556 final_fuel 0.00030575148891048495 period [43.] MPR 0 ASL 1 ASL area 300\n",
            "car_number 44 density 0.4277777777777778 final_fuel 0.00031014225329194337 period [44.] MPR 0 ASL 1 ASL area 300\n",
            "car_number 45 density 0.4375 final_fuel 0.00032827744778193114 period [45.] MPR 0 ASL 1 ASL area 300\n",
            "car_number 46 density 0.4472222222222222 final_fuel 0.0003434031797529148 period [46.] MPR 0 ASL 1 ASL area 300\n",
            "car_number 47 density 0.4569444444444445 final_fuel 0.00035417490538473427 period [47.] MPR 0 ASL 1 ASL area 300\n",
            "car_number 48 density 0.4666666666666667 final_fuel 0.00036300807364277607 period [48.] MPR 0 ASL 1 ASL area 300\n",
            "car_number 49 density 0.47638888888888886 final_fuel 0.0003693059132678468 period [49.] MPR 0 ASL 1 ASL area 300\n",
            "car_number 50 density 0.48611111111111116 final_fuel 0.0003763628013294288 period [50.] MPR 0 ASL 1 ASL area 300\n",
            "car_number 51 density 0.49583333333333335 final_fuel 0.00037900809000241515 period [50.] MPR 0 ASL 1 ASL area 300\n",
            "car_number 52 density 0.5055555555555555 final_fuel 0.00038573469288178693 period [4.] MPR 0 ASL 1 ASL area 300\n",
            "car_number 53 density 0.5152777777777778 final_fuel 0.0003932139690289453 period [50.] MPR 0 ASL 1 ASL area 300\n",
            "car_number 54 density 0.525 final_fuel 0.0003969080638328012 period [50.] MPR 0 ASL 1 ASL area 300\n",
            "car_number 55 density 0.5347222222222223 final_fuel 0.0004019766996841008 period [50.] MPR 0 ASL 1 ASL area 300\n",
            "car_number 56 density 0.5444444444444445 final_fuel 0.0004119362518200125 period [50.] MPR 0 ASL 1 ASL area 300\n",
            "car_number 57 density 0.5541666666666667 final_fuel 0.0004080922189016993 period [50.] MPR 0 ASL 1 ASL area 300\n",
            "car_number 58 density 0.563888888888889 final_fuel 0.0004191402435173599 period [50.] MPR 0 ASL 1 ASL area 300\n",
            "car_number 59 density 0.5736111111111112 final_fuel 0.00042401511787387323 period [50.] MPR 0 ASL 1 ASL area 300\n",
            "car_number 60 density 0.5833333333333334 final_fuel 0.0004352315557434677 period [50.] MPR 0 ASL 1 ASL area 300\n",
            "car_number 61 density 0.5930555555555557 final_fuel 0.00047117419515999286 period [50.] MPR 0 ASL 1 ASL area 300\n",
            "car_number 62 density 0.6027777777777779 final_fuel 0.0004855281370437671 period [50.] MPR 0 ASL 1 ASL area 300\n",
            "car_number 63 density 0.6125 final_fuel 0.0004725867954397242 period [50.] MPR 0 ASL 1 ASL area 300\n",
            "car_number 64 density 0.6222222222222222 final_fuel 0.00045513702101324636 period [50.] MPR 0 ASL 1 ASL area 300\n",
            "car_number 65 density 0.6319444444444444 final_fuel 0.00043905622079596566 period [50.] MPR 0 ASL 1 ASL area 300\n",
            "car_number 66 density 0.6416666666666666 final_fuel 0.00045176635300049975 period [11.] MPR 0 ASL 1 ASL area 300\n",
            "car_number 67 density 0.6513888888888889 final_fuel 0.0004171313230056305 period [50.] MPR 0 ASL 1 ASL area 300\n",
            "car_number 68 density 0.6611111111111111 final_fuel 0.00042582864161961345 period [50.] MPR 0 ASL 1 ASL area 300\n",
            "car_number 69 density 0.6708333333333334 final_fuel 0.0004395026874070253 period [50.] MPR 0 ASL 1 ASL area 300\n",
            "car_number 70 density 0.6805555555555556 final_fuel 0.0004471870608567509 period [50.] MPR 0 ASL 1 ASL area 300\n",
            "car_number 71 density 0.6902777777777778 final_fuel 0.0004583410166474385 period [50.] MPR 0 ASL 1 ASL area 300\n",
            "car_number 72 density 0.7000000000000001 final_fuel 0.0004683664847363181 period [50.] MPR 0 ASL 1 ASL area 300\n",
            "car_number 73 density 0.7097222222222223 final_fuel 0.0004810224722953352 period [50.] MPR 0 ASL 1 ASL area 300\n",
            "car_number 74 density 0.7194444444444444 final_fuel 0.0004979939782723641 period [50.] MPR 0 ASL 1 ASL area 300\n",
            "car_number 75 density 0.7291666666666667 final_fuel 0.0005130278952520074 period [50.] MPR 0 ASL 1 ASL area 300\n",
            "car_number 76 density 0.7388888888888889 final_fuel 0.0005296501299865128 period [50.] MPR 0 ASL 1 ASL area 300\n",
            "car_number 77 density 0.7486111111111111 final_fuel 0.0005458780160491899 period [50.] MPR 0 ASL 1 ASL area 300\n",
            "car_number 78 density 0.7583333333333334 final_fuel 0.0005673205386347229 period [50.] MPR 0 ASL 1 ASL area 300\n",
            "car_number 79 density 0.7680555555555556 final_fuel 0.0005902080270495293 period [50.] MPR 0 ASL 1 ASL area 300\n",
            "car_number 80 density 0.7777777777777778 final_fuel 0.0006128914261535381 period [50.] MPR 0 ASL 1 ASL area 300\n",
            "car_number 81 density 0.7875000000000001 final_fuel 0.0006367229174998329 period [50.] MPR 0 ASL 1 ASL area 300\n",
            "car_number 82 density 0.7972222222222223 final_fuel 0.000654715008452172 period [50.] MPR 0 ASL 1 ASL area 300\n",
            "car_number 83 density 0.8069444444444446 final_fuel 0.0006809924306465036 period [50.] MPR 0 ASL 1 ASL area 300\n",
            "car_number 84 density 0.8166666666666668 final_fuel 0.0007066790790408021 period [50.] MPR 0 ASL 1 ASL area 300\n",
            "car_number 85 density 0.826388888888889 final_fuel 0.000736507272520264 period [50.] MPR 0 ASL 1 ASL area 300\n",
            "car_number 86 density 0.8361111111111112 final_fuel 0.0007807353448421925 period [50.] MPR 0 ASL 1 ASL area 300\n",
            "car_number 87 density 0.8458333333333334 final_fuel 0.0008307963472003363 period [50.] MPR 0 ASL 1 ASL area 300\n",
            "car_number 88 density 0.8555555555555556 final_fuel 0.0008744736915920831 period [50.] MPR 0 ASL 1 ASL area 300\n",
            "car_number 89 density 0.8652777777777778 final_fuel 0.0009423133005423057 period [50.] MPR 0 ASL 1 ASL area 300\n",
            "car_number 90 density 0.875 final_fuel 0.001013015676709667 period [50.] MPR 0 ASL 1 ASL area 300\n",
            "car_number 91 density 0.8847222222222222 final_fuel 0.0010771582559008952 period [50.] MPR 0 ASL 1 ASL area 300\n",
            "car_number 92 density 0.8944444444444444 final_fuel 0.0011533048159196248 period [50.] MPR 0 ASL 1 ASL area 300\n",
            "car_number 93 density 0.9041666666666668 final_fuel 0.0012453974528057856 period [50.] MPR 0 ASL 1 ASL area 300\n",
            "car_number 94 density 0.913888888888889 final_fuel 0.0013841628478450522 period [50.] MPR 0 ASL 1 ASL area 300\n",
            "car_number 95 density 0.9236111111111112 final_fuel 0.0015380902595797474 period [50.] MPR 0 ASL 1 ASL area 300\n",
            "car_number 96 density 0.9333333333333333 final_fuel 0.0017575466284870743 period [50.] MPR 0 ASL 1 ASL area 300\n",
            "car_number 97 density 0.9430555555555555 final_fuel 0.0020046840209298647 period [50.] MPR 0 ASL 1 ASL area 300\n",
            "car_number 98 density 0.9527777777777777 final_fuel 0.0023824505999421822 period [50.] MPR 0 ASL 1 ASL area 300\n",
            "car_number 99 density 0.9625000000000001 final_fuel 0.0029701605583149875 period [50.] MPR 0 ASL 1 ASL area 300\n",
            "car_number 100 density 0.9722222222222223 final_fuel 0.00397966280851972 period [50.] MPR 0 ASL 1 ASL area 300\n",
            "density 0.019444444444444445 improvement 0.0\n",
            "density 0.029166666666666667 improvement 0.0\n",
            "density 0.03888888888888889 improvement 0.0\n",
            "density 0.04861111111111111 improvement 0.0\n",
            "density 0.058333333333333334 improvement 0.0\n",
            "density 0.06805555555555556 improvement 0.0\n",
            "density 0.07777777777777778 improvement 0.0\n",
            "density 0.08750000000000001 improvement 0.0\n",
            "density 0.09722222222222222 improvement 0.0\n",
            "density 0.10694444444444445 improvement 0.0\n",
            "density 0.11666666666666667 improvement 0.0\n",
            "density 0.12638888888888888 improvement 0.0\n",
            "density 0.13611111111111113 improvement 15.887222714316557\n",
            "density 0.14583333333333334 improvement 11.517678033262428\n",
            "density 0.15555555555555556 improvement 14.292005626843311\n",
            "density 0.16527777777777777 improvement 15.870611371761495\n",
            "density 0.17500000000000002 improvement 15.489189792330572\n",
            "density 0.18472222222222223 improvement 16.661764372658393\n",
            "density 0.19444444444444445 improvement 16.82642102375979\n",
            "density 0.2041666666666667 improvement 18.66919739677845\n",
            "density 0.2138888888888889 improvement 19.814722418261905\n",
            "density 0.2236111111111111 improvement 19.3903424145749\n",
            "density 0.23333333333333334 improvement 19.472092235524034\n",
            "density 0.24305555555555558 improvement 21.401013057594977\n",
            "density 0.25277777777777777 improvement 23.58027965673156\n",
            "density 0.2625 improvement 23.066800184669347\n",
            "density 0.27222222222222225 improvement 21.830620375467785\n",
            "density 0.2819444444444445 improvement 28.100702785844096\n",
            "density 0.2916666666666667 improvement 32.51036315995487\n",
            "density 0.30138888888888893 improvement 34.53244141663308\n",
            "density 0.3111111111111111 improvement 36.49401618932235\n",
            "density 0.3208333333333333 improvement 36.5561282691672\n",
            "density 0.33055555555555555 improvement 37.08004408546712\n",
            "density 0.3402777777777778 improvement 37.98917646951006\n",
            "density 0.35000000000000003 improvement 38.028896271256905\n",
            "density 0.3597222222222222 improvement 38.261868812069025\n",
            "density 0.36944444444444446 improvement 38.90029295031694\n",
            "density 0.3791666666666667 improvement 39.36546825004827\n",
            "density 0.3888888888888889 improvement 39.43107925171576\n",
            "density 0.39861111111111114 improvement 39.309367985487924\n",
            "density 0.4083333333333334 improvement 39.80354398113248\n",
            "density 0.4180555555555556 improvement 40.24580817589164\n",
            "density 0.4277777777777778 improvement 40.22922331188278\n",
            "density 0.4375 improvement 42.5316064620283\n",
            "density 0.4472222222222222 improvement 44.566101644289574\n",
            "density 0.4569444444444445 improvement 45.47756401897743\n",
            "density 0.4666666666666667 improvement 45.99134739389868\n",
            "density 0.47638888888888886 improvement 46.09862618302773\n",
            "density 0.48611111111111116 improvement 46.6146186149666\n",
            "density 0.49583333333333335 improvement 46.104773211023755\n",
            "density 0.5055555555555555 improvement 46.53601399856741\n",
            "density 0.5152777777777778 improvement 46.75715534479176\n",
            "density 0.525 improvement 46.4333445948383\n",
            "density 0.5347222222222223 improvement 46.90822520889574\n",
            "density 0.5444444444444445 improvement 47.47506706613667\n",
            "density 0.5541666666666667 improvement 46.247082382604425\n",
            "density 0.563888888888889 improvement 46.903826065296386\n",
            "density 0.5736111111111112 improvement 47.14266664152509\n",
            "density 0.5833333333333334 improvement 45.76586065122204\n",
            "density 0.5930555555555557 improvement 48.71969061577467\n",
            "density 0.6027777777777779 improvement 48.510039816039296\n",
            "density 0.6125 improvement 44.72831557496845\n",
            "density 0.6222222222222222 improvement 42.62024538367451\n",
            "density 0.6319444444444444 improvement 37.97234655587446\n",
            "density 0.6416666666666666 improvement 38.04296787745051\n",
            "density 0.6513888888888889 improvement 30.996189680456734\n",
            "density 0.6611111111111111 improvement 30.03978468732889\n",
            "density 0.6708333333333334 improvement 30.990303974389086\n",
            "density 0.6805555555555556 improvement 30.082523829311505\n",
            "density 0.6902777777777778 improvement 28.518369180540276\n",
            "density 0.7000000000000001 improvement 28.814591950134016\n",
            "density 0.7097222222222223 improvement 26.884581875579237\n",
            "density 0.7194444444444444 improvement 26.680499559705478\n",
            "density 0.7291666666666667 improvement 27.08411480048712\n",
            "density 0.7388888888888889 improvement 25.96037478850327\n",
            "density 0.7486111111111111 improvement 24.699313982207656\n",
            "density 0.7583333333333334 improvement 24.803914448554647\n",
            "density 0.7680555555555556 improvement 24.47414266398453\n",
            "density 0.7777777777777778 improvement 23.581140480976917\n",
            "density 0.7875000000000001 improvement 23.255698437806643\n",
            "density 0.7972222222222223 improvement 21.616912590705557\n",
            "density 0.8069444444444446 improvement 20.66339836029218\n",
            "density 0.8166666666666668 improvement 19.773568753010004\n",
            "density 0.826388888888889 improvement 18.696618815530847\n",
            "density 0.8361111111111112 improvement 18.310708135822978\n",
            "density 0.8458333333333334 improvement 18.221739994113616\n",
            "density 0.8555555555555556 improvement 17.590481831601675\n",
            "density 0.8652777777777778 improvement 16.18148443084104\n",
            "density 0.875 improvement 16.505923974237756\n",
            "density 0.8847222222222222 improvement 14.283219847162776\n",
            "density 0.8944444444444444 improvement 13.022025460576447\n",
            "density 0.9041666666666668 improvement 10.322498570520176\n",
            "density 0.913888888888889 improvement 11.07925945639952\n",
            "density 0.9236111111111112 improvement 10.443933028425228\n",
            "density 0.9333333333333333 improvement 8.281744899260755\n",
            "density 0.9430555555555555 improvement 6.318602599042504\n",
            "density 0.9527777777777777 improvement 5.776485975721431\n",
            "density 0.9625000000000001 improvement 5.383337656994276\n",
            "density 0.9722222222222223 improvement 4.554795005874174\n"
          ]
        }
      ]
    },
    {
      "cell_type": "code",
      "metadata": {
        "colab": {
          "base_uri": "https://localhost:8080/",
          "height": 428
        },
        "id": "A9ANd3ZRdVL8",
        "outputId": "a2e360d9-e189-4338-ae45-83ffb2cfad54"
      },
      "source": [
        "p1 = 0\n",
        "fig = plt.figure(figsize=(7,5),num = 1,dpi = 80)\n",
        "ax1 = fig.add_subplot(1,1,1)\n",
        "ax1.scatter(density_non[p1:n2-n1-1], improvement2[p1:n2-n1-1],color = 'red',marker = '>',s = 6)\n",
        "ax1.legend(); ax1.grid()\n",
        "    \n",
        "ax1.set_xlabel(\"$density\\ (k/k_j)$\")\n",
        "ax1.set_ylabel(\"$reduction (\\%) $\")\n",
        "#plt.xlim(0,1.05)\n",
        "plt.ylim(-1,50)\n",
        "    \n",
        "fp4 = np.polyfit(density_non[p1:n2-n1-1], improvement2[p1:n2-n1-1], 5)\n",
        "f4 = np.poly1d(fp4)\n",
        "fx4 = np.linspace(density_non[p1],density_non[n2-n1-1],n2-n1-1 - p1)\n",
        "ax1.plot(fx4,f4(fx4),linewidth=2,color='g') #,label = \"$U'_n(t)\\ Reduction$\" \n",
        "ax1.legend()"
      ],
      "execution_count": 46,
      "outputs": [
        {
          "output_type": "stream",
          "name": "stderr",
          "text": [
            "No handles with labels found to put in legend.\n",
            "No handles with labels found to put in legend.\n"
          ]
        },
        {
          "output_type": "execute_result",
          "data": {
            "text/plain": [
              "<matplotlib.legend.Legend at 0x7f54694bbb10>"
            ]
          },
          "metadata": {},
          "execution_count": 46
        },
        {
          "output_type": "display_data",
          "data": {
            "text/plain": [
              "<Figure size 560x400 with 1 Axes>"
            ],
            "image/png": "[encoded data removed]"
          },
          "metadata": {
            "needs_background": "light"
          }
        }
      ]
    },
    {
      "cell_type": "markdown",
      "metadata": {
        "id": "nJwTAjPyl7j7"
      },
      "source": [
        "# Starting flow"
      ]
    },
    {
      "cell_type": "code",
      "metadata": {
        "id": "tUGabJgyl6y7"
      },
      "source": [
        "def start_point_flow(n,delta_n,D,L_int,l_n,s_0,t_sim,G,Y,R,T,delta_t,tau,v_f,a_0,b,model_id,connectivity,agg,asl_id):\n",
        "    density = []; loop_flow = []; loop = []\n",
        "    num_t = int(t_sim/delta_t); num_cycle = int(t_sim/(delta_t*T)); L = T*v_f*delta_t; rho = l_n + s_0; C = v_f * w * (1/rho) / (v_f + w)   \n",
        "    global vehicle_state; k = 10 #gap\n",
        "\n",
        "    for loop_start in range(int(L - D),int(L),k):\n",
        "        loop.append(L - loop_start); total_fuel = 0\n",
        "        vehicle_state = vehicle_update(L_int,L,L-loop_start,l_n,s_0,t_sim,T,G,Y,R,delta_t,tau,v_f,a_0,b,n,delta_n,model_id,connectivity,agg,asl_id)\n",
        "        period,average = period_system(n,delta_n,L-loop_start,connectivity,G,Y,R,T,vehicle_state,model_id,num_t)#oeriod correspongding to that density\n",
        "        density = (n*delta_n/(L+L_int))/(1/rho)\n",
        "        system_average = sum(average[num_cycle-int(period):num_cycle,0])/period\n",
        "        loop_flow.append(((n*delta_n/(L+L_int))*system_average)/C)\n",
        "        print(\"car_number\",n*delta_n,\"loop =\",loop[-1],\"flow rate = \",loop_flow[-1],\"ASL\",asl_id,\"connectivity =\",connectivity)\n",
        "\n",
        "    return loop,loop_flow,vehicle_state"
      ],
      "execution_count": 30,
      "outputs": []
    },
    {
      "cell_type": "code",
      "metadata": {
        "id": "ST8NCpfcbXFj"
      },
      "source": [
        "def improvement_rate_flow1(D,delta_n,L_int,l_n,s_0,t_sim,G,Y,R,T,delta_t,tau,v_f,a_0,b,model_id,agg,asl_id):\n",
        "    all_connected = 1; non_connected = 0; n1 = int(20/delta_n); n2 = int(30/delta_n); n3 = int(40/delta_n); n4 = int(50/delta_n); n5 = int(60/delta_n)\n",
        "    improvement_rate1 = []; improvement_rate2 = []; improvement_rate3 = []; improvement_rate4 = []; improvement_rate5 = []; L = T*v_f*delta_t;\n",
        "                                                                \n",
        "    vehicle_state1_0 ,flow_rate1_0,density1_0,period1_0 = nfd_calc(n1,n1+1,delta_n,L_int,L,D,l_n,non_connected,G,Y,R,T,tau,delta_t,t_sim,s_0,v_f,a_0,b,model_id,agg,asl_id)\n",
        "    loop1, loop_flow1, vehicle_state1 = start_point_flow(n1,delta_n,D,L_int,l_n,s_0,t_sim,G,Y,R,T,delta_t,tau,v_f,a_0,b,model_id,all_connected,agg,asl_id)\n",
        "\n",
        "    vehicle_state2_0 ,flow_rate2_0,density2_0,period2_0 = nfd_calc(n2,n2+1,delta_n,L_int,L,D,l_n,non_connected,G,Y,R,T,tau,delta_t,t_sim,s_0,v_f,a_0,b,model_id,agg,asl_id)\n",
        "    loop2, loop_flow2, vehicle_state2 = start_point_flow(n2,delta_n,D,L_int,l_n,s_0,t_sim,G,Y,R,T,delta_t,tau,v_f,a_0,b,model_id,all_connected,agg,asl_id)\n",
        "\n",
        "    vehicle_state3_0 ,flow_rate3_0,density3_0,period3_0 = nfd_calc(n3,n3+1,delta_n,L_int,L,D,l_n,non_connected,G,Y,R,T,tau,delta_t,t_sim,s_0,v_f,a_0,b,model_id,agg,asl_id)\n",
        "    loop3, loop_flow3, vehicle_state3 = start_point_flow(n3,delta_n,D,L_int,l_n,s_0,t_sim,G,Y,R,T,delta_t,tau,v_f,a_0,b,model_id,all_connected,agg,asl_id)\n",
        "\n",
        "    vehicle_state4_0 ,flow_rate4_0,density4_0,period4_0 = nfd_calc(n4,n4+1,delta_n,L_int,L,D,l_n,non_connected,G,Y,R,T,tau,delta_t,t_sim,s_0,v_f,a_0,b,model_id,agg,asl_id)\n",
        "    loop4, loop_flow4, vehicle_state4 = start_point_flow(n4,delta_n,D,L_int,l_n,s_0,t_sim,G,Y,R,T,delta_t,tau,v_f,a_0,b,model_id,all_connected,agg,asl_id)\n",
        "\n",
        "\n",
        "  \n",
        "    for i in range(len(loop1)):\n",
        "        improvement_rate1.append(100*(loop_flow1[i]-flow_rate1_0)/flow_rate1_0)\n",
        "        improvement_rate2.append(100*(loop_flow2[i]-flow_rate2_0)/flow_rate2_0)\n",
        "        improvement_rate3.append(100*(loop_flow3[i]-flow_rate3_0)/flow_rate3_0)\n",
        "        improvement_rate4.append(100*(loop_flow4[i]-flow_rate4_0)/flow_rate4_0)\n",
        "        print(\"loop\",loop1[i],\"improvement1\",improvement_rate1[i],\"improvement2\",improvement_rate2[i],\"improvement3\",improvement_rate3[i],\"improvement4\",improvement_rate4[i])\n",
        "    return loop1,improvement_rate1,improvement_rate2,improvement_rate3,improvement_rate4"
      ],
      "execution_count": 31,
      "outputs": []
    },
    {
      "cell_type": "markdown",
      "metadata": {
        "id": "jixU0PUgmtxR"
      },
      "source": [
        "# Starting fuel"
      ]
    },
    {
      "cell_type": "code",
      "metadata": {
        "id": "PpZhESHimtDh"
      },
      "source": [
        "def start_point_fuel(n,delta_n,D,L_int,l_n,s_0,t_sim,G,Y,R,T,delta_t,tau,v_f,a_0,b,model_id,connectivity,agg,asl_id):\n",
        "            \n",
        "    density = []; fuel = []; loop = []\n",
        "    num_t = int(t_sim/delta_t); num_cycle = int(t_sim/(delta_t*T)); L = T*v_f*delta_t; rho = l_n + s_0; C = v_f*(rho/tau)*(1/rho)/(v_f+(rho/tau)); all_connected = 1;    \n",
        "    global vehicle_state; k = 10 #gap\n",
        "\n",
        "    for loop_start in range(int(L - D),int(L),10):\n",
        "        loop.append(L - loop_start); total_fuel = 0 ##L_int,L,D,l_n,s_0,t_sim,T,G,Y,R,delta_t,tau,v_f,a_0,b,n,delta_n,model_id,con,agg,asl_id\n",
        "        vehicle_state = vehicle_update(L_int,L,L-loop_start,l_n,s_0,t_sim,T,G,Y,R,delta_t,tau,v_f,a_0,b,n,delta_n,model_id,connectivity,agg,asl_id)\n",
        "        density,fuel_0,vehicle_state,individual_average = fuel_consumption(n,n+1,delta_n,L,L-loop_start,all_connected,G,Y,R,T,tau,t_sim,delta_t,l_n,s_0,v_f,a_0,b,model_id,agg,asl_id)#oeriod correspongding to that density\n",
        "        density = (n*delta_n/(L+L_int))/(1/rho)     \n",
        "        fuel.append(fuel_0[0])\n",
        "        #print(\"car_number\",n*delta_n,\"loop =\",loop[-1],\"fuel_reduce \",fuel[-1],\"connectivity =\",connectivity)\n",
        "\n",
        "    return loop,fuel,vehicle_state"
      ],
      "execution_count": 32,
      "outputs": []
    },
    {
      "cell_type": "code",
      "metadata": {
        "id": "57w7ruTan-Zz"
      },
      "source": [
        "def improvement_rate_flow(D,delta_n,L_int,l_n,s_0,t_sim,G,Y,R,T,delta_t,tau,v_f,a_0,b,model_id,agg,asl_id):\n",
        "    L = v_f * T * delta_t\n",
        "    all_connected = 1; non_connected = 0; n1 = int(20/delta_n); n2 = int(30/delta_n); n3 = int(40/delta_n); n4 = int(50/delta_n); n5 = int(60/delta_n); #n5 = int(65/delta_n)\n",
        "    improvement_rate1 = []; improvement_rate2 = []; improvement_rate3 = []; improvement_rate4 = []; improvement_rate5 = []\n",
        "                                                #n1,n2,delta_n,L,D,connectivity,G,Y,R,T,tau,t_sim,delta_t,l_n,s_0,v_f,a_0,b,model_id,agg,asl_id\n",
        "    density1_0, fuel1_0, vehicle_state1_0, individual_average1_0 = fuel_consumption(n1,n1+1,delta_n,L,D,non_connected,G,Y,R,T,tau,t_sim,delta_t,l_n,s_0,v_f,a_0,b,model_id,agg,asl_id)\n",
        "    loop1, fuel1, vehicle_state1 = start_point_fuel(n1,delta_n,D,L_int,l_n,s_0,t_sim,G,Y,R,T,delta_t,tau,v_f,a_0,b,model_id,all_connected,agg,asl_id)\n",
        "\n",
        "    density2_0, fuel2_0, vehicle_state2_0, individual_average2_0 = fuel_consumption(n2,n2+1,delta_n,L,D,non_connected,G,Y,R,T,tau,t_sim,delta_t,l_n,s_0,v_f,a_0,b,model_id,agg,asl_id)\n",
        "    loop2, fuel2, vehicle_state2 = start_point_fuel(n2,delta_n,D,L_int,l_n,s_0,t_sim,G,Y,R,T,delta_t,tau,v_f,a_0,b,model_id,all_connected,agg,asl_id)\n",
        "\n",
        "    density3_0, fuel3_0, vehicle_state3_0, individual_average3_0 = fuel_consumption(n3,n3+1,delta_n,L,D,non_connected,G,Y,R,T,tau,t_sim,delta_t,l_n,s_0,v_f,a_0,b,model_id,agg,asl_id)\n",
        "    loop3, fuel3, vehicle_state3 = start_point_fuel(n3,delta_n,D,L_int,l_n,s_0,t_sim,G,Y,R,T,delta_t,tau,v_f,a_0,b,model_id,all_connected,agg,asl_id)\n",
        "\n",
        "    density4_0, fuel4_0, vehicle_state4_0, individual_average4_0 = fuel_consumption(n4,n4+1,delta_n,L,D,non_connected,G,Y,R,T,tau,t_sim,delta_t,l_n,s_0,v_f,a_0,b,model_id,agg,asl_id)\n",
        "    loop4, fuel4, vehicle_state4 = start_point_fuel(n4,delta_n,D,L_int,l_n,s_0,t_sim,G,Y,R,T,delta_t,tau,v_f,a_0,b,model_id,all_connected,agg,asl_id)\n",
        "\n",
        "  \n",
        "    for i in range(len(loop1)):\n",
        "        if fuel1[i] > 50: fuel1[i] = 50 #if error is too large, set 50 to be the upper boundary\n",
        "        if int(fuel1_0[0]) > 50: fuel1_0[0] = 50\n",
        "        if fuel2[i] > 50: fuel2[i] = 50\n",
        "        if int(fuel2_0[0]) > 50: fuel2_0[0] = 50\n",
        "        if fuel3[i] > 50: fuel3[i] = 50\n",
        "        if int(fuel3_0[0]) > 50: fuel3_0[0] = 50\n",
        "        if fuel4[i] > 50: fuel4[i] = 50 \n",
        "        if int(fuel4_0[0]) > 50: fuel4_0[0] = 50\n",
        "        \n",
        "        improvement_rate1.append(-100*(fuel1[i]-fuel1_0[0])/fuel1_0[0])\n",
        "        improvement_rate2.append(-100*(fuel2[i]-fuel2_0[0])/fuel2_0[0])\n",
        "        improvement_rate3.append(-100*(fuel3[i]-fuel3_0[0])/fuel3_0[0])\n",
        "        improvement_rate4.append(-100*(fuel4[i]-fuel4_0[0])/fuel4_0[0])\n",
        "        print(\"loop\",loop1[i],\"improvement1\",improvement_rate1[i],\"improvement2\",improvement_rate2[i],\"improvement3\",improvement_rate3[i],\"improvement4\",improvement_rate4[i])\n",
        "    return loop1,improvement_rate1,improvement_rate2,improvement_rate3,improvement_rate4"
      ],
      "execution_count": 33,
      "outputs": []
    },
    {
      "cell_type": "markdown",
      "metadata": {
        "id": "GPtI3RzH2lpn"
      },
      "source": [
        "# MPR fuel"
      ]
    },
    {
      "cell_type": "code",
      "metadata": {
        "id": "zO_LT5cq2k3G"
      },
      "source": [
        "def cal_fuel_MPR(cal_time,n1,n2,delta_n,D,connectivity,G,Y,R,T,tau,t_sim,delta_t,l_n,s_0,v_f,a_0,b,model_id,agg,asl_id):\n",
        "#(n1,n2,loop_start,connectivity,green,cycle_length,yellow,all_red,time_gap,time_step,vehicle_length,s0,freeflow_speed,bounded_acc,bounded_dec,agg,asl_id,model_id,num_timestep):\n",
        "    rho = l_n + s_0; L = v_f*T*delta_t; w = rho/(tau); num_t = int(t_sim/delta_t);\n",
        "    fuel = []; density = []; p1 = 3.6 #m/s to km/h; k = 2 #gap\n",
        "    for n in range(n1,n2,1):\n",
        "        ave_fuel = 0\n",
        "        for k in range(cal_time):\n",
        "            i = 1; density.append((n*delta_n/L)/(1/rho)); final_fuel = 0; total_fuel = 0\n",
        "            vehicle_state = vehicle_update(L_int,L,D,l_n,s_0,t_sim,T,G,Y,R,delta_t,tau,v_f,a_0,b,n,delta_n,model_id,connectivity,agg,asl_id)\n",
        "            period,individual_average = period_individual(n,delta_n,D,connectivity,G,Y,R,T,vehicle_state,model_id,num_t) #individual period correspongding to that density            \n",
        "            for t in range(int(num_t-1 - period[i] * T), num_t-1):#total fuel consumption for one vehicle\n",
        "                if vehicle_state[i][t,3] >= 0:   \n",
        "                    fuel_comsume_sec = math.exp( -7.73452 + 0.22946 * vehicle_state[i][t,3]*p1 - 0.00561 * (vehicle_state[i][t,3]*p1)**2 + 0.000097730 * (vehicle_state[i][t,3]*p1)**3\\\n",
        "                                    + 0.02799*vehicle_state[i][t,2]*p1 + 0.0068*(vehicle_state[i][t,2]*p1)*vehicle_state[i][t,3]*p1 - 0.00077221*(vehicle_state[i][t,2]*p1)*(vehicle_state[i][t,3]*p1)**2 + 0.00000838*(vehicle_state[i][t,2]*p1)*(vehicle_state[i][t+1,3]*p1)**3\\\n",
        "                                    - 0.0002228*(vehicle_state[i][t,2]*p1)**2 - 0.00004402*(vehicle_state[i][t,2]*p1)**2*vehicle_state[i][t,3]*p1 + 7.9*10**(-7)*(vehicle_state[i][t,2]*p1)**2*(vehicle_state[i][t+1,3]*p1)**2 + 8.17*(10)**(-7)*(vehicle_state[i][t,2]*p1)**2*(vehicle_state[i][t+1,3]*p1)**3\\\n",
        "                                    +1.09*(10)**(-6)*(vehicle_state[i][t,2]*p1)**3 + 4.8*(10)**(-8)*(vehicle_state[i][t,2]*p1)**3*vehicle_state[i][t,3]*p1 + 3.27*10**(-8)*(vehicle_state[i][t,2]*p1)**3*(vehicle_state[i][t,3]*p1)**2 + (-7.79)*10**(-9)*(vehicle_state[i][t,2]*p1)**3*(vehicle_state[i][t,3]*p1)**3)\n",
        "\n",
        "                if vehicle_state[i][t,3] < 0:\n",
        "                    fuel_comsume_sec = math.exp( -7.73452 - 0.01799 * vehicle_state[i][t,3]*p1 - 0.00427 * (vehicle_state[i][t,3]*p1)**2 + 0.000188290 * (vehicle_state[i][t,3]*p1)**3\\\n",
        "                                    +0.02804*vehicle_state[i][t,2]*p1 + 0.00772*(vehicle_state[i][t,2]*p1)*vehicle_state[i][t,3]*p1 + 0.00083744*(vehicle_state[i][t,2]*p1)*(vehicle_state[i][t,3]*p1)**2 - 0.00003387*(vehicle_state[i][t,2]*p1)*(vehicle_state[i][t,3]*p1)**3\\\n",
        "                                    - 0.00021988*(vehicle_state[i][t,2]*p1)**2 - 0.00005219*(vehicle_state[i][t,2]*p1)**2*vehicle_state[i][t,3]*p1 - 7.44*10**(-6)*(vehicle_state[i][t,2]*p1)**2*(vehicle_state[i][t,3]*p1)**2 + 2.77*(10)**(-7)*(vehicle_state[i][t,2]*p1)**2*(vehicle_state[i][t,3]*p1)**3\\\n",
        "                                    +1.08*(10)**(-6)*(vehicle_state[i][t,2]*p1)**3 + 2.47*(10)**(-7)*(vehicle_state[i][t,2]*p1)**3*vehicle_state[i][t,3]*p1 + 4.87*10**(-8)*(vehicle_state[i][t,2]*p1)**3*(vehicle_state[i][t,3]*p1)**2 + (3.79)*10**(-10)*(vehicle_state[i][t,2]*p1)**3*(vehicle_state[i][t,3]*p1)**3)\n",
        "                total_fuel += delta_t * fuel_comsume_sec #Eq(36)     \n",
        "            car_distance = sum(vehicle_state[i][int(num_t-1 - period[i]*T):int(num_t-1),2])*delta_t #m calculate the distance it has run\n",
        "            fuel_per_m = total_fuel/car_distance;\n",
        "            ave_fuel += fuel_per_m\n",
        "            #print(\"car_number\",n*delta_n,\"cal\",k,\"density\",(n*delta_n/L)/(1/rho),\"final_fuel\",fuel_per_m,\"ASL area\",D,\"period\",period[i],\"MPR\",connectivity)\n",
        "        fuel.append(ave_fuel/cal_time)  #fuel consumption per meter for one car\n",
        "        print(\"car_number\",n*delta_n,\"ave_fuel\",fuel[-1])        \n",
        "        \n",
        "    return density,fuel,vehicle_state,individual_average"
      ],
      "execution_count": 34,
      "outputs": []
    },
    {
      "cell_type": "code",
      "metadata": {
        "id": "B8f5DNwfdq7A"
      },
      "source": [
        "def ave_improve(cal_time,n1,n2,delta_n,D,G,Y,R,T,tau,t_sim,delta_t,l_n,s_0,v_f,a_0,b,model_id,agg,asl_id):\n",
        "    improvement_rate1 = []; total_flow1 = 0\n",
        "    improvement_rate2 = []; total_flow2 = 0\n",
        "    improvement_rate3 = []; total_flow3 = 0\n",
        "    improvement_rate4 = []; total_flow4 = 0\n",
        "    improvement_rate5 = []; total_flow4 = 0 \n",
        "   \n",
        "    density_part2, fuel_part2, vehicle_state2,individual_average2 = cal_fuel_MPR(cal_time,n1,n2,delta_n,D,0.1,G,Y,R,T,tau,t_sim,delta_t,l_n,s_0,v_f,a_0,b,model_id,agg,asl_id)\n",
        "    density_part3, fuel_part3, vehicle_state3,individual_average3 = cal_fuel_MPR(cal_time,n1,n2,delta_n,D,0.4,G,Y,R,T,tau,t_sim,delta_t,l_n,s_0,v_f,a_0,b,model_id,agg,asl_id)\n",
        "    density_part4, fuel_part4, vehicle_state4,individual_average4 = cal_fuel_MPR(cal_time,n1,n2,delta_n,D,0.7,G,Y,R,T,tau,t_sim,delta_t,l_n,s_0,v_f,a_0,b,model_id,agg,asl_id)\n",
        "    density_con, fuel_con, vehicle_state_con, individual_average_con = fuel_consumption(n1,n2,delta_n,L,D,1,G,Y,R,T,tau,t_sim,delta_t,l_n,s_0,v_f,a_0,b,model_id,agg,asl_id)\n",
        "    density_non, fuel_non, vehicle_state_non, individual_average_non = fuel_consumption(n1,n2,delta_n,L,D,0,G,Y,R,T,tau,t_sim,delta_t,l_n,s_0,v_f,a_0,b,model_id,agg,asl_id)\n",
        "\n",
        "    for i in range(len(density_non)):\n",
        "        improvement_rate4.append(100*(fuel_non[i]-fuel_con[i])/fuel_non[i])\n",
        "        improvement_rate1.append(100*(fuel_non[i]-fuel_part2[i])/fuel_non[i])\n",
        "        improvement_rate2.append(100*(fuel_non[i]-fuel_part3[i])/fuel_non[i])\n",
        "        improvement_rate3.append(100*(fuel_non[i]-fuel_part4[i])/fuel_non[i])\n",
        "        if improvement_rate4[i]<-100: improvement_rate4[i] = 0 #if the change rate larger than 100%, regard it as invalid point\n",
        "        if improvement_rate1[i]<-100: improvement_rate1[i] = 0\n",
        "        if improvement_rate2[i]<-100: improvement_rate2[i] = 0\n",
        "        if improvement_rate3[i]<-100: improvement_rate3[i] = 0\n",
        "        print(\"density:\",density_non[i],\"improvement1:\",improvement_rate1[i],\"improvement2:\",improvement_rate2[i],\"improvement3:\",improvement_rate3[i],\"improvement4:\",improvement_rate4[i])\n",
        "\n",
        "    return density_non,improvement_rate1,improvement_rate2,improvement_rate3,improvement_rate4,fuel_con,fuel_non"
      ],
      "execution_count": 35,
      "outputs": []
    },
    {
      "cell_type": "markdown",
      "metadata": {
        "id": "qYbulZSNQuXu"
      },
      "source": [
        "#MPR NFD"
      ]
    },
    {
      "cell_type": "code",
      "metadata": {
        "id": "_Ct2YFjrQtvx"
      },
      "source": [
        "# average function; under one penetration_rate, because a specific vehicle is randomly to be connected or non-connected, thus for each penetration rate, calcilate corresponding density_flowrate connection for many times and take the average\n",
        "def average_den_flow(cal_time,delta_n,n1,n2,D,L_int,l_n,s_0,t_sim,G,Y,R,T,delta_t,tau,v_f,a_0,b,model_id,connectivity,agg,asl_id):\n",
        "    flowrate_ave = []; density = []; num_t = int(t_sim/delta_t); num_cycle = int(t_sim/(delta_t*T)) ; L = T*v_f*delta_t; rho = l_n + s_0; C = 0.3900092769755578\n",
        "    global total_flowrate,vehicle_state\n",
        "    for n in range(n1,n2):\n",
        "        density.append((n*delta_n/(L+L_int))/(1/rho))# specific density for a specific vehicle number\n",
        "        total_flowrate = 0; flowrate = np.zeros([cal_time,1])\n",
        "        for i in range(cal_time):\n",
        "            average_speed = []#average speed for a individual vehicle\n",
        "            vehicle_state,veh_t1,ttc1 = vehicle_update(L_int,D,l_n,s_0,t_sim,T,G,Y,R,delta_t,tau,v_f,a_0,b,n,delta_n,model_id,connectivity,agg,asl_id)\n",
        "            period,average = period_system(n,delta_n,D,connectivity,G,Y,R,T,vehicle_state,model_id,num_t)#oeriod correspongding to that density\n",
        "            system_average = sum(average[num_cycle-period:num_cycle,0])/period\n",
        "            flowrate[i] = ((n*delta_n/(L+L_int) * system_average)/C)\n",
        "            print(\"car_number\",n*delta_n,\"density\",density[-1],\"flowrate\",flowrate[i],\"cal_time\",i,\"connectivity\",connectivity)\n",
        "        flowrate_ave.append(sum(flowrate[0:len(flowrate),0])/cal_time) # calculate the average flowrate for a specific density\n",
        "        print(\"MPR\",connectivity,\"average density\",density[-1],\"average flowrate\",flowrate_ave[-1])\n",
        "\n",
        "    return vehicle_state,flowrate_ave,density,period,veh_t1"
      ],
      "execution_count": 36,
      "outputs": []
    },
    {
      "cell_type": "markdown",
      "metadata": {
        "id": "ziq34KbCtBJh"
      },
      "source": [
        "# Examples try\n",
        "|Parameter   | Value   | Parameter | Value |\n",
        "| :------:| :------: | :------: | :------: |\n",
        "| $B$ | $60s$ | $G$ | $24s$ |\n",
        "| $Y$ | $6s$ | $R$ | $30s$ |\n",
        "| $t_{RE}$ | $1.5s$ | $\\tau$ | $1.5s$  |\n",
        "| $L$ | $720m$ | $D$ | $300m$ |\n",
        "| $s_0$ | $2m$ | $l_n$ | $5m$ |\n",
        "| $\\zeta$ | $7m$ |  |  |\n",
        "| $v_f$ | $12m/s$ | $a_0$ | $1.5m/s^2$ |\n",
        "|  $b$ | $3m/s^2$ | $\\epsilon$ | $10^{-5}$ |"
      ]
    },
    {
      "cell_type": "code",
      "metadata": {
        "id": "Fg6-FpcatDwT"
      },
      "source": [
        "def IDM_example(tau,delta_t,l_n,s_0,v_f,a_0,b):\n",
        "    #network fundamental diagram\n",
        "    t_sim = 7200; num_t = int(t_sim/delta_t)\n",
        "    R = int(0/delta_t); G = int(60/delta_t); Y = int(0/delta_t); T = G + Y + R\n",
        "    rho = l_n + s_0; L = T * v_f * delta_t; D = 300; w = rho/tau #m\n",
        "    delta_n = 1\n",
        "    n1 = int(2/delta_n); n2 = int(101/delta_n)\n",
        "    non_connected = 0; all_connected = 1; aggressive = 1; ASL = 0; ex_ASL = 1; model_id = 3\n",
        "    # plot the figure\n",
        "    fig = plt.figure(figsize=(14,4),num = 1,dpi = 80)\n",
        "    p = n2; p1 = 1; p2 = 98; start = datetime.datetime.now()\n",
        "    \n",
        "    #vehicle_banewell_free,flow_banewell_free,density_banewell_free,period_banewell_free,vehicle_banewell_free1,time_free1 = nfd_calc(n1,n2,delta_n,L_int,D,l_n,non_connected,G,Y,R,T,tau,delta_t,3600,s_0,v_f,a_0,b,3,1,ASL)    \n",
        "    #BA newell car-following model\n",
        "    R = int(30/delta_t); G = int(24/delta_t); Y = int(6/delta_t); T = G + Y + R  \n",
        "    '''\n",
        "     #n1,n2,loop_start,connectivity,green,cycle_length,yellow,all_red,time_gap,time_step,vehicle_length,s0,freeflow_speed,bounded_acc,bounded_dec,asl_id,model_id,num_timestep\n",
        "    vehicle_banewell_all,flow_banewell_all,density_banewell_all,period_banewell_all,vehicle_banewell_all1,time_all1 = nfd_calc(n1,n2,delta_n,L_int,D,l_n,non_connected,G,Y,R,T,tau,delta_t,t_sim,s_0,v_f,a_0,b,3,aggressive,ASL)\n",
        "    vehicle_banewell_dy,flow_banewell_dy,density_banewell_dy,period_banewell_dy,vehicle_banewell_dy1,time_dy1 = nfd_calc(n1,n2,delta_n,L_int,D,l_n,all_connected,G,Y,R,T,tau,delta_t,t_sim,s_0,v_f,a_0,b,3,aggressive,ex_ASL)\n",
        "    vehicle_banewell_non,flow_banewell_non,density_banewell_non,period_banewell_non,vehicle_banewell_non1,time_non1 = nfd_calc(n1,n2,delta_n,L_int,D,l_n,non_connected,G,Y,R,T,tau,delta_t,t_sim,s_0,v_f,a_0,b,3,aggressive,ex_ASL)\n",
        "    \n",
        "    ax1 = fig.add_subplot(1,2,1)\n",
        "    ax1.grid()\n",
        "    ax1.set_xlabel(\"$density \\ (k/k_j)$\")\n",
        "    ax1.set_ylabel(\"$flowrate \\ (q/C)$\")\n",
        "    #plt.ylim(0.01,0.64)\n",
        "    ax1.scatter(density_banewell_free,flow_banewell_free,marker = '>',color = 'b',s = 5,label=\"$no\\ signal$\")\n",
        "    ax1.scatter(density_banewell_non,flow_banewell_non,marker = 'D',color = 'green',s = 5,label=\"$no\\ ASL$\")\n",
        "    ax1.scatter(density_banewell_all,flow_banewell_all,marker = 'o',color = 'm',s = 5,label=\"$U_n(t)$\")\n",
        "    ax1.scatter(density_banewell_dy,flow_banewell_dy,marker = 'v',color = 'k',s = 5,label=\"$U'_n(t)$\")\n",
        "    ax1.legend()\n",
        "    '''                                        \n",
        "    density_non,improvement1,improvement2,fuel_con,fuel_dy,fuel_non = improvement_rate(n1,n2,delta_n,D,G,Y,R,T,tau,t_sim,delta_t,l_n,s_0,v_f,a_0,b,model_id,aggressive,ex_ASL)\n",
        "    ax1 = fig.add_subplot(1,2,1)\n",
        "    ax1.scatter(density_non[p1:n2-n1-1], improvement1[p1:n2-n1-1],color = 'b',marker = '>',s = 6,label = \"$U_n(t)$\")\n",
        "    ax1.scatter(density_non[p1:n2-n1-1], improvement2[p1:n2-n1-1],color = 'red',marker = '>',s = 6,label = \"$U'_n(t)$\")\n",
        "    ax1.legend(); ax1.grid()\n",
        "    \n",
        "    ax2 = fig.add_subplot(1,2,2)\n",
        "    ax2.set_xlabel(\"$density\\ (k/k_j)$\")\n",
        "    ax2.set_ylabel(\"$reduction (\\%) $\")\n",
        "    ax2.grid()\n",
        "    plt.xlim(0,1.05)\n",
        "    plt.ylim(0,10)\n",
        "    fp3 = np.polyfit(density_non[p1:n2-n1-1], improvement1[p1:n2-n1-1], 2)\n",
        "    f3 = np.poly1d(fp3)\n",
        "    fx3 = np.linspace(density_non[p1],density_non[n2-n1-1],n2-n1-1 - p1)\n",
        "    ax2.plot(fx3,f3(fx3),linewidth=2,color='b',label = \"$U_n(t)\\ Reduction$\")\n",
        "    \n",
        "    fp4 = np.polyfit(density_non[p1:n2-n1-1], improvement2[p1:n2-n1-1], 2)\n",
        "    f4 = np.poly1d(fp4)\n",
        "    fx4 = np.linspace(density_non[p1],density_non[n2-n1-1],n2-n1-1 - p1)\n",
        "    ax2.plot(fx4,f4(fx4),linewidth=2,color='g',label = \"$U'_n(t)\\ Reduction$\")\n",
        "    ax2.legend()\n",
        "    \n",
        "    end = datetime.datetime.now()\n",
        "    print(\"time\",end-start)"
      ],
      "execution_count": 37,
      "outputs": []
    },
    {
      "cell_type": "code",
      "metadata": {
        "id": "-dnJ6K2dv5p-"
      },
      "source": [
        "def MPR_example(tau,delta_t,l_n,s_0,v_f,a_0,b):\n",
        "    #network fundamental diagram\n",
        "    t_sim = 3600; num_t = int(t_sim/delta_t)\n",
        "    R = int(30/delta_t); G = int(24/delta_t); Y = int(6/delta_t); T = G + Y + R \n",
        "    rho = l_n + s_0; L = T * v_f * delta_t; D = 300; w = rho/tau #m\n",
        "    delta_n = 1\n",
        "    n1 = int(2/delta_n); n2 = int(101/delta_n)\n",
        "    non_connected = 0; all_connected = 1; aggressive = 1;ASL=0; ex_ASL = 1; p1 = 10; p2 = 68 \n",
        "    # plot the figure\n",
        "    fig = plt.figure(figsize=(14,4),num = 1,dpi = 80); start = datetime.datetime.now()  #n1,n2,delta_n,L_int,L,D,l_n,connectivity,G,Y,R,T,tau,delta_t,t_sim,s_0,v_f,a_0,b,model_id,agg,asl_id\n",
        "    #BA newell car-following model                                 \n",
        "    vehicle_newell_dy,flow_newell_dy,density_newell_dy,period_newell_dy = nfd_calc(n1,n2,delta_n,L_int,L,D,l_n,all_connected,G,Y,R,T,tau,delta_t,t_sim,s_0,v_f,a_0,b,3,aggressive,ex_ASL)\n",
        "    vehicle_banewell_10,flow_banewell_10,density_banewell_10,period_banewell_10 = average_den_flow(5,delta_n,n1,n2,D,L_int,l_n,s_0,t_sim,G,Y,R,T,delta_t,tau,v_f,a_0,b,3,0.1,aggressive,ex_ASL)\n",
        "    vehicle_banewell_50,flow_banewell_50,density_banewell_50,period_banewell_50 = average_den_flow(5,delta_n,n1,n2,D,L_int,l_n,s_0,t_sim,G,Y,R,T,delta_t,tau,v_f,a_0,b,3,0.5,aggressive,ex_ASL)\n",
        "    vehicle_banewell_70,flow_banewell_70,density_banewell_70,period_banewell_70 = average_den_flow(5,delta_n,n1,n2,D,L_int,l_n,s_0,t_sim,G,Y,R,T,delta_t,tau,v_f,a_0,b,3,0.7,aggressive,ex_ASL)\n",
        "\n",
        "    vehicle_newell_non,flow_newell_non,density_newell_non,period_newell_non = nfd_calc(n1,n2,delta_n,L_int,L,D,l_n,non_connected,G,Y,R,T,tau,delta_t,t_sim,s_0,v_f,a_0,b,3,aggressive,ex_ASL)\n",
        "    \n",
        "\n",
        "    ax1 = fig.add_subplot(1,2,1)\n",
        "    ax1.grid()\n",
        "    ax1.set_xlabel(\"$Density \\ (k/k_j)$\")\n",
        "    ax1.set_ylabel(\"$Flow\\ rate \\ (q/C)$\")\n",
        "    #plt.ylim(0.01,0.64)\n",
        "    ax1.scatter(density_newell_non,flow_newell_non,marker = '>',color = 'red',s = 12,label=\"$0MPR$\")\n",
        "    ax1.scatter(density_banewell_10,flow_banewell_10,marker = 'v',color = 'b',s = 12,label=\"$0.1MPR$\")\n",
        "    ax1.scatter(density_banewell_50,flow_banewell_50,marker = '<',color = 'm',s = 12,label=\"$0.5MPR$\")\n",
        "    ax1.scatter(density_banewell_70,flow_banewell_70,marker = '+',color = 'brown',s = 18,label=\"$0.7MPR$\")\n",
        "    ax1.scatter(density_newell_dy,flow_newell_dy,marker = 'D',color = 'c',s = 12,label=\"$1MPR$\")\n",
        "    ax1.legend()\n",
        "\n",
        "    ax2 = fig.add_subplot(1,2,2)\n",
        "    ax2.grid()\n",
        "    ax2.set_xlabel(\"$Density \\ (k/k_j)$\")\n",
        "    ax2.set_ylabel(\"$Flowrate \\ (q/C)$\")\n",
        "    #plt.ylim(0.01,0.64)\n",
        "    ax2.scatter(density_newell_non[p1:p2],flow_newell_non[p1:p2],marker = '>',color = 'red',s = 12,label=\"$0MPR$\")\n",
        "    ax2.scatter(density_banewell_10[p1:p2],flow_banewell_10[p1:p2],marker = 'v',color = 'b',s = 12,label=\"$0.1MPR$\")\n",
        "    ax2.scatter(density_banewell_50[p1:p2],flow_banewell_50[p1:p2],marker = '<',color = 'm',s = 12,label=\"$0.5MPR$\")\n",
        "    ax2.scatter(density_banewell_70[p1:p2],flow_banewell_70[p1:p2],marker = '+',color = 'brown',s = 18,label=\"$0.7MPR$\")\n",
        "    ax2.scatter(density_newell_dy[p1:p2],flow_newell_dy[p1:p2],marker = 'D',color = 'c',s = 12,label=\"$1MPR$\")\n",
        "    ax2.legend()\n",
        "    end = datetime.datetime.now()\n",
        "    print(\"time\",end-start)"
      ],
      "execution_count": 38,
      "outputs": []
    },
    {
      "cell_type": "code",
      "metadata": {
        "id": "V7byLg2dv6E5"
      },
      "source": [
        "def starting_example(tau,delta_t,l_n,s_0,v_f,a_0,b): # how flow will change according to different starting points\n",
        "    #network fundamental diagram\n",
        "    t_sim = 7200; num_t = int(t_sim/delta_t)\n",
        "    R = int(30/delta_t); G = int(24/delta_t); Y = int(6/delta_t); T = G + Y + R \n",
        "    rho = l_n + s_0; L = T * v_f * delta_t; D = 300; w = rho/tau #m\n",
        "    delta_n = 1\n",
        "    n1 = int(2/delta_n); n2 = int(101/delta_n)\n",
        "    non_connected = 0; all_connected = 1; aggressive = 1; ASL = 0; ex_ASL = 1; start = datetime.datetime.now()  \n",
        "    # plot the figure\n",
        "    fig = plt.figure(figsize=(7,4),num = 1,dpi = 80)\n",
        "    loop,improvement_rate1,improvement_rate2,improvement_rate3,improvement_rate4 = improvement_rate_flow1(D,delta_n,L_int,l_n,s_0,t_sim,G,Y,R,T,delta_t,tau,v_f,a_0,b,3,aggressive,ex_ASL)\n",
        "\n",
        "    ax1 = fig.add_subplot(1,1,1)\n",
        "    ax1.set_xlabel(\"$Implementation \\ area\\ (m)$\")\n",
        "    ax1.set_ylabel(\"$Improvement \\ (\\%)$\")\n",
        "    #plt.ylim(-0.5,40)\n",
        "    ax1.scatter(loop, improvement_rate1,color = 'r',marker = 'o',s=15,label = \"$Vehicle\\ number=20$\")\n",
        "    ax1.scatter(loop, improvement_rate2,color = 'g',marker = 'v',s=15,label = \"$Vehicle\\ number=30$\")\n",
        "    ax1.scatter(loop, improvement_rate3,color = 'b',marker = 's',s=15,label = \"$Vehicle\\ number=40$\")\n",
        "    ax1.scatter(loop, improvement_rate4,color = 'brown',marker = 'x',s=15,label = \"$Vehicle\\ number=50$\")\n",
        "    ax1.legend(loc = 'lower right')\n",
        "    ax1.grid()\n",
        "    end = datetime.datetime.now()\n",
        "    print(\"time\",end-start)"
      ],
      "execution_count": 39,
      "outputs": []
    },
    {
      "cell_type": "code",
      "metadata": {
        "id": "G7m5vNq4wc1O"
      },
      "source": [
        "def fuel_example(tau,delta_t,l_n,s_0,v_f,a_0,b):\n",
        "    t_sim = 7200; num_t = int(t_sim/delta_t)\n",
        "    R = int(30/delta_t); G = int(24/delta_t); Y = int(6/delta_t); T = G + Y + R \n",
        "    rho = l_n + s_0; L = T * v_f * delta_t; D = 300; w = rho/tau #m\n",
        "    delta_n = 1\n",
        "    n1 = 2; n2 = 101\n",
        "    non_connected = 0; all_connected = 1; cal_time = 10; ASL = 0; ex_ASL = 1; aggressive = 1\n",
        "    # plot the figure\n",
        "    fig = plt.figure(figsize=(14,4),num = 1,dpi = 80)\n",
        "    start = datetime.datetime.now()\n",
        "\n",
        "    density_non,improvement_rate1,improvement_rate2,improvement_rate3,improvement_rate4,fuel_con,fuel_non = ave_improve(cal_time,n1,n2,delta_n,D,G,Y,R,T,tau,t_sim,delta_t,l_n,s_0,v_f,a_0,b,3,aggressive,ex_ASL)\n",
        "\n",
        "    ax1 = fig.add_subplot(1,2,1)\n",
        "    ax1.set_xlabel(\"$Density\\ (k/k_j)$\")\n",
        "    ax1.set_ylabel(\"$Reduction (\\%)$\")\n",
        "    ax1.grid()\n",
        "    plt.xlim(0,1)\n",
        "    plt.ylim(0,50)\n",
        "\n",
        "    ax2 = fig.add_subplot(1,2,2)\n",
        "    ax2.set_xlabel(\"$Density\\ (k/k_j)$\")\n",
        "    ax2.set_ylabel(\"$Reduction (\\%)$\")\n",
        "    ax2.grid()\n",
        "    plt.xlim(0,1)\n",
        "    plt.ylim(0,50)\n",
        "    p1 = 0; p2 = n2-n1-1;\n",
        "\n",
        "    ax1.scatter(density_non[p1:p2],improvement_rate1[p1:p2],color = 'b',marker = '>',s = 6,label = \"$0.1MPR$\")#linewidth=0.5,\n",
        "    fp1 = np.polyfit(density_non[p1:p2], improvement_rate1[p1:p2],5)\n",
        "    f1 = np.poly1d(fp1)\n",
        "    fx1 = np.linspace(density_non[p1],density_non[p2],p2-p1)\n",
        "    ax2.plot(fx1,f1(fx1),linewidth=2,color='b',linestyle='--',label = \"$0.1MPR$\")\n",
        "\n",
        "    ax1.scatter(density_non,improvement_rate2,color = 'm',marker = 'D',s = 6,label = \"$0.5MPR$\")#linewidth=0.5,\n",
        "    fp2 = np.polyfit(density_non[p1:p2], improvement_rate2[p1:p2],5)\n",
        "    f2 = np.poly1d(fp2)\n",
        "    fx2 = np.linspace(density_non[p1],density_non[p2],p2-p1)\n",
        "    ax2.plot(fx2,f2(fx2),linewidth=2,color='m',linestyle=':',label = \"$0.5MPR$\")\n",
        "\n",
        "    ax1.scatter(density_non,improvement_rate3,color = 'brown',marker = 'v',s = 6,label = \"$0.7MPR$\")#linewidth=0.5,\n",
        "    fp3 = np.polyfit(density_non[p1:p2], improvement_rate3[p1:p2], 5)\n",
        "    f3 = np.poly1d(fp3)\n",
        "    fx3 = np.linspace(density_non[p1],density_non[p2],p2-p1)\n",
        "    ax2.plot(fx3,f3(fx3),linewidth=2,color='brown',linestyle='-.',label = \"$0.7MPR$\")\n",
        "\n",
        "    ax1.scatter(density_non[p1:p2],improvement_rate4[p1:p2],color = 'black',marker = '*',s = 6,label = \"$1MPR$\")#linewidth=0.5,1MPR\n",
        "    fp4 = np.polyfit(density_non[p1:p2], improvement_rate4[p1:p2],5)\n",
        "    f4 = np.poly1d(fp4)\n",
        "    fx4 = np.linspace(density_non[p1],density_non[p2],p2-p1)\n",
        "    ax2.plot(fx4,f4(fx4),linewidth=2,color='c',linestyle=':',label = \"$1MPR$\")\n",
        "\n",
        "    ax1.legend()\n",
        "    ax2.legend()\n",
        "    end = datetime.datetime.now()\n",
        "    print(\"time\",end-start)"
      ],
      "execution_count": 40,
      "outputs": []
    },
    {
      "cell_type": "code",
      "metadata": {
        "id": "MVi12wBhwwB8"
      },
      "source": [
        "def starting_fuel(tau,delta_t,l_n,s_0,v_f,a_0,b): # how fuel consumption will change according to different starting points\n",
        "    t_sim = 7200; num_t = int(t_sim/delta_t)\n",
        "    R = int(30/delta_t); G = int(24/delta_t); Y = int(6/delta_t); T = G + Y + R \n",
        "    rho = l_n + s_0; L = T * v_f * delta_t; D = 300; w = rho/tau #m\n",
        "    delta_n = 1\n",
        "    non_connected = 0; all_connected = 1; ASL = 0; ex_ASL = 1; aggressive = 1\n",
        "    # plot the figure\n",
        "    fig = plt.figure(figsize=(7,4),num = 1,dpi = 80)\n",
        "    start = datetime.datetime.now()\n",
        "\n",
        "    start = datetime.datetime.now()                                              \n",
        "    loop,improvement_rate1,improvement_rate2,improvement_rate3,improvement_rate4 = improvement_rate_flow(D,delta_n,L_int,l_n,s_0,t_sim,G,Y,R,T,delta_t,tau,v_f,a_0,b,3,aggressive,ex_ASL)\n",
        "    end = datetime.datetime.now()\n",
        "    print(\"time\",end-start)\n",
        "\n",
        "    fig = plt.figure(figsize=(7,4),num = 1,dpi = 80)\n",
        "    \n",
        "    ax1 = fig.add_subplot(1,1,1)\n",
        "    ax1.set_xlabel(\"$Implementation \\ area\\ (m)$\")\n",
        "    ax1.set_ylabel(\"$Reduction \\ (\\%)$\")\n",
        "    plt.ylim(-0.1,50)\n",
        "    ax1.scatter(loop, improvement_rate1,color = 'r',marker = 'o',s=15,label = \"$Vehicle\\ number=20$\"),\n",
        "    ax1.scatter(loop, improvement_rate2,color = 'g',marker = 'v',s=15,label = \"$Vehicle\\ number=30$\")\n",
        "    ax1.scatter(loop, improvement_rate3,color = 'b',marker = 's',s=15,label = \"$Vehicle\\ number=40$\")\n",
        "    ax1.scatter(loop, improvement_rate4,color = 'brown',marker = 'x',s=15,label = \"$Vehicle\\ number=50$\")\n",
        "    ax1.legend(loc = 'lower right')\n",
        "    ax1.grid()\n",
        "    end = datetime.datetime.now()\n",
        "    print(\"time\",end-start)"
      ],
      "execution_count": 41,
      "outputs": []
    },
    {
      "cell_type": "code",
      "metadata": {
        "id": "WJ796lvtxNVR"
      },
      "source": [
        "def model_plot(model_id):\n",
        "    if model_id == 1:\n",
        "        model = widgets.interact(IDM_example,\n",
        "            tau = widgets.FloatSlider(min=0.5,max=3,step=0.5,value = 1.5,description=r\"$\\tau$\"),\n",
        "            delta_t = widgets.FloatSlider(min=0.1,max=2,step=0.1,value = 1.5,description=r\"$\\Delta t$\"),\n",
        "            l_n = widgets.FloatSlider(min=3,max=8,step=1,value = 5,description=\"$l$\"),\n",
        "            s_0 = widgets.FloatSlider(min=0,max=4,step=1,value = 2,description=\"$S_0$\"),\n",
        "            v_f = widgets.FloatSlider(min=10,max=20,step=1,value = 12,description=\"$v_f$\"),\n",
        "            a_0 = widgets.FloatSlider(min=0,max=4,step=1,value = 1.5,description=\"$a_0$\"),\n",
        "            b = widgets.FloatSlider(min=0,max=6,step=1,value = 3,description=\"$b$\"),)\n",
        "    elif model_id == 2:\n",
        "            model = widgets.interact(MPR_example,\n",
        "            tau = widgets.FloatSlider(min=0.5,max=3,step=0.5,value = 1.5,description=r\"$\\tau$\"),\n",
        "            delta_t = widgets.FloatSlider(min=0.1,max=2,step=0.1,value = 1.5,description=r\"$\\Delta t$\"),\n",
        "            l_n = widgets.FloatSlider(min=3,max=8,step=1,value = 5,description=\"$l$\"),\n",
        "            s_0 = widgets.FloatSlider(min=0,max=4,step=1,value = 2,description=\"$S_0$\"),\n",
        "            v_f = widgets.FloatSlider(min=10,max=20,step=1,value = 12,description=\"$v_f$\"),\n",
        "            a_0 = widgets.FloatSlider(min=0,max=4,step=1,value = 1.5,description=\"$a_0$\"),\n",
        "            b = widgets.FloatSlider(min=0,max=6,step=1,value = 3,description=\"$b$\"),)\n",
        "    elif model_id == 3:\n",
        "            model = widgets.interact(starting_example,\n",
        "            tau = widgets.FloatSlider(min=0.5,max=3,step=0.5,value = 1.5,description=r\"$\\tau$\"),\n",
        "            delta_t = widgets.FloatSlider(min=0.1,max=2,step=0.1,value = 1.5,description=r\"$\\Delta t$\"),\n",
        "            l_n = widgets.FloatSlider(min=3,max=8,step=1,value = 5,description=\"$l$\"),\n",
        "            s_0 = widgets.FloatSlider(min=0,max=4,step=1,value = 2,description=\"$S_0$\"),\n",
        "            v_f = widgets.FloatSlider(min=10,max=20,step=1,value = 12,description=\"$v_f$\"),\n",
        "            a_0 = widgets.FloatSlider(min=0,max=4,step=1,value = 1.5,description=\"$a_0$\"),\n",
        "            b = widgets.FloatSlider(min=0,max=6,step=1,value = 3,description=\"$b$\"),)\n",
        "    elif model_id == 4:\n",
        "            model = widgets.interact(fuel_example,\n",
        "            tau = widgets.FloatSlider(min=0.5,max=3,step=0.5,value = 1.5,description=r\"$\\tau$\"),\n",
        "            delta_t = widgets.FloatSlider(min=0.1,max=2,step=0.1,value = 1.5,description=r\"$\\Delta t$\"),\n",
        "            l_n = widgets.FloatSlider(min=3,max=8,step=1,value = 5,description=\"$l$\"),\n",
        "            s_0 = widgets.FloatSlider(min=0,max=4,step=1,value = 2,description=\"$S_0$\"),\n",
        "            v_f = widgets.FloatSlider(min=10,max=20,step=1,value = 12,description=\"$v_f$\"),\n",
        "            a_0 = widgets.FloatSlider(min=0,max=4,step=1,value = 1.5,description=\"$a_0$\"),\n",
        "            b = widgets.FloatSlider(min=0,max=6,step=1,value = 3,description=\"$b$\"),)\n",
        "    elif model_id == 5:\n",
        "            model = widgets.interact(starting_fuel,\n",
        "            tau = widgets.FloatSlider(min=0.5,max=3,step=0.5,value = 1.5,description=r\"$\\tau$\"),\n",
        "            delta_t = widgets.FloatSlider(min=0.1,max=2,step=0.1,value =1.5,description=r\"$\\Delta t$\"),\n",
        "            l_n = widgets.FloatSlider(min=3,max=8,step=1,value = 5,description=\"$l$\"),\n",
        "            s_0 = widgets.FloatSlider(min=0,max=4,step=1,value = 2,description=\"$S_0$\"),\n",
        "            v_f = widgets.FloatSlider(min=10,max=20,step=1,value = 12,description=\"$v_f$\"),\n",
        "            a_0 = widgets.FloatSlider(min=0,max=4,step=1,value = 1.5,description=\"$a_0$\"),\n",
        "            b = widgets.FloatSlider(min=0,max=6,step=1,value = 3,description=\"$b$\"),)\n",
        "    return model"
      ],
      "execution_count": 42,
      "outputs": []
    },
    {
      "cell_type": "code",
      "metadata": {
        "colab": {
          "base_uri": "https://localhost:8080/",
          "height": 1000,
          "referenced_widgets": [
            "8a13cfadbde54bbb8dd9becb3a0215f7",
            "2504cc2948dc497abbe992c9fa5f9765",
            "b251aecf3d524a998907cbb744ecfe75",
            "cd3dd2bab42a432081fb1a8b7d66e5f8",
            "ef5b0b431bbc4b99a730b1919f22fdba",
            "bd74f1ac78b144e18e321c9cc6ceb3d0",
            "2e8fe1c6be0544a1be3a5e2e86bcf402",
            "a1795e0f8a6e42d9a343c35f369610e7",
            "f9a3ad403e5d4ab1957663b34cd44630",
            "c482f1121e6e4595a598f1f2b4f8ec25",
            "e37cc58f2a6b4ce7a4c33c625b6f0926",
            "5698702d37b7429ebe028b1f239a3408",
            "a5b4f451c6074f5083f1b70d0f8248df",
            "f143d082f38145d79a116fcd11bc1c57",
            "b9b4d8bffbf74190811bf6f575ad891b",
            "3a86f6916bf14fc7bece22a11bf1d496",
            "0c75d5d17d6b4de3b046d721a6d0293f",
            "df77ce5895b24e0181b06467f9de6988",
            "e64848dff6854290b4a468728c5f2fc0",
            "ab364f8ddc714328a1084d321f71860d",
            "ac10f8e3e9594082ade7a3e4bd5dc79e",
            "7bd88c75e1f54d7d966f8b7caa1a5b9b",
            "5db0393c598744d9a8ac1ac874449738",
            "72d60b041cf0407b8866ff1433b54014",
            "ac21a55c6d124f20a8feb187dad78ab4"
          ]
        },
        "id": "3YlEXMcexQOb",
        "outputId": "5c567f39-38fe-483d-d274-3f2a3626a49b"
      },
      "source": [
        "widgets.interact(model_plot,\n",
        "            model_id = widgets.FloatSlider(min=1,max=6,step=1,value = 4,description=\"model id\"))"
      ],
      "execution_count": 43,
      "outputs": [
        {
          "data": {
            "application/vnd.jupyter.widget-view+json": {
              "model_id": "8a13cfadbde54bbb8dd9becb3a0215f7",
              "version_major": 2,
              "version_minor": 0
            },
            "text/plain": [
              "interactive(children=(FloatSlider(value=1.5, description='$\\\\tau$', max=3.0, min=0.5, step=0.5), FloatSlider(v…"
            ]
          },
          "metadata": {},
          "output_type": "display_data"
        },
        {
          "metadata": {
            "tags": null
          },
          "name": "stdout",
          "output_type": "stream",
          "text": [
            "car_number 2 ave_fuel 8.799950111340409e-05\n",
            "car_number 3 ave_fuel 8.799950111340409e-05\n",
            "car_number 4 ave_fuel 8.799950111340409e-05\n"
          ]
        },
        {
          "metadata": {
            "tags": null
          },
          "name": "stderr",
          "output_type": "stream",
          "text": [
            "/usr/local/lib/python3.7/dist-packages/ipykernel_launcher.py:27: RuntimeWarning: invalid value encountered in double_scalars\n"
          ]
        },
        {
          "output_type": "stream",
          "name": "stdout",
          "text": [
            "car_number 5 ave_fuel 8.799950111340409e-05\n",
            "car_number 6 ave_fuel 8.799950111340409e-05\n",
            "car_number 7 ave_fuel 8.799950111340409e-05\n",
            "car_number 8 ave_fuel 8.799950111340409e-05\n",
            "car_number 9 ave_fuel 8.799950111340409e-05\n",
            "car_number 10 ave_fuel 8.799950111340409e-05\n",
            "car_number 11 ave_fuel 8.799950111340409e-05\n",
            "car_number 12 ave_fuel 8.799950111340409e-05\n",
            "car_number 13 ave_fuel 8.799950111340409e-05\n",
            "car_number 14 ave_fuel 9.132377054797279e-05\n",
            "car_number 15 ave_fuel 0.0001142209346086203\n",
            "car_number 16 ave_fuel 0.00011987244811327922\n",
            "car_number 17 ave_fuel 0.00012902516241664419\n",
            "car_number 18 ave_fuel 0.0001279958229523396\n",
            "car_number 19 ave_fuel 0.0001389288830573346\n",
            "car_number 20 ave_fuel 0.0001393854881633656\n",
            "car_number 21 ave_fuel 0.00014215512854169363\n",
            "car_number 22 ave_fuel 0.0001539154371700715\n",
            "car_number 23 ave_fuel 0.00014477125990147\n",
            "car_number 24 ave_fuel 0.0001534711493182126\n",
            "car_number 25 ave_fuel 0.00016184579204384808\n",
            "car_number 26 ave_fuel 0.0001668517669911335\n",
            "car_number 27 ave_fuel 0.0001670712081322351\n",
            "car_number 28 ave_fuel 0.00015830633853755846\n",
            "car_number 29 ave_fuel 0.00017279470055338406\n",
            "car_number 30 ave_fuel 0.00017254453019612876\n",
            "car_number 31 ave_fuel 0.00018704231242644675\n",
            "car_number 32 ave_fuel 0.00017943258626578628\n",
            "car_number 33 ave_fuel 0.0001847953982874419\n",
            "car_number 34 ave_fuel 0.00019905547163941964\n",
            "car_number 35 ave_fuel 0.00020786418342844782\n",
            "car_number 36 ave_fuel 0.0002064579928706916\n",
            "car_number 37 ave_fuel 0.00019668576038230534\n",
            "car_number 38 ave_fuel 0.0002216357371093311\n",
            "car_number 39 ave_fuel 0.00021541052542193244\n",
            "car_number 40 ave_fuel 0.00023147778335785214\n",
            "car_number 41 ave_fuel 0.00023108595438773414\n",
            "car_number 42 ave_fuel 0.00022012937180632564\n",
            "car_number 43 ave_fuel 0.00022380798024547918\n",
            "car_number 44 ave_fuel 0.00021848240148894882\n",
            "car_number 45 ave_fuel 0.00022946614565397123\n",
            "car_number 46 ave_fuel 0.00023639402036810942\n",
            "car_number 47 ave_fuel 0.00024069661122913945\n",
            "car_number 48 ave_fuel 0.000252839848187432\n",
            "car_number 49 ave_fuel 0.00027235178157442453\n",
            "car_number 50 ave_fuel 0.0002628415803310066\n",
            "car_number 51 ave_fuel 0.00024646001793879877\n",
            "car_number 52 ave_fuel 0.0002640346618549866\n",
            "car_number 53 ave_fuel 0.00025560385356666025\n",
            "car_number 54 ave_fuel 0.0002511128427030672\n",
            "car_number 55 ave_fuel 0.0002505815683042794\n",
            "car_number 56 ave_fuel 0.00027975673477431614\n",
            "car_number 57 ave_fuel 0.00028019027347965747\n",
            "car_number 58 ave_fuel 0.0002887046292854064\n",
            "car_number 59 ave_fuel 0.0002734558440593661\n",
            "car_number 60 ave_fuel 0.0002955730852689623\n",
            "car_number 61 ave_fuel 0.000268127851736041\n",
            "car_number 62 ave_fuel 0.0003064087534171592\n",
            "car_number 63 ave_fuel 0.0002780861301039483\n",
            "car_number 64 ave_fuel 0.0002907399312949483\n",
            "car_number 65 ave_fuel 0.0003118717105796238\n",
            "car_number 66 ave_fuel 0.0003083700744035803\n",
            "car_number 67 ave_fuel 0.00030213919785744526\n",
            "car_number 68 ave_fuel 0.0003159329482455302\n",
            "car_number 69 ave_fuel 0.00032803630453375295\n",
            "car_number 70 ave_fuel 0.00032963742187704206\n",
            "car_number 71 ave_fuel 0.00034507098372122693\n",
            "car_number 72 ave_fuel 0.0003582618121007636\n",
            "car_number 73 ave_fuel 0.00036240225648269945\n",
            "car_number 74 ave_fuel 0.00038870720420149275\n",
            "car_number 75 ave_fuel 0.0004032658398341082\n",
            "car_number 76 ave_fuel 0.0004162262480292861\n",
            "car_number 77 ave_fuel 0.0004255716820747328\n",
            "car_number 78 ave_fuel 0.0004442722635214677\n",
            "car_number 79 ave_fuel 0.0004570534509797876\n",
            "car_number 80 ave_fuel 0.0004982991629170431\n",
            "car_number 81 ave_fuel 0.0005014981713382884\n",
            "car_number 82 ave_fuel 0.0005437004281193499\n",
            "car_number 83 ave_fuel 0.0005592170495573505\n",
            "car_number 84 ave_fuel 0.0005933402818316122\n",
            "car_number 85 ave_fuel 0.0006252846874717733\n",
            "car_number 86 ave_fuel 0.0006485291099808356\n",
            "car_number 87 ave_fuel 0.0007104379026327887\n",
            "car_number 88 ave_fuel 0.0007567735387578314\n",
            "car_number 89 ave_fuel 0.0008095246646086261\n",
            "car_number 90 ave_fuel 0.0008718362614027602\n",
            "car_number 91 ave_fuel 0.0009608701807010628\n",
            "car_number 92 ave_fuel 0.0010360795323299697\n",
            "car_number 93 ave_fuel 0.001157123769357509\n",
            "car_number 94 ave_fuel 0.0012628205992238975\n",
            "car_number 95 ave_fuel 0.001425841339752973\n",
            "car_number 96 ave_fuel 0.001663400112617859\n",
            "car_number 97 ave_fuel 0.0019187334184948683\n",
            "car_number 98 ave_fuel 0.0023090263300104058\n",
            "car_number 99 ave_fuel 0.0028478780097605317\n",
            "car_number 100 ave_fuel 0.003889231542653189\n",
            "car_number 2 ave_fuel 8.799950111340409e-05\n",
            "car_number 3 ave_fuel 8.799950111340409e-05\n",
            "car_number 4 ave_fuel 8.799950111340409e-05\n",
            "car_number 5 ave_fuel 8.799950111340409e-05\n",
            "car_number 6 ave_fuel 8.799950111340409e-05\n",
            "car_number 7 ave_fuel 8.799950111340409e-05\n",
            "car_number 8 ave_fuel 8.799950111340409e-05\n",
            "car_number 9 ave_fuel 8.799950111340409e-05\n",
            "car_number 10 ave_fuel 8.799950111340409e-05\n",
            "car_number 11 ave_fuel 8.799950111340409e-05\n",
            "car_number 12 ave_fuel 8.799950111340409e-05\n",
            "car_number 13 ave_fuel 8.799950111340409e-05\n",
            "car_number 14 ave_fuel 8.799950111340409e-05\n",
            "car_number 15 ave_fuel 0.00010921956416230215\n",
            "car_number 16 ave_fuel 0.00011492747488369886\n",
            "car_number 17 ave_fuel 0.00012292956392926803\n",
            "car_number 18 ave_fuel 0.00012070034365659102\n",
            "car_number 19 ave_fuel 0.00013459701308876266\n",
            "car_number 20 ave_fuel 0.00012708032171318158\n",
            "car_number 21 ave_fuel 0.00013095995590913396\n",
            "car_number 22 ave_fuel 0.00013501449401221534\n",
            "car_number 23 ave_fuel 0.00014162551386821067\n",
            "car_number 24 ave_fuel 0.00014387189436601954\n",
            "car_number 25 ave_fuel 0.0001448217635886638\n",
            "car_number 26 ave_fuel 0.00016664822385838705\n",
            "car_number 27 ave_fuel 0.0001591446393125351\n",
            "car_number 28 ave_fuel 0.00015137289354571177\n",
            "car_number 29 ave_fuel 0.00015602142836070384\n",
            "car_number 30 ave_fuel 0.0001573061124495741\n",
            "car_number 31 ave_fuel 0.00017017296865797768\n",
            "car_number 32 ave_fuel 0.00016800372538939632\n",
            "car_number 33 ave_fuel 0.00017483793433072418\n",
            "car_number 34 ave_fuel 0.00016575441909467097\n",
            "car_number 35 ave_fuel 0.00017621190299857385\n",
            "car_number 36 ave_fuel 0.00017807772166454023\n",
            "car_number 37 ave_fuel 0.00018265126585336833\n",
            "car_number 38 ave_fuel 0.00018303018055833097\n",
            "car_number 39 ave_fuel 0.0001996601077438196\n",
            "car_number 40 ave_fuel 0.00019334415851192862\n",
            "car_number 41 ave_fuel 0.0001828988927726283\n",
            "car_number 42 ave_fuel 0.000180137815299317\n",
            "car_number 43 ave_fuel 0.00019444800888238195\n",
            "car_number 44 ave_fuel 0.00020203606686194025\n",
            "car_number 45 ave_fuel 0.00020315045086822218\n",
            "car_number 46 ave_fuel 0.00021508348382234333\n",
            "car_number 47 ave_fuel 0.00020460877190037647\n",
            "car_number 48 ave_fuel 0.00021580425937202564\n",
            "car_number 49 ave_fuel 0.00021330015966192304\n",
            "car_number 50 ave_fuel 0.00021674081032432274\n",
            "car_number 51 ave_fuel 0.00022187507240085087\n",
            "car_number 52 ave_fuel 0.0002270162669310372\n",
            "car_number 53 ave_fuel 0.0002258699130998033\n",
            "car_number 54 ave_fuel 0.00023015328837009633\n",
            "car_number 55 ave_fuel 0.0002187902075776149\n",
            "car_number 56 ave_fuel 0.00023430774583009986\n",
            "car_number 57 ave_fuel 0.0002383406706360476\n",
            "car_number 58 ave_fuel 0.00024037783677567634\n",
            "car_number 59 ave_fuel 0.00023883628964211262\n",
            "car_number 60 ave_fuel 0.00024647222389707294\n",
            "car_number 61 ave_fuel 0.0002513557752518962\n",
            "car_number 62 ave_fuel 0.00025876977077862084\n",
            "car_number 63 ave_fuel 0.00026442233526050875\n",
            "car_number 64 ave_fuel 0.0002733648788126125\n",
            "car_number 65 ave_fuel 0.00028793905529795336\n",
            "car_number 66 ave_fuel 0.0002832210972383641\n",
            "car_number 67 ave_fuel 0.0002929500179149135\n",
            "car_number 68 ave_fuel 0.0003012289383084798\n",
            "car_number 69 ave_fuel 0.0003099075086342173\n",
            "car_number 70 ave_fuel 0.000321188654513028\n",
            "car_number 71 ave_fuel 0.00033072398899343207\n",
            "car_number 72 ave_fuel 0.0003432526750545231\n",
            "car_number 73 ave_fuel 0.0003544814667802404\n",
            "car_number 74 ave_fuel 0.0003683086550731658\n",
            "car_number 75 ave_fuel 0.00037481416938828845\n",
            "car_number 76 ave_fuel 0.00039863528327974286\n",
            "car_number 77 ave_fuel 0.0004176170059183887\n",
            "car_number 78 ave_fuel 0.00043058498408997164\n",
            "car_number 79 ave_fuel 0.0004504809330448772\n",
            "car_number 80 ave_fuel 0.0004706261526942517\n",
            "car_number 81 ave_fuel 0.0004921024442589578\n",
            "car_number 82 ave_fuel 0.0005179590770171827\n",
            "car_number 83 ave_fuel 0.0005439535058169263\n",
            "car_number 84 ave_fuel 0.0005706942319117748\n",
            "car_number 85 ave_fuel 0.0006037514874883864\n",
            "car_number 86 ave_fuel 0.0006416945480045156\n",
            "car_number 87 ave_fuel 0.0006876101965416148\n",
            "car_number 88 ave_fuel 0.000727693132443725\n",
            "car_number 89 ave_fuel 0.0007973023777662583\n",
            "car_number 90 ave_fuel 0.0008565508144106088\n",
            "car_number 91 ave_fuel 0.0009336143294915702\n",
            "car_number 92 ave_fuel 0.0010119296769259495\n",
            "car_number 93 ave_fuel 0.0011291982036404301\n",
            "car_number 94 ave_fuel 0.0012392852428666076\n",
            "car_number 95 ave_fuel 0.0013933275055186714\n",
            "car_number 96 ave_fuel 0.0016233642449024904\n",
            "car_number 97 ave_fuel 0.0018899076421283808\n",
            "car_number 98 ave_fuel 0.0022762962791727\n",
            "car_number 99 ave_fuel 0.0028194919410114666\n",
            "car_number 100 ave_fuel 0.003838388629812758\n",
            "car_number 2 ave_fuel 8.799950111340409e-05\n",
            "car_number 3 ave_fuel 8.799950111340409e-05\n",
            "car_number 4 ave_fuel 8.799950111340409e-05\n",
            "car_number 5 ave_fuel 8.799950111340409e-05\n",
            "car_number 6 ave_fuel 8.799950111340409e-05\n",
            "car_number 7 ave_fuel 8.799950111340409e-05\n",
            "car_number 8 ave_fuel 8.799950111340409e-05\n",
            "car_number 9 ave_fuel 8.799950111340409e-05\n",
            "car_number 10 ave_fuel 8.799950111340409e-05\n",
            "car_number 11 ave_fuel 8.799950111340409e-05\n",
            "car_number 12 ave_fuel 8.799950111340409e-05\n",
            "car_number 13 ave_fuel 8.799950111340409e-05\n",
            "car_number 14 ave_fuel 8.799950111340409e-05\n",
            "car_number 15 ave_fuel 0.00010544159998362044\n",
            "car_number 16 ave_fuel 0.00011138459724667471\n",
            "car_number 17 ave_fuel 0.0001139598877623904\n",
            "car_number 18 ave_fuel 0.00011707072546239655\n",
            "car_number 19 ave_fuel 0.0001248714317259307\n",
            "car_number 20 ave_fuel 0.00012778872269761198\n",
            "car_number 21 ave_fuel 0.00012626960817812188\n",
            "car_number 22 ave_fuel 0.00013088179636954343\n",
            "car_number 23 ave_fuel 0.00013382435562307068\n",
            "car_number 24 ave_fuel 0.00014434766499399847\n",
            "car_number 25 ave_fuel 0.00013921320964661098\n",
            "car_number 26 ave_fuel 0.0001449081929657124\n",
            "car_number 27 ave_fuel 0.00015432709380887107\n",
            "car_number 28 ave_fuel 0.00014565004984396152\n",
            "car_number 29 ave_fuel 0.00015225691625255004\n",
            "car_number 30 ave_fuel 0.00015386101987042487\n",
            "car_number 31 ave_fuel 0.00015594452232706337\n",
            "car_number 32 ave_fuel 0.0001595171000185799\n",
            "car_number 33 ave_fuel 0.00016308889821791482\n",
            "car_number 34 ave_fuel 0.00016577151538047652\n",
            "car_number 35 ave_fuel 0.00016391597725853982\n",
            "car_number 36 ave_fuel 0.00017283502562797775\n",
            "car_number 37 ave_fuel 0.00017128115395787053\n",
            "car_number 38 ave_fuel 0.00017637740392086274\n",
            "car_number 39 ave_fuel 0.00017464994814520262\n",
            "car_number 40 ave_fuel 0.00019316191519775833\n",
            "car_number 41 ave_fuel 0.0001825418418867153\n",
            "car_number 42 ave_fuel 0.00018013813530649665\n",
            "car_number 43 ave_fuel 0.00019101216078580801\n",
            "car_number 44 ave_fuel 0.00019210212873820628\n",
            "car_number 45 ave_fuel 0.00019322389030826422\n",
            "car_number 46 ave_fuel 0.0001973449203217252\n",
            "car_number 47 ave_fuel 0.0002024458352982448\n",
            "car_number 48 ave_fuel 0.0002017078700988851\n",
            "car_number 49 ave_fuel 0.00020360599794756878\n",
            "car_number 50 ave_fuel 0.0002074909373820355\n",
            "car_number 51 ave_fuel 0.00021080572253713337\n",
            "car_number 52 ave_fuel 0.00021457787781872562\n",
            "car_number 53 ave_fuel 0.00022940610019385574\n",
            "car_number 54 ave_fuel 0.00022301444744886401\n",
            "car_number 55 ave_fuel 0.00021935457658431293\n",
            "car_number 56 ave_fuel 0.0002163730779008816\n",
            "car_number 57 ave_fuel 0.00022642599020337252\n",
            "car_number 58 ave_fuel 0.0002303033810741492\n",
            "car_number 59 ave_fuel 0.00023164987438544803\n",
            "car_number 60 ave_fuel 0.00024040450287214713\n",
            "car_number 61 ave_fuel 0.0002456878964188102\n",
            "car_number 62 ave_fuel 0.00025535312208496306\n",
            "car_number 63 ave_fuel 0.00026470105347465027\n",
            "car_number 64 ave_fuel 0.0002656224806573317\n",
            "car_number 65 ave_fuel 0.0002855742333013528\n",
            "car_number 66 ave_fuel 0.00028296686092269956\n",
            "car_number 67 ave_fuel 0.00028883240392091255\n",
            "car_number 68 ave_fuel 0.00029891861757196027\n",
            "car_number 69 ave_fuel 0.0003075682509484555\n",
            "car_number 70 ave_fuel 0.00031613301878786776\n",
            "car_number 71 ave_fuel 0.00032843220796126526\n",
            "car_number 72 ave_fuel 0.000340905754245758\n",
            "car_number 73 ave_fuel 0.0003529655233154818\n",
            "car_number 74 ave_fuel 0.00036562965227730435\n",
            "car_number 75 ave_fuel 0.00037406099283866817\n",
            "car_number 76 ave_fuel 0.00039460537829282395\n",
            "car_number 77 ave_fuel 0.00041496324799646176\n",
            "car_number 78 ave_fuel 0.0004279113102347845\n",
            "car_number 79 ave_fuel 0.00044839883871135067\n",
            "car_number 80 ave_fuel 0.00046854582690887374\n",
            "car_number 81 ave_fuel 0.00048256138165089893\n",
            "car_number 82 ave_fuel 0.0005162535541146262\n",
            "car_number 83 ave_fuel 0.0005421999214952065\n",
            "car_number 84 ave_fuel 0.000568679841882438\n",
            "car_number 85 ave_fuel 0.0006023575232313866\n",
            "car_number 86 ave_fuel 0.0006382452016392212\n",
            "car_number 87 ave_fuel 0.0006855394037735296\n",
            "car_number 88 ave_fuel 0.0007233894515833812\n",
            "car_number 89 ave_fuel 0.000792844711715574\n",
            "car_number 90 ave_fuel 0.0008507642062607368\n",
            "car_number 91 ave_fuel 0.0009291813051102462\n",
            "car_number 92 ave_fuel 0.001006308179127217\n",
            "car_number 93 ave_fuel 0.0011226172488818897\n",
            "car_number 94 ave_fuel 0.0012324491979235695\n",
            "car_number 95 ave_fuel 0.001387980335842272\n",
            "car_number 96 ave_fuel 0.0016164018259165898\n",
            "car_number 97 ave_fuel 0.001883542688416823\n",
            "car_number 98 ave_fuel 0.002262553954769931\n",
            "car_number 99 ave_fuel 0.002806925786111967\n",
            "car_number 100 ave_fuel 0.0038138253869409154\n",
            "car_number 2 density 0.019444444444444445 final_fuel 8.799950111340409e-05 period [1.] MPR 1 ASL 1 ASL area 300\n",
            "car_number 3 density 0.029166666666666667 final_fuel 8.799950111340409e-05 period [1.] MPR 1 ASL 1 ASL area 300\n",
            "car_number 4 density 0.03888888888888889 final_fuel 8.799950111340409e-05 period [1.] MPR 1 ASL 1 ASL area 300\n",
            "car_number 5 density 0.04861111111111111 final_fuel 8.799950111340409e-05 period [1.] MPR 1 ASL 1 ASL area 300\n",
            "car_number 6 density 0.058333333333333334 final_fuel 8.799950111340409e-05 period [1.] MPR 1 ASL 1 ASL area 300\n",
            "car_number 7 density 0.06805555555555556 final_fuel 8.799950111340409e-05 period [1.] MPR 1 ASL 1 ASL area 300\n",
            "car_number 8 density 0.07777777777777778 final_fuel 8.799950111340409e-05 period [1.] MPR 1 ASL 1 ASL area 300\n",
            "car_number 9 density 0.08750000000000001 final_fuel 8.799950111340409e-05 period [1.] MPR 1 ASL 1 ASL area 300\n",
            "car_number 10 density 0.09722222222222222 final_fuel 8.799950111340409e-05 period [1.] MPR 1 ASL 1 ASL area 300\n",
            "car_number 11 density 0.10694444444444445 final_fuel 8.799950111340409e-05 period [1.] MPR 1 ASL 1 ASL area 300\n",
            "car_number 12 density 0.11666666666666667 final_fuel 8.799950111340409e-05 period [1.] MPR 1 ASL 1 ASL area 300\n",
            "car_number 13 density 0.12638888888888888 final_fuel 8.799950111340409e-05 period [1.] MPR 1 ASL 1 ASL area 300\n",
            "car_number 14 density 0.13611111111111113 final_fuel 8.799950111340409e-05 period [1.] MPR 1 ASL 1 ASL area 300\n",
            "car_number 15 density 0.14583333333333334 final_fuel 0.00010213378801002147 period [15.] MPR 1 ASL 1 ASL area 300\n",
            "car_number 16 density 0.15555555555555556 final_fuel 0.00010664210830588912 period [8.] MPR 1 ASL 1 ASL area 300\n",
            "car_number 17 density 0.16527777777777777 final_fuel 0.00011174068342283078 period [17.] MPR 1 ASL 1 ASL area 300\n",
            "car_number 18 density 0.17500000000000002 final_fuel 0.00011645876146721083 period [9.] MPR 1 ASL 1 ASL area 300\n",
            "car_number 19 density 0.18472222222222223 final_fuel 0.00011942040471293469 period [19.] MPR 1 ASL 1 ASL area 300\n",
            "car_number 20 density 0.19444444444444445 final_fuel 0.00012389193031912165 period [10.] MPR 1 ASL 1 ASL area 300\n",
            "car_number 21 density 0.2041666666666667 final_fuel 0.00012523978943892214 period [3.] MPR 1 ASL 1 ASL area 300\n",
            "car_number 22 density 0.2138888888888889 final_fuel 0.0001288036649124938 period [11.] MPR 1 ASL 1 ASL area 300\n",
            "car_number 23 density 0.2236111111111111 final_fuel 0.0001327635371596782 period [23.] MPR 1 ASL 1 ASL area 300\n",
            "car_number 24 density 0.23333333333333334 final_fuel 0.00013687633117227674 period [12.] MPR 1 ASL 1 ASL area 300\n",
            "car_number 25 density 0.24305555555555558 final_fuel 0.0001382207049660296 period [50.] MPR 1 ASL 1 ASL area 300\n",
            "car_number 26 density 0.25277777777777777 final_fuel 0.00013967815443630236 period [13.] MPR 1 ASL 1 ASL area 300\n",
            "car_number 27 density 0.2625 final_fuel 0.00014332928823800612 period [27.] MPR 1 ASL 1 ASL area 300\n",
            "car_number 28 density 0.27222222222222225 final_fuel 0.00014963588521562296 period [2.] MPR 1 ASL 1 ASL area 300\n",
            "car_number 29 density 0.2819444444444445 final_fuel 0.0001484428706964446 period [29.] MPR 1 ASL 1 ASL area 300\n",
            "car_number 30 density 0.2916666666666667 final_fuel 0.00015104011371250907 period [15.] MPR 1 ASL 1 ASL area 300\n",
            "car_number 31 density 0.30138888888888893 final_fuel 0.00015364755551720534 period [31.] MPR 1 ASL 1 ASL area 300\n",
            "car_number 32 density 0.3111111111111111 final_fuel 0.00015590061829151778 period [16.] MPR 1 ASL 1 ASL area 300\n",
            "car_number 33 density 0.3208333333333333 final_fuel 0.00015905708482890182 period [33.] MPR 1 ASL 1 ASL area 300\n",
            "car_number 34 density 0.33055555555555555 final_fuel 0.0001613229906184716 period [17.] MPR 1 ASL 1 ASL area 300\n",
            "car_number 35 density 0.3402777777777778 final_fuel 0.00016280042442734196 period [5.] MPR 1 ASL 1 ASL area 300\n",
            "car_number 36 density 0.35000000000000003 final_fuel 0.00016556007893375938 period [18.] MPR 1 ASL 1 ASL area 300\n",
            "car_number 37 density 0.3597222222222222 final_fuel 0.00016832641955806372 period [37.] MPR 1 ASL 1 ASL area 300\n",
            "car_number 38 density 0.36944444444444446 final_fuel 0.00016991513331883807 period [19.] MPR 1 ASL 1 ASL area 300\n",
            "car_number 39 density 0.3791666666666667 final_fuel 0.00017255447646244795 period [39.] MPR 1 ASL 1 ASL area 300\n",
            "car_number 40 density 0.3888888888888889 final_fuel 0.0001753668278592061 period [20.] MPR 1 ASL 1 ASL area 300\n",
            "car_number 41 density 0.39861111111111114 final_fuel 0.00017837938070389795 period [41.] MPR 1 ASL 1 ASL area 300\n",
            "car_number 42 density 0.4083333333333334 final_fuel 0.0001801418153890625 period [3.] MPR 1 ASL 1 ASL area 300\n",
            "car_number 43 density 0.4180555555555556 final_fuel 0.0001826993311886386 period [43.] MPR 1 ASL 1 ASL area 300\n",
            "car_number 44 density 0.4277777777777778 final_fuel 0.00018537443363062235 period [22.] MPR 1 ASL 1 ASL area 300\n",
            "car_number 45 density 0.4375 final_fuel 0.00018865577558772973 period [45.] MPR 1 ASL 1 ASL area 300\n",
            "car_number 46 density 0.4472222222222222 final_fuel 0.00019036176961450836 period [23.] MPR 1 ASL 1 ASL area 300\n",
            "car_number 47 density 0.4569444444444445 final_fuel 0.00019310478604923898 period [47.] MPR 1 ASL 1 ASL area 300\n",
            "car_number 48 density 0.4666666666666667 final_fuel 0.00019605576942582738 period [24.] MPR 1 ASL 1 ASL area 300\n",
            "car_number 49 density 0.47638888888888886 final_fuel 0.0001990609608386855 period [7.] MPR 1 ASL 1 ASL area 300\n",
            "car_number 50 density 0.48611111111111116 final_fuel 0.0002009227168811111 period [25.] MPR 1 ASL 1 ASL area 300\n",
            "car_number 51 density 0.49583333333333335 final_fuel 0.00020426726965536884 period [50.] MPR 1 ASL 1 ASL area 300\n",
            "car_number 52 density 0.5055555555555555 final_fuel 0.00020622914220498755 period [26.] MPR 1 ASL 1 ASL area 300\n",
            "car_number 53 density 0.5152777777777778 final_fuel 0.00020935830269265998 period [50.] MPR 1 ASL 1 ASL area 300\n",
            "car_number 54 density 0.525 final_fuel 0.00021261037482861586 period [27.] MPR 1 ASL 1 ASL area 300\n",
            "car_number 55 density 0.5347222222222223 final_fuel 0.0002134165641089963 period [50.] MPR 1 ASL 1 ASL area 300\n",
            "car_number 56 density 0.5444444444444445 final_fuel 0.00021636923999873194 period [4.] MPR 1 ASL 1 ASL area 300\n",
            "car_number 57 density 0.5541666666666667 final_fuel 0.00021936147422923206 period [50.] MPR 1 ASL 1 ASL area 300\n",
            "car_number 58 density 0.563888888888889 final_fuel 0.0002225474327283177 period [29.] MPR 1 ASL 1 ASL area 300\n",
            "car_number 59 density 0.5736111111111112 final_fuel 0.0002241230843449235 period [50.] MPR 1 ASL 1 ASL area 300\n",
            "car_number 60 density 0.5833333333333334 final_fuel 0.00023604408843176647 period [40.] MPR 1 ASL 1 ASL area 300\n",
            "car_number 61 density 0.5930555555555557 final_fuel 0.00024161958501667802 period [50.] MPR 1 ASL 1 ASL area 300\n",
            "car_number 62 density 0.6027777777777779 final_fuel 0.00024999824444576184 period [50.] MPR 1 ASL 1 ASL area 300\n",
            "car_number 63 density 0.6125 final_fuel 0.00026120668220981375 period [50.] MPR 1 ASL 1 ASL area 300\n",
            "car_number 64 density 0.6222222222222222 final_fuel 0.00026115650582545457 period [50.] MPR 1 ASL 1 ASL area 300\n",
            "car_number 65 density 0.6319444444444444 final_fuel 0.00027233627106019624 period [50.] MPR 1 ASL 1 ASL area 300\n",
            "car_number 66 density 0.6416666666666666 final_fuel 0.00027990102444738996 period [50.] MPR 1 ASL 1 ASL area 300\n",
            "car_number 67 density 0.6513888888888889 final_fuel 0.0002878365069102066 period [50.] MPR 1 ASL 1 ASL area 300\n",
            "car_number 68 density 0.6611111111111111 final_fuel 0.0002979106345401042 period [50.] MPR 1 ASL 1 ASL area 300\n",
            "car_number 69 density 0.6708333333333334 final_fuel 0.0003032994686039791 period [50.] MPR 1 ASL 1 ASL area 300\n",
            "car_number 70 density 0.6805555555555556 final_fuel 0.00031266190671292105 period [50.] MPR 1 ASL 1 ASL area 300\n",
            "car_number 71 density 0.6902777777777778 final_fuel 0.0003276296334140804 period [50.] MPR 1 ASL 1 ASL area 300\n",
            "car_number 72 density 0.7000000000000001 final_fuel 0.0003334085933283613 period [50.] MPR 1 ASL 1 ASL area 300\n",
            "car_number 73 density 0.7097222222222223 final_fuel 0.0003517015918911604 period [50.] MPR 1 ASL 1 ASL area 300\n",
            "car_number 74 density 0.7194444444444444 final_fuel 0.0003651266970920462 period [50.] MPR 1 ASL 1 ASL area 300\n",
            "car_number 75 density 0.7291666666666667 final_fuel 0.0003740788311434309 period [50.] MPR 1 ASL 1 ASL area 300\n",
            "car_number 76 density 0.7388888888888889 final_fuel 0.0003921509711742193 period [50.] MPR 1 ASL 1 ASL area 300\n",
            "car_number 77 density 0.7486111111111111 final_fuel 0.0004110498909053546 period [50.] MPR 1 ASL 1 ASL area 300\n",
            "car_number 78 density 0.7583333333333334 final_fuel 0.00042660283758268685 period [50.] MPR 1 ASL 1 ASL area 300\n",
            "car_number 79 density 0.7680555555555556 final_fuel 0.0004457596724951391 period [50.] MPR 1 ASL 1 ASL area 300\n",
            "car_number 80 density 0.7777777777777778 final_fuel 0.00046836463795640936 period [50.] MPR 1 ASL 1 ASL area 300\n",
            "car_number 81 density 0.7875000000000001 final_fuel 0.0004886485559216674 period [50.] MPR 1 ASL 1 ASL area 300\n",
            "car_number 82 density 0.7972222222222223 final_fuel 0.0005131858373568354 period [50.] MPR 1 ASL 1 ASL area 300\n",
            "car_number 83 density 0.8069444444444446 final_fuel 0.0005402762518985801 period [50.] MPR 1 ASL 1 ASL area 300\n",
            "car_number 84 density 0.8166666666666668 final_fuel 0.0005669434054835312 period [50.] MPR 1 ASL 1 ASL area 300\n",
            "car_number 85 density 0.826388888888889 final_fuel 0.0005988053152284873 period [50.] MPR 1 ASL 1 ASL area 300\n",
            "car_number 86 density 0.8361111111111112 final_fuel 0.0006377771745349276 period [50.] MPR 1 ASL 1 ASL area 300\n",
            "car_number 87 density 0.8458333333333334 final_fuel 0.0006794107969328976 period [50.] MPR 1 ASL 1 ASL area 300\n",
            "car_number 88 density 0.8555555555555556 final_fuel 0.0007206495557504413 period [50.] MPR 1 ASL 1 ASL area 300\n",
            "car_number 89 density 0.8652777777777778 final_fuel 0.0007898330205253082 period [50.] MPR 1 ASL 1 ASL area 300\n",
            "car_number 90 density 0.875 final_fuel 0.0008458080792648592 period [50.] MPR 1 ASL 1 ASL area 300\n",
            "car_number 91 density 0.8847222222222222 final_fuel 0.0009233053741087062 period [50.] MPR 1 ASL 1 ASL area 300\n",
            "car_number 92 density 0.8944444444444444 final_fuel 0.001003121169152517 period [50.] MPR 1 ASL 1 ASL area 300\n",
            "car_number 93 density 0.9041666666666668 final_fuel 0.0011168413185426137 period [50.] MPR 1 ASL 1 ASL area 300\n",
            "car_number 94 density 0.913888888888889 final_fuel 0.0012308078546332103 period [50.] MPR 1 ASL 1 ASL area 300\n",
            "car_number 95 density 0.9236111111111112 final_fuel 0.0013774531429525069 period [50.] MPR 1 ASL 1 ASL area 300\n",
            "car_number 96 density 0.9333333333333333 final_fuel 0.0016119911002302166 period [50.] MPR 1 ASL 1 ASL area 300\n",
            "car_number 97 density 0.9430555555555555 final_fuel 0.0018780160042808005 period [50.] MPR 1 ASL 1 ASL area 300\n",
            "car_number 98 density 0.9527777777777777 final_fuel 0.002244828675158031 period [50.] MPR 1 ASL 1 ASL area 300\n",
            "car_number 99 density 0.9625000000000001 final_fuel 0.0028102667865060253 period [50.] MPR 1 ASL 1 ASL area 300\n",
            "car_number 100 density 0.9722222222222223 final_fuel 0.003798397325666632 period [50.] MPR 1 ASL 1 ASL area 300\n",
            "car_number 2 density 0.019444444444444445 final_fuel 8.799950111340409e-05 period [1.] MPR 0 ASL 1 ASL area 300\n",
            "car_number 3 density 0.029166666666666667 final_fuel 8.799950111340409e-05 period [1.] MPR 0 ASL 1 ASL area 300\n",
            "car_number 4 density 0.03888888888888889 final_fuel 8.799950111340409e-05 period [1.] MPR 0 ASL 1 ASL area 300\n",
            "car_number 5 density 0.04861111111111111 final_fuel 8.799950111340409e-05 period [1.] MPR 0 ASL 1 ASL area 300\n",
            "car_number 6 density 0.058333333333333334 final_fuel 8.799950111340409e-05 period [1.] MPR 0 ASL 1 ASL area 300\n",
            "car_number 7 density 0.06805555555555556 final_fuel 8.799950111340409e-05 period [1.] MPR 0 ASL 1 ASL area 300\n",
            "car_number 8 density 0.07777777777777778 final_fuel 8.799950111340409e-05 period [1.] MPR 0 ASL 1 ASL area 300\n",
            "car_number 9 density 0.08750000000000001 final_fuel 8.799950111340409e-05 period [1.] MPR 0 ASL 1 ASL area 300\n",
            "car_number 10 density 0.09722222222222222 final_fuel 8.799950111340409e-05 period [1.] MPR 0 ASL 1 ASL area 300\n",
            "car_number 11 density 0.10694444444444445 final_fuel 8.799950111340409e-05 period [1.] MPR 0 ASL 1 ASL area 300\n",
            "car_number 12 density 0.11666666666666667 final_fuel 8.799950111340409e-05 period [1.] MPR 0 ASL 1 ASL area 300\n",
            "car_number 13 density 0.12638888888888888 final_fuel 8.799950111340409e-05 period [1.] MPR 0 ASL 1 ASL area 300\n",
            "car_number 14 density 0.13611111111111113 final_fuel 0.00010462084828624746 period [14.] MPR 0 ASL 1 ASL area 300\n",
            "car_number 15 density 0.14583333333333334 final_fuel 0.00011542846722356109 period [15.] MPR 0 ASL 1 ASL area 300\n",
            "car_number 16 density 0.15555555555555556 final_fuel 0.00012442492568614917 period [16.] MPR 0 ASL 1 ASL area 300\n",
            "car_number 17 density 0.16527777777777777 final_fuel 0.0001328200350018048 period [17.] MPR 0 ASL 1 ASL area 300\n",
            "car_number 18 density 0.17500000000000002 final_fuel 0.00013780339010007752 period [18.] MPR 0 ASL 1 ASL area 300\n",
            "car_number 19 density 0.18472222222222223 final_fuel 0.0001432960559027665 period [19.] MPR 0 ASL 1 ASL area 300\n",
            "car_number 20 density 0.19444444444444445 final_fuel 0.00014895587257885494 period [20.] MPR 0 ASL 1 ASL area 300\n",
            "car_number 21 density 0.2041666666666667 final_fuel 0.00015398813909400831 period [21.] MPR 0 ASL 1 ASL area 300\n",
            "car_number 22 density 0.2138888888888889 final_fuel 0.00016063256098502099 period [22.] MPR 0 ASL 1 ASL area 300\n",
            "car_number 23 density 0.2236111111111111 final_fuel 0.00016469929427374586 period [23.] MPR 0 ASL 1 ASL area 300\n",
            "car_number 24 density 0.23333333333333334 final_fuel 0.0001699737829680188 period [24.] MPR 0 ASL 1 ASL area 300\n",
            "car_number 25 density 0.24305555555555558 final_fuel 0.00017585558076888902 period [25.] MPR 0 ASL 1 ASL area 300\n",
            "car_number 26 density 0.25277777777777777 final_fuel 0.00018277763096866153 period [2.] MPR 0 ASL 1 ASL area 300\n",
            "car_number 27 density 0.2625 final_fuel 0.0001863035576084859 period [27.] MPR 0 ASL 1 ASL area 300\n",
            "car_number 28 density 0.27222222222222225 final_fuel 0.00019142519223558238 period [28.] MPR 0 ASL 1 ASL area 300\n",
            "car_number 29 density 0.2819444444444445 final_fuel 0.00020645941816969303 period [29.] MPR 0 ASL 1 ASL area 300\n",
            "car_number 30 density 0.2916666666666667 final_fuel 0.00022379749067324818 period [30.] MPR 0 ASL 1 ASL area 300\n",
            "car_number 31 density 0.30138888888888893 final_fuel 0.0002346926612843662 period [31.] MPR 0 ASL 1 ASL area 300\n",
            "car_number 32 density 0.3111111111111111 final_fuel 0.0002454896514260523 period [32.] MPR 0 ASL 1 ASL area 300\n",
            "car_number 33 density 0.3208333333333333 final_fuel 0.0002507051989256236 period [33.] MPR 0 ASL 1 ASL area 300\n",
            "car_number 34 density 0.33055555555555555 final_fuel 0.00025639399817381335 period [34.] MPR 0 ASL 1 ASL area 300\n",
            "car_number 35 density 0.3402777777777778 final_fuel 0.0002625354980929983 period [35.] MPR 0 ASL 1 ASL area 300\n",
            "car_number 36 density 0.35000000000000003 final_fuel 0.0002671568988966873 period [36.] MPR 0 ASL 1 ASL area 300\n",
            "car_number 37 density 0.3597222222222222 final_fuel 0.000272645796559144 period [37.] MPR 0 ASL 1 ASL area 300\n",
            "car_number 38 density 0.36944444444444446 final_fuel 0.0002780948412415006 period [38.] MPR 0 ASL 1 ASL area 300\n",
            "car_number 39 density 0.3791666666666667 final_fuel 0.00028458119735143387 period [3.] MPR 0 ASL 1 ASL area 300\n",
            "car_number 40 density 0.3888888888888889 final_fuel 0.0002895326938183454 period [40.] MPR 0 ASL 1 ASL area 300\n",
            "car_number 41 density 0.39861111111111114 final_fuel 0.00029391583969869464 period [41.] MPR 0 ASL 1 ASL area 300\n",
            "car_number 42 density 0.4083333333333334 final_fuel 0.000299256513261512 period [42.] MPR 0 ASL 1 ASL area 300\n",
            "car_number 43 density 0.4180555555555556 final_fuel 0.00030575148891048495 period [43.] MPR 0 ASL 1 ASL area 300\n",
            "car_number 44 density 0.4277777777777778 final_fuel 0.00031014225329194337 period [44.] MPR 0 ASL 1 ASL area 300\n",
            "car_number 45 density 0.4375 final_fuel 0.00032827744778193114 period [45.] MPR 0 ASL 1 ASL area 300\n",
            "car_number 46 density 0.4472222222222222 final_fuel 0.0003434031797529148 period [46.] MPR 0 ASL 1 ASL area 300\n",
            "car_number 47 density 0.4569444444444445 final_fuel 0.00035417490538473427 period [47.] MPR 0 ASL 1 ASL area 300\n",
            "car_number 48 density 0.4666666666666667 final_fuel 0.00036300807364277607 period [48.] MPR 0 ASL 1 ASL area 300\n",
            "car_number 49 density 0.47638888888888886 final_fuel 0.0003693059132678468 period [49.] MPR 0 ASL 1 ASL area 300\n",
            "car_number 50 density 0.48611111111111116 final_fuel 0.0003763628013294288 period [50.] MPR 0 ASL 1 ASL area 300\n",
            "car_number 51 density 0.49583333333333335 final_fuel 0.00037900809000241515 period [50.] MPR 0 ASL 1 ASL area 300\n",
            "car_number 52 density 0.5055555555555555 final_fuel 0.00038573469288178693 period [4.] MPR 0 ASL 1 ASL area 300\n",
            "car_number 53 density 0.5152777777777778 final_fuel 0.0003932139690289453 period [50.] MPR 0 ASL 1 ASL area 300\n",
            "car_number 54 density 0.525 final_fuel 0.0003969080638328012 period [50.] MPR 0 ASL 1 ASL area 300\n",
            "car_number 55 density 0.5347222222222223 final_fuel 0.0004019766996841008 period [50.] MPR 0 ASL 1 ASL area 300\n",
            "car_number 56 density 0.5444444444444445 final_fuel 0.0004119362518200125 period [50.] MPR 0 ASL 1 ASL area 300\n",
            "car_number 57 density 0.5541666666666667 final_fuel 0.0004080922189016993 period [50.] MPR 0 ASL 1 ASL area 300\n",
            "car_number 58 density 0.563888888888889 final_fuel 0.0004191402435173599 period [50.] MPR 0 ASL 1 ASL area 300\n",
            "car_number 59 density 0.5736111111111112 final_fuel 0.00042401511787387323 period [50.] MPR 0 ASL 1 ASL area 300\n",
            "car_number 60 density 0.5833333333333334 final_fuel 0.0004352315557434677 period [50.] MPR 0 ASL 1 ASL area 300\n",
            "car_number 61 density 0.5930555555555557 final_fuel 0.00047117419515999286 period [50.] MPR 0 ASL 1 ASL area 300\n",
            "car_number 62 density 0.6027777777777779 final_fuel 0.0004855281370437671 period [50.] MPR 0 ASL 1 ASL area 300\n",
            "car_number 63 density 0.6125 final_fuel 0.0004725867954397242 period [50.] MPR 0 ASL 1 ASL area 300\n",
            "car_number 64 density 0.6222222222222222 final_fuel 0.00045513702101324636 period [50.] MPR 0 ASL 1 ASL area 300\n",
            "car_number 65 density 0.6319444444444444 final_fuel 0.00043905622079596566 period [50.] MPR 0 ASL 1 ASL area 300\n",
            "car_number 66 density 0.6416666666666666 final_fuel 0.00045176635300049975 period [11.] MPR 0 ASL 1 ASL area 300\n",
            "car_number 67 density 0.6513888888888889 final_fuel 0.0004171313230056305 period [50.] MPR 0 ASL 1 ASL area 300\n",
            "car_number 68 density 0.6611111111111111 final_fuel 0.00042582864161961345 period [50.] MPR 0 ASL 1 ASL area 300\n",
            "car_number 69 density 0.6708333333333334 final_fuel 0.0004395026874070253 period [50.] MPR 0 ASL 1 ASL area 300\n",
            "car_number 70 density 0.6805555555555556 final_fuel 0.0004471870608567509 period [50.] MPR 0 ASL 1 ASL area 300\n",
            "car_number 71 density 0.6902777777777778 final_fuel 0.0004583410166474385 period [50.] MPR 0 ASL 1 ASL area 300\n",
            "car_number 72 density 0.7000000000000001 final_fuel 0.0004683664847363181 period [50.] MPR 0 ASL 1 ASL area 300\n",
            "car_number 73 density 0.7097222222222223 final_fuel 0.0004810224722953352 period [50.] MPR 0 ASL 1 ASL area 300\n",
            "car_number 74 density 0.7194444444444444 final_fuel 0.0004979939782723641 period [50.] MPR 0 ASL 1 ASL area 300\n",
            "car_number 75 density 0.7291666666666667 final_fuel 0.0005130278952520074 period [50.] MPR 0 ASL 1 ASL area 300\n",
            "car_number 76 density 0.7388888888888889 final_fuel 0.0005296501299865128 period [50.] MPR 0 ASL 1 ASL area 300\n",
            "car_number 77 density 0.7486111111111111 final_fuel 0.0005458780160491899 period [50.] MPR 0 ASL 1 ASL area 300\n",
            "car_number 78 density 0.7583333333333334 final_fuel 0.0005673205386347229 period [50.] MPR 0 ASL 1 ASL area 300\n",
            "car_number 79 density 0.7680555555555556 final_fuel 0.0005902080270495293 period [50.] MPR 0 ASL 1 ASL area 300\n",
            "car_number 80 density 0.7777777777777778 final_fuel 0.0006128914261535381 period [50.] MPR 0 ASL 1 ASL area 300\n",
            "car_number 81 density 0.7875000000000001 final_fuel 0.0006367229174998329 period [50.] MPR 0 ASL 1 ASL area 300\n",
            "car_number 82 density 0.7972222222222223 final_fuel 0.000654715008452172 period [50.] MPR 0 ASL 1 ASL area 300\n",
            "car_number 83 density 0.8069444444444446 final_fuel 0.0006809924306465036 period [50.] MPR 0 ASL 1 ASL area 300\n",
            "car_number 84 density 0.8166666666666668 final_fuel 0.0007066790790408021 period [50.] MPR 0 ASL 1 ASL area 300\n",
            "car_number 85 density 0.826388888888889 final_fuel 0.000736507272520264 period [50.] MPR 0 ASL 1 ASL area 300\n",
            "car_number 86 density 0.8361111111111112 final_fuel 0.0007807353448421925 period [50.] MPR 0 ASL 1 ASL area 300\n",
            "car_number 87 density 0.8458333333333334 final_fuel 0.0008307963472003363 period [50.] MPR 0 ASL 1 ASL area 300\n",
            "car_number 88 density 0.8555555555555556 final_fuel 0.0008744736915920831 period [50.] MPR 0 ASL 1 ASL area 300\n",
            "car_number 89 density 0.8652777777777778 final_fuel 0.0009423133005423057 period [50.] MPR 0 ASL 1 ASL area 300\n",
            "car_number 90 density 0.875 final_fuel 0.001013015676709667 period [50.] MPR 0 ASL 1 ASL area 300\n",
            "car_number 91 density 0.8847222222222222 final_fuel 0.0010771582559008952 period [50.] MPR 0 ASL 1 ASL area 300\n",
            "car_number 92 density 0.8944444444444444 final_fuel 0.0011533048159196248 period [50.] MPR 0 ASL 1 ASL area 300\n",
            "car_number 93 density 0.9041666666666668 final_fuel 0.0012453974528057856 period [50.] MPR 0 ASL 1 ASL area 300\n",
            "car_number 94 density 0.913888888888889 final_fuel 0.0013841628478450522 period [50.] MPR 0 ASL 1 ASL area 300\n",
            "car_number 95 density 0.9236111111111112 final_fuel 0.0015380902595797474 period [50.] MPR 0 ASL 1 ASL area 300\n",
            "car_number 96 density 0.9333333333333333 final_fuel 0.0017575466284870743 period [50.] MPR 0 ASL 1 ASL area 300\n",
            "car_number 97 density 0.9430555555555555 final_fuel 0.0020046840209298647 period [50.] MPR 0 ASL 1 ASL area 300\n",
            "car_number 98 density 0.9527777777777777 final_fuel 0.0023824505999421822 period [50.] MPR 0 ASL 1 ASL area 300\n",
            "car_number 99 density 0.9625000000000001 final_fuel 0.0029701605583149875 period [50.] MPR 0 ASL 1 ASL area 300\n",
            "car_number 100 density 0.9722222222222223 final_fuel 0.00397966280851972 period [50.] MPR 0 ASL 1 ASL area 300\n",
            "density: 0.019444444444444445 improvement1: 0.0 improvement2: 0.0 improvement3: 0.0 improvement4: 0.0\n",
            "density: 0.029166666666666667 improvement1: 0.0 improvement2: 0.0 improvement3: 0.0 improvement4: 0.0\n",
            "density: 0.03888888888888889 improvement1: 0.0 improvement2: 0.0 improvement3: 0.0 improvement4: 0.0\n",
            "density: 0.04861111111111111 improvement1: 0.0 improvement2: 0.0 improvement3: 0.0 improvement4: 0.0\n",
            "density: 0.058333333333333334 improvement1: 0.0 improvement2: 0.0 improvement3: 0.0 improvement4: 0.0\n",
            "density: 0.06805555555555556 improvement1: 0.0 improvement2: 0.0 improvement3: 0.0 improvement4: 0.0\n",
            "density: 0.07777777777777778 improvement1: 0.0 improvement2: 0.0 improvement3: 0.0 improvement4: 0.0\n",
            "density: 0.08750000000000001 improvement1: 0.0 improvement2: 0.0 improvement3: 0.0 improvement4: 0.0\n",
            "density: 0.09722222222222222 improvement1: 0.0 improvement2: 0.0 improvement3: 0.0 improvement4: 0.0\n",
            "density: 0.10694444444444445 improvement1: 0.0 improvement2: 0.0 improvement3: 0.0 improvement4: 0.0\n",
            "density: 0.11666666666666667 improvement1: 0.0 improvement2: 0.0 improvement3: 0.0 improvement4: 0.0\n",
            "density: 0.12638888888888888 improvement1: 0.0 improvement2: 0.0 improvement3: 0.0 improvement4: 0.0\n",
            "density: 0.13611111111111113 improvement1: 12.709778171453221 improvement2: 15.88722271431656 improvement3: 15.88722271431656 improvement4: 15.88722271431656\n",
            "density: 0.14583333333333334 improvement1: 1.0461306850779262 improvement2: 5.379005032817061 improvement3: 8.651996756223186 improvement4: 11.51767803326243\n",
            "density: 0.15555555555555556 improvement1: 3.6588147814957614 improvement2: 7.633077335651206 improvement3: 10.48047918659604 improvement4: 14.292005626843311\n",
            "density: 0.16527777777777777 improvement1: 2.8571537306921004 improvement2: 7.446520453335508 improvement3: 14.19977583890723 improvement4: 15.870611371761495\n",
            "density: 0.17500000000000002 improvement1: 7.11707247594949 improvement2: 12.411194260943567 improvement3: 15.045104930019646 improvement4: 15.48918979233057\n",
            "density: 0.18472222222222223 improvement1: 3.04765739567545 improvement2: 6.070678469968897 improvement3: 12.85773293672355 improvement4: 16.661764372658393\n",
            "density: 0.19444444444444445 improvement1: 6.424979592813933 improvement2: 14.68592710508462 improvement3: 14.210349357013367 improvement4: 16.826421023759792\n",
            "density: 0.2041666666666667 improvement1: 7.684364927022557 improvement2: 14.954517484503056 improvement3: 18.00043242224294 improvement4: 18.66919739677845\n",
            "density: 0.2138888888888889 improvement1: 4.181670125757284 improvement2: 15.948240391432554 improvement3: 18.52100497747267 improvement4: 19.814722418261905\n",
            "density: 0.2236111111111111 improvement1: 12.099647700465296 improvement2: 14.009641332879292 improvement3: 18.746248298646687 improvement4: 19.3903424145749\n",
            "density: 0.23333333333333334 improvement1: 9.70892884869853 improvement2: 15.356420352726065 improvement3: 15.07651211060119 improvement4: 19.472092235524034\n",
            "density: 0.24305555555555558 improvement1: 7.966644370219184 improvement2: 17.64733143215407 improvement3: 20.836626828712234 improvement4: 21.401013057594977\n",
            "density: 0.25277777777777777 improvement1: 8.713245648893777 improvement2: 8.824606722821557 improvement3: 20.718858102194186 improvement4: 23.58027965673156\n",
            "density: 0.2625 improvement1: 10.323125185117126 improvement2: 14.577777603702481 improvement3: 17.16363563320293 improvement4: 23.066800184669347\n",
            "density: 0.27222222222222225 improvement1: 17.301199132277922 improvement2: 20.923211946199437 improvement3: 23.91280993741226 improvement4: 21.830620375467785\n",
            "density: 0.2819444444444445 improvement1: 16.30573112854521 improvement2: 24.429977695439018 improvement3: 26.253344312242948 improvement4: 28.100702785844096\n",
            "density: 0.2916666666666667 improvement1: 22.901490236970734 improvement2: 29.71051106232183 improvement3: 31.249890511477137 improvement4: 32.51036315995487\n",
            "density: 0.30138888888888893 improvement1: 20.30329734093549 improvement2: 27.49114193571354 improvement3: 33.553728747354135 improvement4: 34.532441416633084\n",
            "density: 0.3111111111111111 improvement1: 26.90828911790772 improvement2: 31.563825842164555 improvement3: 35.020845444220086 improvement4: 36.49401618932235\n",
            "density: 0.3208333333333333 improvement1: 26.289762207019514 improvement2: 30.261544204117943 improvement3: 34.947939286134144 improvement4: 36.55612826916721\n",
            "density: 0.33055555555555555 improvement1: 22.36344334999724 improvement2: 35.351677388991156 improvement3: 35.34500941472994 improvement4: 37.08004408546712\n",
            "density: 0.3402777777777778 improvement1: 20.824351396923934 improvement2: 32.88073259481502 improvement3: 37.56426142400155 improvement4: 37.98917646951006\n",
            "density: 0.35000000000000003 improvement1: 22.720321382929612 improvement2: 33.34339393817976 improvement3: 35.30579732668065 improvement4: 38.02889627125691\n",
            "density: 0.3597222222222222 improvement1: 27.86033642750878 improvement2: 33.00785555527665 improvement3: 37.178142439942164 improvement4: 38.261868812069025\n",
            "density: 0.36944444444444446 improvement1: 20.302104087986233 improvement2: 34.184258959559216 improvement3: 36.576527945121185 improvement4: 38.90029295031694\n",
            "density: 0.3791666666666667 improvement1: 24.306128645625684 improvement2: 29.840723982457575 improvement3: 38.629132995907455 improvement4: 39.36546825004827\n",
            "density: 0.3888888888888889 improvement1: 20.05124523067411 improvement2: 33.22199439306362 improvement3: 33.28493834311185 improvement4: 39.43107925171576\n",
            "density: 0.39861111111111114 improvement1: 21.37682861031581 improvement2: 37.77167880433883 improvement3: 37.89315945889594 improvement4: 39.30936798548793\n",
            "density: 0.4083333333333334 improvement1: 26.441242863121683 improvement2: 39.804880657050376 improvement3: 39.80477372297694 improvement4: 39.80354398113248\n",
            "density: 0.4180555555555556 improvement1: 26.80068998421016 improvement2: 36.40325037327599 improvement3: 37.526989168078664 improvement4: 40.24580817589164\n",
            "density: 0.4277777777777778 improvement1: 29.55413228287641 improvement2: 34.85696814366036 improvement3: 38.05999450278819 improvement4: 40.22922331188278\n",
            "density: 0.4375 improvement1: 30.099936134997154 improvement2: 38.116233009350246 improvement3: 41.140065632342974 improvement4: 42.5316064620283\n",
            "density: 0.4472222222222222 improvement1: 31.16137697437762 improvement2: 37.36706690453477 improvement3: 42.53258794408408 improvement4: 44.566101644289574\n",
            "density: 0.4569444444444445 improvement1: 32.04018478732288 improvement2: 42.22945533701396 improvement3: 42.84015264200289 improvement4: 45.47756401897744\n",
            "density: 0.4666666666666667 improvement1: 30.34869840491671 improvement2: 40.55111303546618 improvement3: 44.4343294972059 improvement4: 45.99134739389868\n",
            "density: 0.47638888888888886 improvement1: 26.25306777124478 improvement2: 42.24296118778292 improvement3: 44.867929098145986 improvement4: 46.09862618302773\n",
            "density: 0.48611111111111116 improvement1: 30.16271018215149 improvement2: 42.411734220616985 improvement3: 44.86943538279716 improvement4: 46.6146186149666\n",
            "density: 0.49583333333333335 improvement1: 34.972359577541404 improvement2: 41.45901413359355 improvement3: 44.37962457851756 improvement4: 46.104773211023755\n",
            "density: 0.5055555555555555 improvement1: 31.550190655030555 improvement2: 41.147044556708025 improvement3: 44.37164149907418 improvement4: 46.53601399856741\n",
            "density: 0.5152777777777778 improvement1: 34.996242834942436 improvement2: 42.55801398470243 improvement3: 41.65871045721453 improvement4: 46.757155344791755\n",
            "density: 0.525 improvement1: 36.73274352802031 improvement2: 42.01345113838525 improvement3: 43.81206436188468 improvement4: 46.433344594838296\n",
            "density: 0.5347222222222223 improvement1: 37.662663407803855 improvement2: 45.571420495378376 improvement3: 45.43102205757302 improvement4: 46.90822520889574\n",
            "density: 0.5444444444444445 improvement1: 32.08737188380537 improvement2: 43.12038700287149 improvement3: 47.474135392332116 improvement4: 47.47506706613667\n",
            "density: 0.5541666666666667 improvement1: 31.341432033736154 improvement2: 41.5963697427275 improvement3: 44.51597464593812 improvement4: 46.247082382604425\n",
            "density: 0.563888888888889 improvement1: 31.119802082796447 improvement2: 42.64978357638416 improvement3: 45.053383769241776 improvement4: 46.903826065296386\n",
            "density: 0.5736111111111112 improvement1: 35.507996641594325 improvement2: 43.67269477567155 improvement3: 45.36754360386881 improvement4: 47.142666641525096\n",
            "density: 0.5833333333333334 improvement1: 32.08831451477344 improvement2: 43.36986354860089 improvement3: 44.76399982958834 improvement4: 45.76586065122204\n",
            "density: 0.5930555555555557 improvement1: 43.093689236314184 improvement2: 46.65332315863662 improvement3: 47.85624956914631 improvement4: 48.71969061577466\n",
            "density: 0.6027777777777779 improvement1: 36.891658785670224 improvement2: 46.703444963212405 improvement3: 47.407142325524035 improvement4: 48.5100398160393\n",
            "density: 0.6125 improvement1: 41.15660175286962 improvement2: 44.047879074895924 improvement3: 43.98890192681835 improvement4: 44.728315574968455\n",
            "density: 0.6222222222222222 improvement1: 36.1203510433649 improvement2: 39.93789426225197 improvement3: 41.63900794842153 improvement4: 42.6202453836745\n",
            "density: 0.6319444444444444 improvement1: 28.967704861525224 improvement2: 34.41863668940888 improvement3: 34.95725153748309 improvement4: 37.97234655587446\n",
            "density: 0.6416666666666666 improvement1: 31.7412480244541 improvement2: 37.30805861098495 improvement3: 37.36433467359475 improvement4: 38.04296787745051\n",
            "density: 0.6513888888888889 improvement1: 27.567367590525695 improvement2: 29.77031410538325 improvement3: 30.757440644894018 improvement4: 30.996189680456734\n",
            "density: 0.6611111111111111 improvement1: 25.80749217715878 improvement2: 29.26052668444899 improvement3: 29.803073735237394 improvement4: 30.03978468732889\n",
            "density: 0.6708333333333334 improvement1: 25.361934310550158 improvement2: 29.486777324933477 improvement3: 30.019028378860575 improvement4: 30.990303974389086\n",
            "density: 0.6805555555555556 improvement1: 26.286458010323322 improvement2: 28.175771924690018 improvement3: 29.30631351850857 improvement4: 30.08252382931151\n",
            "density: 0.6902777777777778 improvement1: 24.713047449851135 improvement2: 27.8432483715877 improvement3: 28.343264941985474 improvement4: 28.518369180540276\n",
            "density: 0.7000000000000001 improvement1: 23.508230461353666 improvement2: 26.712801568675832 improvement3: 27.213887979691417 improvement4: 28.814591950134016\n",
            "density: 0.7097222222222223 improvement1: 24.660015413958885 improvement2: 26.30667230810829 improvement3: 26.621822545793627 improvement4: 26.884581875579237\n",
            "density: 0.7194444444444444 improvement1: 21.945400715488162 improvement2: 26.04154444780665 improvement3: 26.57950332135678 improvement4: 26.680499559705478\n",
            "density: 0.7291666666666667 improvement1: 21.3949487803158 improvement2: 26.940781805992476 improvement3: 27.087591863806256 improvement4: 27.084114800487118\n",
            "density: 0.7388888888888889 improvement1: 21.41486908728125 improvement2: 24.736111498756003 improvement3: 25.496973199483147 improvement4: 25.96037478850327\n",
            "density: 0.7486111111111111 improvement1: 22.039050930311898 improvement2: 23.49627688967849 improvement3: 23.98242175060064 improvement4: 24.699313982207656\n",
            "density: 0.7583333333333334 improvement1: 21.68937430140909 improvement2: 24.10199265371394 improvement3: 24.573273644460627 improvement4: 24.803914448554647\n",
            "density: 0.7680555555555556 improvement1: 22.560617607216585 improvement2: 23.67421105794728 improvement3: 24.026984019022542 improvement4: 24.474142663984534\n",
            "density: 0.7777777777777778 improvement1: 18.696992378514352 improvement2: 23.21214939359372 improvement3: 23.551577503794892 improvement4: 23.58114048097692\n",
            "density: 0.7875000000000001 improvement1: 21.23761253835818 improvement2: 22.71325081383035 improvement3: 24.2117146425744 improvement4: 23.255698437806643\n",
            "density: 0.7972222222222223 improvement1: 16.956168546567213 improvement2: 20.887856497790903 improvement3: 21.1483550170762 improvement4: 21.616912590705557\n",
            "density: 0.8069444444444446 improvement1: 17.882046203295545 improvement2: 20.12341380938386 improvement3: 20.380918040386117 improvement4: 20.66339836029218\n",
            "density: 0.8166666666666668 improvement1: 16.038227332699336 improvement2: 19.242800751028863 improvement3: 19.52785093704413 improvement4: 19.773568753010007\n",
            "density: 0.826388888888889 improvement1: 15.101355980898415 improvement2: 18.025047407556322 improvement3: 18.2143142768745 improvement4: 18.696618815530844\n",
            "density: 0.8361111111111112 improvement1: 16.933553186077326 improvement2: 17.808953796728744 improvement3: 18.25076117589788 improvement4: 18.310708135822978\n",
            "density: 0.8458333333333334 improvement1: 14.487117688123952 improvement2: 17.234807440022838 improvement3: 17.484061396791358 improvement4: 18.221739994113616\n",
            "density: 0.8555555555555556 improvement1: 13.459541889701068 improvement2: 16.78501715484736 improvement3: 17.277162419104357 improvement4: 17.59048183160168\n",
            "density: 0.8652777777777778 improvement1: 14.091771373412554 improvement2: 15.388822665730489 improvement3: 15.861878288326388 improvement4: 16.18148443084104\n",
            "density: 0.875 improvement1: 13.93654792840577 improvement2: 15.44545320436353 improvement3: 16.016679127408196 improvement4: 16.505923974237756\n",
            "density: 0.8847222222222222 improvement1: 10.795820814887913 improvement2: 13.326168705755329 improvement3: 13.737716809948845 improvement4: 14.283219847162776\n",
            "density: 0.8944444444444444 improvement1: 10.164293252879704 improvement2: 12.258263127163417 improvement3: 12.745688283213774 improvement4: 13.022025460576447\n",
            "density: 0.9041666666666668 improvement1: 7.087992933452902 improvement2: 9.330294429586907 improvement3: 9.85871648021131 improvement4: 10.322498570520178\n",
            "density: 0.913888888888889 improvement1: 8.766472009421982 improvement2: 10.466803469259325 improvement3: 10.960679240717925 improvement4: 11.07925945639952\n",
            "density: 0.9236111111111112 improvement1: 7.297941010135798 improvement2: 9.411850387806863 improvement3: 9.759500315572506 improvement4: 10.443933028425228\n",
            "density: 0.9333333333333333 improvement1: 5.356700888798502 improvement2: 7.634641460414072 improvement3: 8.030785657845348 improvement4: 8.281744899260756\n",
            "density: 0.9430555555555555 improvement1: 4.287488778163083 improvement2: 5.725409970008408 improvement3: 6.042914057690282 improvement4: 6.318602599042504\n",
            "density: 0.9527777777777777 improvement1: 3.081880058019182 improvement2: 4.455677728304568 improvement3: 5.032492391454445 improvement4: 5.776485975721432\n",
            "density: 0.9625000000000001 improvement1: 4.117034960016719 improvement2: 5.07274318493399 improvement3: 5.495823171782536 improvement4: 5.383337656994276\n",
            "density: 0.9722222222222223 improvement1: 2.2723348740233638 improvement2: 3.5499032331211686 improvement3: 4.167122431171243 improvement4: 4.554795005874175\n",
            "time 1:39:40.571259\n"
          ]
        },
        {
          "output_type": "display_data",
          "data": {
            "text/plain": [
              "<Figure size 1120x320 with 2 Axes>"
            ],
            "image/png": "[encoded data removed]"
          },
          "metadata": {
            "needs_background": "light"
          }
        },
        {
          "output_type": "display_data",
          "data": {
            "text/plain": [
              "<function __main__.fuel_example>"
            ]
          },
          "metadata": {}
        },
        {
          "output_type": "execute_result",
          "data": {
            "text/plain": [
              "<function __main__.model_plot>"
            ]
          },
          "metadata": {},
          "execution_count": 43
        }
      ]
    },
    {
      "cell_type": "markdown",
      "source": [
        "#end"
      ],
      "metadata": {
        "id": "HVZi7JMGO-xp"
      }
    }
  ]
}