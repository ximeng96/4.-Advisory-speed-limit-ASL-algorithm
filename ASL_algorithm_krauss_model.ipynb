{
  "nbformat": 4,
  "nbformat_minor": 0,
  "metadata": {
    "colab": {
      "name": "ASL_algorithm_krauss_model.ipynb",
      "provenance": [],
      "collapsed_sections": [],
      "toc_visible": true
    },
    "kernelspec": {
      "name": "python3",
      "display_name": "Python 3"
    },
    "widgets": {
      "application/vnd.jupyter.widget-state+json": {
        "f37829d09e744f2aaac7750779f7ab90": {
          "model_module": "@jupyter-widgets/controls",
          "model_name": "VBoxModel",
          "model_module_version": "1.5.0",
          "state": {
            "_dom_classes": [
              "widget-interact"
            ],
            "_model_module": "@jupyter-widgets/controls",
            "_model_module_version": "1.5.0",
            "_model_name": "VBoxModel",
            "_view_count": null,
            "_view_module": "@jupyter-widgets/controls",
            "_view_module_version": "1.5.0",
            "_view_name": "VBoxView",
            "box_style": "",
            "children": [
              "IPY_MODEL_0d175be0c0ff4b3d887fdee6c8507974",
              "IPY_MODEL_ff23f81dd9bf40b69ce4bcef0eefad15"
            ],
            "layout": "IPY_MODEL_5e60c1ccae2b4a57872d401cebc4ecac"
          }
        },
        "0d175be0c0ff4b3d887fdee6c8507974": {
          "model_module": "@jupyter-widgets/controls",
          "model_name": "FloatSliderModel",
          "model_module_version": "1.5.0",
          "state": {
            "_dom_classes": [],
            "_model_module": "@jupyter-widgets/controls",
            "_model_module_version": "1.5.0",
            "_model_name": "FloatSliderModel",
            "_view_count": null,
            "_view_module": "@jupyter-widgets/controls",
            "_view_module_version": "1.5.0",
            "_view_name": "FloatSliderView",
            "continuous_update": true,
            "description": "model id",
            "description_tooltip": null,
            "disabled": false,
            "layout": "IPY_MODEL_9134edccab7949b9bc36ed8d0e8272b4",
            "max": 6,
            "min": 1,
            "orientation": "horizontal",
            "readout": true,
            "readout_format": ".2f",
            "step": 1,
            "style": "IPY_MODEL_f0fc9407238b408397bad6a1b0e1c353",
            "value": 4
          }
        },
        "ff23f81dd9bf40b69ce4bcef0eefad15": {
          "model_module": "@jupyter-widgets/output",
          "model_name": "OutputModel",
          "model_module_version": "1.0.0",
          "state": {
            "_dom_classes": [],
            "_model_module": "@jupyter-widgets/output",
            "_model_module_version": "1.0.0",
            "_model_name": "OutputModel",
            "_view_count": null,
            "_view_module": "@jupyter-widgets/output",
            "_view_module_version": "1.0.0",
            "_view_name": "OutputView",
            "layout": "IPY_MODEL_26d579d792b34ad9ad5c28fabefcaff4",
            "msg_id": "",
            "outputs": [
              {
                "output_type": "display_data",
                "data": {
                  "text/plain": "interactive(children=(FloatSlider(value=1.5, description='$\\\\tau$', max=3.0, min=0.5, step=0.5), FloatSlider(v…",
                  "application/vnd.jupyter.widget-view+json": {
                    "version_major": 2,
                    "version_minor": 0,
                    "model_id": "0baa0604821945c9824c877ae149d062"
                  }
                },
                "metadata": {}
              },
              {
                "output_type": "display_data",
                "data": {
                  "text/plain": "<function __main__.fuel_example>"
                },
                "metadata": {}
              }
            ]
          }
        },
        "5e60c1ccae2b4a57872d401cebc4ecac": {
          "model_module": "@jupyter-widgets/base",
          "model_name": "LayoutModel",
          "model_module_version": "1.2.0",
          "state": {
            "_model_module": "@jupyter-widgets/base",
            "_model_module_version": "1.2.0",
            "_model_name": "LayoutModel",
            "_view_count": null,
            "_view_module": "@jupyter-widgets/base",
            "_view_module_version": "1.2.0",
            "_view_name": "LayoutView",
            "align_content": null,
            "align_items": null,
            "align_self": null,
            "border": null,
            "bottom": null,
            "display": null,
            "flex": null,
            "flex_flow": null,
            "grid_area": null,
            "grid_auto_columns": null,
            "grid_auto_flow": null,
            "grid_auto_rows": null,
            "grid_column": null,
            "grid_gap": null,
            "grid_row": null,
            "grid_template_areas": null,
            "grid_template_columns": null,
            "grid_template_rows": null,
            "height": null,
            "justify_content": null,
            "justify_items": null,
            "left": null,
            "margin": null,
            "max_height": null,
            "max_width": null,
            "min_height": null,
            "min_width": null,
            "object_fit": null,
            "object_position": null,
            "order": null,
            "overflow": null,
            "overflow_x": null,
            "overflow_y": null,
            "padding": null,
            "right": null,
            "top": null,
            "visibility": null,
            "width": null
          }
        },
        "9134edccab7949b9bc36ed8d0e8272b4": {
          "model_module": "@jupyter-widgets/base",
          "model_name": "LayoutModel",
          "model_module_version": "1.2.0",
          "state": {
            "_model_module": "@jupyter-widgets/base",
            "_model_module_version": "1.2.0",
            "_model_name": "LayoutModel",
            "_view_count": null,
            "_view_module": "@jupyter-widgets/base",
            "_view_module_version": "1.2.0",
            "_view_name": "LayoutView",
            "align_content": null,
            "align_items": null,
            "align_self": null,
            "border": null,
            "bottom": null,
            "display": null,
            "flex": null,
            "flex_flow": null,
            "grid_area": null,
            "grid_auto_columns": null,
            "grid_auto_flow": null,
            "grid_auto_rows": null,
            "grid_column": null,
            "grid_gap": null,
            "grid_row": null,
            "grid_template_areas": null,
            "grid_template_columns": null,
            "grid_template_rows": null,
            "height": null,
            "justify_content": null,
            "justify_items": null,
            "left": null,
            "margin": null,
            "max_height": null,
            "max_width": null,
            "min_height": null,
            "min_width": null,
            "object_fit": null,
            "object_position": null,
            "order": null,
            "overflow": null,
            "overflow_x": null,
            "overflow_y": null,
            "padding": null,
            "right": null,
            "top": null,
            "visibility": null,
            "width": null
          }
        },
        "f0fc9407238b408397bad6a1b0e1c353": {
          "model_module": "@jupyter-widgets/controls",
          "model_name": "SliderStyleModel",
          "model_module_version": "1.5.0",
          "state": {
            "_model_module": "@jupyter-widgets/controls",
            "_model_module_version": "1.5.0",
            "_model_name": "SliderStyleModel",
            "_view_count": null,
            "_view_module": "@jupyter-widgets/base",
            "_view_module_version": "1.2.0",
            "_view_name": "StyleView",
            "description_width": "",
            "handle_color": null
          }
        },
        "26d579d792b34ad9ad5c28fabefcaff4": {
          "model_module": "@jupyter-widgets/base",
          "model_name": "LayoutModel",
          "model_module_version": "1.2.0",
          "state": {
            "_model_module": "@jupyter-widgets/base",
            "_model_module_version": "1.2.0",
            "_model_name": "LayoutModel",
            "_view_count": null,
            "_view_module": "@jupyter-widgets/base",
            "_view_module_version": "1.2.0",
            "_view_name": "LayoutView",
            "align_content": null,
            "align_items": null,
            "align_self": null,
            "border": null,
            "bottom": null,
            "display": null,
            "flex": null,
            "flex_flow": null,
            "grid_area": null,
            "grid_auto_columns": null,
            "grid_auto_flow": null,
            "grid_auto_rows": null,
            "grid_column": null,
            "grid_gap": null,
            "grid_row": null,
            "grid_template_areas": null,
            "grid_template_columns": null,
            "grid_template_rows": null,
            "height": null,
            "justify_content": null,
            "justify_items": null,
            "left": null,
            "margin": null,
            "max_height": null,
            "max_width": null,
            "min_height": null,
            "min_width": null,
            "object_fit": null,
            "object_position": null,
            "order": null,
            "overflow": null,
            "overflow_x": null,
            "overflow_y": null,
            "padding": null,
            "right": null,
            "top": null,
            "visibility": null,
            "width": null
          }
        },
        "0baa0604821945c9824c877ae149d062": {
          "model_module": "@jupyter-widgets/controls",
          "model_name": "VBoxModel",
          "model_module_version": "1.5.0",
          "state": {
            "_dom_classes": [
              "widget-interact"
            ],
            "_model_module": "@jupyter-widgets/controls",
            "_model_module_version": "1.5.0",
            "_model_name": "VBoxModel",
            "_view_count": null,
            "_view_module": "@jupyter-widgets/controls",
            "_view_module_version": "1.5.0",
            "_view_name": "VBoxView",
            "box_style": "",
            "children": [
              "IPY_MODEL_51824f6f2ee24abfae57e82ee067d5c3",
              "IPY_MODEL_759794b5e831448f89d32c683712bbc9",
              "IPY_MODEL_78ac49f762b24c01b9a1a738e1678220",
              "IPY_MODEL_a6dbe82ce16049fa92ba20aa640b4b5e",
              "IPY_MODEL_686cae8e030d4e62a0c9263d7282f23d",
              "IPY_MODEL_96bfd3df865849e7bc43ed45b895a3f1",
              "IPY_MODEL_f79dd5fd8ebc4927bf0441b063a7e3a7",
              "IPY_MODEL_ff8d97a46d72429fb89284f050b5f34f"
            ],
            "layout": "IPY_MODEL_a8f471b68c1843bca68cfc00df4b0c9c"
          }
        },
        "51824f6f2ee24abfae57e82ee067d5c3": {
          "model_module": "@jupyter-widgets/controls",
          "model_name": "FloatSliderModel",
          "model_module_version": "1.5.0",
          "state": {
            "_dom_classes": [],
            "_model_module": "@jupyter-widgets/controls",
            "_model_module_version": "1.5.0",
            "_model_name": "FloatSliderModel",
            "_view_count": null,
            "_view_module": "@jupyter-widgets/controls",
            "_view_module_version": "1.5.0",
            "_view_name": "FloatSliderView",
            "continuous_update": true,
            "description": "$\\tau$",
            "description_tooltip": null,
            "disabled": false,
            "layout": "IPY_MODEL_e5b13a0ea15a45dc80d1b356e26b5fea",
            "max": 3,
            "min": 0.5,
            "orientation": "horizontal",
            "readout": true,
            "readout_format": ".2f",
            "step": 0.5,
            "style": "IPY_MODEL_7aca6650e2eb4bd094ab1ad624286f8b",
            "value": 1.5
          }
        },
        "759794b5e831448f89d32c683712bbc9": {
          "model_module": "@jupyter-widgets/controls",
          "model_name": "FloatSliderModel",
          "model_module_version": "1.5.0",
          "state": {
            "_dom_classes": [],
            "_model_module": "@jupyter-widgets/controls",
            "_model_module_version": "1.5.0",
            "_model_name": "FloatSliderModel",
            "_view_count": null,
            "_view_module": "@jupyter-widgets/controls",
            "_view_module_version": "1.5.0",
            "_view_name": "FloatSliderView",
            "continuous_update": true,
            "description": "$\\Delta t$",
            "description_tooltip": null,
            "disabled": false,
            "layout": "IPY_MODEL_4ddeb8ff83a9475487e12aff33195d5f",
            "max": 2,
            "min": 0.1,
            "orientation": "horizontal",
            "readout": true,
            "readout_format": ".2f",
            "step": 0.1,
            "style": "IPY_MODEL_984db6ec08674cc687e9b90ceec5addf",
            "value": 1.5
          }
        },
        "78ac49f762b24c01b9a1a738e1678220": {
          "model_module": "@jupyter-widgets/controls",
          "model_name": "FloatSliderModel",
          "model_module_version": "1.5.0",
          "state": {
            "_dom_classes": [],
            "_model_module": "@jupyter-widgets/controls",
            "_model_module_version": "1.5.0",
            "_model_name": "FloatSliderModel",
            "_view_count": null,
            "_view_module": "@jupyter-widgets/controls",
            "_view_module_version": "1.5.0",
            "_view_name": "FloatSliderView",
            "continuous_update": true,
            "description": "$l$",
            "description_tooltip": null,
            "disabled": false,
            "layout": "IPY_MODEL_6b61083fee9646298642fe48fba91d0a",
            "max": 8,
            "min": 3,
            "orientation": "horizontal",
            "readout": true,
            "readout_format": ".2f",
            "step": 1,
            "style": "IPY_MODEL_88e8d624ac5e44eaa30a740d6829aed0",
            "value": 5
          }
        },
        "a6dbe82ce16049fa92ba20aa640b4b5e": {
          "model_module": "@jupyter-widgets/controls",
          "model_name": "FloatSliderModel",
          "model_module_version": "1.5.0",
          "state": {
            "_dom_classes": [],
            "_model_module": "@jupyter-widgets/controls",
            "_model_module_version": "1.5.0",
            "_model_name": "FloatSliderModel",
            "_view_count": null,
            "_view_module": "@jupyter-widgets/controls",
            "_view_module_version": "1.5.0",
            "_view_name": "FloatSliderView",
            "continuous_update": true,
            "description": "$S_0$",
            "description_tooltip": null,
            "disabled": false,
            "layout": "IPY_MODEL_f397c46a4de545719800ea072870ed44",
            "max": 4,
            "min": 0,
            "orientation": "horizontal",
            "readout": true,
            "readout_format": ".2f",
            "step": 1,
            "style": "IPY_MODEL_86327a5bb84a435a9f220c160493fbfe",
            "value": 2
          }
        },
        "686cae8e030d4e62a0c9263d7282f23d": {
          "model_module": "@jupyter-widgets/controls",
          "model_name": "FloatSliderModel",
          "model_module_version": "1.5.0",
          "state": {
            "_dom_classes": [],
            "_model_module": "@jupyter-widgets/controls",
            "_model_module_version": "1.5.0",
            "_model_name": "FloatSliderModel",
            "_view_count": null,
            "_view_module": "@jupyter-widgets/controls",
            "_view_module_version": "1.5.0",
            "_view_name": "FloatSliderView",
            "continuous_update": true,
            "description": "$v_f$",
            "description_tooltip": null,
            "disabled": false,
            "layout": "IPY_MODEL_440161b1ada44e46aa0e881a9b8ec0b6",
            "max": 20,
            "min": 10,
            "orientation": "horizontal",
            "readout": true,
            "readout_format": ".2f",
            "step": 1,
            "style": "IPY_MODEL_6d81ab24636c474cbc1992cb22f7c60e",
            "value": 12
          }
        },
        "96bfd3df865849e7bc43ed45b895a3f1": {
          "model_module": "@jupyter-widgets/controls",
          "model_name": "FloatSliderModel",
          "model_module_version": "1.5.0",
          "state": {
            "_dom_classes": [],
            "_model_module": "@jupyter-widgets/controls",
            "_model_module_version": "1.5.0",
            "_model_name": "FloatSliderModel",
            "_view_count": null,
            "_view_module": "@jupyter-widgets/controls",
            "_view_module_version": "1.5.0",
            "_view_name": "FloatSliderView",
            "continuous_update": true,
            "description": "$a_0$",
            "description_tooltip": null,
            "disabled": false,
            "layout": "IPY_MODEL_ac74e17c17b54f39ae30b32d81bb3526",
            "max": 4,
            "min": 0,
            "orientation": "horizontal",
            "readout": true,
            "readout_format": ".2f",
            "step": 1,
            "style": "IPY_MODEL_6e3f0850681c48f08a74f0bb44ad54b8",
            "value": 1.5
          }
        },
        "f79dd5fd8ebc4927bf0441b063a7e3a7": {
          "model_module": "@jupyter-widgets/controls",
          "model_name": "FloatSliderModel",
          "model_module_version": "1.5.0",
          "state": {
            "_dom_classes": [],
            "_model_module": "@jupyter-widgets/controls",
            "_model_module_version": "1.5.0",
            "_model_name": "FloatSliderModel",
            "_view_count": null,
            "_view_module": "@jupyter-widgets/controls",
            "_view_module_version": "1.5.0",
            "_view_name": "FloatSliderView",
            "continuous_update": true,
            "description": "$b$",
            "description_tooltip": null,
            "disabled": false,
            "layout": "IPY_MODEL_f06a1e45192340d49be6f9ab2f436c20",
            "max": 6,
            "min": 0,
            "orientation": "horizontal",
            "readout": true,
            "readout_format": ".2f",
            "step": 1,
            "style": "IPY_MODEL_7e8c00a9266446d9951784be4e19779f",
            "value": 3
          }
        },
        "ff8d97a46d72429fb89284f050b5f34f": {
          "model_module": "@jupyter-widgets/output",
          "model_name": "OutputModel",
          "model_module_version": "1.0.0",
          "state": {
            "_dom_classes": [],
            "_model_module": "@jupyter-widgets/output",
            "_model_module_version": "1.0.0",
            "_model_name": "OutputModel",
            "_view_count": null,
            "_view_module": "@jupyter-widgets/output",
            "_view_module_version": "1.0.0",
            "_view_name": "OutputView",
            "layout": "IPY_MODEL_9913401b6aeb45348ef29e03432aaaf1",
            "msg_id": "",
            "outputs": [
              {
                "output_type": "stream",
                "name": "stdout",
                "text": [
                  "car_number 2 ave_fuel 8.799950111340409e-05\n"
                ]
              },
              {
                "output_type": "stream",
                "name": "stdout",
                "text": [
                  "car_number 3 ave_fuel 8.799950111340409e-05\n"
                ]
              },
              {
                "output_type": "stream",
                "name": "stdout",
                "text": [
                  "car_number 4 ave_fuel 8.799950111340409e-05\n"
                ]
              },
              {
                "output_type": "stream",
                "name": "stdout",
                "text": [
                  "car_number 5 ave_fuel 8.799950111340409e-05\n"
                ]
              },
              {
                "output_type": "stream",
                "name": "stderr",
                "text": [
                  "/usr/local/lib/python3.7/dist-packages/ipykernel_launcher.py:27: RuntimeWarning: invalid value encountered in double_scalars\n"
                ]
              },
              {
                "output_type": "stream",
                "name": "stdout",
                "text": [
                  "car_number 6 ave_fuel 8.799950111340409e-05\n"
                ]
              },
              {
                "output_type": "stream",
                "name": "stdout",
                "text": [
                  "car_number 7 ave_fuel 8.799950111340409e-05\n"
                ]
              },
              {
                "output_type": "stream",
                "name": "stdout",
                "text": [
                  "car_number 8 ave_fuel 8.799950111340409e-05\n"
                ]
              },
              {
                "output_type": "stream",
                "name": "stdout",
                "text": [
                  "car_number 9 ave_fuel 8.799950111340409e-05\n"
                ]
              },
              {
                "output_type": "stream",
                "name": "stdout",
                "text": [
                  "car_number 10 ave_fuel 8.799950111340409e-05\n"
                ]
              },
              {
                "output_type": "stream",
                "name": "stdout",
                "text": [
                  "car_number 11 ave_fuel 8.799950111340409e-05\n"
                ]
              },
              {
                "output_type": "stream",
                "name": "stdout",
                "text": [
                  "car_number 12 ave_fuel 8.799950111340409e-05\n"
                ]
              },
              {
                "output_type": "stream",
                "name": "stdout",
                "text": [
                  "car_number 13 ave_fuel 8.799950111340409e-05\n"
                ]
              },
              {
                "output_type": "stream",
                "name": "stdout",
                "text": [
                  "car_number 14 ave_fuel 9.123536587149513e-05\n"
                ]
              },
              {
                "output_type": "stream",
                "name": "stdout",
                "text": [
                  "car_number 15 ave_fuel 0.00011315705901309506\n"
                ]
              },
              {
                "output_type": "stream",
                "name": "stdout",
                "text": [
                  "car_number 16 ave_fuel 0.00011848502929752505\n"
                ]
              },
              {
                "output_type": "stream",
                "name": "stdout",
                "text": [
                  "car_number 17 ave_fuel 0.00012819941522619513\n"
                ]
              },
              {
                "output_type": "stream",
                "name": "stdout",
                "text": [
                  "car_number 18 ave_fuel 0.0001276290326900118\n"
                ]
              },
              {
                "output_type": "stream",
                "name": "stdout",
                "text": [
                  "car_number 19 ave_fuel 0.00013619730083755496\n"
                ]
              },
              {
                "output_type": "stream",
                "name": "stdout",
                "text": [
                  "car_number 20 ave_fuel 0.00013687049547212623\n"
                ]
              },
              {
                "output_type": "stream",
                "name": "stdout",
                "text": [
                  "car_number 21 ave_fuel 0.0001447083657012064\n"
                ]
              },
              {
                "output_type": "stream",
                "name": "stdout",
                "text": [
                  "car_number 22 ave_fuel 0.00015512204806528694\n"
                ]
              },
              {
                "output_type": "stream",
                "name": "stdout",
                "text": [
                  "car_number 23 ave_fuel 0.00014893847983843975\n"
                ]
              },
              {
                "output_type": "stream",
                "name": "stdout",
                "text": [
                  "car_number 24 ave_fuel 0.00015956181144355746\n"
                ]
              },
              {
                "output_type": "stream",
                "name": "stdout",
                "text": [
                  "car_number 25 ave_fuel 0.00016291403670291063\n"
                ]
              },
              {
                "output_type": "stream",
                "name": "stdout",
                "text": [
                  "car_number 26 ave_fuel 0.00016679294445636912\n"
                ]
              },
              {
                "output_type": "stream",
                "name": "stdout",
                "text": [
                  "car_number 27 ave_fuel 0.0001687802251869792\n"
                ]
              },
              {
                "output_type": "stream",
                "name": "stdout",
                "text": [
                  "car_number 28 ave_fuel 0.00015551085740747375\n"
                ]
              },
              {
                "output_type": "stream",
                "name": "stdout",
                "text": [
                  "car_number 29 ave_fuel 0.00016010085420797423\n"
                ]
              },
              {
                "output_type": "stream",
                "name": "stdout",
                "text": [
                  "car_number 30 ave_fuel 0.00017936367242399911\n"
                ]
              },
              {
                "output_type": "stream",
                "name": "stdout",
                "text": [
                  "car_number 31 ave_fuel 0.00017656116812796724\n"
                ]
              },
              {
                "output_type": "stream",
                "name": "stdout",
                "text": [
                  "car_number 32 ave_fuel 0.00018241706571794572\n"
                ]
              },
              {
                "output_type": "stream",
                "name": "stdout",
                "text": [
                  "car_number 33 ave_fuel 0.00017610516399573254\n"
                ]
              },
              {
                "output_type": "stream",
                "name": "stdout",
                "text": [
                  "car_number 34 ave_fuel 0.00019861490185607293\n"
                ]
              },
              {
                "output_type": "stream",
                "name": "stdout",
                "text": [
                  "car_number 35 ave_fuel 0.00019114624632759716\n"
                ]
              },
              {
                "output_type": "stream",
                "name": "stdout",
                "text": [
                  "car_number 36 ave_fuel 0.0002186134614705954\n"
                ]
              },
              {
                "output_type": "stream",
                "name": "stdout",
                "text": [
                  "car_number 37 ave_fuel 0.00020960652385667604\n"
                ]
              },
              {
                "output_type": "stream",
                "name": "stdout",
                "text": [
                  "car_number 38 ave_fuel 0.00019231924237853005\n"
                ]
              },
              {
                "output_type": "stream",
                "name": "stdout",
                "text": [
                  "car_number 39 ave_fuel 0.00022769365182078575\n"
                ]
              },
              {
                "output_type": "stream",
                "name": "stdout",
                "text": [
                  "car_number 40 ave_fuel 0.00021490903353956625\n"
                ]
              },
              {
                "output_type": "stream",
                "name": "stdout",
                "text": [
                  "car_number 41 ave_fuel 0.0002022679176889094\n"
                ]
              },
              {
                "output_type": "stream",
                "name": "stdout",
                "text": [
                  "car_number 42 ave_fuel 0.00022334935883595083\n"
                ]
              },
              {
                "output_type": "stream",
                "name": "stdout",
                "text": [
                  "car_number 43 ave_fuel 0.0002095462107539736\n"
                ]
              },
              {
                "output_type": "stream",
                "name": "stdout",
                "text": [
                  "car_number 44 ave_fuel 0.00021478585203196045\n"
                ]
              },
              {
                "output_type": "stream",
                "name": "stdout",
                "text": [
                  "car_number 45 ave_fuel 0.00022274869664281265\n"
                ]
              },
              {
                "output_type": "stream",
                "name": "stdout",
                "text": [
                  "car_number 46 ave_fuel 0.0002257734094503177\n"
                ]
              },
              {
                "output_type": "stream",
                "name": "stdout",
                "text": [
                  "car_number 47 ave_fuel 0.00023054464079207037\n"
                ]
              },
              {
                "output_type": "stream",
                "name": "stdout",
                "text": [
                  "car_number 48 ave_fuel 0.00021977578452835376\n"
                ]
              },
              {
                "output_type": "stream",
                "name": "stdout",
                "text": [
                  "car_number 49 ave_fuel 0.00023250519371164976\n"
                ]
              },
              {
                "output_type": "stream",
                "name": "stdout",
                "text": [
                  "car_number 50 ave_fuel 0.0002481406425764432\n"
                ]
              },
              {
                "output_type": "stream",
                "name": "stdout",
                "text": [
                  "car_number 51 ave_fuel 0.00024685426031115915\n"
                ]
              },
              {
                "output_type": "stream",
                "name": "stdout",
                "text": [
                  "car_number 52 ave_fuel 0.00026997431439938806\n"
                ]
              },
              {
                "output_type": "stream",
                "name": "stdout",
                "text": [
                  "car_number 53 ave_fuel 0.0002619673769959979\n"
                ]
              },
              {
                "output_type": "stream",
                "name": "stdout",
                "text": [
                  "car_number 54 ave_fuel 0.0002493342980221962\n"
                ]
              },
              {
                "output_type": "stream",
                "name": "stdout",
                "text": [
                  "car_number 55 ave_fuel 0.00026793456959607685\n"
                ]
              },
              {
                "output_type": "stream",
                "name": "stdout",
                "text": [
                  "car_number 56 ave_fuel 0.0002484015643506722\n"
                ]
              },
              {
                "output_type": "stream",
                "name": "stdout",
                "text": [
                  "car_number 57 ave_fuel 0.00026188402196292116\n"
                ]
              },
              {
                "output_type": "stream",
                "name": "stdout",
                "text": [
                  "car_number 58 ave_fuel 0.00026354753894212583\n"
                ]
              },
              {
                "output_type": "stream",
                "name": "stdout",
                "text": [
                  "car_number 59 ave_fuel 0.0002736371551271323\n"
                ]
              },
              {
                "output_type": "stream",
                "name": "stdout",
                "text": [
                  "car_number 60 ave_fuel 0.0002807622618777164\n"
                ]
              },
              {
                "output_type": "stream",
                "name": "stdout",
                "text": [
                  "car_number 61 ave_fuel 0.0002800855376198727\n"
                ]
              },
              {
                "output_type": "stream",
                "name": "stdout",
                "text": [
                  "car_number 62 ave_fuel 0.00027315747490920604\n"
                ]
              },
              {
                "output_type": "stream",
                "name": "stdout",
                "text": [
                  "car_number 63 ave_fuel 0.00030526837341236524\n"
                ]
              },
              {
                "output_type": "stream",
                "name": "stdout",
                "text": [
                  "car_number 64 ave_fuel 0.000304541144111753\n"
                ]
              },
              {
                "output_type": "stream",
                "name": "stdout",
                "text": [
                  "car_number 65 ave_fuel 0.0003077989626418021\n"
                ]
              },
              {
                "output_type": "stream",
                "name": "stdout",
                "text": [
                  "car_number 66 ave_fuel 0.00030436457179437774\n"
                ]
              },
              {
                "output_type": "stream",
                "name": "stdout",
                "text": [
                  "car_number 67 ave_fuel 0.0003265373930866035\n"
                ]
              },
              {
                "output_type": "stream",
                "name": "stdout",
                "text": [
                  "car_number 68 ave_fuel 0.00031576081462347404\n"
                ]
              },
              {
                "output_type": "stream",
                "name": "stdout",
                "text": [
                  "car_number 69 ave_fuel 0.0003207314171675602\n"
                ]
              },
              {
                "output_type": "stream",
                "name": "stdout",
                "text": [
                  "car_number 70 ave_fuel 0.00034013102358946645\n"
                ]
              },
              {
                "output_type": "stream",
                "name": "stdout",
                "text": [
                  "car_number 71 ave_fuel 0.0003458508012325433\n"
                ]
              },
              {
                "output_type": "stream",
                "name": "stdout",
                "text": [
                  "car_number 72 ave_fuel 0.0003620096133696004\n"
                ]
              },
              {
                "output_type": "stream",
                "name": "stdout",
                "text": [
                  "car_number 73 ave_fuel 0.0003621578616410644\n"
                ]
              },
              {
                "output_type": "stream",
                "name": "stdout",
                "text": [
                  "car_number 74 ave_fuel 0.0003779214853348977\n"
                ]
              },
              {
                "output_type": "stream",
                "name": "stdout",
                "text": [
                  "car_number 75 ave_fuel 0.0004041279182173779\n"
                ]
              },
              {
                "output_type": "stream",
                "name": "stdout",
                "text": [
                  "car_number 76 ave_fuel 0.0004149655037934955\n"
                ]
              },
              {
                "output_type": "stream",
                "name": "stdout",
                "text": [
                  "car_number 77 ave_fuel 0.0004277973946748218\n"
                ]
              },
              {
                "output_type": "stream",
                "name": "stdout",
                "text": [
                  "car_number 78 ave_fuel 0.000453524760497825\n"
                ]
              },
              {
                "output_type": "stream",
                "name": "stdout",
                "text": [
                  "car_number 79 ave_fuel 0.0004688100180837866\n"
                ]
              },
              {
                "output_type": "stream",
                "name": "stdout",
                "text": [
                  "car_number 80 ave_fuel 0.0004870525747001474\n"
                ]
              },
              {
                "output_type": "stream",
                "name": "stdout",
                "text": [
                  "car_number 81 ave_fuel 0.0005148247393434874\n"
                ]
              },
              {
                "output_type": "stream",
                "name": "stdout",
                "text": [
                  "car_number 82 ave_fuel 0.0005314694257110267\n"
                ]
              },
              {
                "output_type": "stream",
                "name": "stdout",
                "text": [
                  "car_number 83 ave_fuel 0.0005597747283550289\n"
                ]
              },
              {
                "output_type": "stream",
                "name": "stdout",
                "text": [
                  "car_number 84 ave_fuel 0.0005944694871775347\n"
                ]
              },
              {
                "output_type": "stream",
                "name": "stdout",
                "text": [
                  "car_number 85 ave_fuel 0.0006342549006015209\n"
                ]
              },
              {
                "output_type": "stream",
                "name": "stdout",
                "text": [
                  "car_number 86 ave_fuel 0.0006589806222442748\n"
                ]
              },
              {
                "output_type": "stream",
                "name": "stdout",
                "text": [
                  "car_number 87 ave_fuel 0.0007171400502418722\n"
                ]
              },
              {
                "output_type": "stream",
                "name": "stdout",
                "text": [
                  "car_number 88 ave_fuel 0.0007554222737471101\n"
                ]
              },
              {
                "output_type": "stream",
                "name": "stdout",
                "text": [
                  "car_number 89 ave_fuel 0.0008328542544803134\n"
                ]
              },
              {
                "output_type": "stream",
                "name": "stdout",
                "text": [
                  "car_number 90 ave_fuel 0.0008786264849525417\n"
                ]
              },
              {
                "output_type": "stream",
                "name": "stdout",
                "text": [
                  "car_number 91 ave_fuel 0.0009581492647280636\n"
                ]
              },
              {
                "output_type": "stream",
                "name": "stdout",
                "text": [
                  "car_number 92 ave_fuel 0.001046319251251948\n"
                ]
              },
              {
                "output_type": "stream",
                "name": "stdout",
                "text": [
                  "car_number 93 ave_fuel 0.0011518033893139314\n"
                ]
              },
              {
                "output_type": "stream",
                "name": "stdout",
                "text": [
                  "car_number 94 ave_fuel 0.0012820599852847833\n"
                ]
              },
              {
                "output_type": "stream",
                "name": "stdout",
                "text": [
                  "car_number 95 ave_fuel 0.00142387627879457\n"
                ]
              },
              {
                "output_type": "stream",
                "name": "stdout",
                "text": [
                  "car_number 96 ave_fuel 0.001624415154709619\n"
                ]
              },
              {
                "output_type": "stream",
                "name": "stdout",
                "text": [
                  "car_number 97 ave_fuel 0.0019261331526461527\n"
                ]
              },
              {
                "output_type": "stream",
                "name": "stdout",
                "text": [
                  "car_number 98 ave_fuel 0.0023141319625843695\n"
                ]
              },
              {
                "output_type": "stream",
                "name": "stdout",
                "text": [
                  "car_number 99 ave_fuel 0.002906208463856064\n"
                ]
              },
              {
                "output_type": "stream",
                "name": "stdout",
                "text": [
                  "car_number 100 ave_fuel 0.0039059116178171566\n"
                ]
              },
              {
                "output_type": "stream",
                "name": "stdout",
                "text": [
                  "car_number 2 ave_fuel 8.800665218634127e-05\n"
                ]
              },
              {
                "output_type": "stream",
                "name": "stdout",
                "text": [
                  "car_number 3 ave_fuel 8.799950111340409e-05\n"
                ]
              },
              {
                "output_type": "stream",
                "name": "stdout",
                "text": [
                  "car_number 4 ave_fuel 8.799950111340409e-05\n"
                ]
              },
              {
                "output_type": "stream",
                "name": "stdout",
                "text": [
                  "car_number 5 ave_fuel 8.799950111340409e-05\n"
                ]
              },
              {
                "output_type": "stream",
                "name": "stdout",
                "text": [
                  "car_number 6 ave_fuel 8.799950111340409e-05\n"
                ]
              },
              {
                "output_type": "stream",
                "name": "stdout",
                "text": [
                  "car_number 7 ave_fuel 8.799950111340409e-05\n"
                ]
              },
              {
                "output_type": "stream",
                "name": "stdout",
                "text": [
                  "car_number 8 ave_fuel 8.799950111340409e-05\n"
                ]
              },
              {
                "output_type": "stream",
                "name": "stdout",
                "text": [
                  "car_number 9 ave_fuel 8.799950111340409e-05\n"
                ]
              },
              {
                "output_type": "stream",
                "name": "stdout",
                "text": [
                  "car_number 10 ave_fuel 8.799950111340409e-05\n"
                ]
              },
              {
                "output_type": "stream",
                "name": "stdout",
                "text": [
                  "car_number 11 ave_fuel 8.800023699268269e-05\n"
                ]
              },
              {
                "output_type": "stream",
                "name": "stdout",
                "text": [
                  "car_number 12 ave_fuel 8.800039432713652e-05\n"
                ]
              },
              {
                "output_type": "stream",
                "name": "stdout",
                "text": [
                  "car_number 13 ave_fuel 8.799998395922262e-05\n"
                ]
              },
              {
                "output_type": "stream",
                "name": "stdout",
                "text": [
                  "car_number 14 ave_fuel 8.800503814682555e-05\n"
                ]
              },
              {
                "output_type": "stream",
                "name": "stdout",
                "text": [
                  "car_number 15 ave_fuel 0.00011051458730741595\n"
                ]
              },
              {
                "output_type": "stream",
                "name": "stdout",
                "text": [
                  "car_number 16 ave_fuel 0.00011481423803883294\n"
                ]
              },
              {
                "output_type": "stream",
                "name": "stdout",
                "text": [
                  "car_number 17 ave_fuel 0.00011651797161075436\n"
                ]
              },
              {
                "output_type": "stream",
                "name": "stdout",
                "text": [
                  "car_number 18 ave_fuel 0.00012384615577095993\n"
                ]
              },
              {
                "output_type": "stream",
                "name": "stdout",
                "text": [
                  "car_number 19 ave_fuel 0.0001244562155961806\n"
                ]
              },
              {
                "output_type": "stream",
                "name": "stdout",
                "text": [
                  "car_number 20 ave_fuel 0.00012615480953762927\n"
                ]
              },
              {
                "output_type": "stream",
                "name": "stdout",
                "text": [
                  "car_number 21 ave_fuel 0.00013403713032294402\n"
                ]
              },
              {
                "output_type": "stream",
                "name": "stdout",
                "text": [
                  "car_number 22 ave_fuel 0.0001373941326153455\n"
                ]
              },
              {
                "output_type": "stream",
                "name": "stdout",
                "text": [
                  "car_number 23 ave_fuel 0.00014279025794680468\n"
                ]
              },
              {
                "output_type": "stream",
                "name": "stdout",
                "text": [
                  "car_number 24 ave_fuel 0.0001424413823559349\n"
                ]
              },
              {
                "output_type": "stream",
                "name": "stdout",
                "text": [
                  "car_number 25 ave_fuel 0.00014949807098406015\n"
                ]
              },
              {
                "output_type": "stream",
                "name": "stdout",
                "text": [
                  "car_number 26 ave_fuel 0.0001601730147848154\n"
                ]
              },
              {
                "output_type": "stream",
                "name": "stdout",
                "text": [
                  "car_number 27 ave_fuel 0.00015945026256632602\n"
                ]
              },
              {
                "output_type": "stream",
                "name": "stdout",
                "text": [
                  "car_number 28 ave_fuel 0.00014552119483130153\n"
                ]
              },
              {
                "output_type": "stream",
                "name": "stdout",
                "text": [
                  "car_number 29 ave_fuel 0.00015954139063750297\n"
                ]
              },
              {
                "output_type": "stream",
                "name": "stdout",
                "text": [
                  "car_number 30 ave_fuel 0.0001573877120595981\n"
                ]
              },
              {
                "output_type": "stream",
                "name": "stdout",
                "text": [
                  "car_number 31 ave_fuel 0.0001603344178277707\n"
                ]
              },
              {
                "output_type": "stream",
                "name": "stdout",
                "text": [
                  "car_number 32 ave_fuel 0.00016315605604296914\n"
                ]
              },
              {
                "output_type": "stream",
                "name": "stdout",
                "text": [
                  "car_number 33 ave_fuel 0.00017461787851505978\n"
                ]
              },
              {
                "output_type": "stream",
                "name": "stdout",
                "text": [
                  "car_number 34 ave_fuel 0.0001685611865020142\n"
                ]
              },
              {
                "output_type": "stream",
                "name": "stdout",
                "text": [
                  "car_number 35 ave_fuel 0.00016906893405353607\n"
                ]
              },
              {
                "output_type": "stream",
                "name": "stdout",
                "text": [
                  "car_number 36 ave_fuel 0.00017927534254808805\n"
                ]
              },
              {
                "output_type": "stream",
                "name": "stdout",
                "text": [
                  "car_number 37 ave_fuel 0.00017911430054374377\n"
                ]
              },
              {
                "output_type": "stream",
                "name": "stdout",
                "text": [
                  "car_number 38 ave_fuel 0.0001809395335964527\n"
                ]
              },
              {
                "output_type": "stream",
                "name": "stdout",
                "text": [
                  "car_number 39 ave_fuel 0.00019400695829760293\n"
                ]
              },
              {
                "output_type": "stream",
                "name": "stdout",
                "text": [
                  "car_number 40 ave_fuel 0.00018670772354306513\n"
                ]
              },
              {
                "output_type": "stream",
                "name": "stdout",
                "text": [
                  "car_number 41 ave_fuel 0.00018412167200130197\n"
                ]
              },
              {
                "output_type": "stream",
                "name": "stdout",
                "text": [
                  "car_number 42 ave_fuel 0.00019539618781828127\n"
                ]
              },
              {
                "output_type": "stream",
                "name": "stdout",
                "text": [
                  "car_number 43 ave_fuel 0.00019627398381549132\n"
                ]
              },
              {
                "output_type": "stream",
                "name": "stdout",
                "text": [
                  "car_number 44 ave_fuel 0.00019416156556070928\n"
                ]
              },
              {
                "output_type": "stream",
                "name": "stdout",
                "text": [
                  "car_number 45 ave_fuel 0.0002055295331571953\n"
                ]
              },
              {
                "output_type": "stream",
                "name": "stdout",
                "text": [
                  "car_number 46 ave_fuel 0.00020442680286046614\n"
                ]
              },
              {
                "output_type": "stream",
                "name": "stdout",
                "text": [
                  "car_number 47 ave_fuel 0.0002069365252753625\n"
                ]
              },
              {
                "output_type": "stream",
                "name": "stdout",
                "text": [
                  "car_number 48 ave_fuel 0.0002119624018107078\n"
                ]
              },
              {
                "output_type": "stream",
                "name": "stdout",
                "text": [
                  "car_number 49 ave_fuel 0.0002156325639278792\n"
                ]
              },
              {
                "output_type": "stream",
                "name": "stdout",
                "text": [
                  "car_number 50 ave_fuel 0.00021975530146565187\n"
                ]
              },
              {
                "output_type": "stream",
                "name": "stdout",
                "text": [
                  "car_number 51 ave_fuel 0.0002160273907147272\n"
                ]
              },
              {
                "output_type": "stream",
                "name": "stdout",
                "text": [
                  "car_number 52 ave_fuel 0.00023376019375806576\n"
                ]
              },
              {
                "output_type": "stream",
                "name": "stdout",
                "text": [
                  "car_number 53 ave_fuel 0.00024009288674326363\n"
                ]
              },
              {
                "output_type": "stream",
                "name": "stdout",
                "text": [
                  "car_number 54 ave_fuel 0.0002229561206627502\n"
                ]
              },
              {
                "output_type": "stream",
                "name": "stdout",
                "text": [
                  "car_number 55 ave_fuel 0.00022163822778811549\n"
                ]
              },
              {
                "output_type": "stream",
                "name": "stdout",
                "text": [
                  "car_number 56 ave_fuel 0.0002287317587165931\n"
                ]
              },
              {
                "output_type": "stream",
                "name": "stdout",
                "text": [
                  "car_number 57 ave_fuel 0.00023902364478552992\n"
                ]
              },
              {
                "output_type": "stream",
                "name": "stdout",
                "text": [
                  "car_number 58 ave_fuel 0.00023947426458127328\n"
                ]
              },
              {
                "output_type": "stream",
                "name": "stdout",
                "text": [
                  "car_number 59 ave_fuel 0.00024174922147415494\n"
                ]
              },
              {
                "output_type": "stream",
                "name": "stdout",
                "text": [
                  "car_number 60 ave_fuel 0.00024380143379310946\n"
                ]
              },
              {
                "output_type": "stream",
                "name": "stdout",
                "text": [
                  "car_number 61 ave_fuel 0.00024980993845972517\n"
                ]
              },
              {
                "output_type": "stream",
                "name": "stdout",
                "text": [
                  "car_number 62 ave_fuel 0.0002575296723074217\n"
                ]
              },
              {
                "output_type": "stream",
                "name": "stdout",
                "text": [
                  "car_number 63 ave_fuel 0.0002755157073856077\n"
                ]
              },
              {
                "output_type": "stream",
                "name": "stdout",
                "text": [
                  "car_number 64 ave_fuel 0.00027568416670199465\n"
                ]
              },
              {
                "output_type": "stream",
                "name": "stdout",
                "text": [
                  "car_number 65 ave_fuel 0.0002854864683417825\n"
                ]
              },
              {
                "output_type": "stream",
                "name": "stdout",
                "text": [
                  "car_number 66 ave_fuel 0.0002859425787038601\n"
                ]
              },
              {
                "output_type": "stream",
                "name": "stdout",
                "text": [
                  "car_number 67 ave_fuel 0.00029082420203104274\n"
                ]
              },
              {
                "output_type": "stream",
                "name": "stdout",
                "text": [
                  "car_number 68 ave_fuel 0.0002988795456394157\n"
                ]
              },
              {
                "output_type": "stream",
                "name": "stdout",
                "text": [
                  "car_number 69 ave_fuel 0.00031093330196362376\n"
                ]
              },
              {
                "output_type": "stream",
                "name": "stdout",
                "text": [
                  "car_number 70 ave_fuel 0.00032356988585761735\n"
                ]
              },
              {
                "output_type": "stream",
                "name": "stdout",
                "text": [
                  "car_number 71 ave_fuel 0.00032853155446677313\n"
                ]
              },
              {
                "output_type": "stream",
                "name": "stdout",
                "text": [
                  "car_number 72 ave_fuel 0.0003479791589404066\n"
                ]
              },
              {
                "output_type": "stream",
                "name": "stdout",
                "text": [
                  "car_number 73 ave_fuel 0.0003566386651599372\n"
                ]
              },
              {
                "output_type": "stream",
                "name": "stdout",
                "text": [
                  "car_number 74 ave_fuel 0.00036555011549824256\n"
                ]
              },
              {
                "output_type": "stream",
                "name": "stdout",
                "text": [
                  "car_number 75 ave_fuel 0.00038461599166093207\n"
                ]
              },
              {
                "output_type": "stream",
                "name": "stdout",
                "text": [
                  "car_number 76 ave_fuel 0.00039554253787924654\n"
                ]
              },
              {
                "output_type": "stream",
                "name": "stdout",
                "text": [
                  "car_number 77 ave_fuel 0.00040817248731621705\n"
                ]
              },
              {
                "output_type": "stream",
                "name": "stdout",
                "text": [
                  "car_number 78 ave_fuel 0.00043250990535738344\n"
                ]
              },
              {
                "output_type": "stream",
                "name": "stdout",
                "text": [
                  "car_number 79 ave_fuel 0.00044819270129162664\n"
                ]
              },
              {
                "output_type": "stream",
                "name": "stdout",
                "text": [
                  "car_number 80 ave_fuel 0.0004677080115796228\n"
                ]
              },
              {
                "output_type": "stream",
                "name": "stdout",
                "text": [
                  "car_number 81 ave_fuel 0.0004952991137102591\n"
                ]
              },
              {
                "output_type": "stream",
                "name": "stdout",
                "text": [
                  "car_number 82 ave_fuel 0.000517462860740351\n"
                ]
              },
              {
                "output_type": "stream",
                "name": "stdout",
                "text": [
                  "car_number 83 ave_fuel 0.0005466814375861534\n"
                ]
              },
              {
                "output_type": "stream",
                "name": "stdout",
                "text": [
                  "car_number 84 ave_fuel 0.0005750547137188431\n"
                ]
              },
              {
                "output_type": "stream",
                "name": "stdout",
                "text": [
                  "car_number 85 ave_fuel 0.0006150983385861417\n"
                ]
              },
              {
                "output_type": "stream",
                "name": "stdout",
                "text": [
                  "car_number 86 ave_fuel 0.0006458589495919411\n"
                ]
              },
              {
                "output_type": "stream",
                "name": "stdout",
                "text": [
                  "car_number 87 ave_fuel 0.000689655472627969\n"
                ]
              },
              {
                "output_type": "stream",
                "name": "stdout",
                "text": [
                  "car_number 88 ave_fuel 0.0007365496888632666\n"
                ]
              },
              {
                "output_type": "stream",
                "name": "stdout",
                "text": [
                  "car_number 89 ave_fuel 0.0007965794960575843\n"
                ]
              },
              {
                "output_type": "stream",
                "name": "stdout",
                "text": [
                  "car_number 90 ave_fuel 0.0008548767942990647\n"
                ]
              },
              {
                "output_type": "stream",
                "name": "stdout",
                "text": [
                  "car_number 91 ave_fuel 0.0009431661609744068\n"
                ]
              },
              {
                "output_type": "stream",
                "name": "stdout",
                "text": [
                  "car_number 92 ave_fuel 0.0010175287292641688\n"
                ]
              },
              {
                "output_type": "stream",
                "name": "stdout",
                "text": [
                  "car_number 93 ave_fuel 0.0011329508208028334\n"
                ]
              },
              {
                "output_type": "stream",
                "name": "stdout",
                "text": [
                  "car_number 94 ave_fuel 0.0012548956526305427\n"
                ]
              },
              {
                "output_type": "stream",
                "name": "stdout",
                "text": [
                  "car_number 95 ave_fuel 0.0014063210079312215\n"
                ]
              },
              {
                "output_type": "stream",
                "name": "stdout",
                "text": [
                  "car_number 96 ave_fuel 0.001605207326122932\n"
                ]
              },
              {
                "output_type": "stream",
                "name": "stdout",
                "text": [
                  "car_number 97 ave_fuel 0.0018872237713280372\n"
                ]
              },
              {
                "output_type": "stream",
                "name": "stdout",
                "text": [
                  "car_number 98 ave_fuel 0.0022732928134109364\n"
                ]
              },
              {
                "output_type": "stream",
                "name": "stdout",
                "text": [
                  "car_number 99 ave_fuel 0.002867160829732345\n"
                ]
              },
              {
                "output_type": "stream",
                "name": "stdout",
                "text": [
                  "car_number 100 ave_fuel 0.003854110889169971\n"
                ]
              },
              {
                "output_type": "stream",
                "name": "stdout",
                "text": [
                  "car_number 2 ave_fuel 8.801380325927841e-05\n"
                ]
              },
              {
                "output_type": "stream",
                "name": "stdout",
                "text": [
                  "car_number 3 ave_fuel 8.799950111340409e-05\n"
                ]
              },
              {
                "output_type": "stream",
                "name": "stdout",
                "text": [
                  "car_number 4 ave_fuel 8.799950111340409e-05\n"
                ]
              },
              {
                "output_type": "stream",
                "name": "stdout",
                "text": [
                  "car_number 5 ave_fuel 8.799950111340409e-05\n"
                ]
              },
              {
                "output_type": "stream",
                "name": "stdout",
                "text": [
                  "car_number 6 ave_fuel 8.799950111340409e-05\n"
                ]
              },
              {
                "output_type": "stream",
                "name": "stdout",
                "text": [
                  "car_number 7 ave_fuel 8.799950111340409e-05\n"
                ]
              },
              {
                "output_type": "stream",
                "name": "stdout",
                "text": [
                  "car_number 8 ave_fuel 8.799950111340409e-05\n"
                ]
              },
              {
                "output_type": "stream",
                "name": "stdout",
                "text": [
                  "car_number 9 ave_fuel 8.799950111340409e-05\n"
                ]
              },
              {
                "output_type": "stream",
                "name": "stdout",
                "text": [
                  "car_number 10 ave_fuel 8.799976660453348e-05\n"
                ]
              },
              {
                "output_type": "stream",
                "name": "stdout",
                "text": [
                  "car_number 11 ave_fuel 8.800077793678027e-05\n"
                ]
              },
              {
                "output_type": "stream",
                "name": "stdout",
                "text": [
                  "car_number 12 ave_fuel 8.800172359348976e-05\n"
                ]
              },
              {
                "output_type": "stream",
                "name": "stdout",
                "text": [
                  "car_number 13 ave_fuel 8.800226954071368e-05\n"
                ]
              },
              {
                "output_type": "stream",
                "name": "stdout",
                "text": [
                  "car_number 14 ave_fuel 8.800082659191553e-05\n"
                ]
              },
              {
                "output_type": "stream",
                "name": "stdout",
                "text": [
                  "car_number 15 ave_fuel 0.0001052645550883774\n"
                ]
              },
              {
                "output_type": "stream",
                "name": "stdout",
                "text": [
                  "car_number 16 ave_fuel 0.00011094479571841294\n"
                ]
              },
              {
                "output_type": "stream",
                "name": "stdout",
                "text": [
                  "car_number 17 ave_fuel 0.00011284051731158583\n"
                ]
              },
              {
                "output_type": "stream",
                "name": "stdout",
                "text": [
                  "car_number 18 ave_fuel 0.00011845772489034094\n"
                ]
              },
              {
                "output_type": "stream",
                "name": "stdout",
                "text": [
                  "car_number 19 ave_fuel 0.0001255543834773517\n"
                ]
              },
              {
                "output_type": "stream",
                "name": "stdout",
                "text": [
                  "car_number 20 ave_fuel 0.00012597664312280165\n"
                ]
              },
              {
                "output_type": "stream",
                "name": "stdout",
                "text": [
                  "car_number 21 ave_fuel 0.000126862827393017\n"
                ]
              },
              {
                "output_type": "stream",
                "name": "stdout",
                "text": [
                  "car_number 22 ave_fuel 0.0001344011592951943\n"
                ]
              },
              {
                "output_type": "stream",
                "name": "stdout",
                "text": [
                  "car_number 23 ave_fuel 0.00013746828245243483\n"
                ]
              },
              {
                "output_type": "stream",
                "name": "stdout",
                "text": [
                  "car_number 24 ave_fuel 0.00014111262621491807\n"
                ]
              },
              {
                "output_type": "stream",
                "name": "stdout",
                "text": [
                  "car_number 25 ave_fuel 0.00013983084466147132\n"
                ]
              },
              {
                "output_type": "stream",
                "name": "stdout",
                "text": [
                  "car_number 26 ave_fuel 0.00014618642386773746\n"
                ]
              },
              {
                "output_type": "stream",
                "name": "stdout",
                "text": [
                  "car_number 27 ave_fuel 0.00014684771615299902\n"
                ]
              },
              {
                "output_type": "stream",
                "name": "stdout",
                "text": [
                  "car_number 28 ave_fuel 0.00014577685580220313\n"
                ]
              },
              {
                "output_type": "stream",
                "name": "stdout",
                "text": [
                  "car_number 29 ave_fuel 0.00015337245856652447\n"
                ]
              },
              {
                "output_type": "stream",
                "name": "stdout",
                "text": [
                  "car_number 30 ave_fuel 0.00015464331811486934\n"
                ]
              },
              {
                "output_type": "stream",
                "name": "stdout",
                "text": [
                  "car_number 31 ave_fuel 0.0001571331642718658\n"
                ]
              },
              {
                "output_type": "stream",
                "name": "stdout",
                "text": [
                  "car_number 32 ave_fuel 0.00016000377742367403\n"
                ]
              },
              {
                "output_type": "stream",
                "name": "stdout",
                "text": [
                  "car_number 33 ave_fuel 0.0001643956242249345\n"
                ]
              },
              {
                "output_type": "stream",
                "name": "stdout",
                "text": [
                  "car_number 34 ave_fuel 0.00016643841737105344\n"
                ]
              },
              {
                "output_type": "stream",
                "name": "stdout",
                "text": [
                  "car_number 35 ave_fuel 0.0001653401942961215\n"
                ]
              },
              {
                "output_type": "stream",
                "name": "stdout",
                "text": [
                  "car_number 36 ave_fuel 0.00017380638379552082\n"
                ]
              },
              {
                "output_type": "stream",
                "name": "stdout",
                "text": [
                  "car_number 37 ave_fuel 0.0001732074954212049\n"
                ]
              },
              {
                "output_type": "stream",
                "name": "stdout",
                "text": [
                  "car_number 38 ave_fuel 0.000177581097570846\n"
                ]
              },
              {
                "output_type": "stream",
                "name": "stdout",
                "text": [
                  "car_number 39 ave_fuel 0.00017761337024497037\n"
                ]
              },
              {
                "output_type": "stream",
                "name": "stdout",
                "text": [
                  "car_number 40 ave_fuel 0.00018517449528169603\n"
                ]
              },
              {
                "output_type": "stream",
                "name": "stdout",
                "text": [
                  "car_number 41 ave_fuel 0.0001908125239763686\n"
                ]
              },
              {
                "output_type": "stream",
                "name": "stdout",
                "text": [
                  "car_number 42 ave_fuel 0.00018080827976769\n"
                ]
              },
              {
                "output_type": "stream",
                "name": "stdout",
                "text": [
                  "car_number 43 ave_fuel 0.00018959536574013274\n"
                ]
              },
              {
                "output_type": "stream",
                "name": "stdout",
                "text": [
                  "car_number 44 ave_fuel 0.00019387866585324586\n"
                ]
              },
              {
                "output_type": "stream",
                "name": "stdout",
                "text": [
                  "car_number 45 ave_fuel 0.00019340927323033895\n"
                ]
              },
              {
                "output_type": "stream",
                "name": "stdout",
                "text": [
                  "car_number 46 ave_fuel 0.00019497571110056768\n"
                ]
              },
              {
                "output_type": "stream",
                "name": "stdout",
                "text": [
                  "car_number 47 ave_fuel 0.00020182378961035213\n"
                ]
              },
              {
                "output_type": "stream",
                "name": "stdout",
                "text": [
                  "car_number 48 ave_fuel 0.00020067527694061078\n"
                ]
              },
              {
                "output_type": "stream",
                "name": "stdout",
                "text": [
                  "car_number 49 ave_fuel 0.0002054840665355914\n"
                ]
              },
              {
                "output_type": "stream",
                "name": "stdout",
                "text": [
                  "car_number 50 ave_fuel 0.0002131478537164836\n"
                ]
              },
              {
                "output_type": "stream",
                "name": "stdout",
                "text": [
                  "car_number 51 ave_fuel 0.00020813030827350945\n"
                ]
              },
              {
                "output_type": "stream",
                "name": "stdout",
                "text": [
                  "car_number 52 ave_fuel 0.00021463350273136342\n"
                ]
              },
              {
                "output_type": "stream",
                "name": "stdout",
                "text": [
                  "car_number 53 ave_fuel 0.00022197816718288278\n"
                ]
              },
              {
                "output_type": "stream",
                "name": "stdout",
                "text": [
                  "car_number 54 ave_fuel 0.00022043068436995036\n"
                ]
              },
              {
                "output_type": "stream",
                "name": "stdout",
                "text": [
                  "car_number 55 ave_fuel 0.0002184133601321611\n"
                ]
              },
              {
                "output_type": "stream",
                "name": "stdout",
                "text": [
                  "car_number 56 ave_fuel 0.00021695253938420204\n"
                ]
              },
              {
                "output_type": "stream",
                "name": "stdout",
                "text": [
                  "car_number 57 ave_fuel 0.00022703962093051206\n"
                ]
              },
              {
                "output_type": "stream",
                "name": "stdout",
                "text": [
                  "car_number 58 ave_fuel 0.00023215466155438857\n"
                ]
              },
              {
                "output_type": "stream",
                "name": "stdout",
                "text": [
                  "car_number 59 ave_fuel 0.0002297321542863762\n"
                ]
              },
              {
                "output_type": "stream",
                "name": "stdout",
                "text": [
                  "car_number 60 ave_fuel 0.00023839094266496865\n"
                ]
              },
              {
                "output_type": "stream",
                "name": "stdout",
                "text": [
                  "car_number 61 ave_fuel 0.0002478615596380778\n"
                ]
              },
              {
                "output_type": "stream",
                "name": "stdout",
                "text": [
                  "car_number 62 ave_fuel 0.0002551220867150502\n"
                ]
              },
              {
                "output_type": "stream",
                "name": "stdout",
                "text": [
                  "car_number 63 ave_fuel 0.0002621745107246922\n"
                ]
              },
              {
                "output_type": "stream",
                "name": "stdout",
                "text": [
                  "car_number 64 ave_fuel 0.00026697759542136207\n"
                ]
              },
              {
                "output_type": "stream",
                "name": "stdout",
                "text": [
                  "car_number 65 ave_fuel 0.00028356452286880114\n"
                ]
              },
              {
                "output_type": "stream",
                "name": "stdout",
                "text": [
                  "car_number 66 ave_fuel 0.000282192131258273\n"
                ]
              },
              {
                "output_type": "stream",
                "name": "stdout",
                "text": [
                  "car_number 67 ave_fuel 0.00028785608831002283\n"
                ]
              },
              {
                "output_type": "stream",
                "name": "stdout",
                "text": [
                  "car_number 68 ave_fuel 0.00029737648128292364\n"
                ]
              },
              {
                "output_type": "stream",
                "name": "stdout",
                "text": [
                  "car_number 69 ave_fuel 0.0003094871182062787\n"
                ]
              },
              {
                "output_type": "stream",
                "name": "stdout",
                "text": [
                  "car_number 70 ave_fuel 0.00031623604338594345\n"
                ]
              },
              {
                "output_type": "stream",
                "name": "stdout",
                "text": [
                  "car_number 71 ave_fuel 0.00032604689854945254\n"
                ]
              },
              {
                "output_type": "stream",
                "name": "stdout",
                "text": [
                  "car_number 72 ave_fuel 0.0003405982609415688\n"
                ]
              },
              {
                "output_type": "stream",
                "name": "stdout",
                "text": [
                  "car_number 73 ave_fuel 0.0003508422240098767\n"
                ]
              },
              {
                "output_type": "stream",
                "name": "stdout",
                "text": [
                  "car_number 74 ave_fuel 0.0003635074435151519\n"
                ]
              },
              {
                "output_type": "stream",
                "name": "stdout",
                "text": [
                  "car_number 75 ave_fuel 0.0003770196754546589\n"
                ]
              },
              {
                "output_type": "stream",
                "name": "stdout",
                "text": [
                  "car_number 76 ave_fuel 0.00039327206881155624\n"
                ]
              },
              {
                "output_type": "stream",
                "name": "stdout",
                "text": [
                  "car_number 77 ave_fuel 0.0004066302472331614\n"
                ]
              },
              {
                "output_type": "stream",
                "name": "stdout",
                "text": [
                  "car_number 78 ave_fuel 0.00043038069809798465\n"
                ]
              },
              {
                "output_type": "stream",
                "name": "stdout",
                "text": [
                  "car_number 79 ave_fuel 0.0004454974940102343\n"
                ]
              },
              {
                "output_type": "stream",
                "name": "stdout",
                "text": [
                  "car_number 80 ave_fuel 0.0004658312032674801\n"
                ]
              },
              {
                "output_type": "stream",
                "name": "stdout",
                "text": [
                  "car_number 81 ave_fuel 0.0004922283591644752\n"
                ]
              },
              {
                "output_type": "stream",
                "name": "stdout",
                "text": [
                  "car_number 82 ave_fuel 0.0005142608127453347\n"
                ]
              },
              {
                "output_type": "stream",
                "name": "stdout",
                "text": [
                  "car_number 83 ave_fuel 0.0005445910123185861\n"
                ]
              },
              {
                "output_type": "stream",
                "name": "stdout",
                "text": [
                  "car_number 84 ave_fuel 0.00057199759549548\n"
                ]
              },
              {
                "output_type": "stream",
                "name": "stdout",
                "text": [
                  "car_number 85 ave_fuel 0.0006083349227579897\n"
                ]
              },
              {
                "output_type": "stream",
                "name": "stdout",
                "text": [
                  "car_number 86 ave_fuel 0.000640835912433565\n"
                ]
              },
              {
                "output_type": "stream",
                "name": "stdout",
                "text": [
                  "car_number 87 ave_fuel 0.0006851497871593215\n"
                ]
              },
              {
                "output_type": "stream",
                "name": "stdout",
                "text": [
                  "car_number 88 ave_fuel 0.0007347824404832872\n"
                ]
              },
              {
                "output_type": "stream",
                "name": "stdout",
                "text": [
                  "car_number 89 ave_fuel 0.000791081452323905\n"
                ]
              },
              {
                "output_type": "stream",
                "name": "stdout",
                "text": [
                  "car_number 90 ave_fuel 0.0008487945545612814\n"
                ]
              },
              {
                "output_type": "stream",
                "name": "stdout",
                "text": [
                  "car_number 91 ave_fuel 0.0009358033172556093\n"
                ]
              },
              {
                "output_type": "stream",
                "name": "stdout",
                "text": [
                  "car_number 92 ave_fuel 0.0010125757823192627\n"
                ]
              },
              {
                "output_type": "stream",
                "name": "stdout",
                "text": [
                  "car_number 93 ave_fuel 0.001125021743891693\n"
                ]
              },
              {
                "output_type": "stream",
                "name": "stdout",
                "text": [
                  "car_number 94 ave_fuel 0.0012456207906709057\n"
                ]
              },
              {
                "output_type": "stream",
                "name": "stdout",
                "text": [
                  "car_number 95 ave_fuel 0.001398670357901164\n"
                ]
              },
              {
                "output_type": "stream",
                "name": "stdout",
                "text": [
                  "car_number 96 ave_fuel 0.0015970530971755816\n"
                ]
              },
              {
                "output_type": "stream",
                "name": "stdout",
                "text": [
                  "car_number 97 ave_fuel 0.0018767804407598867\n"
                ]
              },
              {
                "output_type": "stream",
                "name": "stdout",
                "text": [
                  "car_number 98 ave_fuel 0.0022616954198687754\n"
                ]
              },
              {
                "output_type": "stream",
                "name": "stdout",
                "text": [
                  "car_number 99 ave_fuel 0.0028484656409320285\n"
                ]
              },
              {
                "output_type": "stream",
                "name": "stdout",
                "text": [
                  "car_number 100 ave_fuel 0.003828502770087895\n"
                ]
              },
              {
                "output_type": "stream",
                "name": "stdout",
                "text": [
                  "car_number 2 density 0.019444444444444445 final_fuel 8.8017378795747e-05 period [50.] MPR 1 ASL 1 ASL area 300\n"
                ]
              },
              {
                "output_type": "stream",
                "name": "stdout",
                "text": [
                  "car_number 3 density 0.029166666666666667 final_fuel 8.801601469007357e-05 period [50.] MPR 1 ASL 1 ASL area 300\n"
                ]
              },
              {
                "output_type": "stream",
                "name": "stdout",
                "text": [
                  "car_number 4 density 0.03888888888888889 final_fuel 8.800331519893462e-05 period [50.] MPR 1 ASL 1 ASL area 300\n"
                ]
              },
              {
                "output_type": "stream",
                "name": "stdout",
                "text": [
                  "car_number 5 density 0.04861111111111111 final_fuel 8.800125455198486e-05 period [50.] MPR 1 ASL 1 ASL area 300\n"
                ]
              },
              {
                "output_type": "stream",
                "name": "stdout",
                "text": [
                  "car_number 6 density 0.058333333333333334 final_fuel 8.800084657963563e-05 period [50.] MPR 1 ASL 1 ASL area 300\n"
                ]
              },
              {
                "output_type": "stream",
                "name": "stdout",
                "text": [
                  "car_number 7 density 0.06805555555555556 final_fuel 8.800117903393911e-05 period [50.] MPR 1 ASL 1 ASL area 300\n"
                ]
              },
              {
                "output_type": "stream",
                "name": "stdout",
                "text": [
                  "car_number 8 density 0.07777777777777778 final_fuel 8.800540693017823e-05 period [50.] MPR 1 ASL 1 ASL area 300\n"
                ]
              },
              {
                "output_type": "stream",
                "name": "stdout",
                "text": [
                  "car_number 9 density 0.08750000000000001 final_fuel 8.800457581265905e-05 period [50.] MPR 1 ASL 1 ASL area 300\n"
                ]
              },
              {
                "output_type": "stream",
                "name": "stdout",
                "text": [
                  "car_number 10 density 0.09722222222222222 final_fuel 8.800429379055747e-05 period [50.] MPR 1 ASL 1 ASL area 300\n"
                ]
              },
              {
                "output_type": "stream",
                "name": "stdout",
                "text": [
                  "car_number 11 density 0.10694444444444445 final_fuel 8.800313532234924e-05 period [50.] MPR 1 ASL 1 ASL area 300\n"
                ]
              },
              {
                "output_type": "stream",
                "name": "stdout",
                "text": [
                  "car_number 12 density 0.11666666666666667 final_fuel 8.800829397846705e-05 period [50.] MPR 1 ASL 1 ASL area 300\n"
                ]
              },
              {
                "output_type": "stream",
                "name": "stdout",
                "text": [
                  "car_number 13 density 0.12638888888888888 final_fuel 8.800431928884246e-05 period [50.] MPR 1 ASL 1 ASL area 300\n"
                ]
              },
              {
                "output_type": "stream",
                "name": "stdout",
                "text": [
                  "car_number 14 density 0.13611111111111113 final_fuel 8.800671736690585e-05 period [50.] MPR 1 ASL 1 ASL area 300\n"
                ]
              },
              {
                "output_type": "stream",
                "name": "stdout",
                "text": [
                  "car_number 15 density 0.14583333333333334 final_fuel 0.0001021544834159439 period [50.] MPR 1 ASL 1 ASL area 300\n"
                ]
              },
              {
                "output_type": "stream",
                "name": "stdout",
                "text": [
                  "car_number 16 density 0.15555555555555556 final_fuel 0.0001064801266382602 period [50.] MPR 1 ASL 1 ASL area 300\n"
                ]
              },
              {
                "output_type": "stream",
                "name": "stdout",
                "text": [
                  "car_number 17 density 0.16527777777777777 final_fuel 0.00011155129639106607 period [50.] MPR 1 ASL 1 ASL area 300\n"
                ]
              },
              {
                "output_type": "stream",
                "name": "stdout",
                "text": [
                  "car_number 18 density 0.17500000000000002 final_fuel 0.00011625015021849577 period [50.] MPR 1 ASL 1 ASL area 300\n"
                ]
              },
              {
                "output_type": "stream",
                "name": "stdout",
                "text": [
                  "car_number 19 density 0.18472222222222223 final_fuel 0.00011980986533128364 period [50.] MPR 1 ASL 1 ASL area 300\n"
                ]
              },
              {
                "output_type": "stream",
                "name": "stdout",
                "text": [
                  "car_number 20 density 0.19444444444444445 final_fuel 0.00012388605383937786 period [50.] MPR 1 ASL 1 ASL area 300\n"
                ]
              },
              {
                "output_type": "stream",
                "name": "stdout",
                "text": [
                  "car_number 21 density 0.2041666666666667 final_fuel 0.0001252896703615512 period [50.] MPR 1 ASL 1 ASL area 300\n"
                ]
              },
              {
                "output_type": "stream",
                "name": "stdout",
                "text": [
                  "car_number 22 density 0.2138888888888889 final_fuel 0.00012868107090052269 period [50.] MPR 1 ASL 1 ASL area 300\n"
                ]
              },
              {
                "output_type": "stream",
                "name": "stdout",
                "text": [
                  "car_number 23 density 0.2236111111111111 final_fuel 0.00013239646794891417 period [50.] MPR 1 ASL 1 ASL area 300\n"
                ]
              },
              {
                "output_type": "stream",
                "name": "stdout",
                "text": [
                  "car_number 24 density 0.23333333333333334 final_fuel 0.000136924292020471 period [50.] MPR 1 ASL 1 ASL area 300\n"
                ]
              },
              {
                "output_type": "stream",
                "name": "stdout",
                "text": [
                  "car_number 25 density 0.24305555555555558 final_fuel 0.0001382221648430786 period [50.] MPR 1 ASL 1 ASL area 300\n"
                ]
              },
              {
                "output_type": "stream",
                "name": "stdout",
                "text": [
                  "car_number 26 density 0.25277777777777777 final_fuel 0.00013961227257217228 period [50.] MPR 1 ASL 1 ASL area 300\n"
                ]
              },
              {
                "output_type": "stream",
                "name": "stdout",
                "text": [
                  "car_number 27 density 0.2625 final_fuel 0.00014329731874620087 period [50.] MPR 1 ASL 1 ASL area 300\n"
                ]
              },
              {
                "output_type": "stream",
                "name": "stdout",
                "text": [
                  "car_number 28 density 0.27222222222222225 final_fuel 0.00014963227239975856 period [2.] MPR 1 ASL 1 ASL area 300\n"
                ]
              },
              {
                "output_type": "stream",
                "name": "stdout",
                "text": [
                  "car_number 29 density 0.2819444444444445 final_fuel 0.00014864942110735208 period [50.] MPR 1 ASL 1 ASL area 300\n"
                ]
              },
              {
                "output_type": "stream",
                "name": "stdout",
                "text": [
                  "car_number 30 density 0.2916666666666667 final_fuel 0.00015152111769805356 period [50.] MPR 1 ASL 1 ASL area 300\n"
                ]
              },
              {
                "output_type": "stream",
                "name": "stdout",
                "text": [
                  "car_number 31 density 0.30138888888888893 final_fuel 0.0001532087735598644 period [50.] MPR 1 ASL 1 ASL area 300\n"
                ]
              },
              {
                "output_type": "stream",
                "name": "stdout",
                "text": [
                  "car_number 32 density 0.3111111111111111 final_fuel 0.00015575065036771502 period [50.] MPR 1 ASL 1 ASL area 300\n"
                ]
              },
              {
                "output_type": "stream",
                "name": "stdout",
                "text": [
                  "car_number 33 density 0.3208333333333333 final_fuel 0.00015908872455976534 period [50.] MPR 1 ASL 1 ASL area 300\n"
                ]
              },
              {
                "output_type": "stream",
                "name": "stdout",
                "text": [
                  "car_number 34 density 0.33055555555555555 final_fuel 0.00016209074492843007 period [50.] MPR 1 ASL 1 ASL area 300\n"
                ]
              },
              {
                "output_type": "stream",
                "name": "stdout",
                "text": [
                  "car_number 35 density 0.3402777777777778 final_fuel 0.00016278961951790623 period [5.] MPR 1 ASL 1 ASL area 300\n"
                ]
              },
              {
                "output_type": "stream",
                "name": "stdout",
                "text": [
                  "car_number 36 density 0.35000000000000003 final_fuel 0.00016466970182913267 period [50.] MPR 1 ASL 1 ASL area 300\n"
                ]
              },
              {
                "output_type": "stream",
                "name": "stdout",
                "text": [
                  "car_number 37 density 0.3597222222222222 final_fuel 0.0001681969512612703 period [50.] MPR 1 ASL 1 ASL area 300\n"
                ]
              },
              {
                "output_type": "stream",
                "name": "stdout",
                "text": [
                  "car_number 38 density 0.36944444444444446 final_fuel 0.0001689892722998106 period [50.] MPR 1 ASL 1 ASL area 300\n"
                ]
              },
              {
                "output_type": "stream",
                "name": "stdout",
                "text": [
                  "car_number 39 density 0.3791666666666667 final_fuel 0.00017247117090860817 period [50.] MPR 1 ASL 1 ASL area 300\n"
                ]
              },
              {
                "output_type": "stream",
                "name": "stdout",
                "text": [
                  "car_number 40 density 0.3888888888888889 final_fuel 0.00017617835283218427 period [50.] MPR 1 ASL 1 ASL area 300\n"
                ]
              },
              {
                "output_type": "stream",
                "name": "stdout",
                "text": [
                  "car_number 41 density 0.39861111111111114 final_fuel 0.00017853022507820197 period [50.] MPR 1 ASL 1 ASL area 300\n"
                ]
              },
              {
                "output_type": "stream",
                "name": "stdout",
                "text": [
                  "car_number 42 density 0.4083333333333334 final_fuel 0.0001801418153890625 period [3.] MPR 1 ASL 1 ASL area 300\n"
                ]
              },
              {
                "output_type": "stream",
                "name": "stdout",
                "text": [
                  "car_number 43 density 0.4180555555555556 final_fuel 0.00018317791161127735 period [50.] MPR 1 ASL 1 ASL area 300\n"
                ]
              },
              {
                "output_type": "stream",
                "name": "stdout",
                "text": [
                  "car_number 44 density 0.4277777777777778 final_fuel 0.0001852379268065893 period [50.] MPR 1 ASL 1 ASL area 300\n"
                ]
              },
              {
                "output_type": "stream",
                "name": "stdout",
                "text": [
                  "car_number 45 density 0.4375 final_fuel 0.00018951756334978408 period [50.] MPR 1 ASL 1 ASL area 300\n"
                ]
              },
              {
                "output_type": "stream",
                "name": "stdout",
                "text": [
                  "car_number 46 density 0.4472222222222222 final_fuel 0.0001892056319115022 period [50.] MPR 1 ASL 1 ASL area 300\n"
                ]
              },
              {
                "output_type": "stream",
                "name": "stdout",
                "text": [
                  "car_number 47 density 0.4569444444444445 final_fuel 0.00019295871236267494 period [50.] MPR 1 ASL 1 ASL area 300\n"
                ]
              },
              {
                "output_type": "stream",
                "name": "stdout",
                "text": [
                  "car_number 48 density 0.4666666666666667 final_fuel 0.00019548088489764801 period [50.] MPR 1 ASL 1 ASL area 300\n"
                ]
              },
              {
                "output_type": "stream",
                "name": "stdout",
                "text": [
                  "car_number 49 density 0.47638888888888886 final_fuel 0.00019817419898198192 period [50.] MPR 1 ASL 1 ASL area 300\n"
                ]
              },
              {
                "output_type": "stream",
                "name": "stdout",
                "text": [
                  "car_number 50 density 0.48611111111111116 final_fuel 0.00020092237332547343 period [50.] MPR 1 ASL 1 ASL area 300\n"
                ]
              },
              {
                "output_type": "stream",
                "name": "stdout",
                "text": [
                  "car_number 51 density 0.49583333333333335 final_fuel 0.00020311517859128114 period [50.] MPR 1 ASL 1 ASL area 300\n"
                ]
              },
              {
                "output_type": "stream",
                "name": "stdout",
                "text": [
                  "car_number 52 density 0.5055555555555555 final_fuel 0.00020568455533227263 period [50.] MPR 1 ASL 1 ASL area 300\n"
                ]
              },
              {
                "output_type": "stream",
                "name": "stdout",
                "text": [
                  "car_number 53 density 0.5152777777777778 final_fuel 0.00020930809233570512 period [50.] MPR 1 ASL 1 ASL area 300\n"
                ]
              },
              {
                "output_type": "stream",
                "name": "stdout",
                "text": [
                  "car_number 54 density 0.525 final_fuel 0.00021258804935718717 period [50.] MPR 1 ASL 1 ASL area 300\n"
                ]
              },
              {
                "output_type": "stream",
                "name": "stdout",
                "text": [
                  "car_number 55 density 0.5347222222222223 final_fuel 0.00021346361989714902 period [50.] MPR 1 ASL 1 ASL area 300\n"
                ]
              },
              {
                "output_type": "stream",
                "name": "stdout",
                "text": [
                  "car_number 56 density 0.5444444444444445 final_fuel 0.00021662118481867237 period [50.] MPR 1 ASL 1 ASL area 300\n"
                ]
              },
              {
                "output_type": "stream",
                "name": "stdout",
                "text": [
                  "car_number 57 density 0.5541666666666667 final_fuel 0.00021937074987118566 period [50.] MPR 1 ASL 1 ASL area 300\n"
                ]
              },
              {
                "output_type": "stream",
                "name": "stdout",
                "text": [
                  "car_number 58 density 0.563888888888889 final_fuel 0.00022254452384766298 period [50.] MPR 1 ASL 1 ASL area 300\n"
                ]
              },
              {
                "output_type": "stream",
                "name": "stdout",
                "text": [
                  "car_number 59 density 0.5736111111111112 final_fuel 0.00022399164984891325 period [50.] MPR 1 ASL 1 ASL area 300\n"
                ]
              },
              {
                "output_type": "stream",
                "name": "stdout",
                "text": [
                  "car_number 60 density 0.5833333333333334 final_fuel 0.00023646685948090158 period [50.] MPR 1 ASL 1 ASL area 300\n"
                ]
              },
              {
                "output_type": "stream",
                "name": "stdout",
                "text": [
                  "car_number 61 density 0.5930555555555557 final_fuel 0.0002415393936671652 period [50.] MPR 1 ASL 1 ASL area 300\n"
                ]
              },
              {
                "output_type": "stream",
                "name": "stdout",
                "text": [
                  "car_number 62 density 0.6027777777777779 final_fuel 0.0002505120199439464 period [50.] MPR 1 ASL 1 ASL area 300\n"
                ]
              },
              {
                "output_type": "stream",
                "name": "stdout",
                "text": [
                  "car_number 63 density 0.6125 final_fuel 0.0002659032588962078 period [50.] MPR 1 ASL 1 ASL area 300\n"
                ]
              },
              {
                "output_type": "stream",
                "name": "stdout",
                "text": [
                  "car_number 64 density 0.6222222222222222 final_fuel 0.0002611122414773611 period [50.] MPR 1 ASL 1 ASL area 300\n"
                ]
              },
              {
                "output_type": "stream",
                "name": "stdout",
                "text": [
                  "car_number 65 density 0.6319444444444444 final_fuel 0.00027186606713737807 period [50.] MPR 1 ASL 1 ASL area 300\n"
                ]
              },
              {
                "output_type": "stream",
                "name": "stdout",
                "text": [
                  "car_number 66 density 0.6416666666666666 final_fuel 0.0002783513507559225 period [50.] MPR 1 ASL 1 ASL area 300\n"
                ]
              },
              {
                "output_type": "stream",
                "name": "stdout",
                "text": [
                  "car_number 67 density 0.6513888888888889 final_fuel 0.00028776567922213746 period [50.] MPR 1 ASL 1 ASL area 300\n"
                ]
              },
              {
                "output_type": "stream",
                "name": "stdout",
                "text": [
                  "car_number 68 density 0.6611111111111111 final_fuel 0.00029553434531937256 period [50.] MPR 1 ASL 1 ASL area 300\n"
                ]
              },
              {
                "output_type": "stream",
                "name": "stdout",
                "text": [
                  "car_number 69 density 0.6708333333333334 final_fuel 0.000305527005625151 period [50.] MPR 1 ASL 1 ASL area 300\n"
                ]
              },
              {
                "output_type": "stream",
                "name": "stdout",
                "text": [
                  "car_number 70 density 0.6805555555555556 final_fuel 0.00031998878616261277 period [50.] MPR 1 ASL 1 ASL area 300\n"
                ]
              },
              {
                "output_type": "stream",
                "name": "stdout",
                "text": [
                  "car_number 71 density 0.6902777777777778 final_fuel 0.0003254254343903245 period [50.] MPR 1 ASL 1 ASL area 300\n"
                ]
              },
              {
                "output_type": "stream",
                "name": "stdout",
                "text": [
                  "car_number 72 density 0.7000000000000001 final_fuel 0.00034072833176604643 period [50.] MPR 1 ASL 1 ASL area 300\n"
                ]
              },
              {
                "output_type": "stream",
                "name": "stdout",
                "text": [
                  "car_number 73 density 0.7097222222222223 final_fuel 0.0003509080666604192 period [50.] MPR 1 ASL 1 ASL area 300\n"
                ]
              },
              {
                "output_type": "stream",
                "name": "stdout",
                "text": [
                  "car_number 74 density 0.7194444444444444 final_fuel 0.0003621437331769059 period [50.] MPR 1 ASL 1 ASL area 300\n"
                ]
              },
              {
                "output_type": "stream",
                "name": "stdout",
                "text": [
                  "car_number 75 density 0.7291666666666667 final_fuel 0.0003812899739825003 period [50.] MPR 1 ASL 1 ASL area 300\n"
                ]
              },
              {
                "output_type": "stream",
                "name": "stdout",
                "text": [
                  "car_number 76 density 0.7388888888888889 final_fuel 0.000394837138687928 period [50.] MPR 1 ASL 1 ASL area 300\n"
                ]
              },
              {
                "output_type": "stream",
                "name": "stdout",
                "text": [
                  "car_number 77 density 0.7486111111111111 final_fuel 0.0004060240743331917 period [50.] MPR 1 ASL 1 ASL area 300\n"
                ]
              },
              {
                "output_type": "stream",
                "name": "stdout",
                "text": [
                  "car_number 78 density 0.7583333333333334 final_fuel 0.00042782277457189486 period [50.] MPR 1 ASL 1 ASL area 300\n"
                ]
              },
              {
                "output_type": "stream",
                "name": "stdout",
                "text": [
                  "car_number 79 density 0.7680555555555556 final_fuel 0.00044084507283334183 period [50.] MPR 1 ASL 1 ASL area 300\n"
                ]
              },
              {
                "output_type": "stream",
                "name": "stdout",
                "text": [
                  "car_number 80 density 0.7777777777777778 final_fuel 0.0004642416133770143 period [50.] MPR 1 ASL 1 ASL area 300\n"
                ]
              },
              {
                "output_type": "stream",
                "name": "stdout",
                "text": [
                  "car_number 81 density 0.7875000000000001 final_fuel 0.00049363541152489 period [50.] MPR 1 ASL 1 ASL area 300\n"
                ]
              },
              {
                "output_type": "stream",
                "name": "stdout",
                "text": [
                  "car_number 82 density 0.7972222222222223 final_fuel 0.0005140135528271278 period [50.] MPR 1 ASL 1 ASL area 300\n"
                ]
              },
              {
                "output_type": "stream",
                "name": "stdout",
                "text": [
                  "car_number 83 density 0.8069444444444446 final_fuel 0.0005381450862271977 period [50.] MPR 1 ASL 1 ASL area 300\n"
                ]
              },
              {
                "output_type": "stream",
                "name": "stdout",
                "text": [
                  "car_number 84 density 0.8166666666666668 final_fuel 0.0005736880540232183 period [50.] MPR 1 ASL 1 ASL area 300\n"
                ]
              },
              {
                "output_type": "stream",
                "name": "stdout",
                "text": [
                  "car_number 85 density 0.826388888888889 final_fuel 0.0006081620513308325 period [50.] MPR 1 ASL 1 ASL area 300\n"
                ]
              },
              {
                "output_type": "stream",
                "name": "stdout",
                "text": [
                  "car_number 86 density 0.8361111111111112 final_fuel 0.0006409863285399776 period [50.] MPR 1 ASL 1 ASL area 300\n"
                ]
              },
              {
                "output_type": "stream",
                "name": "stdout",
                "text": [
                  "car_number 87 density 0.8458333333333334 final_fuel 0.0006839002119109583 period [50.] MPR 1 ASL 1 ASL area 300\n"
                ]
              },
              {
                "output_type": "stream",
                "name": "stdout",
                "text": [
                  "car_number 88 density 0.8555555555555556 final_fuel 0.0007309972945718423 period [50.] MPR 1 ASL 1 ASL area 300\n"
                ]
              },
              {
                "output_type": "stream",
                "name": "stdout",
                "text": [
                  "car_number 89 density 0.8652777777777778 final_fuel 0.0007920386054409896 period [50.] MPR 1 ASL 1 ASL area 300\n"
                ]
              },
              {
                "output_type": "stream",
                "name": "stdout",
                "text": [
                  "car_number 90 density 0.875 final_fuel 0.0008471115413913608 period [50.] MPR 1 ASL 1 ASL area 300\n"
                ]
              },
              {
                "output_type": "stream",
                "name": "stdout",
                "text": [
                  "car_number 91 density 0.8847222222222222 final_fuel 0.0009284373999573349 period [50.] MPR 1 ASL 1 ASL area 300\n"
                ]
              },
              {
                "output_type": "stream",
                "name": "stdout",
                "text": [
                  "car_number 92 density 0.8944444444444444 final_fuel 0.0010075699011834142 period [50.] MPR 1 ASL 1 ASL area 300\n"
                ]
              },
              {
                "output_type": "stream",
                "name": "stdout",
                "text": [
                  "car_number 93 density 0.9041666666666668 final_fuel 0.00112400119437275 period [50.] MPR 1 ASL 1 ASL area 300\n"
                ]
              },
              {
                "output_type": "stream",
                "name": "stdout",
                "text": [
                  "car_number 94 density 0.913888888888889 final_fuel 0.0012475900104386157 period [50.] MPR 1 ASL 1 ASL area 300\n"
                ]
              },
              {
                "output_type": "stream",
                "name": "stdout",
                "text": [
                  "car_number 95 density 0.9236111111111112 final_fuel 0.0013985398633162525 period [50.] MPR 1 ASL 1 ASL area 300\n"
                ]
              },
              {
                "output_type": "stream",
                "name": "stdout",
                "text": [
                  "car_number 96 density 0.9333333333333333 final_fuel 0.0015970800631551776 period [50.] MPR 1 ASL 1 ASL area 300\n"
                ]
              },
              {
                "output_type": "stream",
                "name": "stdout",
                "text": [
                  "car_number 97 density 0.9430555555555555 final_fuel 0.0018708982004360414 period [50.] MPR 1 ASL 1 ASL area 300\n"
                ]
              },
              {
                "output_type": "stream",
                "name": "stdout",
                "text": [
                  "car_number 98 density 0.9527777777777777 final_fuel 0.002256306418516992 period [50.] MPR 1 ASL 1 ASL area 300\n"
                ]
              },
              {
                "output_type": "stream",
                "name": "stdout",
                "text": [
                  "car_number 99 density 0.9625000000000001 final_fuel 0.002840001071516511 period [50.] MPR 1 ASL 1 ASL area 300\n"
                ]
              },
              {
                "output_type": "stream",
                "name": "stdout",
                "text": [
                  "car_number 100 density 0.9722222222222223 final_fuel 0.003811633241313744 period [50.] MPR 1 ASL 1 ASL area 300\n"
                ]
              },
              {
                "output_type": "stream",
                "name": "stdout",
                "text": [
                  "car_number 2 density 0.019444444444444445 final_fuel 8.799950111340409e-05 period [1.] MPR 0 ASL 1 ASL area 300\n"
                ]
              },
              {
                "output_type": "stream",
                "name": "stdout",
                "text": [
                  "car_number 3 density 0.029166666666666667 final_fuel 8.799950111340409e-05 period [1.] MPR 0 ASL 1 ASL area 300\n"
                ]
              },
              {
                "output_type": "stream",
                "name": "stdout",
                "text": [
                  "car_number 4 density 0.03888888888888889 final_fuel 8.799950111340409e-05 period [1.] MPR 0 ASL 1 ASL area 300\n"
                ]
              },
              {
                "output_type": "stream",
                "name": "stdout",
                "text": [
                  "car_number 5 density 0.04861111111111111 final_fuel 8.799950111340409e-05 period [1.] MPR 0 ASL 1 ASL area 300\n"
                ]
              },
              {
                "output_type": "stream",
                "name": "stdout",
                "text": [
                  "car_number 6 density 0.058333333333333334 final_fuel 8.799950111340409e-05 period [1.] MPR 0 ASL 1 ASL area 300\n"
                ]
              },
              {
                "output_type": "stream",
                "name": "stdout",
                "text": [
                  "car_number 7 density 0.06805555555555556 final_fuel 8.799950111340409e-05 period [1.] MPR 0 ASL 1 ASL area 300\n"
                ]
              },
              {
                "output_type": "stream",
                "name": "stdout",
                "text": [
                  "car_number 8 density 0.07777777777777778 final_fuel 8.799950111340409e-05 period [1.] MPR 0 ASL 1 ASL area 300\n"
                ]
              },
              {
                "output_type": "stream",
                "name": "stdout",
                "text": [
                  "car_number 9 density 0.08750000000000001 final_fuel 8.799950111340409e-05 period [1.] MPR 0 ASL 1 ASL area 300\n"
                ]
              },
              {
                "output_type": "stream",
                "name": "stdout",
                "text": [
                  "car_number 10 density 0.09722222222222222 final_fuel 8.799950111340409e-05 period [1.] MPR 0 ASL 1 ASL area 300\n"
                ]
              },
              {
                "output_type": "stream",
                "name": "stdout",
                "text": [
                  "car_number 11 density 0.10694444444444445 final_fuel 8.799950111340409e-05 period [1.] MPR 0 ASL 1 ASL area 300\n"
                ]
              },
              {
                "output_type": "stream",
                "name": "stdout",
                "text": [
                  "car_number 12 density 0.11666666666666667 final_fuel 8.799950111340409e-05 period [1.] MPR 0 ASL 1 ASL area 300\n"
                ]
              },
              {
                "output_type": "stream",
                "name": "stdout",
                "text": [
                  "car_number 13 density 0.12638888888888888 final_fuel 8.799950111340409e-05 period [1.] MPR 0 ASL 1 ASL area 300\n"
                ]
              },
              {
                "output_type": "stream",
                "name": "stdout",
                "text": [
                  "car_number 14 density 0.13611111111111113 final_fuel 0.00010409182454402877 period [50.] MPR 0 ASL 1 ASL area 300\n"
                ]
              },
              {
                "output_type": "stream",
                "name": "stdout",
                "text": [
                  "car_number 15 density 0.14583333333333334 final_fuel 0.00011578212143826233 period [50.] MPR 0 ASL 1 ASL area 300\n"
                ]
              },
              {
                "output_type": "stream",
                "name": "stdout",
                "text": [
                  "car_number 16 density 0.15555555555555556 final_fuel 0.00012425092131909538 period [50.] MPR 0 ASL 1 ASL area 300\n"
                ]
              },
              {
                "output_type": "stream",
                "name": "stdout",
                "text": [
                  "car_number 17 density 0.16527777777777777 final_fuel 0.00013308292357011898 period [50.] MPR 0 ASL 1 ASL area 300\n"
                ]
              },
              {
                "output_type": "stream",
                "name": "stdout",
                "text": [
                  "car_number 18 density 0.17500000000000002 final_fuel 0.00013793934796249528 period [50.] MPR 0 ASL 1 ASL area 300\n"
                ]
              },
              {
                "output_type": "stream",
                "name": "stdout",
                "text": [
                  "car_number 19 density 0.18472222222222223 final_fuel 0.00014363909748498556 period [50.] MPR 0 ASL 1 ASL area 300\n"
                ]
              },
              {
                "output_type": "stream",
                "name": "stdout",
                "text": [
                  "car_number 20 density 0.19444444444444445 final_fuel 0.00014962837009044826 period [50.] MPR 0 ASL 1 ASL area 300\n"
                ]
              },
              {
                "output_type": "stream",
                "name": "stdout",
                "text": [
                  "car_number 21 density 0.2041666666666667 final_fuel 0.00015389472479308348 period [50.] MPR 0 ASL 1 ASL area 300\n"
                ]
              },
              {
                "output_type": "stream",
                "name": "stdout",
                "text": [
                  "car_number 22 density 0.2138888888888889 final_fuel 0.00015977239780961365 period [50.] MPR 0 ASL 1 ASL area 300\n"
                ]
              },
              {
                "output_type": "stream",
                "name": "stdout",
                "text": [
                  "car_number 23 density 0.2236111111111111 final_fuel 0.00016560669897558875 period [50.] MPR 0 ASL 1 ASL area 300\n"
                ]
              },
              {
                "output_type": "stream",
                "name": "stdout",
                "text": [
                  "car_number 24 density 0.23333333333333334 final_fuel 0.00017006221735181822 period [50.] MPR 0 ASL 1 ASL area 300\n"
                ]
              },
              {
                "output_type": "stream",
                "name": "stdout",
                "text": [
                  "car_number 25 density 0.24305555555555558 final_fuel 0.00017585558076888742 period [50.] MPR 0 ASL 1 ASL area 300\n"
                ]
              },
              {
                "output_type": "stream",
                "name": "stdout",
                "text": [
                  "car_number 26 density 0.25277777777777777 final_fuel 0.00018277763096866153 period [2.] MPR 0 ASL 1 ASL area 300\n"
                ]
              },
              {
                "output_type": "stream",
                "name": "stdout",
                "text": [
                  "car_number 27 density 0.2625 final_fuel 0.00018663994814237212 period [50.] MPR 0 ASL 1 ASL area 300\n"
                ]
              },
              {
                "output_type": "stream",
                "name": "stdout",
                "text": [
                  "car_number 28 density 0.27222222222222225 final_fuel 0.0001924719814090752 period [50.] MPR 0 ASL 1 ASL area 300\n"
                ]
              },
              {
                "output_type": "stream",
                "name": "stdout",
                "text": [
                  "car_number 29 density 0.2819444444444445 final_fuel 0.00020862038176123785 period [50.] MPR 0 ASL 1 ASL area 300\n"
                ]
              },
              {
                "output_type": "stream",
                "name": "stdout",
                "text": [
                  "car_number 30 density 0.2916666666666667 final_fuel 0.0002231934993408782 period [50.] MPR 0 ASL 1 ASL area 300\n"
                ]
              },
              {
                "output_type": "stream",
                "name": "stdout",
                "text": [
                  "car_number 31 density 0.30138888888888893 final_fuel 0.0002347175425058986 period [50.] MPR 0 ASL 1 ASL area 300\n"
                ]
              },
              {
                "output_type": "stream",
                "name": "stdout",
                "text": [
                  "car_number 32 density 0.3111111111111111 final_fuel 0.00024693263581292965 period [50.] MPR 0 ASL 1 ASL area 300\n"
                ]
              },
              {
                "output_type": "stream",
                "name": "stdout",
                "text": [
                  "car_number 33 density 0.3208333333333333 final_fuel 0.0002490049182328467 period [50.] MPR 0 ASL 1 ASL area 300\n"
                ]
              },
              {
                "output_type": "stream",
                "name": "stdout",
                "text": [
                  "car_number 34 density 0.33055555555555555 final_fuel 0.00025707222502023867 period [50.] MPR 0 ASL 1 ASL area 300\n"
                ]
              },
              {
                "output_type": "stream",
                "name": "stdout",
                "text": [
                  "car_number 35 density 0.3402777777777778 final_fuel 0.0002595960081724434 period [50.] MPR 0 ASL 1 ASL area 300\n"
                ]
              },
              {
                "output_type": "stream",
                "name": "stdout",
                "text": [
                  "car_number 36 density 0.35000000000000003 final_fuel 0.00026749582789942726 period [50.] MPR 0 ASL 1 ASL area 300\n"
                ]
              },
              {
                "output_type": "stream",
                "name": "stdout",
                "text": [
                  "car_number 37 density 0.3597222222222222 final_fuel 0.00027008476125076465 period [50.] MPR 0 ASL 1 ASL area 300\n"
                ]
              },
              {
                "output_type": "stream",
                "name": "stdout",
                "text": [
                  "car_number 38 density 0.36944444444444446 final_fuel 0.0002786351419174284 period [50.] MPR 0 ASL 1 ASL area 300\n"
                ]
              },
              {
                "output_type": "stream",
                "name": "stdout",
                "text": [
                  "car_number 39 density 0.3791666666666667 final_fuel 0.00028458119735143387 period [3.] MPR 0 ASL 1 ASL area 300\n"
                ]
              },
              {
                "output_type": "stream",
                "name": "stdout",
                "text": [
                  "car_number 40 density 0.3888888888888889 final_fuel 0.00029185813466758425 period [50.] MPR 0 ASL 1 ASL area 300\n"
                ]
              },
              {
                "output_type": "stream",
                "name": "stdout",
                "text": [
                  "car_number 41 density 0.39861111111111114 final_fuel 0.0002933116221886844 period [50.] MPR 0 ASL 1 ASL area 300\n"
                ]
              },
              {
                "output_type": "stream",
                "name": "stdout",
                "text": [
                  "car_number 42 density 0.4083333333333334 final_fuel 0.00030291173249181644 period [50.] MPR 0 ASL 1 ASL area 300\n"
                ]
              },
              {
                "output_type": "stream",
                "name": "stdout",
                "text": [
                  "car_number 43 density 0.4180555555555556 final_fuel 0.0002985880183459784 period [50.] MPR 0 ASL 1 ASL area 300\n"
                ]
              },
              {
                "output_type": "stream",
                "name": "stdout",
                "text": [
                  "car_number 44 density 0.4277777777777778 final_fuel 0.0003082089071613928 period [50.] MPR 0 ASL 1 ASL area 300\n"
                ]
              },
              {
                "output_type": "stream",
                "name": "stdout",
                "text": [
                  "car_number 45 density 0.4375 final_fuel 0.0003238336312890901 period [50.] MPR 0 ASL 1 ASL area 300\n"
                ]
              },
              {
                "output_type": "stream",
                "name": "stdout",
                "text": [
                  "car_number 46 density 0.4472222222222222 final_fuel 0.00034445917793844596 period [50.] MPR 0 ASL 1 ASL area 300\n"
                ]
              },
              {
                "output_type": "stream",
                "name": "stdout",
                "text": [
                  "car_number 47 density 0.4569444444444445 final_fuel 0.0003534019837186825 period [50.] MPR 0 ASL 1 ASL area 300\n"
                ]
              },
              {
                "output_type": "stream",
                "name": "stdout",
                "text": [
                  "car_number 48 density 0.4666666666666667 final_fuel 0.0003597007031643771 period [50.] MPR 0 ASL 1 ASL area 300\n"
                ]
              },
              {
                "output_type": "stream",
                "name": "stdout",
                "text": [
                  "car_number 49 density 0.47638888888888886 final_fuel 0.0003709598496333344 period [50.] MPR 0 ASL 1 ASL area 300\n"
                ]
              },
              {
                "output_type": "stream",
                "name": "stdout",
                "text": [
                  "car_number 50 density 0.48611111111111116 final_fuel 0.0003763628013294288 period [50.] MPR 0 ASL 1 ASL area 300\n"
                ]
              },
              {
                "output_type": "stream",
                "name": "stdout",
                "text": [
                  "car_number 51 density 0.49583333333333335 final_fuel 0.0003782878730559921 period [50.] MPR 0 ASL 1 ASL area 300\n"
                ]
              },
              {
                "output_type": "stream",
                "name": "stdout",
                "text": [
                  "car_number 52 density 0.5055555555555555 final_fuel 0.00038573469288178693 period [4.] MPR 0 ASL 1 ASL area 300\n"
                ]
              },
              {
                "output_type": "stream",
                "name": "stdout",
                "text": [
                  "car_number 53 density 0.5152777777777778 final_fuel 0.00039354443759995216 period [50.] MPR 0 ASL 1 ASL area 300\n"
                ]
              },
              {
                "output_type": "stream",
                "name": "stdout",
                "text": [
                  "car_number 54 density 0.525 final_fuel 0.00039690806383228545 period [50.] MPR 0 ASL 1 ASL area 300\n"
                ]
              },
              {
                "output_type": "stream",
                "name": "stdout",
                "text": [
                  "car_number 55 density 0.5347222222222223 final_fuel 0.00040302151277443114 period [50.] MPR 0 ASL 1 ASL area 300\n"
                ]
              },
              {
                "output_type": "stream",
                "name": "stdout",
                "text": [
                  "car_number 56 density 0.5444444444444445 final_fuel 0.000411796917587358 period [50.] MPR 0 ASL 1 ASL area 300\n"
                ]
              },
              {
                "output_type": "stream",
                "name": "stdout",
                "text": [
                  "car_number 57 density 0.5541666666666667 final_fuel 0.0004157357740919545 period [50.] MPR 0 ASL 1 ASL area 300\n"
                ]
              },
              {
                "output_type": "stream",
                "name": "stdout",
                "text": [
                  "car_number 58 density 0.563888888888889 final_fuel 0.0004191816221381565 period [50.] MPR 0 ASL 1 ASL area 300\n"
                ]
              },
              {
                "output_type": "stream",
                "name": "stdout",
                "text": [
                  "car_number 59 density 0.5736111111111112 final_fuel 0.00042402323966625 period [50.] MPR 0 ASL 1 ASL area 300\n"
                ]
              },
              {
                "output_type": "stream",
                "name": "stdout",
                "text": [
                  "car_number 60 density 0.5833333333333334 final_fuel 0.0004352315557434677 period [50.] MPR 0 ASL 1 ASL area 300\n"
                ]
              },
              {
                "output_type": "stream",
                "name": "stdout",
                "text": [
                  "car_number 61 density 0.5930555555555557 final_fuel 0.0004758325208219388 period [50.] MPR 0 ASL 1 ASL area 300\n"
                ]
              },
              {
                "output_type": "stream",
                "name": "stdout",
                "text": [
                  "car_number 62 density 0.6027777777777779 final_fuel 0.000490102327843986 period [50.] MPR 0 ASL 1 ASL area 300\n"
                ]
              },
              {
                "output_type": "stream",
                "name": "stdout",
                "text": [
                  "car_number 63 density 0.6125 final_fuel 0.0004683694871204465 period [50.] MPR 0 ASL 1 ASL area 300\n"
                ]
              },
              {
                "output_type": "stream",
                "name": "stdout",
                "text": [
                  "car_number 64 density 0.6222222222222222 final_fuel 0.0004569546020889687 period [50.] MPR 0 ASL 1 ASL area 300\n"
                ]
              },
              {
                "output_type": "stream",
                "name": "stdout",
                "text": [
                  "car_number 65 density 0.6319444444444444 final_fuel 0.00043905622079596593 period [50.] MPR 0 ASL 1 ASL area 300\n"
                ]
              },
              {
                "output_type": "stream",
                "name": "stdout",
                "text": [
                  "car_number 66 density 0.6416666666666666 final_fuel 0.00045252565212140913 period [50.] MPR 0 ASL 1 ASL area 300\n"
                ]
              },
              {
                "output_type": "stream",
                "name": "stdout",
                "text": [
                  "car_number 67 density 0.6513888888888889 final_fuel 0.00041932145245516866 period [50.] MPR 0 ASL 1 ASL area 300\n"
                ]
              },
              {
                "output_type": "stream",
                "name": "stdout",
                "text": [
                  "car_number 68 density 0.6611111111111111 final_fuel 0.0004257853747647857 period [50.] MPR 0 ASL 1 ASL area 300\n"
                ]
              },
              {
                "output_type": "stream",
                "name": "stdout",
                "text": [
                  "car_number 69 density 0.6708333333333334 final_fuel 0.00043692346235824856 period [50.] MPR 0 ASL 1 ASL area 300\n"
                ]
              },
              {
                "output_type": "stream",
                "name": "stdout",
                "text": [
                  "car_number 70 density 0.6805555555555556 final_fuel 0.00044883568491293574 period [50.] MPR 0 ASL 1 ASL area 300\n"
                ]
              },
              {
                "output_type": "stream",
                "name": "stdout",
                "text": [
                  "car_number 71 density 0.6902777777777778 final_fuel 0.0004580185560208348 period [50.] MPR 0 ASL 1 ASL area 300\n"
                ]
              },
              {
                "output_type": "stream",
                "name": "stdout",
                "text": [
                  "car_number 72 density 0.7000000000000001 final_fuel 0.00047244365918413194 period [50.] MPR 0 ASL 1 ASL area 300\n"
                ]
              },
              {
                "output_type": "stream",
                "name": "stdout",
                "text": [
                  "car_number 73 density 0.7097222222222223 final_fuel 0.0004854713440108314 period [50.] MPR 0 ASL 1 ASL area 300\n"
                ]
              },
              {
                "output_type": "stream",
                "name": "stdout",
                "text": [
                  "car_number 74 density 0.7194444444444444 final_fuel 0.0004957447373442965 period [50.] MPR 0 ASL 1 ASL area 300\n"
                ]
              },
              {
                "output_type": "stream",
                "name": "stdout",
                "text": [
                  "car_number 75 density 0.7291666666666667 final_fuel 0.0005101507764677711 period [50.] MPR 0 ASL 1 ASL area 300\n"
                ]
              },
              {
                "output_type": "stream",
                "name": "stdout",
                "text": [
                  "car_number 76 density 0.7388888888888889 final_fuel 0.0005282952230342518 period [50.] MPR 0 ASL 1 ASL area 300\n"
                ]
              },
              {
                "output_type": "stream",
                "name": "stdout",
                "text": [
                  "car_number 77 density 0.7486111111111111 final_fuel 0.0005461066083983967 period [50.] MPR 0 ASL 1 ASL area 300\n"
                ]
              },
              {
                "output_type": "stream",
                "name": "stdout",
                "text": [
                  "car_number 78 density 0.7583333333333334 final_fuel 0.0005671580447677547 period [50.] MPR 0 ASL 1 ASL area 300\n"
                ]
              },
              {
                "output_type": "stream",
                "name": "stdout",
                "text": [
                  "car_number 79 density 0.7680555555555556 final_fuel 0.0005843715191815525 period [50.] MPR 0 ASL 1 ASL area 300\n"
                ]
              },
              {
                "output_type": "stream",
                "name": "stdout",
                "text": [
                  "car_number 80 density 0.7777777777777778 final_fuel 0.0006063586101403847 period [50.] MPR 0 ASL 1 ASL area 300\n"
                ]
              },
              {
                "output_type": "stream",
                "name": "stdout",
                "text": [
                  "car_number 81 density 0.7875000000000001 final_fuel 0.0006296251446718109 period [50.] MPR 0 ASL 1 ASL area 300\n"
                ]
              },
              {
                "output_type": "stream",
                "name": "stdout",
                "text": [
                  "car_number 82 density 0.7972222222222223 final_fuel 0.0006552562985473819 period [50.] MPR 0 ASL 1 ASL area 300\n"
                ]
              },
              {
                "output_type": "stream",
                "name": "stdout",
                "text": [
                  "car_number 83 density 0.8069444444444446 final_fuel 0.0006765820349278446 period [50.] MPR 0 ASL 1 ASL area 300\n"
                ]
              },
              {
                "output_type": "stream",
                "name": "stdout",
                "text": [
                  "car_number 84 density 0.8166666666666668 final_fuel 0.0007099323347143321 period [50.] MPR 0 ASL 1 ASL area 300\n"
                ]
              },
              {
                "output_type": "stream",
                "name": "stdout",
                "text": [
                  "car_number 85 density 0.826388888888889 final_fuel 0.0007466027658922371 period [50.] MPR 0 ASL 1 ASL area 300\n"
                ]
              },
              {
                "output_type": "stream",
                "name": "stdout",
                "text": [
                  "car_number 86 density 0.8361111111111112 final_fuel 0.0007855186411504666 period [50.] MPR 0 ASL 1 ASL area 300\n"
                ]
              },
              {
                "output_type": "stream",
                "name": "stdout",
                "text": [
                  "car_number 87 density 0.8458333333333334 final_fuel 0.0008237929565659293 period [50.] MPR 0 ASL 1 ASL area 300\n"
                ]
              },
              {
                "output_type": "stream",
                "name": "stdout",
                "text": [
                  "car_number 88 density 0.8555555555555556 final_fuel 0.0008813986365730952 period [50.] MPR 0 ASL 1 ASL area 300\n"
                ]
              },
              {
                "output_type": "stream",
                "name": "stdout",
                "text": [
                  "car_number 89 density 0.8652777777777778 final_fuel 0.0009436556028962236 period [50.] MPR 0 ASL 1 ASL area 300\n"
                ]
              },
              {
                "output_type": "stream",
                "name": "stdout",
                "text": [
                  "car_number 90 density 0.875 final_fuel 0.0010145608955855296 period [50.] MPR 0 ASL 1 ASL area 300\n"
                ]
              },
              {
                "output_type": "stream",
                "name": "stdout",
                "text": [
                  "car_number 91 density 0.8847222222222222 final_fuel 0.0010913720474226985 period [50.] MPR 0 ASL 1 ASL area 300\n"
                ]
              },
              {
                "output_type": "stream",
                "name": "stdout",
                "text": [
                  "car_number 92 density 0.8944444444444444 final_fuel 0.0011577406811990288 period [50.] MPR 0 ASL 1 ASL area 300\n"
                ]
              },
              {
                "output_type": "stream",
                "name": "stdout",
                "text": [
                  "car_number 93 density 0.9041666666666668 final_fuel 0.0012636143687788798 period [50.] MPR 0 ASL 1 ASL area 300\n"
                ]
              },
              {
                "output_type": "stream",
                "name": "stdout",
                "text": [
                  "car_number 94 density 0.913888888888889 final_fuel 0.001404687807462501 period [50.] MPR 0 ASL 1 ASL area 300\n"
                ]
              },
              {
                "output_type": "stream",
                "name": "stdout",
                "text": [
                  "car_number 95 density 0.9236111111111112 final_fuel 0.0015656337894686839 period [50.] MPR 0 ASL 1 ASL area 300\n"
                ]
              },
              {
                "output_type": "stream",
                "name": "stdout",
                "text": [
                  "car_number 96 density 0.9333333333333333 final_fuel 0.0017479329622599766 period [50.] MPR 0 ASL 1 ASL area 300\n"
                ]
              },
              {
                "output_type": "stream",
                "name": "stdout",
                "text": [
                  "car_number 97 density 0.9430555555555555 final_fuel 0.001998869872794281 period [50.] MPR 0 ASL 1 ASL area 300\n"
                ]
              },
              {
                "output_type": "stream",
                "name": "stdout",
                "text": [
                  "car_number 98 density 0.9527777777777777 final_fuel 0.0023946120062688335 period [50.] MPR 0 ASL 1 ASL area 300\n"
                ]
              },
              {
                "output_type": "stream",
                "name": "stdout",
                "text": [
                  "car_number 99 density 0.9625000000000001 final_fuel 0.0030113727327674934 period [50.] MPR 0 ASL 1 ASL area 300\n"
                ]
              },
              {
                "output_type": "stream",
                "name": "stdout",
                "text": [
                  "car_number 100 density 0.9722222222222223 final_fuel 0.004015554378820003 period [50.] MPR 0 ASL 1 ASL area 300\n",
                  "density: 0.019444444444444445 improvement1: 0.0 improvement2: -0.008126265315935835 improvement3: -0.01625253063184087 improvement4: -0.020315663289808786\n",
                  "density: 0.029166666666666667 improvement1: 0.0 improvement2: 0.0 improvement3: 0.0 improvement4: -0.01876553441842844\n",
                  "density: 0.03888888888888889 improvement1: 0.0 improvement2: 0.0 improvement3: 0.0 improvement4: -0.004334212674250115\n",
                  "density: 0.04861111111111111 improvement1: 0.0 improvement2: 0.0 improvement3: 0.0 improvement4: -0.001992555137913805\n",
                  "density: 0.058333333333333334 improvement1: 0.0 improvement2: 0.0 improvement3: 0.0 improvement4: -0.0015289475673323592\n",
                  "density: 0.06805555555555556 improvement1: 0.0 improvement2: 0.0 improvement3: 0.0 improvement4: -0.0019067386903202355\n",
                  "density: 0.07777777777777778 improvement1: 0.0 improvement2: 0.0 improvement3: 0.0 improvement4: -0.006711193472026079\n",
                  "density: 0.08750000000000001 improvement1: 0.0 improvement2: 0.0 improvement3: 0.0 improvement4: -0.005766736391400704\n",
                  "density: 0.09722222222222222 improvement1: 0.0 improvement2: 0.0 improvement3: -0.0003016961755848065 improvement4: -0.005446254913650208\n",
                  "density: 0.10694444444444445 improvement1: 0.0 improvement2: -0.0008362311936891011 improvement3: -0.0014509438803932257 improvement4: -0.004129806304768642\n",
                  "density: 0.11666666666666667 improvement1: 0.0 improvement2: -0.0010150213593579712 improvement3: -0.0025255598697142573 improvement4: -0.009991948763009583\n",
                  "density: 0.12638888888888888 improvement1: 0.0 improvement2: -0.0005486915407720825 improvement3: -0.0031459579594961796 improvement4: -0.00547523040176754\n",
                  "density: 0.13611111111111113 improvement1: 12.351074379617216 improvement2: 15.454418699711457 improvement3: 15.458464699412653 improvement4: 15.45280548936794\n",
                  "density: 0.14583333333333334 improvement1: 2.267243329590411 improvement2: 4.549522901646908 improvement3: 9.083929555992055 improvement4: 11.770071106863421\n",
                  "density: 0.15555555555555556 improvement1: 4.640522549335985 improvement2: 7.594859804723376 improvement3: 10.709076004764805 improvement4: 14.302344394853263\n",
                  "density: 0.16527777777777777 improvement1: 3.669522890629031 improvement2: 12.447090516941378 improvement3: 15.210370884186199 improvement4: 16.179105929926678\n",
                  "density: 0.17500000000000002 improvement1: 7.474528062353007 improvement2: 10.216948535502132 improvement3: 14.123325475955744 improvement4: 15.723720652860159\n",
                  "density: 0.18472222222222223 improvement1: 5.180899057242044 improvement2: 13.354916749466568 improvement3: 12.590384041868708 improvement4: 16.589655999608855\n",
                  "density: 0.19444444444444445 improvement1: 8.5263741164928 improvement2: 15.687907673277167 improvement3: 15.806980289466145 improvement4: 17.204168056839443\n",
                  "density: 0.2041666666666667 improvement1: 5.969248851270534 improvement2: 12.903362670058145 improvement3: 17.565187784319285 improvement4: 18.587417125566006\n",
                  "density: 0.2138888888888889 improvement1: 2.910608971311875 improvement2: 14.006339956751663 improvement3: 15.87961303844983 improvement4: 19.45976109474159\n",
                  "density: 0.2236111111111111 improvement1: 10.064942565883753 improvement2: 13.777486762263962 improvement3: 16.991110080215815 improvement4: 20.053676108579364\n",
                  "density: 0.23333333333333334 improvement1: 6.174449605427597 improvement2: 16.241605822851522 improvement3: 17.02294112572362 improvement4: 19.48576576700323\n",
                  "density: 0.24305555555555558 improvement1: 7.359188721445699 improvement2: 14.988156571196217 improvement3: 20.48540964688545 improvement4: 21.400182900801614\n",
                  "density: 0.25277777777777777 improvement1: 8.74542821655955 improvement2: 12.367277146579188 improvement3: 20.019521484660167 improvement4: 23.61632447456891\n",
                  "density: 0.2625 improvement1: 9.569078395676167 improvement2: 14.567988175449635 improvement3: 21.320318819966086 improvement4: 23.222589712202858\n",
                  "density: 0.27222222222222225 improvement1: 19.203378970285133 improvement2: 24.39356951284542 improvement3: 24.260739285281947 improvement4: 22.257633914136406\n",
                  "density: 0.2819444444444445 improvement1: 23.257328523534827 improvement2: 23.525501539875844 improvement3: 26.482514665294595 improvement4: 28.746453317548532\n",
                  "density: 0.2916666666666667 improvement1: 19.637591169238675 improvement2: 29.483738314786876 improvement3: 30.71334130628678 improvement4: 32.112217360489105\n",
                  "density: 0.30138888888888893 improvement1: 24.777174197139466 improvement2: 31.690483755068552 improvement3: 33.054358615774554 improvement4: 34.726321720919444\n",
                  "density: 0.3111111111111111 improvement1: 26.126789552377925 improvement2: 33.92689649715952 improvement3: 35.20347081829672 improvement4: 36.92585435093802\n",
                  "density: 0.3208333333333333 improvement1: 29.2764314674881 improvement2: 29.87372307571328 improvement3: 33.97896499730711 improvement4: 36.11020790721889\n",
                  "density: 0.33055555555555555 improvement1: 22.739649590524042 improvement2: 34.43041678705516 improvement3: 35.25616493265651 improvement4: 36.94739098489964\n",
                  "density: 0.3402777777777778 improvement1: 26.36780215795026 improvement2: 34.872290508709355 improvement3: 36.30865302586242 improvement4: 37.291169974474734\n",
                  "density: 0.35000000000000003 improvement1: 18.274066856553215 improvement2: 32.98013507130595 improvement3: 35.024637520377205 improvement4: 38.440272836313184\n",
                  "density: 0.3597222222222222 improvement1: 22.392317550243643 improvement2: 33.682189356310204 improvement3: 35.8692083851456 improvement4: 37.724383085388126\n",
                  "density: 0.36944444444444446 improvement1: 30.978109561096733 improvement2: 35.06219913564497 improvement3: 36.26751588158577 improvement4: 39.351055600197974\n",
                  "density: 0.3791666666666667 improvement1: 19.989917134404624 improvement2: 31.827204290654297 improvement3: 37.58780555497039 improvement4: 39.394741285166226\n",
                  "density: 0.3888888888888889 improvement1: 26.3652411866677 improvement2: 36.02791857910063 improvement3: 36.55325197887563 improvement4: 39.63562021910235\n",
                  "density: 0.39861111111111114 improvement1: 31.03992396223819 improvement2: 37.22660199163251 improvement3: 34.94546088814005 improvement4: 39.13291817555211\n",
                  "density: 0.4083333333333334 improvement1: 26.265860685345064 improvement2: 35.49401794017333 improvement3: 40.30991197325948 improvement4: 40.529931307982835\n",
                  "density: 0.4180555555555556 improvement1: 29.82095801608179 improvement2: 34.26595450723487 improvement3: 36.50268795432851 improvement4: 38.651955083131845\n",
                  "density: 0.4277777777777778 improvement1: 30.311601306354074 improvement2: 37.00325946159724 improvement3: 37.09504775871977 improvement4: 39.898580961649515\n",
                  "density: 0.4375 improvement1: 31.215082338386818 improvement2: 36.53236930980876 improvement3: 40.27511211221907 improvement4: 41.47687422230722\n",
                  "density: 0.4472222222222222 improvement1: 34.455684763126605 improvement2: 40.65282159588829 improvement3: 43.39656958264896 improvement4: 45.07168221097224\n",
                  "density: 0.4569444444444445 improvement1: 34.76419165332413 improvement2: 41.4444358523778 improvement3: 42.89115542401446 improvement4: 45.39965216599484\n",
                  "density: 0.4666666666666667 improvement1: 38.90037395119576 improvement2: 41.07256395497103 improvement3: 44.21048522418217 improvement4: 45.65457248819539\n",
                  "density: 0.47638888888888886 improvement1: 37.323353473033954 improvement2: 41.871724354801316 improvement3: 44.60746446314965 improvement4: 46.577992422128155\n",
                  "density: 0.48611111111111116 improvement1: 34.068765111765984 improvement2: 41.61078069102239 improvement3: 43.36638664512539 improvement4: 46.614709898068035\n",
                  "density: 0.49583333333333335 improvement1: 34.74433681498927 improvement2: 42.893387258345435 improvement3: 44.98097266715628 improvement4: 46.30671690572086\n",
                  "density: 0.5055555555555555 improvement1: 30.010362204541202 improvement2: 39.398711582910586 improvement3: 44.35722098838009 improvement4: 46.67719571822202\n",
                  "density: 0.5152777777777778 improvement1: 33.433850928343105 improvement2: 38.99217882293534 improvement3: 43.59514556053027 improvement4: 46.81462311799409\n",
                  "density: 0.525 improvement1: 37.18084343895994 improvement2: 43.826759650577195 improvement3: 44.46303704651011 improvement4: 46.43896944179577\n",
                  "density: 0.5347222222222223 improvement1: 33.518544022229825 improvement2: 45.005856818326926 improvement3: 45.806029403098925 improvement4: 47.03418722547861\n",
                  "density: 0.5444444444444445 improvement1: 39.678624646825675 improvement2: 44.45520377940414 improvement3: 47.3156475635401 improvement4: 47.39611309190563\n",
                  "density: 0.5541666666666667 improvement1: 37.00709963319242 improvement2: 42.50587520219959 improvement3: 45.388481078779066 improvement4: 47.233131343980965\n",
                  "density: 0.563888888888889 improvement1: 37.12807885092248 improvement2: 42.87100103297328 improvement3: 44.6171660937288 improvement4: 46.90976128378181\n",
                  "density: 0.5736111111111112 improvement1: 35.46647222861819 improvement2: 42.98679910458764 improvement3: 45.82085772770401 improvement4: 47.174676080203106\n",
                  "density: 0.5833333333333334 improvement1: 35.491290056366665 improvement2: 43.98351163287207 improvement3: 45.22664096408487 improvement4: 45.66872361151155\n",
                  "density: 0.5930555555555557 improvement1: 41.13779000727791 improvement2: 47.500448681353056 improvement3: 47.909916033076264 improvement4: 49.23856964422328\n",
                  "density: 0.6027777777777779 improvement1: 44.265215774253555 improvement2: 47.453897344188704 improvement3: 47.945138755541045 improvement4: 48.885772274133785\n",
                  "density: 0.6125 improvement1: 34.82317234430303 improvement2: 41.175564386252226 improvement3: 44.02399858783477 improvement4: 43.227886058293166\n",
                  "density: 0.6222222222222222 improvement1: 33.35417944812403 improvement2: 39.66924385011026 improvement3: 41.574590954796484 improvement4: 42.858165716312726\n",
                  "density: 0.6319444444444444 improvement1: 29.89531908150789 improvement2: 34.97724099564664 improvement3: 35.414985726719365 improvement4: 38.07944079587086\n",
                  "density: 0.6416666666666666 improvement1: 32.74092410727711 improvement2: 36.81185202134267 improvement3: 37.64063320269786 improvement4: 38.489376358880314\n",
                  "density: 0.6513888888888889 improvement1: 22.127191162127602 improvement2: 30.644091703813814 improvement3: 31.35192902137563 improvement4: 31.373489828092293\n",
                  "density: 0.6611111111111111 improvement1: 25.8403803094674 improvement2: 29.80511700184063 improvement3: 30.158126862107064 improvement4: 30.59077111734216\n",
                  "density: 0.6708333333333334 improvement1: 26.593226320132587 improvement2: 28.83575070896997 improvement3: 29.166743178346515 improvement4: 30.07310617376759\n",
                  "density: 0.6805555555555556 improvement1: 24.219255504284515 improvement2: 27.909055199035077 improvement3: 29.54302565151737 improvement4: 28.706919498906696\n",
                  "density: 0.6902777777777778 improvement1: 24.489783942987046 improvement2: 28.2711256677058 improvement3: 28.81360498096916 improvement4: 28.94929034807026\n",
                  "density: 0.7000000000000001 improvement1: 23.375072067903567 improvement2: 26.344834526653273 improvement3: 27.907115627342396 improvement4: 27.879584127670615\n",
                  "density: 0.7097222222222223 improvement1: 25.400774709169188 improvement2: 26.537648501869096 improvement3: 27.73163064346615 improvement4: 27.718068019975643\n",
                  "density: 0.7194444444444444 improvement1: 23.766919370758778 improvement2: 26.26243145686352 improvement3: 26.67447253954515 improvement4: 26.94955570947478\n",
                  "density: 0.7291666666666667 improvement1: 20.782651549505424 improvement2: 24.607388755933744 improvement3: 26.096422303793698 improvement4: 25.259356337255632\n",
                  "density: 0.7388888888888889 improvement1: 21.451967441584944 improvement2: 25.128503792357456 improvement3: 25.558276572555982 improvement4: 25.262027466349263\n",
                  "density: 0.7486111111111111 improvement1: 21.66412416625909 improvement2: 25.257727879673215 improvement3: 25.540134292512402 improvement4: 25.65113329722093\n",
                  "density: 0.7583333333333334 improvement1: 20.035558927223075 improvement2: 23.740849777685565 improvement3: 24.11626669701546 improvement4: 24.567273880936696\n",
                  "density: 0.7680555555555556 improvement1: 19.775347925856618 improvement2: 23.303465932195415 improvement3: 23.764680620612666 improvement4: 24.56082160698525\n",
                  "density: 0.7777777777777778 improvement1: 19.675821113946984 improvement2: 22.866105344601507 improvement3: 23.175626522458316 improvement4: 23.437779951779255\n",
                  "density: 0.7875000000000001 improvement1: 18.23313542983781 improvement2: 21.33428629689949 improvement3: 21.821997845869554 improvement4: 21.598523232074044\n",
                  "density: 0.7972222222222223 improvement1: 18.89136710486792 improvement2: 21.02893754894094 improvement3: 21.51760862346778 improvement4: 21.555343463827953\n",
                  "density: 0.8069444444444446 improvement1: 17.26432280828633 improvement2: 19.199533927256088 improvement3: 19.50850241291655 improvement4: 20.461221485937152\n",
                  "density: 0.8166666666666668 improvement1: 16.263922896716384 improvement2: 18.998658660865484 improvement3: 19.42927973189942 improvement4: 19.191164288345423\n",
                  "density: 0.826388888888889 improvement1: 15.047876919723631 improvement2: 17.61370749128412 improvement3: 18.519599638638983 improvement4: 18.54275404350522\n",
                  "density: 0.8361111111111112 improvement1: 16.10884990849675 improvement2: 17.779296918273083 improvement3: 18.418751782261978 improvement4: 18.399603146121102\n",
                  "density: 0.8458333333333334 improvement1: 12.946566910289128 improvement2: 16.282912213419127 improvement3: 16.82985613090903 improvement4: 16.98154172598527\n",
                  "density: 0.8555555555555556 improvement1: 14.29277940748638 improvement2: 16.433988175090178 improvement3: 16.63449318005031 improvement4: 17.063940850421307\n",
                  "density: 0.8652777777777778 improvement1: 11.741714675973295 improvement2: 15.5857821844368 improvement3: 16.168414631783577 improvement4: 16.066984288536858\n",
                  "density: 0.875 improvement1: 13.398349101020358 improvement2: 15.739232803202711 improvement3: 16.338727595900508 improvement4: 16.50461346605809\n",
                  "density: 0.8847222222222222 improvement1: 12.206908085033305 improvement2: 13.579776648878218 improvement3: 14.254417687759968 improvement4: 14.929340351911867\n",
                  "density: 0.8944444444444444 improvement1: 9.624040318915437 improvement2: 12.11082535250016 improvement3: 12.538636780857027 improvement4: 12.97102040675364\n",
                  "density: 0.9041666666666668 improvement1: 8.84850491000662 improvement2: 10.340460761166856 improvement3: 10.967952589928105 improvement4: 11.048716907283023\n",
                  "density: 0.913888888888889 improvement1: 8.72989866689586 improvement2: 10.66373282633885 improvement3: 11.32401206492579 improvement4: 11.183822924160964\n",
                  "density: 0.9236111111111112 improvement1: 9.054321108017279 improvement2: 10.175609558830931 improvement3: 10.664271088846439 improvement4: 10.672606025521242\n",
                  "density: 0.9333333333333333 improvement1: 7.066507138274696 improvement2: 8.165395310842387 improvement3: 8.631902272116662 improvement4: 8.63035953677279\n",
                  "density: 0.9430555555555555 improvement1: 3.6388922129506933 improvement2: 5.5854612141494995 improvement3: 6.107922966677264 improvement4: 6.4022012688271825\n",
                  "density: 0.9527777777777777 improvement1: 3.3608803210614497 improvement2: 5.066340289796288 improvement3: 5.550652299917355 improvement4: 5.77569925272957\n",
                  "density: 0.9625000000000001 improvement1: 3.492236871480926 improvement2: 4.788909106665638 improvement3: 5.409728595295841 improvement4: 5.690815334357147\n",
                  "density: 0.9722222222222223 improvement1: 2.730451406190793 improvement2: 4.0204533277288945 improvement3: 4.6581764579931955 improvement4: 5.078281060812895\n",
                  "time 0:54:09.233484\n"
                ]
              },
              {
                "output_type": "display_data",
                "data": {
                  "text/plain": "<Figure size 1120x320 with 2 Axes>",
                  "image/png": "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\n"
                },
                "metadata": {
                  "needs_background": "light"
                }
              }
            ]
          }
        },
        "a8f471b68c1843bca68cfc00df4b0c9c": {
          "model_module": "@jupyter-widgets/base",
          "model_name": "LayoutModel",
          "model_module_version": "1.2.0",
          "state": {
            "_model_module": "@jupyter-widgets/base",
            "_model_module_version": "1.2.0",
            "_model_name": "LayoutModel",
            "_view_count": null,
            "_view_module": "@jupyter-widgets/base",
            "_view_module_version": "1.2.0",
            "_view_name": "LayoutView",
            "align_content": null,
            "align_items": null,
            "align_self": null,
            "border": null,
            "bottom": null,
            "display": null,
            "flex": null,
            "flex_flow": null,
            "grid_area": null,
            "grid_auto_columns": null,
            "grid_auto_flow": null,
            "grid_auto_rows": null,
            "grid_column": null,
            "grid_gap": null,
            "grid_row": null,
            "grid_template_areas": null,
            "grid_template_columns": null,
            "grid_template_rows": null,
            "height": null,
            "justify_content": null,
            "justify_items": null,
            "left": null,
            "margin": null,
            "max_height": null,
            "max_width": null,
            "min_height": null,
            "min_width": null,
            "object_fit": null,
            "object_position": null,
            "order": null,
            "overflow": null,
            "overflow_x": null,
            "overflow_y": null,
            "padding": null,
            "right": null,
            "top": null,
            "visibility": null,
            "width": null
          }
        },
        "e5b13a0ea15a45dc80d1b356e26b5fea": {
          "model_module": "@jupyter-widgets/base",
          "model_name": "LayoutModel",
          "model_module_version": "1.2.0",
          "state": {
            "_model_module": "@jupyter-widgets/base",
            "_model_module_version": "1.2.0",
            "_model_name": "LayoutModel",
            "_view_count": null,
            "_view_module": "@jupyter-widgets/base",
            "_view_module_version": "1.2.0",
            "_view_name": "LayoutView",
            "align_content": null,
            "align_items": null,
            "align_self": null,
            "border": null,
            "bottom": null,
            "display": null,
            "flex": null,
            "flex_flow": null,
            "grid_area": null,
            "grid_auto_columns": null,
            "grid_auto_flow": null,
            "grid_auto_rows": null,
            "grid_column": null,
            "grid_gap": null,
            "grid_row": null,
            "grid_template_areas": null,
            "grid_template_columns": null,
            "grid_template_rows": null,
            "height": null,
            "justify_content": null,
            "justify_items": null,
            "left": null,
            "margin": null,
            "max_height": null,
            "max_width": null,
            "min_height": null,
            "min_width": null,
            "object_fit": null,
            "object_position": null,
            "order": null,
            "overflow": null,
            "overflow_x": null,
            "overflow_y": null,
            "padding": null,
            "right": null,
            "top": null,
            "visibility": null,
            "width": null
          }
        },
        "7aca6650e2eb4bd094ab1ad624286f8b": {
          "model_module": "@jupyter-widgets/controls",
          "model_name": "SliderStyleModel",
          "model_module_version": "1.5.0",
          "state": {
            "_model_module": "@jupyter-widgets/controls",
            "_model_module_version": "1.5.0",
            "_model_name": "SliderStyleModel",
            "_view_count": null,
            "_view_module": "@jupyter-widgets/base",
            "_view_module_version": "1.2.0",
            "_view_name": "StyleView",
            "description_width": "",
            "handle_color": null
          }
        },
        "4ddeb8ff83a9475487e12aff33195d5f": {
          "model_module": "@jupyter-widgets/base",
          "model_name": "LayoutModel",
          "model_module_version": "1.2.0",
          "state": {
            "_model_module": "@jupyter-widgets/base",
            "_model_module_version": "1.2.0",
            "_model_name": "LayoutModel",
            "_view_count": null,
            "_view_module": "@jupyter-widgets/base",
            "_view_module_version": "1.2.0",
            "_view_name": "LayoutView",
            "align_content": null,
            "align_items": null,
            "align_self": null,
            "border": null,
            "bottom": null,
            "display": null,
            "flex": null,
            "flex_flow": null,
            "grid_area": null,
            "grid_auto_columns": null,
            "grid_auto_flow": null,
            "grid_auto_rows": null,
            "grid_column": null,
            "grid_gap": null,
            "grid_row": null,
            "grid_template_areas": null,
            "grid_template_columns": null,
            "grid_template_rows": null,
            "height": null,
            "justify_content": null,
            "justify_items": null,
            "left": null,
            "margin": null,
            "max_height": null,
            "max_width": null,
            "min_height": null,
            "min_width": null,
            "object_fit": null,
            "object_position": null,
            "order": null,
            "overflow": null,
            "overflow_x": null,
            "overflow_y": null,
            "padding": null,
            "right": null,
            "top": null,
            "visibility": null,
            "width": null
          }
        },
        "984db6ec08674cc687e9b90ceec5addf": {
          "model_module": "@jupyter-widgets/controls",
          "model_name": "SliderStyleModel",
          "model_module_version": "1.5.0",
          "state": {
            "_model_module": "@jupyter-widgets/controls",
            "_model_module_version": "1.5.0",
            "_model_name": "SliderStyleModel",
            "_view_count": null,
            "_view_module": "@jupyter-widgets/base",
            "_view_module_version": "1.2.0",
            "_view_name": "StyleView",
            "description_width": "",
            "handle_color": null
          }
        },
        "6b61083fee9646298642fe48fba91d0a": {
          "model_module": "@jupyter-widgets/base",
          "model_name": "LayoutModel",
          "model_module_version": "1.2.0",
          "state": {
            "_model_module": "@jupyter-widgets/base",
            "_model_module_version": "1.2.0",
            "_model_name": "LayoutModel",
            "_view_count": null,
            "_view_module": "@jupyter-widgets/base",
            "_view_module_version": "1.2.0",
            "_view_name": "LayoutView",
            "align_content": null,
            "align_items": null,
            "align_self": null,
            "border": null,
            "bottom": null,
            "display": null,
            "flex": null,
            "flex_flow": null,
            "grid_area": null,
            "grid_auto_columns": null,
            "grid_auto_flow": null,
            "grid_auto_rows": null,
            "grid_column": null,
            "grid_gap": null,
            "grid_row": null,
            "grid_template_areas": null,
            "grid_template_columns": null,
            "grid_template_rows": null,
            "height": null,
            "justify_content": null,
            "justify_items": null,
            "left": null,
            "margin": null,
            "max_height": null,
            "max_width": null,
            "min_height": null,
            "min_width": null,
            "object_fit": null,
            "object_position": null,
            "order": null,
            "overflow": null,
            "overflow_x": null,
            "overflow_y": null,
            "padding": null,
            "right": null,
            "top": null,
            "visibility": null,
            "width": null
          }
        },
        "88e8d624ac5e44eaa30a740d6829aed0": {
          "model_module": "@jupyter-widgets/controls",
          "model_name": "SliderStyleModel",
          "model_module_version": "1.5.0",
          "state": {
            "_model_module": "@jupyter-widgets/controls",
            "_model_module_version": "1.5.0",
            "_model_name": "SliderStyleModel",
            "_view_count": null,
            "_view_module": "@jupyter-widgets/base",
            "_view_module_version": "1.2.0",
            "_view_name": "StyleView",
            "description_width": "",
            "handle_color": null
          }
        },
        "f397c46a4de545719800ea072870ed44": {
          "model_module": "@jupyter-widgets/base",
          "model_name": "LayoutModel",
          "model_module_version": "1.2.0",
          "state": {
            "_model_module": "@jupyter-widgets/base",
            "_model_module_version": "1.2.0",
            "_model_name": "LayoutModel",
            "_view_count": null,
            "_view_module": "@jupyter-widgets/base",
            "_view_module_version": "1.2.0",
            "_view_name": "LayoutView",
            "align_content": null,
            "align_items": null,
            "align_self": null,
            "border": null,
            "bottom": null,
            "display": null,
            "flex": null,
            "flex_flow": null,
            "grid_area": null,
            "grid_auto_columns": null,
            "grid_auto_flow": null,
            "grid_auto_rows": null,
            "grid_column": null,
            "grid_gap": null,
            "grid_row": null,
            "grid_template_areas": null,
            "grid_template_columns": null,
            "grid_template_rows": null,
            "height": null,
            "justify_content": null,
            "justify_items": null,
            "left": null,
            "margin": null,
            "max_height": null,
            "max_width": null,
            "min_height": null,
            "min_width": null,
            "object_fit": null,
            "object_position": null,
            "order": null,
            "overflow": null,
            "overflow_x": null,
            "overflow_y": null,
            "padding": null,
            "right": null,
            "top": null,
            "visibility": null,
            "width": null
          }
        },
        "86327a5bb84a435a9f220c160493fbfe": {
          "model_module": "@jupyter-widgets/controls",
          "model_name": "SliderStyleModel",
          "model_module_version": "1.5.0",
          "state": {
            "_model_module": "@jupyter-widgets/controls",
            "_model_module_version": "1.5.0",
            "_model_name": "SliderStyleModel",
            "_view_count": null,
            "_view_module": "@jupyter-widgets/base",
            "_view_module_version": "1.2.0",
            "_view_name": "StyleView",
            "description_width": "",
            "handle_color": null
          }
        },
        "440161b1ada44e46aa0e881a9b8ec0b6": {
          "model_module": "@jupyter-widgets/base",
          "model_name": "LayoutModel",
          "model_module_version": "1.2.0",
          "state": {
            "_model_module": "@jupyter-widgets/base",
            "_model_module_version": "1.2.0",
            "_model_name": "LayoutModel",
            "_view_count": null,
            "_view_module": "@jupyter-widgets/base",
            "_view_module_version": "1.2.0",
            "_view_name": "LayoutView",
            "align_content": null,
            "align_items": null,
            "align_self": null,
            "border": null,
            "bottom": null,
            "display": null,
            "flex": null,
            "flex_flow": null,
            "grid_area": null,
            "grid_auto_columns": null,
            "grid_auto_flow": null,
            "grid_auto_rows": null,
            "grid_column": null,
            "grid_gap": null,
            "grid_row": null,
            "grid_template_areas": null,
            "grid_template_columns": null,
            "grid_template_rows": null,
            "height": null,
            "justify_content": null,
            "justify_items": null,
            "left": null,
            "margin": null,
            "max_height": null,
            "max_width": null,
            "min_height": null,
            "min_width": null,
            "object_fit": null,
            "object_position": null,
            "order": null,
            "overflow": null,
            "overflow_x": null,
            "overflow_y": null,
            "padding": null,
            "right": null,
            "top": null,
            "visibility": null,
            "width": null
          }
        },
        "6d81ab24636c474cbc1992cb22f7c60e": {
          "model_module": "@jupyter-widgets/controls",
          "model_name": "SliderStyleModel",
          "model_module_version": "1.5.0",
          "state": {
            "_model_module": "@jupyter-widgets/controls",
            "_model_module_version": "1.5.0",
            "_model_name": "SliderStyleModel",
            "_view_count": null,
            "_view_module": "@jupyter-widgets/base",
            "_view_module_version": "1.2.0",
            "_view_name": "StyleView",
            "description_width": "",
            "handle_color": null
          }
        },
        "ac74e17c17b54f39ae30b32d81bb3526": {
          "model_module": "@jupyter-widgets/base",
          "model_name": "LayoutModel",
          "model_module_version": "1.2.0",
          "state": {
            "_model_module": "@jupyter-widgets/base",
            "_model_module_version": "1.2.0",
            "_model_name": "LayoutModel",
            "_view_count": null,
            "_view_module": "@jupyter-widgets/base",
            "_view_module_version": "1.2.0",
            "_view_name": "LayoutView",
            "align_content": null,
            "align_items": null,
            "align_self": null,
            "border": null,
            "bottom": null,
            "display": null,
            "flex": null,
            "flex_flow": null,
            "grid_area": null,
            "grid_auto_columns": null,
            "grid_auto_flow": null,
            "grid_auto_rows": null,
            "grid_column": null,
            "grid_gap": null,
            "grid_row": null,
            "grid_template_areas": null,
            "grid_template_columns": null,
            "grid_template_rows": null,
            "height": null,
            "justify_content": null,
            "justify_items": null,
            "left": null,
            "margin": null,
            "max_height": null,
            "max_width": null,
            "min_height": null,
            "min_width": null,
            "object_fit": null,
            "object_position": null,
            "order": null,
            "overflow": null,
            "overflow_x": null,
            "overflow_y": null,
            "padding": null,
            "right": null,
            "top": null,
            "visibility": null,
            "width": null
          }
        },
        "6e3f0850681c48f08a74f0bb44ad54b8": {
          "model_module": "@jupyter-widgets/controls",
          "model_name": "SliderStyleModel",
          "model_module_version": "1.5.0",
          "state": {
            "_model_module": "@jupyter-widgets/controls",
            "_model_module_version": "1.5.0",
            "_model_name": "SliderStyleModel",
            "_view_count": null,
            "_view_module": "@jupyter-widgets/base",
            "_view_module_version": "1.2.0",
            "_view_name": "StyleView",
            "description_width": "",
            "handle_color": null
          }
        },
        "f06a1e45192340d49be6f9ab2f436c20": {
          "model_module": "@jupyter-widgets/base",
          "model_name": "LayoutModel",
          "model_module_version": "1.2.0",
          "state": {
            "_model_module": "@jupyter-widgets/base",
            "_model_module_version": "1.2.0",
            "_model_name": "LayoutModel",
            "_view_count": null,
            "_view_module": "@jupyter-widgets/base",
            "_view_module_version": "1.2.0",
            "_view_name": "LayoutView",
            "align_content": null,
            "align_items": null,
            "align_self": null,
            "border": null,
            "bottom": null,
            "display": null,
            "flex": null,
            "flex_flow": null,
            "grid_area": null,
            "grid_auto_columns": null,
            "grid_auto_flow": null,
            "grid_auto_rows": null,
            "grid_column": null,
            "grid_gap": null,
            "grid_row": null,
            "grid_template_areas": null,
            "grid_template_columns": null,
            "grid_template_rows": null,
            "height": null,
            "justify_content": null,
            "justify_items": null,
            "left": null,
            "margin": null,
            "max_height": null,
            "max_width": null,
            "min_height": null,
            "min_width": null,
            "object_fit": null,
            "object_position": null,
            "order": null,
            "overflow": null,
            "overflow_x": null,
            "overflow_y": null,
            "padding": null,
            "right": null,
            "top": null,
            "visibility": null,
            "width": null
          }
        },
        "7e8c00a9266446d9951784be4e19779f": {
          "model_module": "@jupyter-widgets/controls",
          "model_name": "SliderStyleModel",
          "model_module_version": "1.5.0",
          "state": {
            "_model_module": "@jupyter-widgets/controls",
            "_model_module_version": "1.5.0",
            "_model_name": "SliderStyleModel",
            "_view_count": null,
            "_view_module": "@jupyter-widgets/base",
            "_view_module_version": "1.2.0",
            "_view_name": "StyleView",
            "description_width": "",
            "handle_color": null
          }
        },
        "9913401b6aeb45348ef29e03432aaaf1": {
          "model_module": "@jupyter-widgets/base",
          "model_name": "LayoutModel",
          "model_module_version": "1.2.0",
          "state": {
            "_model_module": "@jupyter-widgets/base",
            "_model_module_version": "1.2.0",
            "_model_name": "LayoutModel",
            "_view_count": null,
            "_view_module": "@jupyter-widgets/base",
            "_view_module_version": "1.2.0",
            "_view_name": "LayoutView",
            "align_content": null,
            "align_items": null,
            "align_self": null,
            "border": null,
            "bottom": null,
            "display": null,
            "flex": null,
            "flex_flow": null,
            "grid_area": null,
            "grid_auto_columns": null,
            "grid_auto_flow": null,
            "grid_auto_rows": null,
            "grid_column": null,
            "grid_gap": null,
            "grid_row": null,
            "grid_template_areas": null,
            "grid_template_columns": null,
            "grid_template_rows": null,
            "height": null,
            "justify_content": null,
            "justify_items": null,
            "left": null,
            "margin": null,
            "max_height": null,
            "max_width": null,
            "min_height": null,
            "min_width": null,
            "object_fit": null,
            "object_position": null,
            "order": null,
            "overflow": null,
            "overflow_x": null,
            "overflow_y": null,
            "padding": null,
            "right": null,
            "top": null,
            "visibility": null,
            "width": null
          }
        }
      }
    },
    "accelerator": "TPU"
  },
  "cells": [
    {
      "cell_type": "markdown",
      "metadata": {
        "id": "QngPAxtF_Wu2"
      },
      "source": [
        "# Impacts of connected and autonomous vehicles on the performance of signalized networks:  A network fundamental diagram approach"
      ]
    },
    {
      "cell_type": "code",
      "metadata": {
        "id": "G-gC5ROKOnuk"
      },
      "source": [
        "from ipywidgets import interact, interactive, fixed, interact_manual\n",
        "import ipywidgets as widgets\n",
        "import numpy as np\n",
        "import matplotlib.pyplot as plt\n",
        "import random\n",
        "import math\n",
        "import datetime\n",
        "from collections import OrderedDict #order the dictionary\n",
        "import copy #deep copy\n",
        "\n",
        "np.set_printoptions(precision=3, suppress=True)#3 digit, no scientific notation\n",
        "np.set_printoptions(threshold=np.inf) #no ellipses\n",
        "\n",
        "delta_n = 1\n",
        "L_int = 0; intersection = 0\n",
        "delta = 4\n",
        "reactime = 1\n",
        "start = datetime.datetime.now()"
      ],
      "execution_count": 1,
      "outputs": []
    },
    {
      "cell_type": "markdown",
      "metadata": {
        "id": "5-42TINyPClo"
      },
      "source": [
        "# Notation list\n",
        "|Variables | Definitions | Variables | Definitions |\n",
        "| :----:| :----: | :----: | :----: |\n",
        "| Length and position variables        |\n",
        "| $L$ |  Road length | $l_n$ | Length of vehicle $n$ |\n",
        "| $s_0$ | Minimum bumper to bumper distance | $\\zeta$ | Jam spacing |\n",
        "| $D$ | ASL implementation area length | $\\gamma$ | Transmission range |\n",
        "| $t_{RE}$  | reaction time  | $\\tau$ | Time gap |\n",
        "| $x_n(t)$ | TPosition of vehicle $n$ at time $t$ |\n",
        "| Time variables |\n",
        "| $t$ | Time | $\\Delta t$ | Time step |\n",
        "| $\\tau$ | Time gap | $t_{re}$ | Reaction time |\n",
        "| $B$ | Cycle length | $G$| Green interval |\n",
        "| $Y$ | Yellow plus all-red interval | $R$  | Red interval |\n",
        "| $\\sigma$ | Simulation duration | $h$| Saturation headway  |\n",
        "| $h_{n}^{'}$ | Headway between vehicle $n$ and $n+1$ | $t_{n}^{*}$  | Time when vehicle $n$ enters the ASL implementation area |\n",
        "|  $\\Phi_n(t)$ | Desired arrival time of vehicle $n$ at time $t$ | $T_n(N)$ | Period of vehicle $n$'s speed in stationary states when there are N vehicles in the system |\n",
        "| $T_{sys}(N)$ | Period of system average speed in stationary states when there are N vehicles in the system  |\n",
        "| Speed and acceleration variables       |\n",
        "| $v_f$ |  Original speed limit (free-flow speed) | $w$ | Shock wave speed in congested traffic|\n",
        "| $a_0$ | Bounded acceleration | $b$ | Bounded deceleration |\n",
        "| $v_n(t)$ | Speed of vehicle $n$ at time $t$ | $a_n(t)$ | Acceleration of vehicle $n$ at time $t$ |\n",
        "| $U_n(t)$  | ASL of vehicle $n$ at time $t$  | $\\bar v_{ind,n}(m)$ | Average speed of vehicle $n$ in the $m_{th}$ cycle |\n",
        "| $\\bar v_{sys}(m)$ | System average speed in the $m_{th}$ cycle|\n",
        "| Other variables |\n",
        "| $\\pi$ | $=\\frac{G+Y}{T}$, phase ratio | $V_n$ | Fuel consumption of vehicle $n$ |\n",
        "| $q_c$ | Capacity | $\\bar{V_n}$ | The average fuel consumption of vehicle $n$ to move a unit distance |\n",
        "| $J_t^n$ | Number of vehicles in front of vehicle $n$ at time $t$ |\n"
      ]
    },
    {
      "cell_type": "markdown",
      "metadata": {
        "id": "02seqkBxPLpV"
      },
      "source": [
        "# ASL algorithms"
      ]
    },
    {
      "cell_type": "markdown",
      "source": [
        "\n",
        "1. Vehicle speeds cannot exceed the original speed limit. The earliest time vehicle $n$ can enter the intersection can be calculated based on the original speed limit and the signal as follows:\n",
        "$$\n",
        "\\varphi_n (t)=\n",
        "\\begin{cases}\n",
        "H_n(t), &\\frac{H_n(t)}{B}-\\lfloor \\frac{H_n(t)}{B} \\rfloor \\leq F_n(t)\\ (2)\\\\ \n",
        "(\\lfloor \\frac{H_n(t)}{B} \\rfloor + 1)B, &otherwise\n",
        "\\end{cases}\n",
        "$$\n",
        "$$\n",
        "H_n(t) = t + \\frac{L-x_n(t)}{v_f}, (3)\n",
        "$$\n",
        "where $L$ is road length, $v_f$ is the original speed limit and $x_n(t)$ is the position of vehicle $n$ at time $t$. $F_n(t)B$ is the time during which there will be no vehicle stops at the stop line. Note that unlike the effective green time, i.e. the amount of time that vehicles can departure at a rate of one vehicle every $h$ seconds, $F_n(t)B$ only focuses on whether vehicles can cross the stop line, regardless of the rate. Aggressive drivers will choose to cross the intersection at their first chance once they enter the intersection at phase, thus $F_n(t)B = \\pi B$. Non-aggressive drivers will choose to stop at their first chance. At the time point when the signal changes to yellow from green, they will choose to stop once the distance to the intersection is enough for them to brake. We assume the reaction time is $t_{re}$, and the braking distance and the time they need for braking can be written as $t_{re}\\times v_n(t)+\\frac{v_n(t)^2}{2b_0}$ and $t_{re}+\\frac{v_n(t)}{b_0}$ respectively. Thus, a non-aggressive driver is impossible to cross the stop line in one cycle after $G+t_{re}+\\frac{v_n(t)}{b_0}$ and $F_n(t)B = G+t_{re}+\\frac{v_n(t)}{b_0}$ for non-aggressive drivers, as follows: \n",
        "$$\n",
        "F_n (t)=\n",
        "\\begin{cases}\n",
        "\\pi, & for\\ aggressive\\ drivers \\ (4)\\\\\n",
        "\\frac{G+t_{re}+\\frac{v_n(t)}{b_0}}{B}. &for\\ non-aggressive\\ drivers\n",
        "\\end{cases}\n",
        "$$ (4)\n",
        "2. The vehicle should obey the car-following rule. The ideal condition is that connected vehicles in the ASL implementation can enter the intersection at saturation headway ($h$) intervals. Meanwhile, if a vehicle is expected to enter the intersection at the end of one phase, the vehicle behind it can enter the intersection at the starting point of the next green interval. From this perspective, the earliest time vehicle $n$ can enter the intersection can be calculated as follows:\n",
        "$$\n",
        "\\mathop{\\eta_n^j (t)}\\limits_{j\\in[1,J_t^n]}=\n",
        "\\begin{cases}\n",
        "\\eta_n^{j-1}(t) + h, & \\frac{\\eta_n^{j-1}(t) + h}{B}-\\lfloor \\frac{\\eta_n^{j-1}(t) + h}{B}\\rfloor \\leq F_n(t) \\ (5)\\\\\n",
        "(\\lfloor \\frac{\\eta_n^{j-1}(t) + h}{B}\\rfloor+1)B, &otherwise\n",
        "\\end{cases} \n",
        "$$ (5)\n",
        "where $h$ is the saturation headway, $j$ increases from $1$ to $J_t^n$, and $\\eta_n^{J_t^n}(t)$ is the final result we want to obtain. Note that if there are no vehicles in front of vehicle $n$ ($J_t^n=0$), then $\\eta_n^0(t)=t$ if current signal is in phase, otherwise it is equal to $(\\lfloor \\frac{t}{B}\\rfloor+1)B$. \n",
        "3.  Finally, we can calculate the advisory speed at the next time step. The time left for vehicle $n$ to reach the intersection is $max\\{\\eta_n^{J_t^n}(t),\\varphi_n (t)\\}-t$ and the distance it needs to cover is $L-x_n(t)$. Therefore, the ASL of vehicle $n$ can be calculated as follows:\n",
        "$$\n",
        "U_n(t+\\Delta t) = \\frac{L-x_n(n)}{max\\{\\eta_n^{J_t^n}(t),\\varphi_n (t)\\}-t}. \\ (6)\n",
        "$$\n",
        "The the original speed limit will then be replaced by the ASL. There are two ways of implementing our ASL algorithm: 1. calculate it only when the vehicle enters the ASL implementation area; 2. keep updating it once the vehicle enters the ASL implementation area."
      ],
      "metadata": {
        "id": "6YWuOcq7i9BL"
      }
    },
    {
      "cell_type": "markdown",
      "metadata": {
        "id": "5Oh8WtlB_g-3"
      },
      "source": [
        "# input:\n",
        "the vehicles and corresponding status in the ASL implementation area, assume there are $x$ vehicles in the ASL implementation area, then the input is a $x\\times 7$ matrix. <br>\n",
        "output: \n",
        "the dynamic ASL for those vehicles, the output should be a dictionary which contains $x$ keys and $x$ values.\n",
        "matrix:\n",
        "**0**.vehicle number, **1**.position, **2**.speed, **3**.acceleration, **4**.cumulative position, **5**.ASL, **6**.desired arrival time, **7**.indicate veriable (connected or non-connected) <br>\n",
        "**veh_dic**: the number of the vehicle corresponding to its position <br>\n",
        "**veh_D**: parameters of the vehicles in the ASL implementation area \n",
        "\n",
        "indicate variable\n",
        "\n",
        "*   connected vehicle: 1;\n",
        "*   non-connected vehicles: 0 \n",
        "* ASL: 0\n",
        "* extended ASL 1\n",
        "* aggressive 1\n",
        "* non-aggressive 0\n",
        "\n",
        "\n",
        "\n",
        "\n",
        "\n",
        "\n"
      ]
    },
    {
      "cell_type": "code",
      "metadata": {
        "id": "PfenuPeFZ6cL"
      },
      "source": [
        "def dynamic_asl(veh_D,leader_t,L_int,L,D,l_n,s_0,t,T,G,Y,R,delta_t,tau,v_f,a_0,b,a,n,model_id): #input: the vehicles in the ASL implementation area\n",
        "    rho = l_n + s_0; veh_1 = 0; ASL_t = {}; phi_t = {} #to store the ASL and the desired arrival time\n",
        "    h =  (v_f*delta_t+l_n+s_0)/v_f #(1.5*delta_t+(l_n+s_0)*delta_n/v_f); #2/delta_t #\n",
        "    v_0 = v_f \n",
        "    global varphi_t; veh_dic = {}; leader_pos = {}; veh_agg = {}; veh_con = {}; veh_v = {};veh_exp = {} # veh_dic is to store the current position of the vehicles in the ASL implementation area\n",
        "    for i in range(len(veh_D)): #vehicle number corresponds to the position, a dictionary that illustrate the position of each vehicle\n",
        "        veh_dic[veh_D[i][0]] = veh_D[i][1]; leader_pos[veh_D[i][0]] = leader_t[int(veh_D[i][0])][1] #position \n",
        "        veh_agg[veh_D[i][0]] = veh_D[i][8]; veh_con[veh_D[i][0]] = veh_D[i][7]\n",
        "        veh_v[veh_D[i][0]] = veh_D[i][2]; veh_exp[veh_D[i][0]] = veh_D[i][6] \n",
        "    #print(\"t\",t,\"vehicle dic\",veh_con)\n",
        "    veh_dic = sort_value(veh_dic, reverse=True)\n",
        "    front_veh = front_vehicle(veh_dic,L) # for each vehicle, how many vehicles are in front of it\n",
        "    if veh_dic != {}:\n",
        "        for key in veh_dic: #if this vehicle is in the ASL implementation area\n",
        "            if veh_con[key] == 1: #connected vehicle\n",
        "                if veh_agg[key] == [1]: #aggressive\n",
        "                    expected_arrival1 = t*delta_t if t*delta_t % (T*delta_t) <= (G+Y)*delta_t else t*delta_t - (t*delta_t % (T*delta_t)) + (T*delta_t); sigma = 0 #unit is delta_t\n",
        "                    for i in range(front_veh[key]):  # Eq(5)\n",
        "                        if (expected_arrival1 + h) % (T*delta_t) <= (G+Y)*delta_t - sigma:\n",
        "                            expected_arrival1 += h #sec\n",
        "                        elif (expected_arrival1 + h) % (T*delta_t) > (G+Y)*delta_t - sigma:\n",
        "                            expected_arrival1 = expected_arrival1 + h - ((expected_arrival1 + h) % (T*delta_t)) + (T*delta_t)\n",
        "                    expected_arrival2 = t*delta_t + ((L+L_int +0 -veh_dic[key])/v_0) #sec\n",
        "                    if expected_arrival2 % (T*delta_t) > (G+Y)*delta_t-sigma:\n",
        "                        expected_arrival2 = expected_arrival2 - (expected_arrival2 % (T*delta_t)) + (T*delta_t) #Eq (2)\n",
        "                    phi_t[key] = max(expected_arrival1,expected_arrival2) \n",
        "                    ASL_t[key] = max(veh_v[key]-b*delta_t, min(v_f, (L+L_int +0 -veh_dic[key])/(phi_t[key]-t*(delta_t)) ) ) #Eq(6) , veh_v[key]-b*delta_t \n",
        "                if veh_agg[key] == [0]: #non-aggressive\n",
        "                    expected_arrival1 = t*delta_t if t*delta_t % (T*delta_t) <= (G+Y)*delta_t else t*delta_t - (t*delta_t % (T*delta_t)) + (T*delta_t); #unit is sec\n",
        "                    for i in range(front_veh[key]): # Eq(5)\n",
        "                        if (expected_arrival1 + h) % (T*delta_t) <= G*delta_t + (reactime + (veh_v[key])/(b)):\n",
        "                            expected_arrival1 += h\n",
        "                        elif (expected_arrival1 + h) % (T*delta_t) > G*delta_t + (reactime + (veh_v[key])/(b)):\n",
        "                            expected_arrival1 = expected_arrival1 + h - ((expected_arrival1 + h) % (T*delta_t)) + (T*delta_t)\n",
        "                    expected_arrival2 = t*delta_t + ((L+L_int +0.5 -veh_dic[key])/v_0) #sec \n",
        "                    if expected_arrival2%(T*delta_t) > G*delta_t + (reactime + (veh_v[key]+0*delta_t)/(b)): #Eq (2)\n",
        "                        expected_arrival2 = expected_arrival2 - (expected_arrival2 % (T*delta_t)) + (T*delta_t)\n",
        "                    phi_t[key] = max(expected_arrival1,expected_arrival2) #eq(14)-eq(15)\n",
        "                    ASL_t[key] = max( min(v_f, (L+L_int +0.5 -veh_dic[key])/(phi_t[key]-t*(delta_t))), veh_v[key]-b*delta_t) # Eq(6) \n",
        "        if t > 10*T and t < 2*T: print(\"new_timestep------------------------------------------------------------------------------------\")\n",
        "            #if veh_con[key] == 0 or veh_dic[key] == L: ASL_t[key] = v_f\n",
        "            \n",
        "    return veh_1, veh_dic, phi_t, ASL_t"
      ],
      "execution_count": 2,
      "outputs": []
    },
    {
      "cell_type": "code",
      "metadata": {
        "id": "IBWzEy8N_zhO"
      },
      "source": [
        "def front_vehicle(veh_pos,L): #how many vehicles are in front of a specific vehicle\n",
        "    front_veh = {}; \n",
        "    for key in veh_pos:\n",
        "        veh_in_front = 0\n",
        "        for value in veh_pos.values():\n",
        "            #print(\"function front_vehicle\",\"value\",value,\"veh_pos\",veh_pos[key])\n",
        "            if value > veh_pos[key] and value <= L:\n",
        "                veh_in_front += 1\n",
        "        front_veh[key] = veh_in_front\n",
        "    return front_veh\n",
        "\n",
        "\n",
        "def ASL_imp_area(veh_t,L,D):\n",
        "    veh_D = []\n",
        "    veh_id = np.argwhere(np.array(veh_t)[:,1] >= L-D) # the index of the vehicles that are in the ASL implementation area\n",
        "    for i in range(len(veh_id)):\n",
        "        veh_D.append(veh_t[veh_id[i,0]]) #the set of those vehicles\n",
        "    return veh_D\n",
        "\n",
        "# define whether a vehicle is connected\n",
        "def random_pick(some_list, probabilities):\n",
        "    x = random.uniform(0,1)\n",
        "    cumulative_probability = 0\n",
        "    for item, item_probability in zip(some_list, probabilities):\n",
        "        cumulative_probability += item_probability\n",
        "        if x < cumulative_probability:break\n",
        "    return item\n",
        "\n",
        "#reorder the dictionary according to value (the position of vehicle, large to small)\n",
        "def sort_value(old_dict, reverse=True):\n",
        "    # reorder the dic according to value\n",
        "    items = sorted(old_dict.items(), key=lambda obj: obj[1], reverse=True)\n",
        "    # create a new list\n",
        "    new_dict = OrderedDict()\n",
        "    for item in items:\n",
        "        # item[0] store the value of \"key\"\n",
        "        new_dict[item[0]] = old_dict[item[0]]\n",
        "    return new_dict"
      ],
      "execution_count": 3,
      "outputs": []
    },
    {
      "cell_type": "markdown",
      "metadata": {
        "id": "B0kF4HWyAyJn"
      },
      "source": [
        "# Driving behavior model"
      ]
    },
    {
      "cell_type": "markdown",
      "metadata": {
        "id": "SEWpfFtgQ0iJ"
      },
      "source": [
        "## krauss\n",
        "$$\n",
        "v_n(t+\\Delta t)=\\max\\{ 0,v_{des,n}(t+\\Delta t)-\\epsilon \\} (9)\n",
        "$$\n",
        "$$\n",
        "v_{des,n}(t+\\Delta t)=\\min \\{ v_f, v_n(t)+\\Delta ta_0,v_{safe,n}(t+\\Delta t) \\}(10)\n",
        "$$\n",
        "$$\n",
        "v_{safe,n}(t+\\Delta t)= v_{n-1}(t)+\\frac{x_{n-1}(t)-x_n(t)-l_{n-1}-v_{n-1}t_{re}}{\\frac{v_{n-1}(t)+v_n(t)}{2b}+t_{re}}, (11)\n",
        "$$\n",
        "\n",
        "\n",
        "0: id <br> 1:position <br> 2:speed <br> 3:aceleration <br> 4:cum position <br>\n",
        "5: ASL <br> 6: time to intersection <br> 7: whether connected <br> 8: aggressiveness <br> 9: ASL id\n",
        "\n",
        "\n"
      ]
    },
    {
      "cell_type": "code",
      "metadata": {
        "id": "rBRwsI44dRcY"
      },
      "source": [
        "def krauss(veh_t,leader_t,L_int,L,D,l_n,s_0,t,T,G,Y,R,delta_t,tau,v_f,a_0,b,n,delta_n,a,model_id,asl_id):\n",
        "    model_id = 3; rho = l_n + s_0; h = 2/delta_t #tau+(l_n+s_0)/v_f; #calculate parameters\n",
        "    veh_t1 = np.zeros((n,10)); veh_t1[:,0] = veh_t[:,0]; veh_t1[:,7] = veh_t[:,7] ;veh_t1[:,8] = veh_t[:,8]; veh_t1[:,9] = veh_t[:,9]# initialize the matrix at (t+delta_t)\n",
        "    #veh_D = ASL_imp_area(veh_t,L,D); \n",
        "    veh_D = ASL_imp_area(veh_t,L,D)\n",
        "    veh_1, veh_dic, phi_t, ASL_t = dynamic_asl(veh_D,leader_t,L_int,L,D,l_n,s_0,t,T,G,Y,R,delta_t,tau,v_f,a_0,b,a,n,model_id); # get the dynamic ASL for the vehicles in the ASL implementation area\n",
        "    for i in range(n):                           \n",
        "        if asl_id == 1 or veh_t[i,7] == 0: #if dynamic ASL or non connected vehicle                         \n",
        "            veh_t1[i,5] = v_f if i not in ASL_t else ASL_t[i]; veh_t1[i,6] = t if i not in phi_t else phi_t[i] #ASL and desired arrival time of the next time point\n",
        "        elif asl_id == 0: #static ASL\n",
        "            if veh_t[i,1] >= L-D and veh_t[i,1]-veh_t[i,2]*delta_t <= L-D:\n",
        "                veh_t1[i,5] = ASL_t[i]; veh_t1[i,6] = phi_t[i]\n",
        "            elif veh_t[i,1] >= L-D and veh_t[i,1]-veh_t[i,2]*delta_t >= L-D:\n",
        "                veh_t1[i,5] = veh_t[i,5]; veh_t1[i,6] = veh_t[i,6]\n",
        "            else:\n",
        "                veh_t1[i,5] = v_f; veh_t1[i,6] = t\n",
        "    v_safe = leader_t[:,2] + (leader_t[:,1]-veh_t[:,1]-rho-leader_t[:,2]*delta_t)/((leader_t[:,2]+veh_t[:,2])/(2*b)+delta_t) #Eq(11)\n",
        "    veh_t1[:,2] =  np.maximum( np.array([0]*len(veh_t))[:], np.minimum(veh_t1[:,5], np.minimum(veh_t[:,2]+a_0*delta_t, v_safe ))) #Eq(9) speed\n",
        "    veh_t1[:,1] = (veh_t[:,1] + veh_t1[:,2] * delta_t) % L #position in ring road 0.5*(veh_t[:,2]+veh_t1[:,2])\n",
        "    veh_t1[:,4] = (veh_t[:,4] + veh_t1[:,2] * delta_t) #cum position\n",
        "    veh_t1[:,3] = (veh_t1[:,2] - veh_t[:,2])/delta_t #acceleration\n",
        "    \n",
        "    if veh_t[a,2] <= 0.05 and t%T <= reactime-0.05: #first vehicle is stopping\n",
        "        t_re = reactime\n",
        "        veh_t1[a,1] = veh_t[a,1] #Eq(24) position\n",
        "        veh_t1[a,2] = veh_t1[a,2]; veh_t1[a,3] = veh_t1[a,3]; veh_t1[a,4] = veh_t1[a,4]\n",
        "    \n",
        "    #print(\"time\",t,\"position\",veh_t[a,1],\"leader\",leader_t[a,1],\"speed\",veh_t[a,2],\"next_v\",veh_t1[a,2],\"acceleration\",veh_t[a,3],\"ASL\",veh_t1[a,5],\"s_desire\",s_desire,\"s_actual\",s_actual)\n",
        "    if round(veh_t1[a,1],3) == 0: \n",
        "        veh_t1[a,1] = L;\n",
        "    \n",
        "    return veh_t1"
      ],
      "execution_count": 5,
      "outputs": []
    },
    {
      "cell_type": "markdown",
      "metadata": {
        "id": "6iQJIXouEp9f"
      },
      "source": [
        "## Decision process\n",
        "When the signal changes to yellow from green, a vehicle can safely stop before the stop line if it satisfies 27(a), otherwise if it satisfies 27(b), it can go through the intersection before the signal turns to red.\n",
        "$$\n",
        "x_{int} - x_n(t) \\geq t_{RE}\\times v_n(t)+\\frac{v_n(t)^2}{2b}, (13)\n",
        "$$\n",
        "$$\n",
        "X_{int} + L_{int} - x_n(t) < v_n(t)\\times Y, (14)\n",
        "$$\n"
      ]
    },
    {
      "cell_type": "code",
      "metadata": {
        "id": "bAsh-arQEsCv"
      },
      "source": [
        "def decision_process(veh_t,L_int,L,D,l_n,s_0,t,T,G,Y,R,delta_t,tau,v_f,a_0,b,n,delta_n,a,model_id,asl_id): #define the leader based on vehicle's current state, should be calculated at each time step\n",
        "    time = t % T; rho = l_n + s_0; leader_t = np.zeros((n,10))    \n",
        "    for i in range(n):    \n",
        "        if time <= G or i != a: # gerrn interval or not the first vehicle\n",
        "            leader_t[i] = veh_t[i-1]\n",
        "            if leader_t[i,1] <= veh_t[i,1]:\n",
        "                leader_t[i,1] += L; leader_t[i,4] += L;\n",
        "        if time > G and i == a:        \n",
        "            item1 = veh_t[(i-1),1]-veh_t[i,1]; item2 = L + rho - veh_t[i,1] #item1: distance between fron vehicle and follower, item2: distance between stop bar and follower\n",
        "            if item1 <= item2 and item1 > 0: leader_t[i] = veh_t[i-1]\n",
        "            if item1 <= 0 and veh_t[(i-1),1] >= rho: leader_t[i] = [abs((i-1)%n), L+rho, 0, 0, ((veh_t[i,4]//L)+1)*L, 0, veh_t[i,6], veh_t[i,7],veh_t[i,8],veh_t[i,9]]\n",
        "            if veh_t[(i-1),1] < rho : leader_t[i] = [abs((i-1)%n), L+veh_t[i-1,1], 0, 0, ((veh_t[i,4]//L)+1)*L, 0, veh_t[i-1,6], veh_t[i-1,7],veh_t[i-1,8],veh_t[i-1,9]] # cannot reach the stop bar because of the front vehicle\n",
        "            if veh_t[i,1] <= 0.0001: leader_t[i] = [abs((i-1)%n), rho*delta_n, 0, 0, ((veh_t[i,4]//L)+1)*L, 0, veh_t[i,6], veh_t[i,7],veh_t[i,8],veh_t[i,9]]\n",
        "    return leader_t\n",
        "\n",
        "def pos_switch(veh_t,rho,n,t,G,Y,R,T,L):\n",
        "    veh_t1 = copy.deepcopy(veh_t)\n",
        "    for i in range(n):\n",
        "        if veh_t[i,1] <= rho and t%T >= (G):\n",
        "            veh_t1[i,1] = L+veh_t[i,1]\n",
        "\n",
        "    return veh_t1\n",
        "\n"
      ],
      "execution_count": 6,
      "outputs": []
    },
    {
      "cell_type": "markdown",
      "metadata": {
        "id": "aClsbNeOgtpw"
      },
      "source": [
        "## Vehicle update"
      ]
    },
    {
      "cell_type": "code",
      "metadata": {
        "id": "VM4O0qguPXea"
      },
      "source": [
        "def vehicle_update(L_int,L,D,l_n,s_0,t_sim,T,G,Y,R,delta_t,tau,v_f,a_0,b,n,delta_n,model_id,con,agg,asl_id): \n",
        "    rho = (l_n + s_0)*delta_n; h = 2/delta_t; num_t = int(t_sim/delta_t); v_0 = 0 #((tau * delta_n) + rho*delta_n/v_f) / delta_t\n",
        "    veh_t = np.zeros((n,num_t,10)); veh_t1 = np.zeros((n,num_t,10)); distance_non = np.zeros((num_t,n)); distance_agg = np.zeros((num_t,n))\n",
        "    time_tc = np.zeros((num_t,1)); a=np.zeros((num_t,1));a_non=np.zeros((num_t,1));a_agg=np.zeros((num_t,1))# initialize the vehicle state\n",
        "    for i in range(n):    \n",
        "        vehicle_con = random_pick([0,1],[1-con,con]); aggressive = random_pick([0,1],[1-agg,agg]) #initialize whether a vehicle is a connected vehicle,connectivity is the percentage of the connected vehicles\n",
        "        veh_t[i][0] = [i, L-(L/n)*i, v_0, a_0, L-(L/n)*i, v_f, 0, vehicle_con, aggressive, asl_id];#n, m, m/sec, m/sec^2, m, m/s, timestep, 0|1  300+(n-i)*3*rho L-(L/n)*i   \n",
        "    for t in range(num_t-1): #update vehicles' behaviors according to the signal phase\n",
        "        time = t % T; \n",
        "        if veh_t[i][t,8] == 0: #non aggressive\n",
        "            if time == G+1:\n",
        "                for i in range(n): #+a_0*delta_t veh_t[i,t,2]+a_0*delta_t\n",
        "                    distance_non[t,i] = L + L_int - veh_t[i,t,1] - reactime*veh_t[i,t,2] - ((veh_t[i,t,2]+a_0)**2)/(2*b)\n",
        "                distance_non[t,:] = [L if x <= 0 else x for x in distance_non[t,:]]            \n",
        "                a_non[t] = int(np.argwhere(distance_non[t,:] == np.min(distance_non[t,:]))[0,0])\n",
        "            else:\n",
        "                a_non[t] = a[t-1]\n",
        "        elif veh_t[i][t,8] == 1: #aggressive\n",
        "            if time >= G+1 and time <= G+Y:\n",
        "                for i in range(n): #+a_0*delta_t veh_t[i,t,2]+a_0*delta_t\n",
        "                    distance_agg[t,i] = L + L_int - veh_t[i,t,1] - (veh_t[i,t,2]) * (Y-(time-G)) * delta_t         \n",
        "                distance_agg[t,:] = [L if x <= 0 else x for x in distance_agg[t,:]]            \n",
        "                a_agg[t] = int(np.argwhere(distance_agg[t,:] == np.min(distance_agg[t,:]))[0,0])#judge the first vehicle which can not pass the intersection    \n",
        "            else:\n",
        "                a_agg[t] = a[t-1]    \n",
        "        #print(\"t\", t, \"a\",a_non[t],\"distance\",distance[t,:])\n",
        "        a[t] = a_agg[t] if int(a_non[t])==0 else a_non[t] #veh_t[int(a_non[t]),t,1] < veh_t[int(a_non[t]),t,1]\n",
        "        leader_t = decision_process(veh_t[:,t,:],L_int,L,D,l_n,s_0,t,T,G,Y,R,delta_t,tau,v_f,a_0,b,n,delta_n,a[t],model_id,asl_id); follower_current_state = veh_t[:,t,:]; #vehicles'current state and corresponding leaders\n",
        "        veh_t[:,t+1,:] = krauss(follower_current_state,leader_t,L_int,L,D,l_n,s_0,t,T,G,Y,R,delta_t,tau,v_f,a_0,b,n,delta_n,int(a[t]),model_id,asl_id)\n",
        "        #print(\"t\", t,\"a\",a[t], \"leader_x_t\", leader_t[:,1],\"fo_x_t\",follower_current_state[:,1],\"fo_x_t1\",veh_t[:,t+1,1],\"fo_v_t1\",veh_t[:,t+1,2]) #\"asl\", follower_current_state[:,5]\n",
        "    return veh_t"
      ],
      "execution_count": 7,
      "outputs": []
    },
    {
      "cell_type": "markdown",
      "metadata": {
        "id": "gQZMwhAeqdqA"
      },
      "source": [
        "# individual sample"
      ]
    },
    {
      "cell_type": "code",
      "metadata": {
        "colab": {
          "base_uri": "https://localhost:8080/"
        },
        "id": "CFsS9H5R61gP",
        "outputId": "9a42e350-5831-49ba-ca24-fa7815634221"
      },
      "source": [
        "tau = 1.5; delta_t = 1.5; t_sim = 7200; num_t = int(t_sim/delta_t)\n",
        "R = int(30/delta_t); G = int(24/delta_t); Y = int(6/delta_t); T = G + Y + R\n",
        "v_f = 12; a_0 = 1.5; b = 3;\n",
        "l_n = 5; s_0 = 2; rho = l_n + s_0; L = T * v_f * delta_t;  w = rho/tau; D = 100 #m T * v_f * delta_t\n",
        "delta_n = 1\n",
        "n1 = 50; n2 = 51\n",
        "non_connected = 0; all_connected = 1; aggressive = 1; asl_id = 1\n",
        "veh_update = vehicle_update(L_int,L,D,l_n,s_0,t_sim,T,G,Y,R,delta_t,tau,v_f,a_0,b,n2,delta_n,3,all_connected,aggressive,asl_id)\n",
        "veh_update_non = vehicle_update(L_int,L,D,l_n,s_0,t_sim,T,G,Y,R,delta_t,tau,v_f,a_0,b,n2,delta_n,3,non_connected,aggressive,asl_id)"
      ],
      "execution_count": 8,
      "outputs": [
        {
          "output_type": "stream",
          "name": "stderr",
          "text": [
            "/usr/local/lib/python3.7/dist-packages/ipykernel_launcher.py:27: RuntimeWarning: invalid value encountered in double_scalars\n"
          ]
        }
      ]
    },
    {
      "cell_type": "code",
      "source": [
        "fig = plt.figure(figsize=(14,4),num = 1,dpi = 80)\n",
        "\n",
        "p = 5 #int(num_t/T)\n",
        "a = 1\n",
        "time1_1 = np.zeros([num_t,1])\n",
        "for i in range(num_t):\n",
        "    time1_1[i] = i*delta_t\n",
        "m4 = int(num_t)\n",
        "m1 = int(num_t-p*T)  \n",
        "\n",
        "ax2 = fig.add_subplot(1,2,1)\n",
        "#ax2.set_title(\"Trajectories,penetrate rate: %x\" %all_connected)\n",
        "ax2.set_xlabel(\"$time \\ (sec)$\")\n",
        "ax2.set_ylabel(\"$distance \\ (x/L)$\")\n",
        "#plt.xlim(0,p+0.2)\n",
        "plt.xticks(np.arange(0,time1_1[-1]+5,30))\n",
        "#plt.yticks(np.arange(0,2,1))\n",
        "for i in range(0,int(n2/delta_n),int(1/delta_n)):\n",
        "    t1 = m1\n",
        "    for t in range(t1,m4):\n",
        "        if veh_update[i][t-1,1] <= veh_update[i][t,1] and t != m4-1:\n",
        "            continue\n",
        "        else:\n",
        "            #print(\"t1\",t1*time_step,\"loop_over time\",t*time_step,\"vehicle\",i)\n",
        "            ax2.plot(time1_1[t1:t],veh_update[i][t1:t,1]/L,color = 'm',linewidth = 1)\n",
        "            t1 = t\n",
        "            continue\n",
        "ax2.grid()"
      ],
      "metadata": {
        "colab": {
          "base_uri": "https://localhost:8080/",
          "height": 308
        },
        "id": "3xdWk1-KV065",
        "outputId": "d6b45e66-f433-4a0a-d17c-f0c7604ef4dd"
      },
      "execution_count": 9,
      "outputs": [
        {
          "output_type": "display_data",
          "data": {
            "text/plain": [
              "<Figure size 1120x320 with 1 Axes>"
            ],
            "image/png": "[encoded data removed]"
          },
          "metadata": {
            "needs_background": "light"
          }
        }
      ]
    },
    {
      "cell_type": "markdown",
      "metadata": {
        "id": "SqfWJ4W2UAuB"
      },
      "source": [
        "# Periodicity and NFD"
      ]
    },
    {
      "cell_type": "markdown",
      "metadata": {
        "id": "JybgNXkpTb3-"
      },
      "source": [
        "## Individual periods and system periods\n",
        "The average speed of vehicle $n$ in the $m_{th}$ cycle length is the distance it can cover in this cycle length over the time.\n",
        "$$\n",
        "\\bar v_{ind,n}(m) = \\frac{x_n((m+1)B)-x_n(mB)}{B}, (15)\n",
        "$$\n",
        "where $x_n((m+1)B)-x_n(mB)$ means the distance vehicle $n$ can cover in the $m$th cycle length. The system average speed in the $m$th cycle length is the sum of all the individual average speed in such cycle length over the number of vehicles.\n",
        "$$\n",
        "\\bar v_{sys}(m) = \\frac{\\sum_{n=0}^{n=N}\\bar v_{ind,n}(m)}{N}. (16)\n",
        "$$\n",
        "We assume there are $M$ cycles during the whole simulation duration. We use $m$ to represent the number which can be shifted along the cycle numbers and $m$ is shifted forward from the last cycle length. We shift $m$ along up to $50$ cycle numbers for calculating periods. If there exists some integers $i$ that can satisfy the following equations for any $m$: \n",
        "$$\n",
        "\\max \\limits_{m = M-50,M-49,…,M-1,M}|\\bar v_{ind,n}(m)-\\bar v_{ind,n}(m-i)| < \\epsilon, (17)\n",
        "$$\n",
        "$$\n",
        "\\max \\limits_{m = M-50,M-49,…,M-1,M}|\\bar v_{sys}(m)-\\bar v_{sys}(m-i)| < \\epsilon, (18)\n",
        "$$\n",
        "\n",
        "where $\\epsilon$ is a small enough number. We consider that those integers are the periods of individual speed or system average speed for corresponding cycle length $B$ and number of vehicles $N$. The final $i$ is the smallest number among those integers."
      ]
    },
    {
      "cell_type": "code",
      "metadata": {
        "id": "pK-btqbyE9Av"
      },
      "source": [
        "def period_individual(n,delta_n,D,connectivity,G,Y,R,T,vehicle_state,model_id,num_t):\n",
        "    #average_speed1 = np.zeros([num_timestep,1])\n",
        "    P = 50\n",
        "    I = 50\n",
        "    convergence1 = np.zeros([I,P]); convergence2 = np.zeros([I,P])\n",
        "    minus = np.zeros([I,P]) #speed gap, if all < 10^-5, it is the period\n",
        "\n",
        "    num_cycle = int(num_t/T); individual_average = []; period = np.zeros([n,1])                \n",
        "    for j in range(n):\n",
        "        individual_average.append(np.zeros([num_cycle,1]))\n",
        "        for x in range(num_cycle):#the average speed of the vehicle in each signal circle eq(15)\n",
        "            individual_average[j][x] = sum(vehicle_state[j][int(T*x) :int(T*(x+1))-1,1])/T #the length a vehicle run in a cycle/cycle_length #Eq(15)\n",
        "        total_period = []   \n",
        "        for i in range(1,I+1):\n",
        "            for k in range(num_cycle-P,num_cycle):\n",
        "                convergence1[i-1,k+(P)-num_cycle] = individual_average[j][k]\n",
        "                convergence2[i-1,k+(P)-num_cycle]= individual_average[j][k-i]\n",
        "                minus[i-1,k+(P)-num_cycle] = abs(convergence1[i-1,k+(P)-num_cycle]-convergence2[i-1,k+(P)-num_cycle])  #Eq(17)\n",
        "            if all(x < 0.00001 for x in minus[i-1]):\n",
        "                total_period.append(i)\n",
        "            if len(total_period) == 0 and i == I:\n",
        "                total_period.append(I)        \n",
        "        period[j] = min(total_period)\n",
        "    return period,individual_average"
      ],
      "execution_count": 10,
      "outputs": []
    },
    {
      "cell_type": "code",
      "metadata": {
        "id": "mJGXsLxHG8Rv"
      },
      "source": [
        "def period_system(n,delta_n,D,connectivity,G,Y,R,T,vehicle_state,model_id,num_t):\n",
        "    P = 50; I = 50\n",
        "    convergence1 = np.zeros([I,P]); convergence2 = np.zeros([I,P])\n",
        "    minus = np.zeros([I,P]) #speed gap, if all < 10^-5, it is the period\n",
        "    total_period = []; individual_average = []\n",
        "    num_cycle = int(num_t/T); average_speed1 = np.zeros([num_cycle,1]); #print(\"num_cycle\",num_cycle,\"t\",num_t,\"T\",T)              \n",
        "    for x in range(num_cycle):#the average speed of the vehicle in each signal circle\n",
        "        system_speed1 = 0; individual_average.append(np.zeros([n,1]))\n",
        "        for i in range(n):\n",
        "            individual_average[x][i] = sum(vehicle_state[i][int(T*(x-1)):int(T*(x)),2])/T #the length a vehicle run in a cycle/cycle_length            \n",
        "            system_speed1 = system_speed1 + individual_average[x][i,0]#the length of all the vehicles run in this cycle\n",
        "        average_speed1[x] = (system_speed1/(n)) #Eq(16) \n",
        "    for i in range(1,I+1): #calculate the period of the system average speed at each density value \n",
        "        for k in range(num_cycle-P,num_cycle):\n",
        "            convergence1[i-1,k+(P)-num_cycle] = average_speed1[k,0]\n",
        "            convergence2[i-1,k+(P)-num_cycle]= average_speed1[k-i,0]\n",
        "            minus[i-1,k+(P)-num_cycle] = abs(convergence1[i-1,k+(P)-num_cycle]-convergence2[i-1,k+(P)-num_cycle]) #Eq(18)\n",
        "        if all(x < 0.00001 for x in minus[i-1]):\n",
        "            total_period.append(i)\n",
        "        if len(total_period) == 0 and i == I:\n",
        "            total_period.append(I)\n",
        "    #print(\"average1\", average_speed1)        \n",
        "    period = min(total_period)\n",
        "    return period,average_speed1"
      ],
      "execution_count": 11,
      "outputs": []
    },
    {
      "cell_type": "markdown",
      "metadata": {
        "id": "Ab6xgEMKTyWh"
      },
      "source": [
        "## Calculate NFD\n",
        "\n",
        "We assume the density of the system is $k$; the system has reached the stationary state and $\\bar v(k)$ is the system average speed in one period. Flow-rate can be calculated through:\n",
        "$$\n",
        "\\bar q(k)=k \\bar v(k), (21)\n",
        "$$\n"
      ]
    },
    {
      "cell_type": "code",
      "metadata": {
        "id": "MF-L-5g9G-0X"
      },
      "source": [
        "def nfd_calc(n1,n2,delta_n,L_int,L,D,l_n,connectivity,G,Y,R,T,tau,delta_t,t_sim,s_0,v_f,a_0,b,model_id,agg,asl_id): \n",
        "    rho = l_n + s_0; L = v_f*T*delta_t; w = rho/(tau); num_t = int(t_sim/delta_t); flow_rate = []; density = []\n",
        "    num_signal = int(num_t/T)\n",
        "    w = rho/(tau); capacity = v_f * w * (1/rho) / (v_f + w)\n",
        "    global vehicle_state\n",
        "    for n in range(n1,n2): # a specific vehicle number represents a corresponding density\n",
        "        vehicle_state = vehicle_update(L_int,L,D,l_n,s_0,t_sim,T,G,Y,R,delta_t,tau,v_f,a_0,b,n,delta_n,model_id,connectivity,agg,asl_id)\n",
        "        period,average = period_system(n,delta_n,D,connectivity,G,Y,R,T,vehicle_state,model_id,num_t) #period correspongding to that density\n",
        "        density.append((n*delta_n/(L+L_int))/(1/rho))\n",
        "        system_average = sum(average[num_signal-int(period):num_signal,0])/period\n",
        "        flow_rate.append(((n*delta_n/(L+L_int))*system_average)/capacity) #Eq(21)\n",
        "        print(\"car_number\",n*delta_n,\"density =\",density[-1],\"flow rate = \",flow_rate[-1],\"connectivity =\",connectivity,\"ASL\",asl_id,'period',period,\"speed\",system_average,\"D\",D)\n",
        "    return vehicle_state,flow_rate,density,period"
      ],
      "execution_count": 12,
      "outputs": []
    },
    {
      "cell_type": "code",
      "metadata": {
        "colab": {
          "base_uri": "https://localhost:8080/"
        },
        "id": "WoTkqTrk7JTF",
        "outputId": "ddc73421-0591-4337-acad-5cc09f09d074"
      },
      "source": [
        "tau = 1.5; delta_t = 1.5; t_sim = 7200; num_t = int(t_sim/delta_t)\n",
        "R = int(30/delta_t); G = int(24/delta_t); Y = int(6/delta_t); T = G + Y + R\n",
        "v_f = 12; a_0 = 1.5; b = 3;\n",
        "l_n = 5; s_0 = 2; rho = l_n + s_0; L = T * v_f * delta_t;  w = rho/tau; D = 300 #m\n",
        "delta_n = 1\n",
        "n1 = 2; n2 = 102\n",
        "non_connected = 0; all_connected = 1; aggressive = 1; asl_id_dy = 1; asl_id_sa = 0\n",
        "np.set_printoptions(precision=3, suppress=True)#3 digit, no scientific notation\n",
        "np.set_printoptions(threshold=np.inf) #no ellipses\n",
        "\n",
        "\n",
        "import datetime\n",
        "start = datetime.datetime.now()\n",
        "vehicle_banewell_dy,flow_banewell_dy,density_banewell_dy,period_banewell_dy = nfd_calc(n1,n2,delta_n,L_int,L,D,l_n,all_connected,G,Y,R,T,tau,delta_t,t_sim,s_0,v_f,a_0,b,3,aggressive,asl_id_dy)\n",
        "vehicle_banewell_sa,flow_banewell_sa,density_banewell_sa,period_banewell_sa = nfd_calc(n1,n2,delta_n,L_int,L,D,l_n,all_connected,G,Y,R,T,tau,delta_t,t_sim,s_0,v_f,a_0,b,3,aggressive,asl_id_sa)\n",
        "vehicle_banewell_non,flow_banewell_non,density_banewell_non,period_banewell_non = nfd_calc(n1,n2,delta_n,L_int,L,D,l_n,non_connected,G,Y,R,T,tau,delta_t,t_sim,s_0,v_f,a_0,b,3,aggressive,asl_id_dy)\n",
        "end = datetime.datetime.now()\n",
        "print(\"time\",end-start)\n"
      ],
      "execution_count": 238,
      "outputs": [
        {
          "metadata": {
            "tags": null
          },
          "name": "stderr",
          "output_type": "stream",
          "text": [
            "/usr/local/lib/python3.7/dist-packages/ipykernel_launcher.py:27: RuntimeWarning: invalid value encountered in double_scalars\n"
          ]
        },
        {
          "output_type": "stream",
          "name": "stdout",
          "text": [
            "car_number 2 density = 0.019444444444444445 flow rate =  0.06944444444444445 connectivity = 1 ASL 1 period 1 speed 12.0 D 300\n",
            "car_number 3 density = 0.029166666666666667 flow rate =  0.10416666666666667 connectivity = 1 ASL 1 period 1 speed 12.0 D 300\n",
            "car_number 4 density = 0.03888888888888889 flow rate =  0.1388888888888889 connectivity = 1 ASL 1 period 1 speed 12.0 D 300\n",
            "car_number 5 density = 0.04861111111111111 flow rate =  0.1736111111111111 connectivity = 1 ASL 1 period 1 speed 12.0 D 300\n",
            "car_number 6 density = 0.058333333333333334 flow rate =  0.20833333333333334 connectivity = 1 ASL 1 period 1 speed 12.0 D 300\n",
            "car_number 7 density = 0.06805555555555556 flow rate =  0.24305555555555558 connectivity = 1 ASL 1 period 1 speed 12.0 D 300\n",
            "car_number 8 density = 0.07777777777777778 flow rate =  0.2777777777777778 connectivity = 1 ASL 1 period 1 speed 12.0 D 300\n",
            "car_number 9 density = 0.08750000000000001 flow rate =  0.31250000000000006 connectivity = 1 ASL 1 period 1 speed 12.0 D 300\n",
            "car_number 10 density = 0.09722222222222222 flow rate =  0.3472222222222222 connectivity = 1 ASL 1 period 1 speed 12.0 D 300\n",
            "car_number 11 density = 0.10694444444444445 flow rate =  0.3819444444444444 connectivity = 1 ASL 1 period 1 speed 12.0 D 300\n",
            "car_number 12 density = 0.11666666666666667 flow rate =  0.4166666666666667 connectivity = 1 ASL 1 period 1 speed 12.0 D 300\n",
            "car_number 13 density = 0.12638888888888888 flow rate =  0.45138888888888884 connectivity = 1 ASL 1 period 1 speed 12.0 D 300\n",
            "car_number 14 density = 0.13611111111111113 flow rate =  0.48611111111111116 connectivity = 1 ASL 1 period 1 speed 12.0 D 300\n",
            "car_number 15 density = 0.14583333333333334 flow rate =  0.486111111111111 connectivity = 1 ASL 1 period 3 speed 11.199999999999998 D 300\n",
            "car_number 16 density = 0.15555555555555556 flow rate =  0.48611111111111127 connectivity = 1 ASL 1 period 1 speed 10.500000000000002 D 300\n",
            "car_number 17 density = 0.16527777777777777 flow rate =  0.48611111111111116 connectivity = 1 ASL 1 period 1 speed 9.882352941176471 D 300\n",
            "car_number 18 density = 0.17500000000000002 flow rate =  0.4861111111111112 connectivity = 1 ASL 1 period 1 speed 9.333333333333334 D 300\n",
            "car_number 19 density = 0.18472222222222223 flow rate =  0.4861111111111112 connectivity = 1 ASL 1 period 1 speed 8.842105263157896 D 300\n",
            "car_number 20 density = 0.19444444444444445 flow rate =  0.48611111111111116 connectivity = 1 ASL 1 period 1 speed 8.4 D 300\n",
            "car_number 21 density = 0.2041666666666667 flow rate =  0.4861111111111114 connectivity = 1 ASL 1 period 1 speed 8.000000000000004 D 300\n",
            "car_number 22 density = 0.2138888888888889 flow rate =  0.4861111111111112 connectivity = 1 ASL 1 period 1 speed 7.636363636363638 D 300\n",
            "car_number 23 density = 0.2236111111111111 flow rate =  0.486111111111111 connectivity = 1 ASL 1 period 1 speed 7.304347826086955 D 300\n",
            "car_number 24 density = 0.23333333333333334 flow rate =  0.48611111111111116 connectivity = 1 ASL 1 period 2 speed 7.0 D 300\n",
            "car_number 25 density = 0.24305555555555558 flow rate =  0.4861111111111112 connectivity = 1 ASL 1 period 2 speed 6.720000000000001 D 300\n",
            "car_number 26 density = 0.25277777777777777 flow rate =  0.48611111111111116 connectivity = 1 ASL 1 period 1 speed 6.461538461538463 D 300\n",
            "car_number 27 density = 0.2625 flow rate =  0.4861111111111112 connectivity = 1 ASL 1 period 1 speed 6.222222222222223 D 300\n",
            "car_number 28 density = 0.27222222222222225 flow rate =  0.48611111111111116 connectivity = 1 ASL 1 period 1 speed 6.0 D 300\n",
            "car_number 29 density = 0.2819444444444445 flow rate =  0.48611111111111116 connectivity = 1 ASL 1 period 1 speed 5.793103448275862 D 300\n",
            "car_number 30 density = 0.2916666666666667 flow rate =  0.486111111111111 connectivity = 1 ASL 1 period 1 speed 5.599999999999999 D 300\n",
            "car_number 31 density = 0.30138888888888893 flow rate =  0.486111111111111 connectivity = 1 ASL 1 period 1 speed 5.419354838709676 D 300\n",
            "car_number 32 density = 0.3111111111111111 flow rate =  0.4861111111111111 connectivity = 1 ASL 1 period 1 speed 5.249999999999999 D 300\n",
            "car_number 33 density = 0.3208333333333333 flow rate =  0.4861111111111109 connectivity = 1 ASL 1 period 1 speed 5.090909090909089 D 300\n",
            "car_number 34 density = 0.33055555555555555 flow rate =  0.486111111111111 connectivity = 1 ASL 1 period 1 speed 4.941176470588235 D 300\n",
            "car_number 35 density = 0.3402777777777778 flow rate =  0.4861111111111113 connectivity = 1 ASL 1 period 1 speed 4.800000000000002 D 300\n",
            "car_number 36 density = 0.35000000000000003 flow rate =  0.4861111111111111 connectivity = 1 ASL 1 period 1 speed 4.666666666666666 D 300\n",
            "car_number 37 density = 0.3597222222222222 flow rate =  0.486111111111111 connectivity = 1 ASL 1 period 1 speed 4.5405405405405395 D 300\n",
            "car_number 38 density = 0.36944444444444446 flow rate =  0.4861111111111115 connectivity = 1 ASL 1 period 1 speed 4.4210526315789505 D 300\n",
            "car_number 39 density = 0.3791666666666667 flow rate =  0.48611111111111155 connectivity = 1 ASL 1 period 1 speed 4.307692307692311 D 300\n",
            "car_number 40 density = 0.3888888888888889 flow rate =  0.4861111111111113 connectivity = 1 ASL 1 period 1 speed 4.200000000000002 D 300\n",
            "car_number 41 density = 0.39861111111111114 flow rate =  0.4861111111111114 connectivity = 1 ASL 1 period 1 speed 4.097560975609758 D 300\n",
            "car_number 42 density = 0.4083333333333334 flow rate =  0.4861111111111114 connectivity = 1 ASL 1 period 1 speed 4.000000000000002 D 300\n",
            "car_number 43 density = 0.4180555555555556 flow rate =  0.48611111111111144 connectivity = 1 ASL 1 period 1 speed 3.9069767441860486 D 300\n",
            "car_number 44 density = 0.4277777777777778 flow rate =  0.48611111111111144 connectivity = 1 ASL 1 period 1 speed 3.8181818181818206 D 300\n",
            "car_number 45 density = 0.4375 flow rate =  0.4861111111111112 connectivity = 1 ASL 1 period 1 speed 3.733333333333334 D 300\n",
            "car_number 46 density = 0.4472222222222222 flow rate =  0.4861111111111112 connectivity = 1 ASL 1 period 1 speed 3.652173913043479 D 300\n",
            "car_number 47 density = 0.4569444444444445 flow rate =  0.4861111111111111 connectivity = 1 ASL 1 period 1 speed 3.5744680851063824 D 300\n",
            "car_number 48 density = 0.4666666666666667 flow rate =  0.4861111111111113 connectivity = 1 ASL 1 period 1 speed 3.5000000000000013 D 300\n",
            "car_number 49 density = 0.47638888888888886 flow rate =  0.48611111111111127 connectivity = 1 ASL 1 period 1 speed 3.4285714285714297 D 300\n",
            "car_number 50 density = 0.48611111111111116 flow rate =  0.48611111111111116 connectivity = 1 ASL 1 period 1 speed 3.36 D 300\n",
            "car_number 51 density = 0.49583333333333335 flow rate =  0.4861111111111111 connectivity = 1 ASL 1 period 1 speed 3.2941176470588234 D 300\n",
            "car_number 52 density = 0.5055555555555555 flow rate =  0.48611111111111116 connectivity = 1 ASL 1 period 1 speed 3.2307692307692313 D 300\n",
            "car_number 53 density = 0.5152777777777778 flow rate =  0.486111111111111 connectivity = 1 ASL 1 period 1 speed 3.1698113207547163 D 300\n",
            "car_number 54 density = 0.525 flow rate =  0.4861111111111115 connectivity = 1 ASL 1 period 1 speed 3.1111111111111134 D 300\n",
            "car_number 55 density = 0.5347222222222223 flow rate =  0.48611111111111127 connectivity = 1 ASL 1 period 1 speed 3.054545454545455 D 300\n",
            "car_number 56 density = 0.5444444444444445 flow rate =  0.48611111111111116 connectivity = 1 ASL 1 period 1 speed 3.0 D 300\n",
            "car_number 57 density = 0.5541666666666667 flow rate =  0.486111111111111 connectivity = 1 ASL 1 period 1 speed 2.947368421052631 D 300\n",
            "car_number 58 density = 0.563888888888889 flow rate =  0.4861111111111111 connectivity = 1 ASL 1 period 1 speed 2.8965517241379306 D 300\n",
            "car_number 59 density = 0.5736111111111112 flow rate =  0.48611111111111094 connectivity = 1 ASL 1 period 1 speed 2.847457627118643 D 300\n",
            "car_number 60 density = 0.5833333333333334 flow rate =  0.46879112067361595 connectivity = 1 ASL 1 period 4 speed 2.700236855080028 D 300\n",
            "car_number 61 density = 0.5930555555555557 flow rate =  0.46301730726004137 connectivity = 1 ASL 1 period 3 speed 2.6232587112962342 D 300\n",
            "car_number 62 density = 0.6027777777777779 flow rate =  0.4514713173487323 connectivity = 1 ASL 1 period 2 speed 2.5165885044471272 D 300\n",
            "car_number 63 density = 0.6125 flow rate =  0.4399237899873911 connectivity = 1 ASL 1 period 3 speed 2.413296219359403 D 300\n",
            "car_number 64 density = 0.6222222222222222 flow rate =  0.44270833333333326 connectivity = 1 ASL 1 period 4 speed 2.3906249999999996 D 300\n",
            "car_number 65 density = 0.6319444444444444 flow rate =  0.43402777777777773 connectivity = 1 ASL 1 period 4 speed 2.3076923076923075 D 300\n",
            "car_number 66 density = 0.6416666666666666 flow rate =  0.4253472222222223 connectivity = 1 ASL 1 period 4 speed 2.227272727272728 D 300\n",
            "car_number 67 density = 0.6513888888888889 flow rate =  0.4166666666666667 connectivity = 1 ASL 1 period 3 speed 2.1492537313432836 D 300\n",
            "car_number 68 density = 0.6611111111111111 flow rate =  0.40509259259259267 connectivity = 1 ASL 1 period 3 speed 2.058823529411765 D 300\n",
            "car_number 69 density = 0.6708333333333334 flow rate =  0.3935737388375136 connectivity = 1 ASL 1 period 3 speed 1.9712910745252852 D 300\n",
            "car_number 70 density = 0.6805555555555556 flow rate =  0.38199963995747915 connectivity = 1 ASL 1 period 3 speed 1.8859867938472112 D 300\n",
            "car_number 71 density = 0.6902777777777778 flow rate =  0.3704255658135396 connectivity = 1 ASL 1 period 3 speed 1.8030855710585814 D 300\n",
            "car_number 72 density = 0.7000000000000001 flow rate =  0.35885149173944 connectivity = 1 ASL 1 period 3 speed 1.7224871603493117 D 300\n",
            "car_number 73 density = 0.7097222222222223 flow rate =  0.34727741766536596 connectivity = 1 ASL 1 period 3 speed 1.6440969252760338 D 300\n",
            "car_number 74 density = 0.7194444444444444 flow rate =  0.3357033435912919 connectivity = 1 ASL 1 period 3 speed 1.5678253452047362 D 300\n",
            "car_number 75 density = 0.7291666666666667 flow rate =  0.3241292695172176 connectivity = 1 ASL 1 period 3 speed 1.4935876739353386 D 300\n",
            "car_number 76 density = 0.7388888888888889 flow rate =  0.3126105220891383 connectivity = 1 ASL 1 period 3 speed 1.4215552162369234 D 300\n",
            "car_number 77 density = 0.7486111111111111 flow rate =  0.30109177328113174 connectivity = 1 ASL 1 period 3 speed 1.3513937252721966 D 300\n",
            "car_number 78 density = 0.7583333333333334 flow rate =  0.28951770435920937 connectivity = 1 ASL 1 period 3 speed 1.2827861362377275 D 300\n",
            "car_number 79 density = 0.7680555555555556 flow rate =  0.2779435029682115 connectivity = 1 ASL 1 period 3 speed 1.2159148686811887 D 300\n",
            "car_number 80 density = 0.7777777777777778 flow rate =  0.26636929693211 connectivity = 1 ASL 1 period 3 speed 1.150715362746715 D 300\n",
            "car_number 81 density = 0.7875000000000001 flow rate =  0.2547952194089274 connectivity = 1 ASL 1 period 3 speed 1.0871262694780903 D 300\n",
            "car_number 82 density = 0.7972222222222223 flow rate =  0.2432211418852321 connectivity = 1 ASL 1 period 3 speed 1.0250881297016612 D 300\n",
            "car_number 83 density = 0.8069444444444446 flow rate =  0.23164706781115801 connectivity = 1 ASL 1 period 3 speed 0.9645448992233278 D 300\n",
            "car_number 84 density = 0.8166666666666668 flow rate =  0.22007299373696407 connectivity = 1 ASL 1 period 3 speed 0.9054431742320806 D 300\n",
            "car_number 85 density = 0.826388888888889 flow rate =  0.20849891966277015 connectivity = 1 ASL 1 period 3 speed 0.8477320780641572 D 300\n",
            "car_number 86 density = 0.8361111111111112 flow rate =  0.196924845588693 connectivity = 1 ASL 1 period 3 speed 0.791363100412236 D 300\n",
            "car_number 87 density = 0.8458333333333334 flow rate =  0.18535077151461588 connectivity = 1 ASL 1 period 3 speed 0.7362899613270257 D 300\n",
            "car_number 88 density = 0.8555555555555556 flow rate =  0.1737766974405418 connectivity = 1 ASL 1 period 3 speed 0.6824684844937642 D 300\n",
            "car_number 89 density = 0.8652777777777778 flow rate =  0.1622026233664677 connectivity = 1 ASL 1 period 3 speed 0.629856479050014 D 300\n",
            "car_number 90 density = 0.875 flow rate =  0.1506285492923937 connectivity = 1 ASL 1 period 3 speed 0.5784136292827917 D 300\n",
            "car_number 91 density = 0.8847222222222222 flow rate =  0.13905447521831957 connectivity = 1 ASL 1 period 3 speed 0.5281013915983653 D 300\n",
            "car_number 92 density = 0.8944444444444444 flow rate =  0.1274804011442455 connectivity = 1 ASL 1 period 3 speed 0.47888289821142654 D 300\n",
            "car_number 93 density = 0.9041666666666668 flow rate =  0.1159063270701714 connectivity = 1 ASL 1 period 3 speed 0.43072286704786267 D 300\n",
            "car_number 94 density = 0.913888888888889 flow rate =  0.10433225299609733 connectivity = 1 ASL 1 period 3 speed 0.3835875173984174 D 300\n",
            "car_number 95 density = 0.9236111111111112 flow rate =  0.0927581789220233 connectivity = 1 ASL 1 period 3 speed 0.33744449089948686 D 300\n",
            "car_number 96 density = 0.9333333333333333 flow rate =  0.08118410484794922 connectivity = 1 ASL 1 period 3 speed 0.2922627774526172 D 300\n",
            "car_number 97 density = 0.9430555555555555 flow rate =  0.06961003077387513 connectivity = 1 ASL 1 period 1 speed 0.24801264572630152 D 300\n",
            "car_number 98 density = 0.9527777777777777 flow rate =  0.05803595669980106 connectivity = 1 ASL 1 period 3 speed 0.20466557791276782 D 300\n",
            "car_number 99 density = 0.9625000000000001 flow rate =  0.04646188262572701 connectivity = 1 ASL 1 period 3 speed 0.16219420843890153 D 300\n",
            "car_number 100 density = 0.9722222222222223 flow rate =  0.03488780855165294 connectivity = 1 ASL 1 period 1 speed 0.12057226635451253 D 300\n",
            "car_number 101 density = 0.9819444444444445 flow rate =  0.02324272390868324 connectivity = 1 ASL 1 period 3 speed 0.07953153844396958 D 300\n",
            "car_number 2 density = 0.019444444444444445 flow rate =  0.06944444444444445 connectivity = 1 ASL 0 period 1 speed 12.0 D 300\n",
            "car_number 3 density = 0.029166666666666667 flow rate =  0.10416666666666667 connectivity = 1 ASL 0 period 1 speed 12.0 D 300\n",
            "car_number 4 density = 0.03888888888888889 flow rate =  0.1388888888888889 connectivity = 1 ASL 0 period 1 speed 12.0 D 300\n",
            "car_number 5 density = 0.04861111111111111 flow rate =  0.1736111111111111 connectivity = 1 ASL 0 period 1 speed 12.0 D 300\n",
            "car_number 6 density = 0.058333333333333334 flow rate =  0.20833333333333334 connectivity = 1 ASL 0 period 1 speed 12.0 D 300\n",
            "car_number 7 density = 0.06805555555555556 flow rate =  0.24305555555555558 connectivity = 1 ASL 0 period 1 speed 12.0 D 300\n",
            "car_number 8 density = 0.07777777777777778 flow rate =  0.2777777777777778 connectivity = 1 ASL 0 period 1 speed 12.0 D 300\n",
            "car_number 9 density = 0.08750000000000001 flow rate =  0.31250000000000006 connectivity = 1 ASL 0 period 1 speed 12.0 D 300\n",
            "car_number 10 density = 0.09722222222222222 flow rate =  0.3472222222222222 connectivity = 1 ASL 0 period 1 speed 12.0 D 300\n",
            "car_number 11 density = 0.10694444444444445 flow rate =  0.3819444444444444 connectivity = 1 ASL 0 period 1 speed 12.0 D 300\n",
            "car_number 12 density = 0.11666666666666667 flow rate =  0.4166666666666667 connectivity = 1 ASL 0 period 1 speed 12.0 D 300\n",
            "car_number 13 density = 0.12638888888888888 flow rate =  0.45138888888888884 connectivity = 1 ASL 0 period 1 speed 12.0 D 300\n",
            "car_number 14 density = 0.13611111111111113 flow rate =  0.45155164930555575 connectivity = 1 ASL 0 period 1 speed 11.146875000000003 D 300\n",
            "car_number 15 density = 0.14583333333333334 flow rate =  0.4515516493055555 connectivity = 1 ASL 0 period 1 speed 10.403749999999999 D 300\n",
            "car_number 16 density = 0.15555555555555556 flow rate =  0.42454547646604945 connectivity = 1 ASL 0 period 9 speed 9.170182291666668 D 300\n",
            "car_number 17 density = 0.16527777777777777 flow rate =  0.39599609375000006 connectivity = 1 ASL 0 period 5 speed 8.050367647058824 D 300\n",
            "car_number 18 density = 0.17500000000000002 flow rate =  0.3473849826388889 connectivity = 1 ASL 0 period 1 speed 6.669791666666667 D 300\n",
            "car_number 19 density = 0.18472222222222223 flow rate =  0.3473849826388576 connectivity = 1 ASL 0 period 20 speed 6.31874999999943 D 300\n",
            "car_number 20 density = 0.19444444444444445 flow rate =  0.34738498263888895 connectivity = 1 ASL 0 period 4 speed 6.002812500000001 D 300\n",
            "car_number 21 density = 0.2041666666666667 flow rate =  0.31266276041666674 connectivity = 1 ASL 0 period 1 speed 5.145535714285716 D 300\n",
            "car_number 22 density = 0.2138888888888889 flow rate =  0.31266276041666663 connectivity = 1 ASL 0 period 8 speed 4.911647727272727 D 300\n",
            "car_number 23 density = 0.2236111111111111 flow rate =  0.31266276041666663 connectivity = 1 ASL 0 period 1 speed 4.698097826086956 D 300\n",
            "car_number 24 density = 0.23333333333333334 flow rate =  0.3126627604166667 connectivity = 1 ASL 0 period 1 speed 4.5023437500000005 D 300\n",
            "car_number 25 density = 0.24305555555555558 flow rate =  0.3126627604166665 connectivity = 1 ASL 0 period 1 speed 4.322249999999998 D 300\n",
            "car_number 26 density = 0.25277777777777777 flow rate =  0.3126627604166665 connectivity = 1 ASL 0 period 1 speed 4.1560096153846136 D 300\n",
            "car_number 27 density = 0.2625 flow rate =  0.31266276041666663 connectivity = 1 ASL 0 period 6 speed 4.002083333333333 D 300\n",
            "car_number 28 density = 0.27222222222222225 flow rate =  0.31266276041666646 connectivity = 1 ASL 0 period 1 speed 3.859151785714283 D 300\n",
            "car_number 29 density = 0.2819444444444445 flow rate =  0.27794545262409837 connectivity = 1 ASL 0 period 50 speed 3.312343049203048 D 300\n",
            "car_number 30 density = 0.2916666666666667 flow rate =  0.2779405381944756 connectivity = 1 ASL 0 period 16 speed 3.2018750000003595 D 300\n",
            "car_number 31 density = 0.30138888888888893 flow rate =  0.2571072048611111 connectivity = 1 ASL 0 period 10 speed 2.86633064516129 D 300\n",
            "car_number 32 density = 0.3111111111111111 flow rate =  0.2605794270833333 connectivity = 1 ASL 0 period 2 speed 2.8142578124999993 D 300\n",
            "car_number 33 density = 0.3208333333333333 flow rate =  0.2605794270833333 connectivity = 1 ASL 0 period 2 speed 2.7289772727272723 D 300\n",
            "car_number 34 density = 0.33055555555555555 flow rate =  0.26250843942901236 connectivity = 1 ASL 0 period 9 speed 2.6683210784313727 D 300\n",
            "car_number 35 density = 0.3402777777777778 flow rate =  0.2702811633727646 connectivity = 1 ASL 0 period 50 speed 2.6688334303322123 D 300\n",
            "car_number 36 density = 0.35000000000000003 flow rate =  0.2432183159722222 connectivity = 1 ASL 0 period 1 speed 2.334895833333333 D 300\n",
            "car_number 37 density = 0.3597222222222222 flow rate =  0.24321831597222227 connectivity = 1 ASL 0 period 1 speed 2.271790540540541 D 300\n",
            "car_number 38 density = 0.36944444444444446 flow rate =  0.24321666476454795 connectivity = 1 ASL 0 period 1 speed 2.2119915616480994 D 300\n",
            "car_number 39 density = 0.3791666666666667 flow rate =  0.24140421017440264 connectivity = 1 ASL 0 period 50 speed 2.1392126932377833 D 300\n",
            "car_number 40 density = 0.3888888888888889 flow rate =  0.2258443910132717 connectivity = 1 ASL 0 period 2 speed 1.9512955383546675 D 300\n",
            "car_number 41 density = 0.39861111111111114 flow rate =  0.20848091828785012 connectivity = 1 ASL 0 period 1 speed 1.7573415941531951 D 300\n",
            "car_number 42 density = 0.4083333333333334 flow rate =  0.2084767697555668 connectivity = 1 ASL 0 period 1 speed 1.715465991131521 D 300\n",
            "car_number 43 density = 0.4180555555555556 flow rate =  0.20846938816108945 connectivity = 1 ASL 0 period 1 speed 1.6755121057784306 D 300\n",
            "car_number 44 density = 0.4277777777777778 flow rate =  0.2084693881610896 connectivity = 1 ASL 0 period 1 speed 1.6374322851925582 D 300\n",
            "car_number 45 density = 0.4375 flow rate =  0.20846938816108945 connectivity = 1 ASL 0 period 1 speed 1.601044901077167 D 300\n",
            "car_number 46 density = 0.4472222222222222 flow rate =  0.20846938816108954 connectivity = 1 ASL 0 period 1 speed 1.5662395771407076 D 300\n",
            "car_number 47 density = 0.4569444444444445 flow rate =  0.2084693881610895 connectivity = 1 ASL 0 period 1 speed 1.5329153308185646 D 300\n",
            "car_number 48 density = 0.4666666666666667 flow rate =  0.20846938816108948 connectivity = 1 ASL 0 period 1 speed 1.5009795947598443 D 300\n",
            "car_number 49 density = 0.47638888888888886 flow rate =  0.2084693881610895 connectivity = 1 ASL 0 period 1 speed 1.4703473581320927 D 300\n",
            "car_number 50 density = 0.48611111111111116 flow rate =  0.2084693881610895 connectivity = 1 ASL 0 period 1 speed 1.4409404109694506 D 300\n",
            "car_number 51 density = 0.49583333333333335 flow rate =  0.2084693881610894 connectivity = 1 ASL 0 period 1 speed 1.4126866774210294 D 300\n",
            "car_number 52 density = 0.5055555555555555 flow rate =  0.2084693881610895 connectivity = 1 ASL 0 period 1 speed 1.3855196259321643 D 300\n",
            "car_number 53 density = 0.5152777777777778 flow rate =  0.20846938816108962 connectivity = 1 ASL 0 period 1 speed 1.3593777461975955 D 300\n",
            "car_number 54 density = 0.525 flow rate =  0.20846938816108954 connectivity = 1 ASL 0 period 1 speed 1.334204084230973 D 300\n",
            "car_number 55 density = 0.5347222222222223 flow rate =  0.20846938816108945 connectivity = 1 ASL 0 period 1 speed 1.3099458281540457 D 300\n",
            "car_number 56 density = 0.5444444444444445 flow rate =  0.20846938816108945 connectivity = 1 ASL 0 period 1 speed 1.2865539383655806 D 300\n",
            "car_number 57 density = 0.5541666666666667 flow rate =  0.20846938816108954 connectivity = 1 ASL 0 period 1 speed 1.2639828166398692 D 300\n",
            "car_number 58 density = 0.563888888888889 flow rate =  0.2084693881610895 connectivity = 1 ASL 0 period 1 speed 1.2421900094564229 D 300\n",
            "car_number 59 density = 0.5736111111111112 flow rate =  0.20846938816108945 connectivity = 1 ASL 0 period 1 speed 1.2211359414995342 D 300\n",
            "car_number 60 density = 0.5833333333333334 flow rate =  0.20846938816108954 connectivity = 1 ASL 0 period 1 speed 1.2007836758078758 D 300\n",
            "car_number 61 density = 0.5930555555555557 flow rate =  0.2084693881610896 connectivity = 1 ASL 0 period 1 speed 1.1810986975159434 D 300\n",
            "car_number 62 density = 0.6027777777777779 flow rate =  0.20846938816108954 connectivity = 1 ASL 0 period 1 speed 1.1620487185237507 D 300\n",
            "car_number 63 density = 0.6125 flow rate =  0.2084693881610895 connectivity = 1 ASL 0 period 1 speed 1.1436035007694054 D 300\n",
            "car_number 64 density = 0.6222222222222222 flow rate =  0.2084693881610895 connectivity = 1 ASL 0 period 1 speed 1.1257346960698833 D 300\n",
            "car_number 65 density = 0.6319444444444444 flow rate =  0.2084693881610895 connectivity = 1 ASL 0 period 1 speed 1.1084157007457314 D 300\n",
            "car_number 66 density = 0.6416666666666666 flow rate =  0.2084693881610896 connectivity = 1 ASL 0 period 1 speed 1.0916215234617055 D 300\n",
            "car_number 67 density = 0.6513888888888889 flow rate =  0.20846938816108962 connectivity = 1 ASL 0 period 1 speed 1.0753286649025755 D 300\n",
            "car_number 68 density = 0.6611111111111111 flow rate =  0.20846938816108954 connectivity = 1 ASL 0 period 1 speed 1.0595150080657727 D 300\n",
            "car_number 69 density = 0.6708333333333334 flow rate =  0.20846938816108948 connectivity = 1 ASL 0 period 1 speed 1.0441597180938047 D 300\n",
            "car_number 70 density = 0.6805555555555556 flow rate =  0.20846938816108948 connectivity = 1 ASL 0 period 1 speed 1.0292431506924646 D 300\n",
            "car_number 71 density = 0.6902777777777778 flow rate =  0.20846938816108954 connectivity = 1 ASL 0 period 1 speed 1.0147467682883458 D 300\n",
            "car_number 72 density = 0.7000000000000001 flow rate =  0.2084693881610895 connectivity = 1 ASL 0 period 1 speed 1.0006530631732296 D 300\n",
            "car_number 73 density = 0.7097222222222223 flow rate =  0.20846938816108954 connectivity = 1 ASL 0 period 1 speed 0.9869454869653773 D 300\n",
            "car_number 74 density = 0.7194444444444444 flow rate =  0.2084693881610896 connectivity = 1 ASL 0 period 1 speed 0.9736083857901697 D 300\n",
            "car_number 75 density = 0.7291666666666667 flow rate =  0.20846938816108954 connectivity = 1 ASL 0 period 1 speed 0.9606269406463006 D 300\n",
            "car_number 76 density = 0.7388888888888889 flow rate =  0.2084693881610894 connectivity = 1 ASL 0 period 1 speed 0.9479871124799013 D 300\n",
            "car_number 77 density = 0.7486111111111111 flow rate =  0.2084693881610896 connectivity = 1 ASL 0 period 1 speed 0.9356755915386047 D 300\n",
            "car_number 78 density = 0.7583333333333334 flow rate =  0.20846938816108954 connectivity = 1 ASL 0 period 1 speed 0.9236797506214429 D 300\n",
            "car_number 79 density = 0.7680555555555556 flow rate =  0.20846938816108945 connectivity = 1 ASL 0 period 1 speed 0.911987601879399 D 300\n",
            "car_number 80 density = 0.7777777777777778 flow rate =  0.2084693881610896 connectivity = 1 ASL 0 period 1 speed 0.900587756855907 D 300\n",
            "car_number 81 density = 0.7875000000000001 flow rate =  0.20846938816108967 connectivity = 1 ASL 0 period 1 speed 0.8894693894873159 D 300\n",
            "car_number 82 density = 0.7972222222222223 flow rate =  0.2084693881610896 connectivity = 1 ASL 0 period 1 speed 0.878622201810641 D 300\n",
            "car_number 83 density = 0.8069444444444446 flow rate =  0.20846938816108954 connectivity = 1 ASL 0 period 1 speed 0.8680363921502716 D 300\n",
            "car_number 84 density = 0.8166666666666668 flow rate =  0.20846943509359595 connectivity = 1 ASL 0 period 6 speed 0.8577028186707948 D 300\n",
            "car_number 85 density = 0.826388888888889 flow rate =  0.2084694668984207 connectivity = 1 ASL 0 period 3 speed 0.8476123265893435 D 300\n",
            "car_number 86 density = 0.8361111111111112 flow rate =  0.19690312312488992 connectivity = 1 ASL 0 period 3 speed 0.7912758064181623 D 300\n",
            "car_number 87 density = 0.8458333333333334 flow rate =  0.1853292263824757 connectivity = 1 ASL 0 period 3 speed 0.7362043751469379 D 300\n",
            "car_number 88 density = 0.8555555555555556 flow rate =  0.17375316802857685 connectivity = 1 ASL 0 period 3 speed 0.6823760780758654 D 300\n",
            "car_number 89 density = 0.8652777777777778 flow rate =  0.16216830160320034 connectivity = 1 ASL 0 period 3 speed 0.6297232026299554 D 300\n",
            "car_number 90 density = 0.875 flow rate =  0.15061434059637824 connectivity = 1 ASL 0 period 3 speed 0.5783590678900924 D 300\n",
            "car_number 91 density = 0.8847222222222222 flow rate =  0.1390392730090072 connectivity = 1 ASL 0 period 3 speed 0.5280436566144273 D 300\n",
            "car_number 92 density = 0.8944444444444444 flow rate =  0.12747352701072734 connectivity = 1 ASL 0 period 3 speed 0.47885707537942795 D 300\n",
            "car_number 93 density = 0.9041666666666668 flow rate =  0.11588835048778302 connectivity = 1 ASL 0 period 3 speed 0.43065606374814847 D 300\n",
            "car_number 94 density = 0.913888888888889 flow rate =  0.10430550580352826 connectivity = 1 ASL 0 period 3 speed 0.3834891787840358 D 300\n",
            "car_number 95 density = 0.9236111111111112 flow rate =  0.09273938425526701 connectivity = 1 ASL 0 period 3 speed 0.33737611788021343 D 300\n",
            "car_number 96 density = 0.9333333333333333 flow rate =  0.08114544492723752 connectivity = 1 ASL 0 period 3 speed 0.29212360173805507 D 300\n",
            "car_number 97 density = 0.9430555555555555 flow rate =  0.06957052626626434 connectivity = 1 ASL 0 period 1 speed 0.24787189564557685 D 300\n",
            "car_number 98 density = 0.9527777777777777 flow rate =  0.05801429582603064 connectivity = 1 ASL 0 period 3 speed 0.20458919017832847 D 300\n",
            "car_number 99 density = 0.9625000000000001 flow rate =  0.04640036179617043 connectivity = 1 ASL 0 period 50 speed 0.16197944481572218 D 300\n",
            "car_number 100 density = 0.9722222222222223 flow rate =  0.0348473292095863 connectivity = 1 ASL 0 period 1 speed 0.12043236974833026 D 300\n",
            "car_number 101 density = 0.9819444444444445 flow rate =  0.023258538073160907 connectivity = 1 ASL 0 period 50 speed 0.07958565107014266 D 300\n",
            "car_number 2 density = 0.019444444444444445 flow rate =  0.06944444444444445 connectivity = 0 ASL 1 period 1 speed 12.0 D 300\n",
            "car_number 3 density = 0.029166666666666667 flow rate =  0.10416666666666667 connectivity = 0 ASL 1 period 1 speed 12.0 D 300\n",
            "car_number 4 density = 0.03888888888888889 flow rate =  0.1388888888888889 connectivity = 0 ASL 1 period 1 speed 12.0 D 300\n",
            "car_number 5 density = 0.04861111111111111 flow rate =  0.1736111111111111 connectivity = 0 ASL 1 period 1 speed 12.0 D 300\n",
            "car_number 6 density = 0.058333333333333334 flow rate =  0.20833333333333334 connectivity = 0 ASL 1 period 1 speed 12.0 D 300\n",
            "car_number 7 density = 0.06805555555555556 flow rate =  0.24305555555555558 connectivity = 0 ASL 1 period 1 speed 12.0 D 300\n",
            "car_number 8 density = 0.07777777777777778 flow rate =  0.2777777777777778 connectivity = 0 ASL 1 period 1 speed 12.0 D 300\n",
            "car_number 9 density = 0.08750000000000001 flow rate =  0.31250000000000006 connectivity = 0 ASL 1 period 1 speed 12.0 D 300\n",
            "car_number 10 density = 0.09722222222222222 flow rate =  0.3472222222222222 connectivity = 0 ASL 1 period 1 speed 12.0 D 300\n",
            "car_number 11 density = 0.10694444444444445 flow rate =  0.3819444444444444 connectivity = 0 ASL 1 period 1 speed 12.0 D 300\n",
            "car_number 12 density = 0.11666666666666667 flow rate =  0.4166666666666667 connectivity = 0 ASL 1 period 1 speed 12.0 D 300\n",
            "car_number 13 density = 0.12638888888888888 flow rate =  0.45138888888888884 connectivity = 0 ASL 1 period 1 speed 12.0 D 300\n",
            "car_number 14 density = 0.13611111111111113 flow rate =  0.4515516493055556 connectivity = 0 ASL 1 period 1 speed 11.146875 D 300\n",
            "car_number 15 density = 0.14583333333333334 flow rate =  0.4515516493055556 connectivity = 0 ASL 1 period 1 speed 10.40375 D 300\n",
            "car_number 16 density = 0.15555555555555556 flow rate =  0.4515516493055555 connectivity = 0 ASL 1 period 1 speed 9.753515624999999 D 300\n",
            "car_number 17 density = 0.16527777777777777 flow rate =  0.4515516493055556 connectivity = 0 ASL 1 period 1 speed 9.179779411764706 D 300\n",
            "car_number 18 density = 0.17500000000000002 flow rate =  0.45155164930555564 connectivity = 0 ASL 1 period 1 speed 8.669791666666667 D 300\n",
            "car_number 19 density = 0.18472222222222223 flow rate =  0.4515516493055555 connectivity = 0 ASL 1 period 1 speed 8.213486842105262 D 300\n",
            "car_number 20 density = 0.19444444444444445 flow rate =  0.4515516493055557 connectivity = 0 ASL 1 period 1 speed 7.802812500000002 D 300\n",
            "car_number 21 density = 0.2041666666666667 flow rate =  0.45155164930555564 connectivity = 0 ASL 1 period 1 speed 7.43125 D 300\n",
            "car_number 22 density = 0.2138888888888889 flow rate =  0.4515516493055556 connectivity = 0 ASL 1 period 1 speed 7.093465909090909 D 300\n",
            "car_number 23 density = 0.2236111111111111 flow rate =  0.4515516493055556 connectivity = 0 ASL 1 period 1 speed 6.785054347826088 D 300\n",
            "car_number 24 density = 0.23333333333333334 flow rate =  0.45155164930555564 connectivity = 0 ASL 1 period 1 speed 6.5023437500000005 D 300\n",
            "car_number 25 density = 0.24305555555555558 flow rate =  0.4515516493055556 connectivity = 0 ASL 1 period 1 speed 6.242249999999999 D 300\n",
            "car_number 26 density = 0.25277777777777777 flow rate =  0.45155164930555564 connectivity = 0 ASL 1 period 1 speed 6.002163461538463 D 300\n",
            "car_number 27 density = 0.2625 flow rate =  0.4515516493055556 connectivity = 0 ASL 1 period 1 speed 5.779861111111111 D 300\n",
            "car_number 28 density = 0.27222222222222225 flow rate =  0.4515516493055556 connectivity = 0 ASL 1 period 1 speed 5.5734375 D 300\n",
            "car_number 29 density = 0.2819444444444445 flow rate =  0.4515516493055556 connectivity = 0 ASL 1 period 1 speed 5.38125 D 300\n",
            "car_number 30 density = 0.2916666666666667 flow rate =  0.4515516493055556 connectivity = 0 ASL 1 period 1 speed 5.201875 D 300\n",
            "car_number 31 density = 0.30138888888888893 flow rate =  0.4515516493055556 connectivity = 0 ASL 1 period 1 speed 5.034072580645161 D 300\n",
            "car_number 32 density = 0.3111111111111111 flow rate =  0.4515516493055557 connectivity = 0 ASL 1 period 1 speed 4.876757812500001 D 300\n",
            "car_number 33 density = 0.3208333333333333 flow rate =  0.4515516493055555 connectivity = 0 ASL 1 period 1 speed 4.728977272727272 D 300\n",
            "car_number 34 density = 0.33055555555555555 flow rate =  0.4515516493055556 connectivity = 0 ASL 1 period 1 speed 4.589889705882353 D 300\n",
            "car_number 35 density = 0.3402777777777778 flow rate =  0.4515516493055557 connectivity = 0 ASL 1 period 1 speed 4.458750000000001 D 300\n",
            "car_number 36 density = 0.35000000000000003 flow rate =  0.45155164930555564 connectivity = 0 ASL 1 period 1 speed 4.334895833333333 D 300\n",
            "car_number 37 density = 0.3597222222222222 flow rate =  0.45155164930555564 connectivity = 0 ASL 1 period 1 speed 4.217736486486487 D 300\n",
            "car_number 38 density = 0.36944444444444446 flow rate =  0.4515516493055555 connectivity = 0 ASL 1 period 1 speed 4.106743421052631 D 300\n",
            "car_number 39 density = 0.3791666666666667 flow rate =  0.45155164930555564 connectivity = 0 ASL 1 period 1 speed 4.001442307692308 D 300\n",
            "car_number 40 density = 0.3888888888888889 flow rate =  0.4515516493055555 connectivity = 0 ASL 1 period 1 speed 3.9014062499999995 D 300\n",
            "car_number 41 density = 0.39861111111111114 flow rate =  0.45155164930555564 connectivity = 0 ASL 1 period 1 speed 3.8062500000000004 D 300\n",
            "car_number 42 density = 0.4083333333333334 flow rate =  0.4515516493055555 connectivity = 0 ASL 1 period 1 speed 3.7156249999999993 D 300\n",
            "car_number 43 density = 0.4180555555555556 flow rate =  0.45155164930555575 connectivity = 0 ASL 1 period 1 speed 3.6292151162790707 D 300\n",
            "car_number 44 density = 0.4277777777777778 flow rate =  0.4515516493055556 connectivity = 0 ASL 1 period 1 speed 3.5467329545454547 D 300\n",
            "car_number 45 density = 0.4375 flow rate =  0.45155164930555575 connectivity = 0 ASL 1 period 1 speed 3.467916666666668 D 300\n",
            "car_number 46 density = 0.4472222222222222 flow rate =  0.4515516493055556 connectivity = 0 ASL 1 period 1 speed 3.392527173913044 D 300\n",
            "car_number 47 density = 0.4569444444444445 flow rate =  0.45155164930555564 connectivity = 0 ASL 1 period 1 speed 3.3203457446808513 D 300\n",
            "car_number 48 density = 0.4666666666666667 flow rate =  0.45155164930555564 connectivity = 0 ASL 1 period 1 speed 3.2511718750000003 D 300\n",
            "car_number 49 density = 0.47638888888888886 flow rate =  0.45155164930555575 connectivity = 0 ASL 1 period 1 speed 3.18482142857143 D 300\n",
            "car_number 50 density = 0.48611111111111116 flow rate =  0.45155164930555564 connectivity = 0 ASL 1 period 1 speed 3.121125 D 300\n",
            "car_number 51 density = 0.49583333333333335 flow rate =  0.4515516493055556 connectivity = 0 ASL 1 period 1 speed 3.0599264705882354 D 300\n",
            "car_number 52 density = 0.5055555555555555 flow rate =  0.4515516493055554 connectivity = 0 ASL 1 period 1 speed 3.00108173076923 D 300\n",
            "car_number 53 density = 0.5152777777777778 flow rate =  0.4515516493055555 connectivity = 0 ASL 1 period 1 speed 2.9444575471698107 D 300\n",
            "car_number 54 density = 0.525 flow rate =  0.4515516493055557 connectivity = 0 ASL 1 period 1 speed 2.8899305555555563 D 300\n",
            "car_number 55 density = 0.5347222222222223 flow rate =  0.4515516493055556 connectivity = 0 ASL 1 period 1 speed 2.837386363636363 D 300\n",
            "car_number 56 density = 0.5444444444444445 flow rate =  0.45155164930555575 connectivity = 0 ASL 1 period 1 speed 2.786718750000001 D 300\n",
            "car_number 57 density = 0.5541666666666667 flow rate =  0.4515516493055556 connectivity = 0 ASL 1 period 1 speed 2.737828947368421 D 300\n",
            "car_number 58 density = 0.563888888888889 flow rate =  0.45155164930555575 connectivity = 0 ASL 1 period 1 speed 2.6906250000000007 D 300\n",
            "car_number 59 density = 0.5736111111111112 flow rate =  0.45155164930555575 connectivity = 0 ASL 1 period 1 speed 2.6450211864406787 D 300\n",
            "car_number 60 density = 0.5833333333333334 flow rate =  0.4515516493055556 connectivity = 0 ASL 1 period 1 speed 2.6009375 D 300\n",
            "car_number 61 density = 0.5930555555555557 flow rate =  0.45155164930555564 connectivity = 0 ASL 1 period 1 speed 2.558299180327869 D 300\n",
            "car_number 62 density = 0.6027777777777779 flow rate =  0.4515516493055555 connectivity = 0 ASL 1 period 1 speed 2.5170362903225802 D 300\n",
            "car_number 63 density = 0.6125 flow rate =  0.4399775752314815 connectivity = 0 ASL 1 period 3 speed 2.41359126984127 D 300\n",
            "car_number 64 density = 0.6222222222222222 flow rate =  0.4284035011574074 connectivity = 0 ASL 1 period 3 speed 2.3133789062499996 D 300\n",
            "car_number 65 density = 0.6319444444444444 flow rate =  0.41682942708333354 connectivity = 0 ASL 1 period 1 speed 2.216250000000001 D 300\n",
            "car_number 66 density = 0.6416666666666666 flow rate =  0.41682942708333326 connectivity = 0 ASL 1 period 1 speed 2.1826704545454545 D 300\n",
            "car_number 67 density = 0.6513888888888889 flow rate =  0.4168294270833333 connectivity = 0 ASL 1 period 1 speed 2.1500932835820894 D 300\n",
            "car_number 68 density = 0.6611111111111111 flow rate =  0.40525535300925924 connectivity = 0 ASL 1 period 3 speed 2.0596507352941176 D 300\n",
            "car_number 69 density = 0.6708333333333334 flow rate =  0.39368127893518523 connectivity = 0 ASL 1 period 3 speed 1.9718297101449276 D 300\n",
            "car_number 70 density = 0.6805555555555556 flow rate =  0.3821072048611112 connectivity = 0 ASL 1 period 3 speed 1.8865178571428576 D 300\n",
            "car_number 71 density = 0.6902777777777778 flow rate =  0.37053313078703703 connectivity = 0 ASL 1 period 3 speed 1.8036091549295774 D 300\n",
            "car_number 72 density = 0.7000000000000001 flow rate =  0.35895905671296297 connectivity = 0 ASL 1 period 3 speed 1.7230034722222218 D 300\n",
            "car_number 73 density = 0.7097222222222223 flow rate =  0.3473849826388889 connectivity = 0 ASL 1 period 3 speed 1.6446061643835617 D 300\n",
            "car_number 74 density = 0.7194444444444444 flow rate =  0.3358109085648147 connectivity = 0 ASL 1 period 3 speed 1.5683277027027023 D 300\n",
            "car_number 75 density = 0.7291666666666667 flow rate =  0.3242368344907408 connectivity = 0 ASL 1 period 3 speed 1.4940833333333334 D 300\n",
            "car_number 76 density = 0.7388888888888889 flow rate =  0.3126627604166667 connectivity = 0 ASL 1 period 3 speed 1.4217927631578948 D 300\n",
            "car_number 77 density = 0.7486111111111111 flow rate =  0.3010886863425927 connectivity = 0 ASL 1 period 3 speed 1.3513798701298707 D 300\n",
            "car_number 78 density = 0.7583333333333334 flow rate =  0.28951461226851855 connectivity = 0 ASL 1 period 3 speed 1.282772435897436 D 300\n",
            "car_number 79 density = 0.7680555555555556 flow rate =  0.2779405381944445 connectivity = 0 ASL 1 period 3 speed 1.2159018987341772 D 300\n",
            "car_number 80 density = 0.7777777777777778 flow rate =  0.26636646412037035 connectivity = 0 ASL 1 period 3 speed 1.150703125 D 300\n",
            "car_number 81 density = 0.7875000000000001 flow rate =  0.2547923900462963 connectivity = 0 ASL 1 period 3 speed 1.087114197530864 D 300\n",
            "car_number 82 density = 0.7972222222222223 flow rate =  0.24321831597222224 connectivity = 0 ASL 1 period 3 speed 1.0250762195121952 D 300\n",
            "car_number 83 density = 0.8069444444444446 flow rate =  0.23164424189814825 connectivity = 0 ASL 1 period 3 speed 0.9645331325301209 D 300\n",
            "car_number 84 density = 0.8166666666666668 flow rate =  0.2200701678240741 connectivity = 0 ASL 1 period 3 speed 0.9054315476190476 D 300\n",
            "car_number 85 density = 0.826388888888889 flow rate =  0.2084960937500001 connectivity = 0 ASL 1 period 3 speed 0.8477205882352945 D 300\n",
            "car_number 86 density = 0.8361111111111112 flow rate =  0.196922019675926 connectivity = 0 ASL 1 period 3 speed 0.7913517441860468 D 300\n",
            "car_number 87 density = 0.8458333333333334 flow rate =  0.18534794560185192 connectivity = 0 ASL 1 period 3 speed 0.7362787356321842 D 300\n",
            "car_number 88 density = 0.8555555555555556 flow rate =  0.17377387152777785 connectivity = 0 ASL 1 period 3 speed 0.6824573863636366 D 300\n",
            "car_number 89 density = 0.8652777777777778 flow rate =  0.1621997974537038 connectivity = 0 ASL 1 period 3 speed 0.6298455056179778 D 300\n",
            "car_number 90 density = 0.875 flow rate =  0.15062572337962968 connectivity = 0 ASL 1 period 3 speed 0.5784027777777779 D 300\n",
            "car_number 91 density = 0.8847222222222222 flow rate =  0.1390516493055556 connectivity = 0 ASL 1 period 3 speed 0.5280906593406596 D 300\n",
            "car_number 92 density = 0.8944444444444444 flow rate =  0.12747757523148157 connectivity = 0 ASL 1 period 3 speed 0.47887228260869596 D 300\n",
            "car_number 93 density = 0.9041666666666668 flow rate =  0.11590350115740745 connectivity = 0 ASL 1 period 3 speed 0.43071236559139797 D 300\n",
            "car_number 94 density = 0.913888888888889 flow rate =  0.1043294270833334 connectivity = 0 ASL 1 period 3 speed 0.3835771276595747 D 300\n",
            "car_number 95 density = 0.9236111111111112 flow rate =  0.09275535300925931 connectivity = 0 ASL 1 period 3 speed 0.337434210526316 D 300\n",
            "car_number 96 density = 0.9333333333333333 flow rate =  0.08118127893518523 connectivity = 0 ASL 1 period 3 speed 0.2922526041666668 D 300\n",
            "car_number 97 density = 0.9430555555555555 flow rate =  0.06960720486111112 connectivity = 0 ASL 1 period 1 speed 0.24800257731958766 D 300\n",
            "car_number 98 density = 0.9527777777777777 flow rate =  0.058033130787037035 connectivity = 0 ASL 1 period 3 speed 0.20465561224489795 D 300\n",
            "car_number 99 density = 0.9625000000000001 flow rate =  0.046459056712962986 connectivity = 0 ASL 1 period 3 speed 0.1621843434343435 D 300\n",
            "car_number 100 density = 0.9722222222222223 flow rate =  0.03488498263888891 connectivity = 0 ASL 1 period 1 speed 0.12056250000000004 D 300\n",
            "car_number 101 density = 0.9819444444444445 flow rate =  0.023250626929012343 connectivity = 0 ASL 1 period 3 speed 0.0795585808580858 D 300\n",
            "time 0:23:04.792033\n"
          ]
        }
      ]
    },
    {
      "cell_type": "code",
      "metadata": {
        "id": "yrse-N-kG792",
        "colab": {
          "base_uri": "https://localhost:8080/"
        },
        "outputId": "953f9553-ae7d-4c4f-bddf-6f7acae162cd"
      },
      "source": [
        "# when there is no signal\n",
        "R = int(0/delta_t); G = int(60/delta_t); Y = int(0/delta_t); T = G + Y + R\n",
        "vehicle_banewell_free,flow_banewell_free,density_banewell_free,period_banewell_free = nfd_calc(n1,n2,delta_n,L_int,L,D,l_n,non_connected,G,Y,R,T,tau,delta_t,t_sim,s_0,v_f,a_0,b,3,aggressive,asl_id_dy)"
      ],
      "execution_count": 239,
      "outputs": [
        {
          "output_type": "stream",
          "name": "stdout",
          "text": [
            "car_number 2 density = 0.019444444444444445 flow rate =  0.06944444444444445 connectivity = 0 ASL 1 period 1 speed 12.0 D 300\n",
            "car_number 3 density = 0.029166666666666667 flow rate =  0.10416666666666667 connectivity = 0 ASL 1 period 1 speed 12.0 D 300\n",
            "car_number 4 density = 0.03888888888888889 flow rate =  0.1388888888888889 connectivity = 0 ASL 1 period 1 speed 12.0 D 300\n",
            "car_number 5 density = 0.04861111111111111 flow rate =  0.1736111111111111 connectivity = 0 ASL 1 period 1 speed 12.0 D 300\n",
            "car_number 6 density = 0.058333333333333334 flow rate =  0.20833333333333334 connectivity = 0 ASL 1 period 1 speed 12.0 D 300\n",
            "car_number 7 density = 0.06805555555555556 flow rate =  0.24305555555555558 connectivity = 0 ASL 1 period 1 speed 12.0 D 300\n",
            "car_number 8 density = 0.07777777777777778 flow rate =  0.2777777777777778 connectivity = 0 ASL 1 period 1 speed 12.0 D 300\n",
            "car_number 9 density = 0.08750000000000001 flow rate =  0.31250000000000006 connectivity = 0 ASL 1 period 1 speed 12.0 D 300\n",
            "car_number 10 density = 0.09722222222222222 flow rate =  0.3472222222222222 connectivity = 0 ASL 1 period 1 speed 12.0 D 300\n",
            "car_number 11 density = 0.10694444444444445 flow rate =  0.3819444444444444 connectivity = 0 ASL 1 period 1 speed 12.0 D 300\n",
            "car_number 12 density = 0.11666666666666667 flow rate =  0.4166666666666667 connectivity = 0 ASL 1 period 1 speed 12.0 D 300\n",
            "car_number 13 density = 0.12638888888888888 flow rate =  0.45138888888888884 connectivity = 0 ASL 1 period 1 speed 12.0 D 300\n",
            "car_number 14 density = 0.13611111111111113 flow rate =  0.48611111111111116 connectivity = 0 ASL 1 period 1 speed 12.0 D 300\n",
            "car_number 15 density = 0.14583333333333334 flow rate =  0.5208333333333334 connectivity = 0 ASL 1 period 1 speed 12.0 D 300\n",
            "car_number 16 density = 0.15555555555555556 flow rate =  0.5555555555555556 connectivity = 0 ASL 1 period 1 speed 12.0 D 300\n",
            "car_number 17 density = 0.16527777777777777 flow rate =  0.5902777777777778 connectivity = 0 ASL 1 period 1 speed 12.0 D 300\n",
            "car_number 18 density = 0.17500000000000002 flow rate =  0.6250000000000001 connectivity = 0 ASL 1 period 1 speed 12.0 D 300\n",
            "car_number 19 density = 0.18472222222222223 flow rate =  0.6597222222222222 connectivity = 0 ASL 1 period 1 speed 12.0 D 300\n",
            "car_number 20 density = 0.19444444444444445 flow rate =  0.6944444444444444 connectivity = 0 ASL 1 period 1 speed 12.0 D 300\n",
            "car_number 21 density = 0.2041666666666667 flow rate =  0.7291666666666666 connectivity = 0 ASL 1 period 1 speed 12.0 D 300\n",
            "car_number 22 density = 0.2138888888888889 flow rate =  0.7638888888888888 connectivity = 0 ASL 1 period 1 speed 12.0 D 300\n",
            "car_number 23 density = 0.2236111111111111 flow rate =  0.798611111111111 connectivity = 0 ASL 1 period 1 speed 12.0 D 300\n",
            "car_number 24 density = 0.23333333333333334 flow rate =  0.8333333333333334 connectivity = 0 ASL 1 period 1 speed 12.0 D 300\n",
            "car_number 25 density = 0.24305555555555558 flow rate =  0.8680555555555556 connectivity = 0 ASL 1 period 1 speed 12.0 D 300\n",
            "car_number 26 density = 0.25277777777777777 flow rate =  0.9027777777777777 connectivity = 0 ASL 1 period 1 speed 12.0 D 300\n",
            "car_number 27 density = 0.2625 flow rate =  0.9374999999999999 connectivity = 0 ASL 1 period 1 speed 12.0 D 300\n",
            "car_number 28 density = 0.27222222222222225 flow rate =  0.9722222222222223 connectivity = 0 ASL 1 period 1 speed 12.0 D 300\n",
            "car_number 29 density = 0.2819444444444445 flow rate =  0.9972993827160493 connectivity = 0 ASL 1 period 1 speed 11.885057471264366 D 300\n",
            "car_number 30 density = 0.2916666666666667 flow rate =  0.9837962962962963 connectivity = 0 ASL 1 period 1 speed 11.333333333333334 D 300\n",
            "car_number 31 density = 0.30138888888888893 flow rate =  0.9702932098765432 connectivity = 0 ASL 1 period 1 speed 10.817204301075268 D 300\n",
            "car_number 32 density = 0.3111111111111111 flow rate =  0.9567901234567904 connectivity = 0 ASL 1 period 1 speed 10.333333333333336 D 300\n",
            "car_number 33 density = 0.3208333333333333 flow rate =  0.943287037037037 connectivity = 0 ASL 1 period 1 speed 9.878787878787879 D 300\n",
            "car_number 34 density = 0.33055555555555555 flow rate =  0.929783950617284 connectivity = 0 ASL 1 period 1 speed 9.450980392156863 D 300\n",
            "car_number 35 density = 0.3402777777777778 flow rate =  0.9162808641975311 connectivity = 0 ASL 1 period 1 speed 9.04761904761905 D 300\n",
            "car_number 36 density = 0.35000000000000003 flow rate =  0.902777777777778 connectivity = 0 ASL 1 period 1 speed 8.666666666666668 D 300\n",
            "car_number 37 density = 0.3597222222222222 flow rate =  0.8892746913580248 connectivity = 0 ASL 1 period 1 speed 8.306306306306308 D 300\n",
            "car_number 38 density = 0.36944444444444446 flow rate =  0.8757716049382717 connectivity = 0 ASL 1 period 1 speed 7.964912280701755 D 300\n",
            "car_number 39 density = 0.3791666666666667 flow rate =  0.8622685185185186 connectivity = 0 ASL 1 period 1 speed 7.641025641025641 D 300\n",
            "car_number 40 density = 0.3888888888888889 flow rate =  0.8487654320987655 connectivity = 0 ASL 1 period 1 speed 7.333333333333334 D 300\n",
            "car_number 41 density = 0.39861111111111114 flow rate =  0.8352623456790126 connectivity = 0 ASL 1 period 1 speed 7.040650406504067 D 300\n",
            "car_number 42 density = 0.4083333333333334 flow rate =  0.8217592592592592 connectivity = 0 ASL 1 period 1 speed 6.761904761904761 D 300\n",
            "car_number 43 density = 0.4180555555555556 flow rate =  0.8082561728395062 connectivity = 0 ASL 1 period 1 speed 6.496124031007752 D 300\n",
            "car_number 44 density = 0.4277777777777778 flow rate =  0.794753086419753 connectivity = 0 ASL 1 period 1 speed 6.242424242424241 D 300\n",
            "car_number 45 density = 0.4375 flow rate =  0.7812500000000001 connectivity = 0 ASL 1 period 1 speed 6.000000000000001 D 300\n",
            "car_number 46 density = 0.4472222222222222 flow rate =  0.7677469135802468 connectivity = 0 ASL 1 period 1 speed 5.768115942028985 D 300\n",
            "car_number 47 density = 0.4569444444444445 flow rate =  0.7542438271604938 connectivity = 0 ASL 1 period 1 speed 5.546099290780141 D 300\n",
            "car_number 48 density = 0.4666666666666667 flow rate =  0.7407407407407409 connectivity = 0 ASL 1 period 1 speed 5.333333333333335 D 300\n",
            "car_number 49 density = 0.47638888888888886 flow rate =  0.7272376543209879 connectivity = 0 ASL 1 period 1 speed 5.129251700680274 D 300\n",
            "car_number 50 density = 0.48611111111111116 flow rate =  0.7137345679012347 connectivity = 0 ASL 1 period 1 speed 4.933333333333334 D 300\n",
            "car_number 51 density = 0.49583333333333335 flow rate =  0.7002314814814817 connectivity = 0 ASL 1 period 1 speed 4.745098039215687 D 300\n",
            "car_number 52 density = 0.5055555555555555 flow rate =  0.6867283950617283 connectivity = 0 ASL 1 period 1 speed 4.564102564102564 D 300\n",
            "car_number 53 density = 0.5152777777777778 flow rate =  0.6732253086419756 connectivity = 0 ASL 1 period 1 speed 4.389937106918241 D 300\n",
            "car_number 54 density = 0.525 flow rate =  0.6597222222222222 connectivity = 0 ASL 1 period 1 speed 4.222222222222222 D 300\n",
            "car_number 55 density = 0.5347222222222223 flow rate =  0.646219135802469 connectivity = 0 ASL 1 period 1 speed 4.06060606060606 D 300\n",
            "car_number 56 density = 0.5444444444444445 flow rate =  0.6327160493827162 connectivity = 0 ASL 1 period 1 speed 3.904761904761905 D 300\n",
            "car_number 57 density = 0.5541666666666667 flow rate =  0.6192129629629629 connectivity = 0 ASL 1 period 1 speed 3.7543859649122804 D 300\n",
            "car_number 58 density = 0.563888888888889 flow rate =  0.6057098765432103 connectivity = 0 ASL 1 period 1 speed 3.609195402298852 D 300\n",
            "car_number 59 density = 0.5736111111111112 flow rate =  0.5922067901234568 connectivity = 0 ASL 1 period 1 speed 3.468926553672316 D 300\n",
            "car_number 60 density = 0.5833333333333334 flow rate =  0.5787037037037036 connectivity = 0 ASL 1 period 1 speed 3.333333333333333 D 300\n",
            "car_number 61 density = 0.5930555555555557 flow rate =  0.5652006172839504 connectivity = 0 ASL 1 period 1 speed 3.2021857923497254 D 300\n",
            "car_number 62 density = 0.6027777777777779 flow rate =  0.5516975308641973 connectivity = 0 ASL 1 period 1 speed 3.0752688172042992 D 300\n",
            "car_number 63 density = 0.6125 flow rate =  0.5381944444444445 connectivity = 0 ASL 1 period 1 speed 2.9523809523809526 D 300\n",
            "car_number 64 density = 0.6222222222222222 flow rate =  0.5246913580246916 connectivity = 0 ASL 1 period 1 speed 2.8333333333333344 D 300\n",
            "car_number 65 density = 0.6319444444444444 flow rate =  0.5111882716049382 connectivity = 0 ASL 1 period 1 speed 2.717948717948717 D 300\n",
            "car_number 66 density = 0.6416666666666666 flow rate =  0.4976851851851854 connectivity = 0 ASL 1 period 1 speed 2.6060606060606073 D 300\n",
            "car_number 67 density = 0.6513888888888889 flow rate =  0.48418209876543183 connectivity = 0 ASL 1 period 1 speed 2.497512437810944 D 300\n",
            "car_number 68 density = 0.6611111111111111 flow rate =  0.4706790123456787 connectivity = 0 ASL 1 period 1 speed 2.3921568627450966 D 300\n",
            "car_number 69 density = 0.6708333333333334 flow rate =  0.45717592592592604 connectivity = 0 ASL 1 period 1 speed 2.2898550724637685 D 300\n",
            "car_number 70 density = 0.6805555555555556 flow rate =  0.4436728395061728 connectivity = 0 ASL 1 period 1 speed 2.1904761904761902 D 300\n",
            "car_number 71 density = 0.6902777777777778 flow rate =  0.43016975308641986 connectivity = 0 ASL 1 period 1 speed 2.093896713615024 D 300\n",
            "car_number 72 density = 0.7000000000000001 flow rate =  0.4166666666666666 connectivity = 0 ASL 1 period 1 speed 1.9999999999999996 D 300\n",
            "car_number 73 density = 0.7097222222222223 flow rate =  0.40316358024691357 connectivity = 0 ASL 1 period 1 speed 1.9086757990867578 D 300\n",
            "car_number 74 density = 0.7194444444444444 flow rate =  0.3896604938271602 connectivity = 0 ASL 1 period 1 speed 1.8198198198198186 D 300\n",
            "car_number 75 density = 0.7291666666666667 flow rate =  0.3761574074074075 connectivity = 0 ASL 1 period 1 speed 1.7333333333333334 D 300\n",
            "car_number 76 density = 0.7388888888888889 flow rate =  0.3626543209876546 connectivity = 0 ASL 1 period 1 speed 1.6491228070175452 D 300\n",
            "car_number 77 density = 0.7486111111111111 flow rate =  0.34915123456790104 connectivity = 0 ASL 1 period 1 speed 1.5670995670995662 D 300\n",
            "car_number 78 density = 0.7583333333333334 flow rate =  0.33564814814814825 connectivity = 0 ASL 1 period 1 speed 1.4871794871794874 D 300\n",
            "car_number 79 density = 0.7680555555555556 flow rate =  0.32214506172839497 connectivity = 0 ASL 1 period 1 speed 1.4092827004219406 D 300\n",
            "car_number 80 density = 0.7777777777777778 flow rate =  0.308641975308642 connectivity = 0 ASL 1 period 1 speed 1.3333333333333335 D 300\n",
            "car_number 81 density = 0.7875000000000001 flow rate =  0.2951388888888888 connectivity = 0 ASL 1 period 1 speed 1.2592592592592586 D 300\n",
            "car_number 82 density = 0.7972222222222223 flow rate =  0.28163580246913594 connectivity = 0 ASL 1 period 1 speed 1.1869918699186996 D 300\n",
            "car_number 83 density = 0.8069444444444446 flow rate =  0.26813271604938244 connectivity = 0 ASL 1 period 1 speed 1.116465863453814 D 300\n",
            "car_number 84 density = 0.8166666666666668 flow rate =  0.25462962962962987 connectivity = 0 ASL 1 period 1 speed 1.0476190476190486 D 300\n",
            "car_number 85 density = 0.826388888888889 flow rate =  0.24112654320987656 connectivity = 0 ASL 1 period 1 speed 0.9803921568627452 D 300\n",
            "car_number 86 density = 0.8361111111111112 flow rate =  0.22762345679012355 connectivity = 0 ASL 1 period 1 speed 0.914728682170543 D 300\n",
            "car_number 87 density = 0.8458333333333334 flow rate =  0.2141203703703703 connectivity = 0 ASL 1 period 1 speed 0.8505747126436778 D 300\n",
            "car_number 88 density = 0.8555555555555556 flow rate =  0.2006172839506173 connectivity = 0 ASL 1 period 1 speed 0.787878787878788 D 300\n",
            "car_number 89 density = 0.8652777777777778 flow rate =  0.18711419753086447 connectivity = 0 ASL 1 period 1 speed 0.7265917602996265 D 300\n",
            "car_number 90 density = 0.875 flow rate =  0.17361111111111102 connectivity = 0 ASL 1 period 1 speed 0.6666666666666663 D 300\n",
            "car_number 91 density = 0.8847222222222222 flow rate =  0.160108024691358 connectivity = 0 ASL 1 period 1 speed 0.6080586080586079 D 300\n",
            "car_number 92 density = 0.8944444444444444 flow rate =  0.146604938271605 connectivity = 0 ASL 1 period 1 speed 0.5507246376811598 D 300\n",
            "car_number 93 density = 0.9041666666666668 flow rate =  0.13310172111531784 connectivity = 0 ASL 1 period 50 speed 0.4946231700801488 D 300\n",
            "car_number 94 density = 0.913888888888889 flow rate =  0.11959876543209884 connectivity = 0 ASL 1 period 1 speed 0.43971631205673783 D 300\n",
            "car_number 95 density = 0.9236111111111112 flow rate =  0.10609567901234558 connectivity = 0 ASL 1 period 1 speed 0.38596491228070134 D 300\n",
            "car_number 96 density = 0.9333333333333333 flow rate =  0.0925925925925925 connectivity = 0 ASL 1 period 1 speed 0.333333333333333 D 300\n",
            "car_number 97 density = 0.9430555555555555 flow rate =  0.07908950617283947 connectivity = 0 ASL 1 period 1 speed 0.28178694158075585 D 300\n",
            "car_number 98 density = 0.9527777777777777 flow rate =  0.06558641975308643 connectivity = 0 ASL 1 period 1 speed 0.23129251700680276 D 300\n",
            "car_number 99 density = 0.9625000000000001 flow rate =  0.05208333333333338 connectivity = 0 ASL 1 period 1 speed 0.18181818181818193 D 300\n",
            "car_number 100 density = 0.9722222222222223 flow rate =  0.03858024691358021 connectivity = 0 ASL 1 period 1 speed 0.1333333333333332 D 300\n",
            "car_number 101 density = 0.9819444444444445 flow rate =  0.025077160493827164 connectivity = 0 ASL 1 period 1 speed 0.08580858085808582 D 300\n"
          ]
        }
      ]
    },
    {
      "cell_type": "code",
      "metadata": {
        "id": "wXhP8MCyFIJM",
        "colab": {
          "base_uri": "https://localhost:8080/",
          "height": 363
        },
        "outputId": "7e9edad3-4004-473d-8d0b-dc6f8feaec5c"
      },
      "source": [
        "fig = plt.figure(figsize=(7,10),num = 1,dpi = 80)\n",
        "\n",
        "ax2 = fig.add_subplot(2,1,1)\n",
        "#ax2.set_title(\"Trajectories,penetrate rate: %x\" %all_connected)\n",
        "ax2.set_xlabel(\"$Density \\ (k/k_j)$\")\n",
        "ax2.set_ylabel(\"$Flow\\ rate \\ (q/C)$\")\n",
        "#plt.xlim(0,p+0.2)\n",
        "#plt.xticks(np.arange(0,30000,30))\n",
        "ax2.scatter(density_banewell_free,flow_banewell_free, marker = 'o', color = 'red', s = 12, label = 'no signal')\n",
        "ax2.scatter(density_banewell_non,flow_banewell_non, marker = '>', color = 'b', s = 12, label = '$\\pi = 0.5$, without ASL')\n",
        "ax2.scatter(density_banewell_sa,flow_banewell_sa, marker = '+', color = 'm', s = 12, label = '$\\pi = 0.5$, with static ASL')\n",
        "ax2.scatter(density_banewell_dy,flow_banewell_dy, marker = 'D', color = 'g', s = 12, label = '$\\pi = 0.5$, with dynamic ASL')\n",
        "ax2.grid()\n",
        "ax2.legend()"
      ],
      "execution_count": 240,
      "outputs": [
        {
          "output_type": "execute_result",
          "data": {
            "text/plain": [
              "<matplotlib.legend.Legend at 0x7fc530be2c90>"
            ]
          },
          "metadata": {},
          "execution_count": 240
        },
        {
          "output_type": "display_data",
          "data": {
            "text/plain": [
              "<Figure size 560x800 with 1 Axes>"
            ],
            "image/png": "[encoded data removed]"
          },
          "metadata": {
            "needs_background": "light"
          }
        }
      ]
    },
    {
      "cell_type": "markdown",
      "metadata": {
        "id": "sMjKwL6isWly"
      },
      "source": [
        "# Fuel consumption\n",
        "The model has the following form:\n",
        "$$\n",
        "MOE_e(t,n)=\n",
        "\\begin{cases}\n",
        "e^{\\sum_{i=0}^3\\sum_{j=0}^3 L_{i,j}^e\\times v_n(t)^i \\times a_n(t)^j}, &if\\ a_n(t)\\geq 0\\\\\n",
        "e^{\\sum_{i=0}^3\\sum_{j=0}^3 F_{i,j}^e\\times v_n(t)^i \\times a_n(t)^j}, &if\\ a_n(t) < 0\n",
        "\\end{cases} (21)\n",
        "$$\n",
        "where $MOE_e(t,n)$ is instantaneous fuel consumption ($l/s$) of vehicle $n$ at time $t$, $L_{i,j}^e$ and $F_{i,j}^e$ are regression model coefficients for MOE `$e$' at speed power `$i$' and acceleration power `$j$', $v_n(t)$ is instantaneous vehicle speed $(km/h)$, and $a_n(t)$ is instantaneous vehicle acceleration ($km/h/s$). <br>\n",
        "As mentioned above, all the vehicles have the same individual periods and cover the same distance during one individual period in stationary states. The speed profiles of any two vehicles in one individual period can coincide with each other. Therefore, we can use average fuel consumption of one vehicle (the first vehicle) to move one unit distance in one individual period to represent the fuel consumption level. Sometimes periods of individuals can be very large. Considering the computation cost, we choose 50 cycle lengths as the upper boundary of individual periods in this study. Because $50$ cycle lengths is a long enough time which only results in small and acceptable error. It means that in this study, if individual periods are less than 50 cycle lengths, we use values in one individual period to calculate the average fuel consumption. Else if periods are larger than 50 cycle lengths, we calculate the average fuel consumption during these 50 cycle lengths.<br>\n",
        "The total fuel consumption  of the first vehicle in one period is the sum of the instantaneous fuel consumption.\n",
        "$$\n",
        "V_1 = \\sum_{t_{step}=\\frac{\\sigma-z}{\\Delta t}}^{t_{step}=\\frac{\\sigma}{\\Delta t}}MOE_e(t_{step} \\Delta t,1)\\Delta t, (22)\n",
        "$$\n",
        "The corresponding distance the vehicle has covered:\n",
        "$$\n",
        "d_1 = x(\\sigma)-x_1(\\sigma-z), (23)\n",
        "$$\n",
        "$$\n",
        "z=\n",
        "\\begin{cases}\n",
        "T_1(N)B, &if\\ T_1(N) \\leq 50\\\\\n",
        "50B, &if\\ T_1(N) > 50\n",
        "\\end{cases} \n",
        "$$\n",
        "where $\\sigma$ is the simulation duration, $T_1(N)$ is the individual period of vehicle $1$ (its unit is cycle length $B$), $N$ is the total number of vehicles in the system (it can represent congestion levels), $\\Delta t$ is the time-step size, $t_{step}$ is time in the unit of time step-size. In order to move a certain distance $d(1)$, the fuel we need is $V(1)$. Thus the quotient of the two represents the fuel required for a car to travel per unit distance.\n",
        "$$\n",
        "\\bar V_1 = \\frac{V_1}{d_1} (36)\n",
        "$$\n",
        "\n",
        "\n",
        "\n",
        "\n",
        "\n"
      ]
    },
    {
      "cell_type": "code",
      "source": [
        "def fuel_consumption(n1,n2,delta_n,L,D,connectivity,G,Y,R,T,tau,t_sim,delta_t,l_n,s_0,v_f,a_0,b,model_id,agg,asl_id):\n",
        "#(n1,n2,loop_start,connectivity,green,cycle_length,yellow,all_red,time_gap,time_step,vehicle_length,s0,freeflow_speed,bounded_acc,bounded_dec,agg,asl_id,model_id,num_timestep):\n",
        "    rho = l_n + s_0; w = rho/(tau); num_t = int(t_sim/delta_t);\n",
        "    fuel = []; density = []; p1 = 3.6 #m/s to km/h; k = 2 #gap\n",
        "    for n in range(n1,n2,1):\n",
        "        i = n - 1; density.append((n*delta_n/L)/(1/rho)); final_fuel = 0; total_fuel = 0\n",
        "        vehicle_state = vehicle_update(L_int,L,D,l_n,s_0,t_sim,T,G,Y,R,delta_t,tau,v_f,a_0,b,n,delta_n,model_id,connectivity,agg,asl_id)\n",
        "        period,individual_average = period_individual(n,delta_n,D,connectivity,G,Y,R,T,vehicle_state,model_id,num_t) #individual period correspongding to that density            \n",
        "        for t in range(int(num_t-1 - period[i] * T), num_t-1):#total fuel consumption for one vehicle\n",
        "            if vehicle_state[i][t,3] >= 0:   \n",
        "                fuel_comsume_sec = math.exp( -7.73452 + 0.22946 * vehicle_state[i][t,3]*p1 - 0.00561 * (vehicle_state[i][t,3]*p1)**2 + 0.000097730 * (vehicle_state[i][t,3]*p1)**3\\\n",
        "                                + 0.02799*vehicle_state[i][t,2]*p1 + 0.0068*(vehicle_state[i][t,2]*p1)*vehicle_state[i][t,3]*p1 - 0.00077221*(vehicle_state[i][t,2]*p1)*(vehicle_state[i][t,3]*p1)**2 + 0.00000838*(vehicle_state[i][t,2]*p1)*(vehicle_state[i][t+1,3]*p1)**3\\\n",
        "                                - 0.0002228*(vehicle_state[i][t,2]*p1)**2 - 0.00004402*(vehicle_state[i][t,2]*p1)**2*vehicle_state[i][t,3]*p1 + 7.9*10**(-7)*(vehicle_state[i][t,2]*p1)**2*(vehicle_state[i][t+1,3]*p1)**2 + 8.17*(10)**(-7)*(vehicle_state[i][t,2]*p1)**2*(vehicle_state[i][t+1,3]*p1)**3\\\n",
        "                                +1.09*(10)**(-6)*(vehicle_state[i][t,2]*p1)**3 + 4.8*(10)**(-8)*(vehicle_state[i][t,2]*p1)**3*vehicle_state[i][t,3]*p1 + 3.27*10**(-8)*(vehicle_state[i][t,2]*p1)**3*(vehicle_state[i][t,3]*p1)**2 + (-7.79)*10**(-9)*(vehicle_state[i][t,2]*p1)**3*(vehicle_state[i][t,3]*p1)**3)\n",
        "\n",
        "            if vehicle_state[i][t,3] < 0:\n",
        "                fuel_comsume_sec = math.exp( -7.73452 - 0.01799 * vehicle_state[i][t,3]*p1 - 0.00427 * (vehicle_state[i][t,3]*p1)**2 + 0.000188290 * (vehicle_state[i][t,3]*p1)**3\\\n",
        "                                +0.02804*vehicle_state[i][t,2]*p1 + 0.00772*(vehicle_state[i][t,2]*p1)*vehicle_state[i][t,3]*p1 + 0.00083744*(vehicle_state[i][t,2]*p1)*(vehicle_state[i][t,3]*p1)**2 - 0.00003387*(vehicle_state[i][t,2]*p1)*(vehicle_state[i][t,3]*p1)**3\\\n",
        "                                - 0.00021988*(vehicle_state[i][t,2]*p1)**2 - 0.00005219*(vehicle_state[i][t,2]*p1)**2*vehicle_state[i][t,3]*p1 - 7.44*10**(-6)*(vehicle_state[i][t,2]*p1)**2*(vehicle_state[i][t,3]*p1)**2 + 2.77*(10)**(-7)*(vehicle_state[i][t,2]*p1)**2*(vehicle_state[i][t,3]*p1)**3\\\n",
        "                                +1.08*(10)**(-6)*(vehicle_state[i][t,2]*p1)**3 + 2.47*(10)**(-7)*(vehicle_state[i][t,2]*p1)**3*vehicle_state[i][t,3]*p1 + 4.87*10**(-8)*(vehicle_state[i][t,2]*p1)**3*(vehicle_state[i][t,3]*p1)**2 + (3.79)*10**(-10)*(vehicle_state[i][t,2]*p1)**3*(vehicle_state[i][t,3]*p1)**3)\n",
        "            total_fuel += delta_t * fuel_comsume_sec #Eq(36)       \n",
        "        car_distance = sum(vehicle_state[i][int(num_t-1 - period[i]*T):int(num_t-1),2])*delta_t #m calculate the distance it has run\n",
        "        fuel_per_m = total_fuel/car_distance; fuel.append(fuel_per_m)  #fuel consumption per meter for one car        \n",
        "        print(\"car_number\",n*delta_n,\"density\",(n*delta_n/L)/(1/rho),\"final_fuel\",fuel[-1],\"period\",period[i],\"MPR\",connectivity,\"ASL\",asl_id, \"ASL area\", D)\n",
        "    return density,fuel,vehicle_state,individual_average"
      ],
      "metadata": {
        "id": "bbnXhzrAEC4i"
      },
      "execution_count": 13,
      "outputs": []
    },
    {
      "cell_type": "code",
      "metadata": {
        "id": "YhBeypUtbKTL"
      },
      "source": [
        "def improvement_rate(n1,n2,delta_n,L,D,G,Y,R,T,tau,t_sim,delta_t,l_n,s_0,v_f,a_0,b,model_id,agg,asl_id):\n",
        "    all_connected = 1; non_connected = 0; ASL = 0; extend_ASL = 1 #connectivity and which ASL algorithm to apply\n",
        "    improvement_rate1 = []; improvement_rate2 = []\n",
        "    #density_con, fuel_con, vehicle_state_con, individual_average_con = fuel_consumption(n1,n2,delta_n,L,D,all_connected,G,Y,R,T,tau,t_sim,delta_t,l_n,s_0,v_f,a_0,b,model_id,agg,ASL)\n",
        "    density_dy, fuel_dy, vehicle_state_dy, individual_average_dy = fuel_consumption(n1,n2,delta_n,L,D,all_connected,G,Y,R,T,tau,t_sim,delta_t,l_n,s_0,v_f,a_0,b,model_id,agg,extend_ASL)\n",
        "    density_non, fuel_non, vehicle_state_non, individual_average_non = fuel_consumption(n1,n2,delta_n,L,D,non_connected,G,Y,R,T,tau,t_sim,delta_t,l_n,s_0,v_f,a_0,b,model_id,agg,extend_ASL)\n",
        "    for i in range(len(density_non)):\n",
        "        if fuel_non[i] > 50: fuel_non[i] = 50 #if error is too large, set 100 to be the upper boundary\n",
        "        #if fuel_con[i] > 50: fuel_con[i] = 50\n",
        "        if fuel_dy[i] > 50: fuel_dy[i] = 50\n",
        "        #improvement_rate1.append((fuel_non[i]-fuel_con[i])/(fuel_non[i]*0.01))\n",
        "        #improvement_rate1.append((fuel_non[i]-fuel_con[i])/(fuel_non[i]*0.01))\n",
        "        improvement_rate2.append((fuel_non[i]-fuel_dy[i])/(fuel_non[i]*0.01))\n",
        "        print(\"density\",density_non[i],\"improvement\",improvement_rate2[i])\n",
        "    return density_non,improvement_rate2,fuel_non,fuel_dy"
      ],
      "execution_count": 14,
      "outputs": []
    },
    {
      "cell_type": "code",
      "metadata": {
        "colab": {
          "base_uri": "https://localhost:8080/"
        },
        "id": "zxElUyB4dHEl",
        "outputId": "f8b3a9e9-1bfe-44ac-80a9-f049cf73c0e8"
      },
      "source": [
        "tau = 1.5; delta_t = 1.5; t_sim = 7200; num_t = int(t_sim/delta_t)\n",
        "R = int(30/delta_t); G = int(24/delta_t); Y = int(6/delta_t); T = G + Y + R\n",
        "v_f = 12; a_0 = 1.5; b = 3;\n",
        "l_n = 5; s_0 = 2; rho = l_n + s_0; L = T * v_f * delta_t;  w = rho/tau; D = 300 #m\n",
        "delta_n = 1\n",
        "n1 = 2; n2 = 101; model_id =  3\n",
        "non_connected = 0; all_connected = 1; aggressive = 0; asl_id = 1\n",
        "\n",
        "density_non,improvement2,fuel_dy,fuel_non = improvement_rate(n1,n2,delta_n,L,D,G,Y,R,T,tau,t_sim,delta_t,l_n,s_0,v_f,a_0,b,model_id,aggressive,asl_id)\n",
        "    "
      ],
      "execution_count": 15,
      "outputs": [
        {
          "output_type": "stream",
          "name": "stdout",
          "text": [
            "car_number 2 density 0.019444444444444445 final_fuel 8.799950111340409e-05 period [1.] MPR 1 ASL 1 ASL area 300\n",
            "car_number 3 density 0.029166666666666667 final_fuel 8.799950111340409e-05 period [1.] MPR 1 ASL 1 ASL area 300\n",
            "car_number 4 density 0.03888888888888889 final_fuel 8.799950111340409e-05 period [1.] MPR 1 ASL 1 ASL area 300\n",
            "car_number 5 density 0.04861111111111111 final_fuel 8.799950111340409e-05 period [1.] MPR 1 ASL 1 ASL area 300\n",
            "car_number 6 density 0.058333333333333334 final_fuel 8.799950111340409e-05 period [1.] MPR 1 ASL 1 ASL area 300\n",
            "car_number 7 density 0.06805555555555556 final_fuel 8.799950111340409e-05 period [1.] MPR 1 ASL 1 ASL area 300\n",
            "car_number 8 density 0.07777777777777778 final_fuel 8.799950111340409e-05 period [1.] MPR 1 ASL 1 ASL area 300\n",
            "car_number 9 density 0.08750000000000001 final_fuel 8.799950111340409e-05 period [1.] MPR 1 ASL 1 ASL area 300\n",
            "car_number 10 density 0.09722222222222222 final_fuel 8.799950111340409e-05 period [1.] MPR 1 ASL 1 ASL area 300\n",
            "car_number 11 density 0.10694444444444445 final_fuel 8.799950111340409e-05 period [1.] MPR 1 ASL 1 ASL area 300\n",
            "car_number 12 density 0.11666666666666667 final_fuel 8.799950111340409e-05 period [1.] MPR 1 ASL 1 ASL area 300\n",
            "car_number 13 density 0.12638888888888888 final_fuel 8.799950111340409e-05 period [1.] MPR 1 ASL 1 ASL area 300\n",
            "car_number 14 density 0.13611111111111113 final_fuel 0.00010177885109977676 period [14.] MPR 1 ASL 1 ASL area 300\n",
            "car_number 15 density 0.14583333333333334 final_fuel 0.00010703553303662117 period [30.] MPR 1 ASL 1 ASL area 300\n",
            "car_number 16 density 0.15555555555555556 final_fuel 0.00011147594922663212 period [16.] MPR 1 ASL 1 ASL area 300\n",
            "car_number 17 density 0.16527777777777777 final_fuel 0.00012197597070949572 period [17.] MPR 1 ASL 1 ASL area 300\n",
            "car_number 18 density 0.17500000000000002 final_fuel 0.00012570778290014073 period [3.] MPR 1 ASL 1 ASL area 300\n",
            "car_number 19 density 0.18472222222222223 final_fuel 0.00012981749435960542 period [38.] MPR 1 ASL 1 ASL area 300\n",
            "car_number 20 density 0.19444444444444445 final_fuel 0.00013389677817627978 period [5.] MPR 1 ASL 1 ASL area 300\n",
            "car_number 21 density 0.2041666666666667 final_fuel 0.00013702192541045598 period [7.] MPR 1 ASL 1 ASL area 300\n",
            "car_number 22 density 0.2138888888888889 final_fuel 0.00014029788224580457 period [22.] MPR 1 ASL 1 ASL area 300\n",
            "car_number 23 density 0.2236111111111111 final_fuel 0.000143281054147378 period [23.] MPR 1 ASL 1 ASL area 300\n",
            "car_number 24 density 0.23333333333333334 final_fuel 0.0001460733237776585 period [2.] MPR 1 ASL 1 ASL area 300\n",
            "car_number 25 density 0.24305555555555558 final_fuel 0.00014959147921391383 period [25.] MPR 1 ASL 1 ASL area 300\n",
            "car_number 26 density 0.25277777777777777 final_fuel 0.00015286206661205975 period [13.] MPR 1 ASL 1 ASL area 300\n",
            "car_number 27 density 0.2625 final_fuel 0.00015571672226687798 period [9.] MPR 1 ASL 1 ASL area 300\n",
            "car_number 28 density 0.27222222222222225 final_fuel 0.00015860508208361243 period [7.] MPR 1 ASL 1 ASL area 300\n",
            "car_number 29 density 0.2819444444444445 final_fuel 0.00016198782948289399 period [29.] MPR 1 ASL 1 ASL area 300\n",
            "car_number 30 density 0.2916666666666667 final_fuel 0.00016463197840870577 period [5.] MPR 1 ASL 1 ASL area 300\n",
            "car_number 31 density 0.30138888888888893 final_fuel 0.00016794346926903234 period [31.] MPR 1 ASL 1 ASL area 300\n",
            "car_number 32 density 0.3111111111111111 final_fuel 0.000170933568414348 period [8.] MPR 1 ASL 1 ASL area 300\n",
            "car_number 33 density 0.3208333333333333 final_fuel 0.00017485436682455308 period [11.] MPR 1 ASL 1 ASL area 300\n",
            "car_number 34 density 0.33055555555555555 final_fuel 0.00017662020348259826 period [17.] MPR 1 ASL 1 ASL area 300\n",
            "car_number 35 density 0.3402777777777778 final_fuel 0.00018014325115141042 period [35.] MPR 1 ASL 1 ASL area 300\n",
            "car_number 36 density 0.35000000000000003 final_fuel 0.00018220650263537963 period [3.] MPR 1 ASL 1 ASL area 300\n",
            "car_number 37 density 0.3597222222222222 final_fuel 0.00018562228234732006 period [37.] MPR 1 ASL 1 ASL area 300\n",
            "car_number 38 density 0.36944444444444446 final_fuel 0.0001877979656800923 period [19.] MPR 1 ASL 1 ASL area 300\n",
            "car_number 39 density 0.3791666666666667 final_fuel 0.00019101054145618181 period [13.] MPR 1 ASL 1 ASL area 300\n",
            "car_number 40 density 0.3888888888888889 final_fuel 0.00019467476744978565 period [10.] MPR 1 ASL 1 ASL area 300\n",
            "car_number 41 density 0.39861111111111114 final_fuel 0.0001967942786317511 period [41.] MPR 1 ASL 1 ASL area 300\n",
            "car_number 42 density 0.4083333333333334 final_fuel 0.0001999703647816423 period [7.] MPR 1 ASL 1 ASL area 300\n",
            "car_number 43 density 0.4180555555555556 final_fuel 0.00020359542610563265 period [43.] MPR 1 ASL 1 ASL area 300\n",
            "car_number 44 density 0.4277777777777778 final_fuel 0.00020576240863971914 period [11.] MPR 1 ASL 1 ASL area 300\n",
            "car_number 45 density 0.4375 final_fuel 0.00020890690653406613 period [15.] MPR 1 ASL 1 ASL area 300\n",
            "car_number 46 density 0.4472222222222222 final_fuel 0.00021234892316709646 period [23.] MPR 1 ASL 1 ASL area 300\n",
            "car_number 47 density 0.4569444444444445 final_fuel 0.0002147719428914261 period [47.] MPR 1 ASL 1 ASL area 300\n",
            "car_number 48 density 0.4666666666666667 final_fuel 0.00021801752377060527 period [4.] MPR 1 ASL 1 ASL area 300\n",
            "car_number 49 density 0.47638888888888886 final_fuel 0.00022186259048310883 period [49.] MPR 1 ASL 1 ASL area 300\n",
            "car_number 50 density 0.48611111111111116 final_fuel 0.00022404139380269701 period [25.] MPR 1 ASL 1 ASL area 300\n",
            "car_number 51 density 0.49583333333333335 final_fuel 0.0002273347552783484 period [17.] MPR 1 ASL 1 ASL area 300\n",
            "car_number 52 density 0.5055555555555555 final_fuel 0.00023103236487835463 period [13.] MPR 1 ASL 1 ASL area 300\n",
            "car_number 53 density 0.5152777777777778 final_fuel 0.00023152132561285487 period [50.] MPR 1 ASL 1 ASL area 300\n",
            "car_number 54 density 0.525 final_fuel 0.00023628298317201457 period [9.] MPR 1 ASL 1 ASL area 300\n",
            "car_number 55 density 0.5347222222222223 final_fuel 0.0002397932225147996 period [50.] MPR 1 ASL 1 ASL area 300\n",
            "car_number 56 density 0.5444444444444445 final_fuel 0.0002420573483914902 period [14.] MPR 1 ASL 1 ASL area 300\n",
            "car_number 57 density 0.5541666666666667 final_fuel 0.0002452606452980112 period [19.] MPR 1 ASL 1 ASL area 300\n",
            "car_number 58 density 0.563888888888889 final_fuel 0.0002489035892010045 period [29.] MPR 1 ASL 1 ASL area 300\n",
            "car_number 59 density 0.5736111111111112 final_fuel 0.00025125794879640544 period [50.] MPR 1 ASL 1 ASL area 300\n",
            "car_number 60 density 0.5833333333333334 final_fuel 0.00025420505798132885 period [5.] MPR 1 ASL 1 ASL area 300\n",
            "car_number 61 density 0.5930555555555557 final_fuel 0.0002576232157872786 period [50.] MPR 1 ASL 1 ASL area 300\n",
            "car_number 62 density 0.6027777777777779 final_fuel 0.00026000825219737116 period [31.] MPR 1 ASL 1 ASL area 300\n",
            "car_number 63 density 0.6125 final_fuel 0.0002630365133094306 period [21.] MPR 1 ASL 1 ASL area 300\n",
            "car_number 64 density 0.6222222222222222 final_fuel 0.00026699487671055685 period [16.] MPR 1 ASL 1 ASL area 300\n",
            "car_number 65 density 0.6319444444444444 final_fuel 0.00026611134626990465 period [50.] MPR 1 ASL 1 ASL area 300\n",
            "car_number 66 density 0.6416666666666666 final_fuel 0.00026807637775884993 period [11.] MPR 1 ASL 1 ASL area 300\n",
            "car_number 67 density 0.6513888888888889 final_fuel 0.0002798693918979512 period [50.] MPR 1 ASL 1 ASL area 300\n",
            "car_number 68 density 0.6611111111111111 final_fuel 0.0002907899137343335 period [50.] MPR 1 ASL 1 ASL area 300\n",
            "car_number 69 density 0.6708333333333334 final_fuel 0.00030247356434425746 period [50.] MPR 1 ASL 1 ASL area 300\n",
            "car_number 70 density 0.6805555555555556 final_fuel 0.00031138302928680636 period [50.] MPR 1 ASL 1 ASL area 300\n",
            "car_number 71 density 0.6902777777777778 final_fuel 0.0003187877800374644 period [50.] MPR 1 ASL 1 ASL area 300\n",
            "car_number 72 density 0.7000000000000001 final_fuel 0.00032846729768386013 period [7.] MPR 1 ASL 1 ASL area 300\n",
            "car_number 73 density 0.7097222222222223 final_fuel 0.0003425391329372852 period [50.] MPR 1 ASL 1 ASL area 300\n",
            "car_number 74 density 0.7194444444444444 final_fuel 0.00035722027597889794 period [50.] MPR 1 ASL 1 ASL area 300\n",
            "car_number 75 density 0.7291666666666667 final_fuel 0.00037051290977017194 period [50.] MPR 1 ASL 1 ASL area 300\n",
            "car_number 76 density 0.7388888888888889 final_fuel 0.0003889915553503453 period [50.] MPR 1 ASL 1 ASL area 300\n",
            "car_number 77 density 0.7486111111111111 final_fuel 0.00040534647558316454 period [50.] MPR 1 ASL 1 ASL area 300\n",
            "car_number 78 density 0.7583333333333334 final_fuel 0.000420174677238638 period [50.] MPR 1 ASL 1 ASL area 300\n",
            "car_number 79 density 0.7680555555555556 final_fuel 0.0004413253857204519 period [50.] MPR 1 ASL 1 ASL area 300\n",
            "car_number 80 density 0.7777777777777778 final_fuel 0.0004642123601846616 period [50.] MPR 1 ASL 1 ASL area 300\n",
            "car_number 81 density 0.7875000000000001 final_fuel 0.00048169972753600457 period [50.] MPR 1 ASL 1 ASL area 300\n",
            "car_number 82 density 0.7972222222222223 final_fuel 0.000512751034720228 period [50.] MPR 1 ASL 1 ASL area 300\n",
            "car_number 83 density 0.8069444444444446 final_fuel 0.0005316597105419922 period [50.] MPR 1 ASL 1 ASL area 300\n",
            "car_number 84 density 0.8166666666666668 final_fuel 0.0005588082598392168 period [50.] MPR 1 ASL 1 ASL area 300\n",
            "car_number 85 density 0.826388888888889 final_fuel 0.0005975862389167695 period [50.] MPR 1 ASL 1 ASL area 300\n",
            "car_number 86 density 0.8361111111111112 final_fuel 0.0006328057718374438 period [50.] MPR 1 ASL 1 ASL area 300\n",
            "car_number 87 density 0.8458333333333334 final_fuel 0.0006775157443280974 period [50.] MPR 1 ASL 1 ASL area 300\n",
            "car_number 88 density 0.8555555555555556 final_fuel 0.0007170895675873392 period [50.] MPR 1 ASL 1 ASL area 300\n",
            "car_number 89 density 0.8652777777777778 final_fuel 0.0007854122810575955 period [50.] MPR 1 ASL 1 ASL area 300\n",
            "car_number 90 density 0.875 final_fuel 0.0008431886231440198 period [50.] MPR 1 ASL 1 ASL area 300\n",
            "car_number 91 density 0.8847222222222222 final_fuel 0.0009209955916501607 period [50.] MPR 1 ASL 1 ASL area 300\n",
            "car_number 92 density 0.8944444444444444 final_fuel 0.0009954010255108238 period [50.] MPR 1 ASL 1 ASL area 300\n",
            "car_number 93 density 0.9041666666666668 final_fuel 0.0011100205609802874 period [50.] MPR 1 ASL 1 ASL area 300\n",
            "car_number 94 density 0.913888888888889 final_fuel 0.0012231301030983396 period [50.] MPR 1 ASL 1 ASL area 300\n",
            "car_number 95 density 0.9236111111111112 final_fuel 0.0013726939130012902 period [50.] MPR 1 ASL 1 ASL area 300\n",
            "car_number 96 density 0.9333333333333333 final_fuel 0.0016021575060086086 period [50.] MPR 1 ASL 1 ASL area 300\n",
            "car_number 97 density 0.9430555555555555 final_fuel 0.001869913393849435 period [50.] MPR 1 ASL 1 ASL area 300\n",
            "car_number 98 density 0.9527777777777777 final_fuel 0.0022356445283256664 period [50.] MPR 1 ASL 1 ASL area 300\n",
            "car_number 99 density 0.9625000000000001 final_fuel 0.0028020184152814714 period [50.] MPR 1 ASL 1 ASL area 300\n",
            "car_number 100 density 0.9722222222222223 final_fuel 0.003785241111368483 period [50.] MPR 1 ASL 1 ASL area 300\n",
            "car_number 2 density 0.019444444444444445 final_fuel 8.799950111340409e-05 period [1.] MPR 0 ASL 1 ASL area 300\n",
            "car_number 3 density 0.029166666666666667 final_fuel 8.799950111340409e-05 period [1.] MPR 0 ASL 1 ASL area 300\n",
            "car_number 4 density 0.03888888888888889 final_fuel 8.799950111340409e-05 period [1.] MPR 0 ASL 1 ASL area 300\n",
            "car_number 5 density 0.04861111111111111 final_fuel 8.799950111340409e-05 period [1.] MPR 0 ASL 1 ASL area 300\n",
            "car_number 6 density 0.058333333333333334 final_fuel 8.799950111340409e-05 period [1.] MPR 0 ASL 1 ASL area 300\n",
            "car_number 7 density 0.06805555555555556 final_fuel 8.799950111340409e-05 period [1.] MPR 0 ASL 1 ASL area 300\n",
            "car_number 8 density 0.07777777777777778 final_fuel 8.799950111340409e-05 period [1.] MPR 0 ASL 1 ASL area 300\n",
            "car_number 9 density 0.08750000000000001 final_fuel 8.799950111340409e-05 period [1.] MPR 0 ASL 1 ASL area 300\n",
            "car_number 10 density 0.09722222222222222 final_fuel 8.799950111340409e-05 period [1.] MPR 0 ASL 1 ASL area 300\n",
            "car_number 11 density 0.10694444444444445 final_fuel 8.799950111340409e-05 period [1.] MPR 0 ASL 1 ASL area 300\n",
            "car_number 12 density 0.11666666666666667 final_fuel 8.799950111340409e-05 period [1.] MPR 0 ASL 1 ASL area 300\n",
            "car_number 13 density 0.12638888888888888 final_fuel 8.799950111340409e-05 period [1.] MPR 0 ASL 1 ASL area 300\n",
            "car_number 14 density 0.13611111111111113 final_fuel 0.00011645083724507898 period [7.] MPR 0 ASL 1 ASL area 300\n",
            "car_number 15 density 0.14583333333333334 final_fuel 0.0001252947159274208 period [5.] MPR 0 ASL 1 ASL area 300\n",
            "car_number 16 density 0.15555555555555556 final_fuel 0.00013405797222888047 period [4.] MPR 0 ASL 1 ASL area 300\n",
            "car_number 17 density 0.16527777777777777 final_fuel 0.00013965115777742532 period [17.] MPR 0 ASL 1 ASL area 300\n",
            "car_number 18 density 0.17500000000000002 final_fuel 0.0001454542993926674 period [3.] MPR 0 ASL 1 ASL area 300\n",
            "car_number 19 density 0.18472222222222223 final_fuel 0.00015152962666294066 period [19.] MPR 0 ASL 1 ASL area 300\n",
            "car_number 20 density 0.19444444444444445 final_fuel 0.00015671601733623696 period [5.] MPR 0 ASL 1 ASL area 300\n",
            "car_number 21 density 0.2041666666666667 final_fuel 0.00016406915507874428 period [7.] MPR 0 ASL 1 ASL area 300\n",
            "car_number 22 density 0.2138888888888889 final_fuel 0.00016837824846622931 period [11.] MPR 0 ASL 1 ASL area 300\n",
            "car_number 23 density 0.2236111111111111 final_fuel 0.00017403262988291602 period [23.] MPR 0 ASL 1 ASL area 300\n",
            "car_number 24 density 0.23333333333333334 final_fuel 0.00017922071880373624 period [2.] MPR 0 ASL 1 ASL area 300\n",
            "car_number 25 density 0.24305555555555558 final_fuel 0.0001856110068397763 period [25.] MPR 0 ASL 1 ASL area 300\n",
            "car_number 26 density 0.25277777777777777 final_fuel 0.00019308959761048204 period [13.] MPR 0 ASL 1 ASL area 300\n",
            "car_number 27 density 0.2625 final_fuel 0.00019772806615548437 period [9.] MPR 0 ASL 1 ASL area 300\n",
            "car_number 28 density 0.27222222222222225 final_fuel 0.0002029023030860972 period [7.] MPR 0 ASL 1 ASL area 300\n",
            "car_number 29 density 0.2819444444444445 final_fuel 0.0002270736906086334 period [29.] MPR 0 ASL 1 ASL area 300\n",
            "car_number 30 density 0.2916666666666667 final_fuel 0.00023851872017786183 period [5.] MPR 0 ASL 1 ASL area 300\n",
            "car_number 31 density 0.30138888888888893 final_fuel 0.0002469603581771006 period [31.] MPR 0 ASL 1 ASL area 300\n",
            "car_number 32 density 0.3111111111111111 final_fuel 0.0002574834526660963 period [8.] MPR 0 ASL 1 ASL area 300\n",
            "car_number 33 density 0.3208333333333333 final_fuel 0.0002629095941312929 period [11.] MPR 0 ASL 1 ASL area 300\n",
            "car_number 34 density 0.33055555555555555 final_fuel 0.0002688410057416125 period [17.] MPR 0 ASL 1 ASL area 300\n",
            "car_number 35 density 0.3402777777777778 final_fuel 0.00027541978585797136 period [35.] MPR 0 ASL 1 ASL area 300\n",
            "car_number 36 density 0.35000000000000003 final_fuel 0.00028035644796106765 period [3.] MPR 0 ASL 1 ASL area 300\n",
            "car_number 37 density 0.3597222222222222 final_fuel 0.0002862755886696237 period [37.] MPR 0 ASL 1 ASL area 300\n",
            "car_number 38 density 0.36944444444444446 final_fuel 0.0002919824433593849 period [19.] MPR 0 ASL 1 ASL area 300\n",
            "car_number 39 density 0.3791666666666667 final_fuel 0.0002978160365161102 period [13.] MPR 0 ASL 1 ASL area 300\n",
            "car_number 40 density 0.3888888888888889 final_fuel 0.00030375326397112255 period [10.] MPR 0 ASL 1 ASL area 300\n",
            "car_number 41 density 0.39861111111111114 final_fuel 0.0003090131002623961 period [41.] MPR 0 ASL 1 ASL area 300\n",
            "car_number 42 density 0.4083333333333334 final_fuel 0.0003147207563270944 period [7.] MPR 0 ASL 1 ASL area 300\n",
            "car_number 43 density 0.4180555555555556 final_fuel 0.00032081358784986675 period [43.] MPR 0 ASL 1 ASL area 300\n",
            "car_number 44 density 0.4277777777777778 final_fuel 0.00032626923012387706 period [11.] MPR 0 ASL 1 ASL area 300\n",
            "car_number 45 density 0.4375 final_fuel 0.00033444388426452805 period [15.] MPR 0 ASL 1 ASL area 300\n",
            "car_number 46 density 0.4472222222222222 final_fuel 0.0003585561821214359 period [23.] MPR 0 ASL 1 ASL area 300\n",
            "car_number 47 density 0.4569444444444445 final_fuel 0.00036795807459536037 period [47.] MPR 0 ASL 1 ASL area 300\n",
            "car_number 48 density 0.4666666666666667 final_fuel 0.00037674203491947736 period [4.] MPR 0 ASL 1 ASL area 300\n",
            "car_number 49 density 0.47638888888888886 final_fuel 0.0003855296051702223 period [49.] MPR 0 ASL 1 ASL area 300\n",
            "car_number 50 density 0.48611111111111116 final_fuel 0.00039199561828294347 period [25.] MPR 0 ASL 1 ASL area 300\n",
            "car_number 51 density 0.49583333333333335 final_fuel 0.00039977819177463816 period [17.] MPR 0 ASL 1 ASL area 300\n",
            "car_number 52 density 0.5055555555555555 final_fuel 0.0004041170729875462 period [13.] MPR 0 ASL 1 ASL area 300\n",
            "car_number 53 density 0.5152777777777778 final_fuel 0.0004038321271159444 period [50.] MPR 0 ASL 1 ASL area 300\n",
            "car_number 54 density 0.525 final_fuel 0.0004160835711628934 period [9.] MPR 0 ASL 1 ASL area 300\n",
            "car_number 55 density 0.5347222222222223 final_fuel 0.00041995153445243094 period [50.] MPR 0 ASL 1 ASL area 300\n",
            "car_number 56 density 0.5444444444444445 final_fuel 0.0004289069443276344 period [14.] MPR 0 ASL 1 ASL area 300\n",
            "car_number 57 density 0.5541666666666667 final_fuel 0.000432403944828136 period [19.] MPR 0 ASL 1 ASL area 300\n",
            "car_number 58 density 0.563888888888889 final_fuel 0.0004382176419395976 period [29.] MPR 0 ASL 1 ASL area 300\n",
            "car_number 59 density 0.5736111111111112 final_fuel 0.0004457026806992233 period [50.] MPR 0 ASL 1 ASL area 300\n",
            "car_number 60 density 0.5833333333333334 final_fuel 0.0004497132592945737 period [5.] MPR 0 ASL 1 ASL area 300\n",
            "car_number 61 density 0.5930555555555557 final_fuel 0.0004554762594705662 period [50.] MPR 0 ASL 1 ASL area 300\n",
            "car_number 62 density 0.6027777777777779 final_fuel 0.0004689226607380079 period [31.] MPR 0 ASL 1 ASL area 300\n",
            "car_number 63 density 0.6125 final_fuel 0.0004886305121586623 period [21.] MPR 0 ASL 1 ASL area 300\n",
            "car_number 64 density 0.6222222222222222 final_fuel 0.0004978136418665769 period [16.] MPR 0 ASL 1 ASL area 300\n",
            "car_number 65 density 0.6319444444444444 final_fuel 0.0004834959312577653 period [50.] MPR 0 ASL 1 ASL area 300\n",
            "car_number 66 density 0.6416666666666666 final_fuel 0.00045176635300049975 period [11.] MPR 0 ASL 1 ASL area 300\n",
            "car_number 67 density 0.6513888888888889 final_fuel 0.0004171313230056305 period [50.] MPR 0 ASL 1 ASL area 300\n",
            "car_number 68 density 0.6611111111111111 final_fuel 0.00042770023301509587 period [17.] MPR 0 ASL 1 ASL area 300\n",
            "car_number 69 density 0.6708333333333334 final_fuel 0.0004340916099621148 period [23.] MPR 0 ASL 1 ASL area 300\n",
            "car_number 70 density 0.6805555555555556 final_fuel 0.00044808378279512543 period [50.] MPR 0 ASL 1 ASL area 300\n",
            "car_number 71 density 0.6902777777777778 final_fuel 0.0004592409884312069 period [50.] MPR 0 ASL 1 ASL area 300\n",
            "car_number 72 density 0.7000000000000001 final_fuel 0.0004683664847363181 period [50.] MPR 0 ASL 1 ASL area 300\n",
            "car_number 73 density 0.7097222222222223 final_fuel 0.0004835009036986312 period [50.] MPR 0 ASL 1 ASL area 300\n",
            "car_number 74 density 0.7194444444444444 final_fuel 0.0005007931971972037 period [50.] MPR 0 ASL 1 ASL area 300\n",
            "car_number 75 density 0.7291666666666667 final_fuel 0.0005098335840893385 period [50.] MPR 0 ASL 1 ASL area 300\n",
            "car_number 76 density 0.7388888888888889 final_fuel 0.0005315097516653443 period [50.] MPR 0 ASL 1 ASL area 300\n",
            "car_number 77 density 0.7486111111111111 final_fuel 0.000537162445380659 period [50.] MPR 0 ASL 1 ASL area 300\n",
            "car_number 78 density 0.7583333333333334 final_fuel 0.0005626206530040538 period [50.] MPR 0 ASL 1 ASL area 300\n",
            "car_number 79 density 0.7680555555555556 final_fuel 0.0005792797752073846 period [50.] MPR 0 ASL 1 ASL area 300\n",
            "car_number 80 density 0.7777777777777778 final_fuel 0.000605604776795375 period [50.] MPR 0 ASL 1 ASL area 300\n",
            "car_number 81 density 0.7875000000000001 final_fuel 0.0006357253680093015 period [50.] MPR 0 ASL 1 ASL area 300\n",
            "car_number 82 density 0.7972222222222223 final_fuel 0.0006447960213900038 period [50.] MPR 0 ASL 1 ASL area 300\n",
            "car_number 83 density 0.8069444444444446 final_fuel 0.0006788065622016273 period [50.] MPR 0 ASL 1 ASL area 300\n",
            "car_number 84 density 0.8166666666666668 final_fuel 0.0007003974300844431 period [50.] MPR 0 ASL 1 ASL area 300\n",
            "car_number 85 density 0.826388888888889 final_fuel 0.000736507272520264 period [50.] MPR 0 ASL 1 ASL area 300\n",
            "car_number 86 density 0.8361111111111112 final_fuel 0.0007807353448421925 period [50.] MPR 0 ASL 1 ASL area 300\n",
            "car_number 87 density 0.8458333333333334 final_fuel 0.0008321097821639386 period [50.] MPR 0 ASL 1 ASL area 300\n",
            "car_number 88 density 0.8555555555555556 final_fuel 0.0008744736915920831 period [50.] MPR 0 ASL 1 ASL area 300\n",
            "car_number 89 density 0.8652777777777778 final_fuel 0.0009430805377419945 period [50.] MPR 0 ASL 1 ASL area 300\n",
            "car_number 90 density 0.875 final_fuel 0.001013015676709667 period [50.] MPR 0 ASL 1 ASL area 300\n",
            "car_number 91 density 0.8847222222222222 final_fuel 0.0010771582559008952 period [50.] MPR 0 ASL 1 ASL area 300\n",
            "car_number 92 density 0.8944444444444444 final_fuel 0.0011470010733309571 period [50.] MPR 0 ASL 1 ASL area 300\n",
            "car_number 93 density 0.9041666666666668 final_fuel 0.0012453974528057856 period [50.] MPR 0 ASL 1 ASL area 300\n",
            "car_number 94 density 0.913888888888889 final_fuel 0.0013841628478450522 period [50.] MPR 0 ASL 1 ASL area 300\n",
            "car_number 95 density 0.9236111111111112 final_fuel 0.0015380902595797474 period [50.] MPR 0 ASL 1 ASL area 300\n",
            "car_number 96 density 0.9333333333333333 final_fuel 0.0017590522286638679 period [50.] MPR 0 ASL 1 ASL area 300\n",
            "car_number 97 density 0.9430555555555555 final_fuel 0.0020046840209298647 period [50.] MPR 0 ASL 1 ASL area 300\n",
            "car_number 98 density 0.9527777777777777 final_fuel 0.0023824505999421822 period [50.] MPR 0 ASL 1 ASL area 300\n",
            "car_number 99 density 0.9625000000000001 final_fuel 0.0029701605583149875 period [50.] MPR 0 ASL 1 ASL area 300\n",
            "car_number 100 density 0.9722222222222223 final_fuel 0.00397966280851972 period [50.] MPR 0 ASL 1 ASL area 300\n",
            "density 0.019444444444444445 improvement 0.0\n",
            "density 0.029166666666666667 improvement 0.0\n",
            "density 0.03888888888888889 improvement 0.0\n",
            "density 0.04861111111111111 improvement 0.0\n",
            "density 0.058333333333333334 improvement 0.0\n",
            "density 0.06805555555555556 improvement 0.0\n",
            "density 0.07777777777777778 improvement 0.0\n",
            "density 0.08750000000000001 improvement 0.0\n",
            "density 0.09722222222222222 improvement 0.0\n",
            "density 0.10694444444444445 improvement 0.0\n",
            "density 0.11666666666666667 improvement 0.0\n",
            "density 0.12638888888888888 improvement 0.0\n",
            "density 0.13611111111111113 improvement 12.599296400440643\n",
            "density 0.14583333333333334 improvement 14.572987181180563\n",
            "density 0.15555555555555556 improvement 16.844968357192144\n",
            "density 0.16527777777777777 improvement 12.656670627894215\n",
            "density 0.17500000000000002 improvement 13.575753054379712\n",
            "density 0.18472222222222223 improvement 14.32863841975355\n",
            "density 0.19444444444444445 improvement 14.560885063201995\n",
            "density 0.2041666666666667 improvement 16.485261751550503\n",
            "density 0.2138888888888889 improvement 16.676955887242563\n",
            "density 0.2236111111111111 improvement 17.670005766290362\n",
            "density 0.23333333333333334 improvement 18.495291865432865\n",
            "density 0.24305555555555558 improvement 19.40592222365097\n",
            "density 0.25277777777777777 improvement 20.833608592200253\n",
            "density 0.2625 improvement 21.247031190590103\n",
            "density 0.27222222222222225 improvement 21.83179802729406\n",
            "density 0.2819444444444445 improvement 28.66288073765285\n",
            "density 0.2916666666666667 improvement 30.977334489326125\n",
            "density 0.30138888888888893 improvement 31.99577838780245\n",
            "density 0.3111111111111111 improvement 33.61376560535171\n",
            "density 0.3208333333333333 improvement 33.49258805015934\n",
            "density 0.33055555555555555 improvement 34.3031011971623\n",
            "density 0.3402777777777778 improvement 34.59320629771066\n",
            "density 0.35000000000000003 improvement 35.008984469412965\n",
            "density 0.3597222222222222 improvement 35.159584088206195\n",
            "density 0.36944444444444446 improvement 35.68176102665794\n",
            "density 0.3791666666666667 improvement 35.86290930110837\n",
            "density 0.3888888888888889 improvement 35.91023026231806\n",
            "density 0.39861111111111114 improvement 36.315231145655396\n",
            "density 0.4083333333333334 improvement 36.46101797816923\n",
            "density 0.4180555555555556 improvement 36.537779627678816\n",
            "density 0.4277777777777778 improvement 36.93477973341348\n",
            "density 0.4375 improvement 37.53603627900954\n",
            "density 0.4472222222222222 improvement 40.776666599161274\n",
            "density 0.4569444444444445 improvement 41.63140919584152\n",
            "density 0.4666666666666667 improvement 42.130820677548485\n",
            "density 0.47638888888888886 improvement 42.452515317169954\n",
            "density 0.48611111111111116 improvement 42.84594435415772\n",
            "density 0.49583333333333335 improvement 43.13477824560753\n",
            "density 0.5055555555555555 improvement 42.83033795865525\n",
            "density 0.5152777777777778 improvement 42.66891857606399\n",
            "density 0.525 improvement 43.212614112199184\n",
            "density 0.5347222222222223 improvement 42.899786560498534\n",
            "density 0.5444444444444445 improvement 43.564133993925985\n",
            "density 0.5541666666666667 improvement 43.27973918103524\n",
            "density 0.563888888888889 improvement 43.200919958555076\n",
            "density 0.5736111111111112 improvement 43.626556519195894\n",
            "density 0.5833333333333334 improvement 43.47396863946632\n",
            "density 0.5930555555555557 improvement 43.438717072381955\n",
            "density 0.6027777777777779 improvement 44.55199674330933\n",
            "density 0.6125 improvement 46.16862705781653\n",
            "density 0.6222222222222222 improvement 46.366500582538\n",
            "density 0.6319444444444444 improvement 44.96099572593235\n",
            "density 0.6416666666666666 improvement 40.660393148280036\n",
            "density 0.6513888888888889 improvement 32.90616732367196\n",
            "density 0.6611111111111111 improvement 32.0108124130786\n",
            "density 0.6708333333333334 improvement 30.32033851779449\n",
            "density 0.6805555555555556 improvement 30.507855619229566\n",
            "density 0.6902777777777778 improvement 30.583770162488886\n",
            "density 0.7000000000000001 improvement 29.869598191087196\n",
            "density 0.7097222222222223 improvement 29.154396544666703\n",
            "density 0.7194444444444444 improvement 28.66910373819819\n",
            "density 0.7291666666666667 improvement 27.326696135175222\n",
            "density 0.7388888888888889 improvement 26.813844123923634\n",
            "density 0.7486111111111111 improvement 24.539312256664434\n",
            "density 0.7583333333333334 improvement 25.318298396057898\n",
            "density 0.7680555555555556 improvement 23.81481201161295\n",
            "density 0.7777777777777778 improvement 23.347308678591858\n",
            "density 0.7875000000000001 improvement 24.22833006579711\n",
            "density 0.7972222222222223 improvement 20.478567219618224\n",
            "density 0.8069444444444446 improvement 21.67728773604987\n",
            "density 0.8166666666666668 improvement 20.215546797217062\n",
            "density 0.826388888888889 improvement 18.862140101905414\n",
            "density 0.8361111111111112 improvement 18.947467151579925\n",
            "density 0.8458333333333334 improvement 18.578562726881124\n",
            "density 0.8555555555555556 improvement 17.99758249081313\n",
            "density 0.8652777777777778 improvement 16.71842969656675\n",
            "density 0.875 improvement 16.764503992401693\n",
            "density 0.8847222222222222 improvement 14.497652818909685\n",
            "density 0.8944444444444444 improvement 13.217079856767528\n",
            "density 0.9041666666666668 improvement 10.870175743535075\n",
            "density 0.913888888888889 improvement 11.633945022973132\n",
            "density 0.9236111111111112 improvement 10.753357649091967\n",
            "density 0.9333333333333333 improvement 8.919275965696174\n",
            "density 0.9430555555555555 improvement 6.722786517643655\n",
            "density 0.9527777777777777 improvement 6.161977571332584\n",
            "density 0.9625000000000001 improvement 5.661045580946822\n",
            "density 0.9722222222222223 improvement 4.88538116181643\n"
          ]
        }
      ]
    },
    {
      "cell_type": "code",
      "metadata": {
        "colab": {
          "base_uri": "https://localhost:8080/",
          "height": 428
        },
        "id": "A9ANd3ZRdVL8",
        "outputId": "fb6d9b85-d7d2-4b5c-c40e-3a4fc17045a9"
      },
      "source": [
        "p1 = 1\n",
        "fig = plt.figure(figsize=(7,5),num = 1,dpi = 80)\n",
        "ax1 = fig.add_subplot(1,1,1)\n",
        "ax1.scatter(density_non[p1:n2-n1-1], improvement2[p1:n2-n1-1],color = 'red',marker = '>',s = 6)\n",
        "ax1.legend(); ax1.grid()\n",
        "    \n",
        "ax1.set_xlabel(\"$density\\ (k/k_j)$\")\n",
        "ax1.set_ylabel(\"$reduction (\\%) $\")\n",
        "#plt.xlim(0,1.05)\n",
        "plt.ylim(-1,50)\n",
        "    \n",
        "fp4 = np.polyfit(density_non[p1:n2-n1-1], improvement2[p1:n2-n1-1], 5)\n",
        "f4 = np.poly1d(fp4)\n",
        "fx4 = np.linspace(density_non[p1],density_non[n2-n1-1],n2-n1-1 - p1)\n",
        "ax1.plot(fx4,f4(fx4),linewidth=2,color='g') #,label = \"$U'_n(t)\\ Reduction$\" \n",
        "ax1.legend()"
      ],
      "execution_count": 16,
      "outputs": [
        {
          "output_type": "stream",
          "name": "stderr",
          "text": [
            "No handles with labels found to put in legend.\n",
            "No handles with labels found to put in legend.\n"
          ]
        },
        {
          "output_type": "execute_result",
          "data": {
            "text/plain": [
              "<matplotlib.legend.Legend at 0x7f5469accd50>"
            ]
          },
          "metadata": {},
          "execution_count": 16
        },
        {
          "output_type": "display_data",
          "data": {
            "text/plain": [
              "<Figure size 560x400 with 1 Axes>"
            ],
            "image/png": "[encoded data removed]"
          },
          "metadata": {
            "needs_background": "light"
          }
        }
      ]
    },
    {
      "cell_type": "markdown",
      "metadata": {
        "id": "nJwTAjPyl7j7"
      },
      "source": [
        "# Starting flow"
      ]
    },
    {
      "cell_type": "code",
      "metadata": {
        "id": "tUGabJgyl6y7"
      },
      "source": [
        "def start_point_flow(n,delta_n,D,L_int,l_n,s_0,t_sim,G,Y,R,T,delta_t,tau,v_f,a_0,b,model_id,connectivity,agg,asl_id):\n",
        "    density = []; loop_flow = []; loop = []\n",
        "    num_t = int(t_sim/delta_t); num_cycle = int(t_sim/(delta_t*T)); L = T*v_f*delta_t; rho = l_n + s_0; C = v_f * w * (1/rho) / (v_f + w)   \n",
        "    global vehicle_state; k = 10 #gap\n",
        "\n",
        "    for loop_start in range(int(L - D),int(L),k):\n",
        "        loop.append(L - loop_start); total_fuel = 0\n",
        "        vehicle_state = vehicle_update(L_int,L,L-loop_start,l_n,s_0,t_sim,T,G,Y,R,delta_t,tau,v_f,a_0,b,n,delta_n,model_id,connectivity,agg,asl_id)\n",
        "        period,average = period_system(n,delta_n,L-loop_start,connectivity,G,Y,R,T,vehicle_state,model_id,num_t)#oeriod correspongding to that density\n",
        "        density = (n*delta_n/(L+L_int))/(1/rho)\n",
        "        system_average = sum(average[num_cycle-int(period):num_cycle,0])/period\n",
        "        loop_flow.append(((n*delta_n/(L+L_int))*system_average)/C)\n",
        "        print(\"car_number\",n*delta_n,\"loop =\",loop[-1],\"flow rate = \",loop_flow[-1],\"ASL\",asl_id,\"connectivity =\",connectivity)\n",
        "\n",
        "    return loop,loop_flow,vehicle_state"
      ],
      "execution_count": null,
      "outputs": []
    },
    {
      "cell_type": "code",
      "metadata": {
        "id": "ST8NCpfcbXFj"
      },
      "source": [
        "def improvement_rate_flow1(D,delta_n,L_int,l_n,s_0,t_sim,G,Y,R,T,delta_t,tau,v_f,a_0,b,model_id,agg,asl_id):\n",
        "    all_connected = 1; non_connected = 0; n1 = int(20/delta_n); n2 = int(30/delta_n); n3 = int(40/delta_n); n4 = int(50/delta_n); n5 = int(60/delta_n)\n",
        "    improvement_rate1 = []; improvement_rate2 = []; improvement_rate3 = []; improvement_rate4 = []; improvement_rate5 = []; L = T*v_f*delta_t;\n",
        "                                                                \n",
        "    vehicle_state1_0 ,flow_rate1_0,density1_0,period1_0 = nfd_calc(n1,n1+1,delta_n,L_int,L,D,l_n,non_connected,G,Y,R,T,tau,delta_t,t_sim,s_0,v_f,a_0,b,model_id,agg,asl_id)\n",
        "    loop1, loop_flow1, vehicle_state1 = start_point_flow(n1,delta_n,D,L_int,l_n,s_0,t_sim,G,Y,R,T,delta_t,tau,v_f,a_0,b,model_id,all_connected,agg,asl_id)\n",
        "\n",
        "    vehicle_state2_0 ,flow_rate2_0,density2_0,period2_0 = nfd_calc(n2,n2+1,delta_n,L_int,L,D,l_n,non_connected,G,Y,R,T,tau,delta_t,t_sim,s_0,v_f,a_0,b,model_id,agg,asl_id)\n",
        "    loop2, loop_flow2, vehicle_state2 = start_point_flow(n2,delta_n,D,L_int,l_n,s_0,t_sim,G,Y,R,T,delta_t,tau,v_f,a_0,b,model_id,all_connected,agg,asl_id)\n",
        "\n",
        "    vehicle_state3_0 ,flow_rate3_0,density3_0,period3_0 = nfd_calc(n3,n3+1,delta_n,L_int,L,D,l_n,non_connected,G,Y,R,T,tau,delta_t,t_sim,s_0,v_f,a_0,b,model_id,agg,asl_id)\n",
        "    loop3, loop_flow3, vehicle_state3 = start_point_flow(n3,delta_n,D,L_int,l_n,s_0,t_sim,G,Y,R,T,delta_t,tau,v_f,a_0,b,model_id,all_connected,agg,asl_id)\n",
        "\n",
        "    vehicle_state4_0 ,flow_rate4_0,density4_0,period4_0 = nfd_calc(n4,n4+1,delta_n,L_int,L,D,l_n,non_connected,G,Y,R,T,tau,delta_t,t_sim,s_0,v_f,a_0,b,model_id,agg,asl_id)\n",
        "    loop4, loop_flow4, vehicle_state4 = start_point_flow(n4,delta_n,D,L_int,l_n,s_0,t_sim,G,Y,R,T,delta_t,tau,v_f,a_0,b,model_id,all_connected,agg,asl_id)\n",
        "\n",
        "\n",
        "  \n",
        "    for i in range(len(loop1)):\n",
        "        improvement_rate1.append(100*(loop_flow1[i]-flow_rate1_0)/flow_rate1_0)\n",
        "        improvement_rate2.append(100*(loop_flow2[i]-flow_rate2_0)/flow_rate2_0)\n",
        "        improvement_rate3.append(100*(loop_flow3[i]-flow_rate3_0)/flow_rate3_0)\n",
        "        improvement_rate4.append(100*(loop_flow4[i]-flow_rate4_0)/flow_rate4_0)\n",
        "        print(\"loop\",loop1[i],\"improvement1\",improvement_rate1[i],\"improvement2\",improvement_rate2[i],\"improvement3\",improvement_rate3[i],\"improvement4\",improvement_rate4[i])\n",
        "    return loop1,improvement_rate1,improvement_rate2,improvement_rate3,improvement_rate4"
      ],
      "execution_count": null,
      "outputs": []
    },
    {
      "cell_type": "markdown",
      "metadata": {
        "id": "jixU0PUgmtxR"
      },
      "source": [
        "# Starting fuel"
      ]
    },
    {
      "cell_type": "code",
      "metadata": {
        "id": "PpZhESHimtDh"
      },
      "source": [
        "def start_point_fuel(n,delta_n,D,L_int,l_n,s_0,t_sim,G,Y,R,T,delta_t,tau,v_f,a_0,b,model_id,connectivity,agg,asl_id):\n",
        "            \n",
        "    density = []; fuel = []; loop = []\n",
        "    num_t = int(t_sim/delta_t); num_cycle = int(t_sim/(delta_t*T)); L = T*v_f*delta_t; rho = l_n + s_0; C = v_f*(rho/tau)*(1/rho)/(v_f+(rho/tau)); all_connected = 1;    \n",
        "    global vehicle_state; k = 10 #gap\n",
        "\n",
        "    for loop_start in range(int(L - D),int(L),10):\n",
        "        loop.append(L - loop_start); total_fuel = 0 ##L_int,L,D,l_n,s_0,t_sim,T,G,Y,R,delta_t,tau,v_f,a_0,b,n,delta_n,model_id,con,agg,asl_id\n",
        "        vehicle_state = vehicle_update(L_int,L,L-loop_start,l_n,s_0,t_sim,T,G,Y,R,delta_t,tau,v_f,a_0,b,n,delta_n,model_id,connectivity,agg,asl_id)\n",
        "        density,fuel_0,vehicle_state,individual_average = fuel_consumption(n,n+1,delta_n,L,L-loop_start,all_connected,G,Y,R,T,tau,t_sim,delta_t,l_n,s_0,v_f,a_0,b,model_id,agg,asl_id)#oeriod correspongding to that density\n",
        "        density = (n*delta_n/(L+L_int))/(1/rho)     \n",
        "        fuel.append(fuel_0[0])\n",
        "        #print(\"car_number\",n*delta_n,\"loop =\",loop[-1],\"fuel_reduce \",fuel[-1],\"connectivity =\",connectivity)\n",
        "\n",
        "    return loop,fuel,vehicle_state"
      ],
      "execution_count": null,
      "outputs": []
    },
    {
      "cell_type": "code",
      "metadata": {
        "id": "57w7ruTan-Zz"
      },
      "source": [
        "def improvement_rate_flow(D,delta_n,L_int,l_n,s_0,t_sim,G,Y,R,T,delta_t,tau,v_f,a_0,b,model_id,agg,asl_id):\n",
        "    L = v_f * T * delta_t\n",
        "    all_connected = 1; non_connected = 0; n1 = int(20/delta_n); n2 = int(30/delta_n); n3 = int(40/delta_n); n4 = int(50/delta_n); n5 = int(60/delta_n); #n5 = int(65/delta_n)\n",
        "    improvement_rate1 = []; improvement_rate2 = []; improvement_rate3 = []; improvement_rate4 = []; improvement_rate5 = []\n",
        "                                                #n1,n2,delta_n,L,D,connectivity,G,Y,R,T,tau,t_sim,delta_t,l_n,s_0,v_f,a_0,b,model_id,agg,asl_id\n",
        "    density1_0, fuel1_0, vehicle_state1_0, individual_average1_0 = fuel_consumption(n1,n1+1,delta_n,L,D,non_connected,G,Y,R,T,tau,t_sim,delta_t,l_n,s_0,v_f,a_0,b,model_id,agg,asl_id)\n",
        "    loop1, fuel1, vehicle_state1 = start_point_fuel(n1,delta_n,D,L_int,l_n,s_0,t_sim,G,Y,R,T,delta_t,tau,v_f,a_0,b,model_id,all_connected,agg,asl_id)\n",
        "\n",
        "    density2_0, fuel2_0, vehicle_state2_0, individual_average2_0 = fuel_consumption(n2,n2+1,delta_n,L,D,non_connected,G,Y,R,T,tau,t_sim,delta_t,l_n,s_0,v_f,a_0,b,model_id,agg,asl_id)\n",
        "    loop2, fuel2, vehicle_state2 = start_point_fuel(n2,delta_n,D,L_int,l_n,s_0,t_sim,G,Y,R,T,delta_t,tau,v_f,a_0,b,model_id,all_connected,agg,asl_id)\n",
        "\n",
        "    density3_0, fuel3_0, vehicle_state3_0, individual_average3_0 = fuel_consumption(n3,n3+1,delta_n,L,D,non_connected,G,Y,R,T,tau,t_sim,delta_t,l_n,s_0,v_f,a_0,b,model_id,agg,asl_id)\n",
        "    loop3, fuel3, vehicle_state3 = start_point_fuel(n3,delta_n,D,L_int,l_n,s_0,t_sim,G,Y,R,T,delta_t,tau,v_f,a_0,b,model_id,all_connected,agg,asl_id)\n",
        "\n",
        "    density4_0, fuel4_0, vehicle_state4_0, individual_average4_0 = fuel_consumption(n4,n4+1,delta_n,L,D,non_connected,G,Y,R,T,tau,t_sim,delta_t,l_n,s_0,v_f,a_0,b,model_id,agg,asl_id)\n",
        "    loop4, fuel4, vehicle_state4 = start_point_fuel(n4,delta_n,D,L_int,l_n,s_0,t_sim,G,Y,R,T,delta_t,tau,v_f,a_0,b,model_id,all_connected,agg,asl_id)\n",
        "\n",
        "  \n",
        "    for i in range(len(loop1)):\n",
        "        if fuel1[i] > 50: fuel1[i] = 50 #if error is too large, set 50 to be the upper boundary\n",
        "        if int(fuel1_0[0]) > 50: fuel1_0[0] = 50\n",
        "        if fuel2[i] > 50: fuel2[i] = 50\n",
        "        if int(fuel2_0[0]) > 50: fuel2_0[0] = 50\n",
        "        if fuel3[i] > 50: fuel3[i] = 50\n",
        "        if int(fuel3_0[0]) > 50: fuel3_0[0] = 50\n",
        "        if fuel4[i] > 50: fuel4[i] = 50 \n",
        "        if int(fuel4_0[0]) > 50: fuel4_0[0] = 50\n",
        "        \n",
        "        improvement_rate1.append(-100*(fuel1[i]-fuel1_0[0])/fuel1_0[0])\n",
        "        improvement_rate2.append(-100*(fuel2[i]-fuel2_0[0])/fuel2_0[0])\n",
        "        improvement_rate3.append(-100*(fuel3[i]-fuel3_0[0])/fuel3_0[0])\n",
        "        improvement_rate4.append(-100*(fuel4[i]-fuel4_0[0])/fuel4_0[0])\n",
        "        print(\"loop\",loop1[i],\"improvement1\",improvement_rate1[i],\"improvement2\",improvement_rate2[i],\"improvement3\",improvement_rate3[i],\"improvement4\",improvement_rate4[i])\n",
        "    return loop1,improvement_rate1,improvement_rate2,improvement_rate3,improvement_rate4"
      ],
      "execution_count": null,
      "outputs": []
    },
    {
      "cell_type": "markdown",
      "metadata": {
        "id": "GPtI3RzH2lpn"
      },
      "source": [
        "# MPR fuel"
      ]
    },
    {
      "cell_type": "code",
      "metadata": {
        "id": "zO_LT5cq2k3G"
      },
      "source": [
        "def cal_fuel_MPR(cal_time,n1,n2,delta_n,D,connectivity,G,Y,R,T,tau,t_sim,delta_t,l_n,s_0,v_f,a_0,b,model_id,agg,asl_id):\n",
        "#(n1,n2,loop_start,connectivity,green,cycle_length,yellow,all_red,time_gap,time_step,vehicle_length,s0,freeflow_speed,bounded_acc,bounded_dec,agg,asl_id,model_id,num_timestep):\n",
        "    rho = l_n + s_0; L = v_f*T*delta_t; w = rho/(tau); num_t = int(t_sim/delta_t);\n",
        "    fuel = []; density = []; p1 = 3.6 #m/s to km/h; k = 2 #gap\n",
        "    for n in range(n1,n2,1):\n",
        "        ave_fuel = 0\n",
        "        for k in range(cal_time):\n",
        "            i = 1; density.append((n*delta_n/L)/(1/rho)); final_fuel = 0; total_fuel = 0\n",
        "            vehicle_state = vehicle_update(L_int,L,D,l_n,s_0,t_sim,T,G,Y,R,delta_t,tau,v_f,a_0,b,n,delta_n,model_id,connectivity,agg,asl_id)\n",
        "            period,individual_average = period_individual(n,delta_n,D,connectivity,G,Y,R,T,vehicle_state,model_id,num_t) #individual period correspongding to that density            \n",
        "            for t in range(int(num_t-1 - period[i] * T), num_t-1):#total fuel consumption for one vehicle\n",
        "                if vehicle_state[i][t,3] >= 0:   \n",
        "                    fuel_comsume_sec = math.exp( -7.73452 + 0.22946 * vehicle_state[i][t,3]*p1 - 0.00561 * (vehicle_state[i][t,3]*p1)**2 + 0.000097730 * (vehicle_state[i][t,3]*p1)**3\\\n",
        "                                    + 0.02799*vehicle_state[i][t,2]*p1 + 0.0068*(vehicle_state[i][t,2]*p1)*vehicle_state[i][t,3]*p1 - 0.00077221*(vehicle_state[i][t,2]*p1)*(vehicle_state[i][t,3]*p1)**2 + 0.00000838*(vehicle_state[i][t,2]*p1)*(vehicle_state[i][t+1,3]*p1)**3\\\n",
        "                                    - 0.0002228*(vehicle_state[i][t,2]*p1)**2 - 0.00004402*(vehicle_state[i][t,2]*p1)**2*vehicle_state[i][t,3]*p1 + 7.9*10**(-7)*(vehicle_state[i][t,2]*p1)**2*(vehicle_state[i][t+1,3]*p1)**2 + 8.17*(10)**(-7)*(vehicle_state[i][t,2]*p1)**2*(vehicle_state[i][t+1,3]*p1)**3\\\n",
        "                                    +1.09*(10)**(-6)*(vehicle_state[i][t,2]*p1)**3 + 4.8*(10)**(-8)*(vehicle_state[i][t,2]*p1)**3*vehicle_state[i][t,3]*p1 + 3.27*10**(-8)*(vehicle_state[i][t,2]*p1)**3*(vehicle_state[i][t,3]*p1)**2 + (-7.79)*10**(-9)*(vehicle_state[i][t,2]*p1)**3*(vehicle_state[i][t,3]*p1)**3)\n",
        "\n",
        "                if vehicle_state[i][t,3] < 0:\n",
        "                    fuel_comsume_sec = math.exp( -7.73452 - 0.01799 * vehicle_state[i][t,3]*p1 - 0.00427 * (vehicle_state[i][t,3]*p1)**2 + 0.000188290 * (vehicle_state[i][t,3]*p1)**3\\\n",
        "                                    +0.02804*vehicle_state[i][t,2]*p1 + 0.00772*(vehicle_state[i][t,2]*p1)*vehicle_state[i][t,3]*p1 + 0.00083744*(vehicle_state[i][t,2]*p1)*(vehicle_state[i][t,3]*p1)**2 - 0.00003387*(vehicle_state[i][t,2]*p1)*(vehicle_state[i][t,3]*p1)**3\\\n",
        "                                    - 0.00021988*(vehicle_state[i][t,2]*p1)**2 - 0.00005219*(vehicle_state[i][t,2]*p1)**2*vehicle_state[i][t,3]*p1 - 7.44*10**(-6)*(vehicle_state[i][t,2]*p1)**2*(vehicle_state[i][t,3]*p1)**2 + 2.77*(10)**(-7)*(vehicle_state[i][t,2]*p1)**2*(vehicle_state[i][t,3]*p1)**3\\\n",
        "                                    +1.08*(10)**(-6)*(vehicle_state[i][t,2]*p1)**3 + 2.47*(10)**(-7)*(vehicle_state[i][t,2]*p1)**3*vehicle_state[i][t,3]*p1 + 4.87*10**(-8)*(vehicle_state[i][t,2]*p1)**3*(vehicle_state[i][t,3]*p1)**2 + (3.79)*10**(-10)*(vehicle_state[i][t,2]*p1)**3*(vehicle_state[i][t,3]*p1)**3)\n",
        "                total_fuel += delta_t * fuel_comsume_sec #Eq(36)     \n",
        "            car_distance = sum(vehicle_state[i][int(num_t-1 - period[i]*T):int(num_t-1),2])*delta_t #m calculate the distance it has run\n",
        "            fuel_per_m = total_fuel/car_distance;\n",
        "            ave_fuel += fuel_per_m\n",
        "            #print(\"car_number\",n*delta_n,\"cal\",k,\"density\",(n*delta_n/L)/(1/rho),\"final_fuel\",fuel_per_m,\"ASL area\",D,\"period\",period[i],\"MPR\",connectivity)\n",
        "        fuel.append(ave_fuel/cal_time)  #fuel consumption per meter for one car\n",
        "        print(\"car_number\",n*delta_n,\"ave_fuel\",fuel[-1])        \n",
        "        \n",
        "    return density,fuel,vehicle_state,individual_average"
      ],
      "execution_count": 245,
      "outputs": []
    },
    {
      "cell_type": "code",
      "metadata": {
        "id": "B8f5DNwfdq7A"
      },
      "source": [
        "def ave_improve(cal_time,n1,n2,delta_n,D,G,Y,R,T,tau,t_sim,delta_t,l_n,s_0,v_f,a_0,b,model_id,agg,asl_id):\n",
        "    improvement_rate1 = []; total_flow1 = 0\n",
        "    improvement_rate2 = []; total_flow2 = 0\n",
        "    improvement_rate3 = []; total_flow3 = 0\n",
        "    improvement_rate4 = []; total_flow4 = 0\n",
        "    improvement_rate5 = []; total_flow4 = 0 \n",
        "   \n",
        "    density_part2, fuel_part2, vehicle_state2,individual_average2 = cal_fuel_MPR(cal_time,n1,n2,delta_n,D,0.1,G,Y,R,T,tau,t_sim,delta_t,l_n,s_0,v_f,a_0,b,model_id,agg,asl_id)\n",
        "    density_part3, fuel_part3, vehicle_state3,individual_average3 = cal_fuel_MPR(cal_time,n1,n2,delta_n,D,0.4,G,Y,R,T,tau,t_sim,delta_t,l_n,s_0,v_f,a_0,b,model_id,agg,asl_id)\n",
        "    density_part4, fuel_part4, vehicle_state4,individual_average4 = cal_fuel_MPR(cal_time,n1,n2,delta_n,D,0.7,G,Y,R,T,tau,t_sim,delta_t,l_n,s_0,v_f,a_0,b,model_id,agg,asl_id)\n",
        "    density_con, fuel_con, vehicle_state_con, individual_average_con = fuel_consumption(n1,n2,delta_n,L,D,1,G,Y,R,T,tau,t_sim,delta_t,l_n,s_0,v_f,a_0,b,model_id,agg,asl_id)\n",
        "    density_non, fuel_non, vehicle_state_non, individual_average_non = fuel_consumption(n1,n2,delta_n,L,D,0,G,Y,R,T,tau,t_sim,delta_t,l_n,s_0,v_f,a_0,b,model_id,agg,asl_id)\n",
        "\n",
        "    for i in range(len(density_non)):\n",
        "        improvement_rate4.append(100*(fuel_non[i]-fuel_con[i])/fuel_non[i])\n",
        "        improvement_rate1.append(100*(fuel_non[i]-fuel_part2[i])/fuel_non[i])\n",
        "        improvement_rate2.append(100*(fuel_non[i]-fuel_part3[i])/fuel_non[i])\n",
        "        improvement_rate3.append(100*(fuel_non[i]-fuel_part4[i])/fuel_non[i])\n",
        "        if improvement_rate4[i]<-100: improvement_rate4[i] = 0 #if the change rate larger than 100%, regard it as invalid point\n",
        "        if improvement_rate1[i]<-100: improvement_rate1[i] = 0\n",
        "        if improvement_rate2[i]<-100: improvement_rate2[i] = 0\n",
        "        if improvement_rate3[i]<-100: improvement_rate3[i] = 0\n",
        "        print(\"density:\",density_non[i],\"improvement1:\",improvement_rate1[i],\"improvement2:\",improvement_rate2[i],\"improvement3:\",improvement_rate3[i],\"improvement4:\",improvement_rate4[i])\n",
        "\n",
        "    return density_non,improvement_rate1,improvement_rate2,improvement_rate3,improvement_rate4,fuel_con,fuel_non"
      ],
      "execution_count": 249,
      "outputs": []
    },
    {
      "cell_type": "markdown",
      "metadata": {
        "id": "qYbulZSNQuXu"
      },
      "source": [
        "#MPR NFD"
      ]
    },
    {
      "cell_type": "code",
      "metadata": {
        "id": "_Ct2YFjrQtvx"
      },
      "source": [
        "# average function; under one penetration_rate, because a specific vehicle is randomly to be connected or non-connected, thus for each penetration rate, calcilate corresponding density_flowrate connection for many times and take the average\n",
        "def average_den_flow(cal_time,delta_n,n1,n2,D,L_int,l_n,s_0,t_sim,G,Y,R,T,delta_t,tau,v_f,a_0,b,model_id,connectivity,agg,asl_id):\n",
        "    flowrate_ave = []; density = []; num_t = int(t_sim/delta_t); num_cycle = int(t_sim/(delta_t*T)) ; L = T*v_f*delta_t; rho = l_n + s_0; C = 0.3900092769755578\n",
        "    global total_flowrate,vehicle_state\n",
        "    for n in range(n1,n2):\n",
        "        density.append((n*delta_n/(L+L_int))/(1/rho))# specific density for a specific vehicle number\n",
        "        total_flowrate = 0; flowrate = np.zeros([cal_time,1])\n",
        "        for i in range(cal_time):\n",
        "            average_speed = []#average speed for a individual vehicle\n",
        "            vehicle_state,veh_t1,ttc1 = vehicle_update(L_int,D,l_n,s_0,t_sim,T,G,Y,R,delta_t,tau,v_f,a_0,b,n,delta_n,model_id,connectivity,agg,asl_id)\n",
        "            period,average = period_system(n,delta_n,D,connectivity,G,Y,R,T,vehicle_state,model_id,num_t)#oeriod correspongding to that density\n",
        "            system_average = sum(average[num_cycle-period:num_cycle,0])/period\n",
        "            flowrate[i] = ((n*delta_n/(L+L_int) * system_average)/C)\n",
        "            print(\"car_number\",n*delta_n,\"density\",density[-1],\"flowrate\",flowrate[i],\"cal_time\",i,\"connectivity\",connectivity)\n",
        "        flowrate_ave.append(sum(flowrate[0:len(flowrate),0])/cal_time) # calculate the average flowrate for a specific density\n",
        "        print(\"MPR\",connectivity,\"average density\",density[-1],\"average flowrate\",flowrate_ave[-1])\n",
        "\n",
        "    return vehicle_state,flowrate_ave,density,period,veh_t1"
      ],
      "execution_count": null,
      "outputs": []
    },
    {
      "cell_type": "markdown",
      "metadata": {
        "id": "ziq34KbCtBJh"
      },
      "source": [
        "# Examples try\n",
        "|Parameter   | Value   | Parameter | Value |\n",
        "| :------:| :------: | :------: | :------: |\n",
        "| $B$ | $60s$ | $G$ | $24s$ |\n",
        "| $Y$ | $6s$ | $R$ | $30s$ |\n",
        "| $t_{RE}$ | $1.5s$ | $\\tau$ | $1.5s$  |\n",
        "| $L$ | $720m$ | $D$ | $300m$ |\n",
        "| $s_0$ | $2m$ | $l_n$ | $5m$ |\n",
        "| $\\zeta$ | $7m$ |  |  |\n",
        "| $v_f$ | $12m/s$ | $a_0$ | $1.5m/s^2$ |\n",
        "|  $b$ | $3m/s^2$ | $\\epsilon$ | $10^{-5}$ |"
      ]
    },
    {
      "cell_type": "code",
      "metadata": {
        "id": "Fg6-FpcatDwT"
      },
      "source": [
        "def IDM_example(tau,delta_t,l_n,s_0,v_f,a_0,b):\n",
        "    #network fundamental diagram\n",
        "    t_sim = 7200; num_t = int(t_sim/delta_t)\n",
        "    R = int(0/delta_t); G = int(60/delta_t); Y = int(0/delta_t); T = G + Y + R\n",
        "    rho = l_n + s_0; L = T * v_f * delta_t; D = 300; w = rho/tau #m\n",
        "    delta_n = 1\n",
        "    n1 = int(2/delta_n); n2 = int(101/delta_n)\n",
        "    non_connected = 0; all_connected = 1; aggressive = 1; ASL = 0; ex_ASL = 1; model_id = 3\n",
        "    # plot the figure\n",
        "    fig = plt.figure(figsize=(14,4),num = 1,dpi = 80)\n",
        "    p = n2; p1 = 1; p2 = 98; start = datetime.datetime.now()\n",
        "    \n",
        "    #vehicle_banewell_free,flow_banewell_free,density_banewell_free,period_banewell_free,vehicle_banewell_free1,time_free1 = nfd_calc(n1,n2,delta_n,L_int,D,l_n,non_connected,G,Y,R,T,tau,delta_t,3600,s_0,v_f,a_0,b,3,1,ASL)    \n",
        "    #BA newell car-following model\n",
        "    R = int(30/delta_t); G = int(24/delta_t); Y = int(6/delta_t); T = G + Y + R  \n",
        "    '''\n",
        "     #n1,n2,loop_start,connectivity,green,cycle_length,yellow,all_red,time_gap,time_step,vehicle_length,s0,freeflow_speed,bounded_acc,bounded_dec,asl_id,model_id,num_timestep\n",
        "    vehicle_banewell_all,flow_banewell_all,density_banewell_all,period_banewell_all,vehicle_banewell_all1,time_all1 = nfd_calc(n1,n2,delta_n,L_int,D,l_n,non_connected,G,Y,R,T,tau,delta_t,t_sim,s_0,v_f,a_0,b,3,aggressive,ASL)\n",
        "    vehicle_banewell_dy,flow_banewell_dy,density_banewell_dy,period_banewell_dy,vehicle_banewell_dy1,time_dy1 = nfd_calc(n1,n2,delta_n,L_int,D,l_n,all_connected,G,Y,R,T,tau,delta_t,t_sim,s_0,v_f,a_0,b,3,aggressive,ex_ASL)\n",
        "    vehicle_banewell_non,flow_banewell_non,density_banewell_non,period_banewell_non,vehicle_banewell_non1,time_non1 = nfd_calc(n1,n2,delta_n,L_int,D,l_n,non_connected,G,Y,R,T,tau,delta_t,t_sim,s_0,v_f,a_0,b,3,aggressive,ex_ASL)\n",
        "    \n",
        "    ax1 = fig.add_subplot(1,2,1)\n",
        "    ax1.grid()\n",
        "    ax1.set_xlabel(\"$density \\ (k/k_j)$\")\n",
        "    ax1.set_ylabel(\"$flowrate \\ (q/C)$\")\n",
        "    #plt.ylim(0.01,0.64)\n",
        "    ax1.scatter(density_banewell_free,flow_banewell_free,marker = '>',color = 'b',s = 5,label=\"$no\\ signal$\")\n",
        "    ax1.scatter(density_banewell_non,flow_banewell_non,marker = 'D',color = 'green',s = 5,label=\"$no\\ ASL$\")\n",
        "    ax1.scatter(density_banewell_all,flow_banewell_all,marker = 'o',color = 'm',s = 5,label=\"$U_n(t)$\")\n",
        "    ax1.scatter(density_banewell_dy,flow_banewell_dy,marker = 'v',color = 'k',s = 5,label=\"$U'_n(t)$\")\n",
        "    ax1.legend()\n",
        "    '''                                        \n",
        "    density_non,improvement1,improvement2,fuel_con,fuel_dy,fuel_non = improvement_rate(n1,n2,delta_n,D,G,Y,R,T,tau,t_sim,delta_t,l_n,s_0,v_f,a_0,b,model_id,aggressive,ex_ASL)\n",
        "    ax1 = fig.add_subplot(1,2,1)\n",
        "    ax1.scatter(density_non[p1:n2-n1-1], improvement1[p1:n2-n1-1],color = 'b',marker = '>',s = 6,label = \"$U_n(t)$\")\n",
        "    ax1.scatter(density_non[p1:n2-n1-1], improvement2[p1:n2-n1-1],color = 'red',marker = '>',s = 6,label = \"$U'_n(t)$\")\n",
        "    ax1.legend(); ax1.grid()\n",
        "    \n",
        "    ax2 = fig.add_subplot(1,2,2)\n",
        "    ax2.set_xlabel(\"$density\\ (k/k_j)$\")\n",
        "    ax2.set_ylabel(\"$reduction (\\%) $\")\n",
        "    ax2.grid()\n",
        "    plt.xlim(0,1.05)\n",
        "    plt.ylim(0,10)\n",
        "    fp3 = np.polyfit(density_non[p1:n2-n1-1], improvement1[p1:n2-n1-1], 2)\n",
        "    f3 = np.poly1d(fp3)\n",
        "    fx3 = np.linspace(density_non[p1],density_non[n2-n1-1],n2-n1-1 - p1)\n",
        "    ax2.plot(fx3,f3(fx3),linewidth=2,color='b',label = \"$U_n(t)\\ Reduction$\")\n",
        "    \n",
        "    fp4 = np.polyfit(density_non[p1:n2-n1-1], improvement2[p1:n2-n1-1], 2)\n",
        "    f4 = np.poly1d(fp4)\n",
        "    fx4 = np.linspace(density_non[p1],density_non[n2-n1-1],n2-n1-1 - p1)\n",
        "    ax2.plot(fx4,f4(fx4),linewidth=2,color='g',label = \"$U'_n(t)\\ Reduction$\")\n",
        "    ax2.legend()\n",
        "    \n",
        "    end = datetime.datetime.now()\n",
        "    print(\"time\",end-start)"
      ],
      "execution_count": null,
      "outputs": []
    },
    {
      "cell_type": "code",
      "metadata": {
        "id": "-dnJ6K2dv5p-"
      },
      "source": [
        "def MPR_example(tau,delta_t,l_n,s_0,v_f,a_0,b):\n",
        "    #network fundamental diagram\n",
        "    t_sim = 3600; num_t = int(t_sim/delta_t)\n",
        "    R = int(30/delta_t); G = int(24/delta_t); Y = int(6/delta_t); T = G + Y + R \n",
        "    rho = l_n + s_0; L = T * v_f * delta_t; D = 300; w = rho/tau #m\n",
        "    delta_n = 1\n",
        "    n1 = int(2/delta_n); n2 = int(101/delta_n)\n",
        "    non_connected = 0; all_connected = 1; aggressive = 1;ASL=0; ex_ASL = 1; p1 = 10; p2 = 68 \n",
        "    # plot the figure\n",
        "    fig = plt.figure(figsize=(14,4),num = 1,dpi = 80); start = datetime.datetime.now()  #n1,n2,delta_n,L_int,L,D,l_n,connectivity,G,Y,R,T,tau,delta_t,t_sim,s_0,v_f,a_0,b,model_id,agg,asl_id\n",
        "    #BA newell car-following model                                 \n",
        "    vehicle_newell_dy,flow_newell_dy,density_newell_dy,period_newell_dy = nfd_calc(n1,n2,delta_n,L_int,L,D,l_n,all_connected,G,Y,R,T,tau,delta_t,t_sim,s_0,v_f,a_0,b,3,aggressive,ex_ASL)\n",
        "    vehicle_banewell_10,flow_banewell_10,density_banewell_10,period_banewell_10 = average_den_flow(5,delta_n,n1,n2,D,L_int,l_n,s_0,t_sim,G,Y,R,T,delta_t,tau,v_f,a_0,b,3,0.1,aggressive,ex_ASL)\n",
        "    vehicle_banewell_50,flow_banewell_50,density_banewell_50,period_banewell_50 = average_den_flow(5,delta_n,n1,n2,D,L_int,l_n,s_0,t_sim,G,Y,R,T,delta_t,tau,v_f,a_0,b,3,0.5,aggressive,ex_ASL)\n",
        "    vehicle_banewell_70,flow_banewell_70,density_banewell_70,period_banewell_70 = average_den_flow(5,delta_n,n1,n2,D,L_int,l_n,s_0,t_sim,G,Y,R,T,delta_t,tau,v_f,a_0,b,3,0.7,aggressive,ex_ASL)\n",
        "\n",
        "    vehicle_newell_non,flow_newell_non,density_newell_non,period_newell_non = nfd_calc(n1,n2,delta_n,L_int,L,D,l_n,non_connected,G,Y,R,T,tau,delta_t,t_sim,s_0,v_f,a_0,b,3,aggressive,ex_ASL)\n",
        "    \n",
        "\n",
        "    ax1 = fig.add_subplot(1,2,1)\n",
        "    ax1.grid()\n",
        "    ax1.set_xlabel(\"$Density \\ (k/k_j)$\")\n",
        "    ax1.set_ylabel(\"$Flow\\ rate \\ (q/C)$\")\n",
        "    #plt.ylim(0.01,0.64)\n",
        "    ax1.scatter(density_newell_non,flow_newell_non,marker = '>',color = 'red',s = 12,label=\"$0MPR$\")\n",
        "    ax1.scatter(density_banewell_10,flow_banewell_10,marker = 'v',color = 'b',s = 12,label=\"$0.1MPR$\")\n",
        "    ax1.scatter(density_banewell_50,flow_banewell_50,marker = '<',color = 'm',s = 12,label=\"$0.5MPR$\")\n",
        "    ax1.scatter(density_banewell_70,flow_banewell_70,marker = '+',color = 'brown',s = 18,label=\"$0.7MPR$\")\n",
        "    ax1.scatter(density_newell_dy,flow_newell_dy,marker = 'D',color = 'c',s = 12,label=\"$1MPR$\")\n",
        "    ax1.legend()\n",
        "\n",
        "    ax2 = fig.add_subplot(1,2,2)\n",
        "    ax2.grid()\n",
        "    ax2.set_xlabel(\"$Density \\ (k/k_j)$\")\n",
        "    ax2.set_ylabel(\"$Flowrate \\ (q/C)$\")\n",
        "    #plt.ylim(0.01,0.64)\n",
        "    ax2.scatter(density_newell_non[p1:p2],flow_newell_non[p1:p2],marker = '>',color = 'red',s = 12,label=\"$0MPR$\")\n",
        "    ax2.scatter(density_banewell_10[p1:p2],flow_banewell_10[p1:p2],marker = 'v',color = 'b',s = 12,label=\"$0.1MPR$\")\n",
        "    ax2.scatter(density_banewell_50[p1:p2],flow_banewell_50[p1:p2],marker = '<',color = 'm',s = 12,label=\"$0.5MPR$\")\n",
        "    ax2.scatter(density_banewell_70[p1:p2],flow_banewell_70[p1:p2],marker = '+',color = 'brown',s = 18,label=\"$0.7MPR$\")\n",
        "    ax2.scatter(density_newell_dy[p1:p2],flow_newell_dy[p1:p2],marker = 'D',color = 'c',s = 12,label=\"$1MPR$\")\n",
        "    ax2.legend()\n",
        "    end = datetime.datetime.now()\n",
        "    print(\"time\",end-start)"
      ],
      "execution_count": null,
      "outputs": []
    },
    {
      "cell_type": "code",
      "metadata": {
        "id": "V7byLg2dv6E5"
      },
      "source": [
        "def starting_example(tau,delta_t,l_n,s_0,v_f,a_0,b): # how flow will change according to different starting points\n",
        "    #network fundamental diagram\n",
        "    t_sim = 7200; num_t = int(t_sim/delta_t)\n",
        "    R = int(30/delta_t); G = int(24/delta_t); Y = int(6/delta_t); T = G + Y + R \n",
        "    rho = l_n + s_0; L = T * v_f * delta_t; D = 300; w = rho/tau #m\n",
        "    delta_n = 1\n",
        "    n1 = int(2/delta_n); n2 = int(101/delta_n)\n",
        "    non_connected = 0; all_connected = 1; aggressive = 1; ASL = 0; ex_ASL = 1; start = datetime.datetime.now()  \n",
        "    # plot the figure\n",
        "    fig = plt.figure(figsize=(7,4),num = 1,dpi = 80)\n",
        "    loop,improvement_rate1,improvement_rate2,improvement_rate3,improvement_rate4 = improvement_rate_flow1(D,delta_n,L_int,l_n,s_0,t_sim,G,Y,R,T,delta_t,tau,v_f,a_0,b,3,aggressive,ex_ASL)\n",
        "\n",
        "    ax1 = fig.add_subplot(1,1,1)\n",
        "    ax1.set_xlabel(\"$Implementation \\ area\\ (m)$\")\n",
        "    ax1.set_ylabel(\"$Improvement \\ (\\%)$\")\n",
        "    #plt.ylim(-0.5,40)\n",
        "    ax1.scatter(loop, improvement_rate1,color = 'r',marker = 'o',s=15,label = \"$Vehicle\\ number=20$\")\n",
        "    ax1.scatter(loop, improvement_rate2,color = 'g',marker = 'v',s=15,label = \"$Vehicle\\ number=30$\")\n",
        "    ax1.scatter(loop, improvement_rate3,color = 'b',marker = 's',s=15,label = \"$Vehicle\\ number=40$\")\n",
        "    ax1.scatter(loop, improvement_rate4,color = 'brown',marker = 'x',s=15,label = \"$Vehicle\\ number=50$\")\n",
        "    ax1.legend(loc = 'lower right')\n",
        "    ax1.grid()\n",
        "    end = datetime.datetime.now()\n",
        "    print(\"time\",end-start)"
      ],
      "execution_count": null,
      "outputs": []
    },
    {
      "cell_type": "code",
      "metadata": {
        "id": "G7m5vNq4wc1O"
      },
      "source": [
        "def fuel_example(tau,delta_t,l_n,s_0,v_f,a_0,b):\n",
        "    t_sim = 3600; num_t = int(t_sim/delta_t)\n",
        "    R = int(30/delta_t); G = int(24/delta_t); Y = int(6/delta_t); T = G + Y + R \n",
        "    rho = l_n + s_0; L = T * v_f * delta_t; D = 300; w = rho/tau #m\n",
        "    delta_n = 1\n",
        "    n1 = 2; n2 = 101\n",
        "    non_connected = 0; all_connected = 1; cal_time = 5; ASL = 0; ex_ASL = 1; aggressive = 1\n",
        "    # plot the figure\n",
        "    fig = plt.figure(figsize=(14,4),num = 1,dpi = 80)\n",
        "    start = datetime.datetime.now()\n",
        "\n",
        "    density_non,improvement_rate1,improvement_rate2,improvement_rate3,improvement_rate4,fuel_con,fuel_non = ave_improve(cal_time,n1,n2,delta_n,D,G,Y,R,T,tau,t_sim,delta_t,l_n,s_0,v_f,a_0,b,3,aggressive,ex_ASL)\n",
        "\n",
        "    ax1 = fig.add_subplot(1,2,1)\n",
        "    ax1.set_xlabel(\"$Density\\ (k/k_j)$\")\n",
        "    ax1.set_ylabel(\"$Reduction (\\%)$\")\n",
        "    ax1.grid()\n",
        "    plt.xlim(0,1)\n",
        "    plt.ylim(0,50)\n",
        "\n",
        "    ax2 = fig.add_subplot(1,2,2)\n",
        "    ax2.set_xlabel(\"$Density\\ (k/k_j)$\")\n",
        "    ax2.set_ylabel(\"$Reduction (\\%)$\")\n",
        "    ax2.grid()\n",
        "    plt.xlim(0,1)\n",
        "    plt.ylim(0,50)\n",
        "    p1 = 0; p2 = n2-n1-1;\n",
        "\n",
        "    ax1.scatter(density_non[p1:p2],improvement_rate1[p1:p2],color = 'b',marker = '>',s = 6,label = \"$0.1MPR$\")#linewidth=0.5,\n",
        "    fp1 = np.polyfit(density_non[p1:p2], improvement_rate1[p1:p2],5)\n",
        "    f1 = np.poly1d(fp1)\n",
        "    fx1 = np.linspace(density_non[p1],density_non[p2],p2-p1)\n",
        "    ax2.plot(fx1,f1(fx1),linewidth=2,color='b',linestyle='--',label = \"$0.1MPR$\")\n",
        "\n",
        "    ax1.scatter(density_non,improvement_rate2,color = 'm',marker = 'D',s = 6,label = \"$0.5MPR$\")#linewidth=0.5,\n",
        "    fp2 = np.polyfit(density_non[p1:p2], improvement_rate2[p1:p2],5)\n",
        "    f2 = np.poly1d(fp2)\n",
        "    fx2 = np.linspace(density_non[p1],density_non[p2],p2-p1)\n",
        "    ax2.plot(fx2,f2(fx2),linewidth=2,color='m',linestyle=':',label = \"$0.5MPR$\")\n",
        "\n",
        "    ax1.scatter(density_non,improvement_rate3,color = 'brown',marker = 'v',s = 6,label = \"$0.7MPR$\")#linewidth=0.5,\n",
        "    fp3 = np.polyfit(density_non[p1:p2], improvement_rate3[p1:p2], 5)\n",
        "    f3 = np.poly1d(fp3)\n",
        "    fx3 = np.linspace(density_non[p1],density_non[p2],p2-p1)\n",
        "    ax2.plot(fx3,f3(fx3),linewidth=2,color='brown',linestyle='-.',label = \"$0.7MPR$\")\n",
        "\n",
        "    ax1.scatter(density_non[p1:p2],improvement_rate4[p1:p2],color = 'black',marker = '*',s = 6,label = \"$1MPR$\")#linewidth=0.5,1MPR\n",
        "    fp4 = np.polyfit(density_non[p1:p2], improvement_rate4[p1:p2],5)\n",
        "    f4 = np.poly1d(fp4)\n",
        "    fx4 = np.linspace(density_non[p1],density_non[p2],p2-p1)\n",
        "    ax2.plot(fx4,f4(fx4),linewidth=2,color='c',linestyle=':',label = \"$1MPR$\")\n",
        "\n",
        "    ax1.legend()\n",
        "    ax2.legend()\n",
        "    end = datetime.datetime.now()\n",
        "    print(\"time\",end-start)"
      ],
      "execution_count": 258,
      "outputs": []
    },
    {
      "cell_type": "code",
      "metadata": {
        "id": "MVi12wBhwwB8"
      },
      "source": [
        "def starting_fuel(tau,delta_t,l_n,s_0,v_f,a_0,b): # how fuel consumption will change according to different starting points\n",
        "    t_sim = 7200; num_t = int(t_sim/delta_t)\n",
        "    R = int(30/delta_t); G = int(24/delta_t); Y = int(6/delta_t); T = G + Y + R \n",
        "    rho = l_n + s_0; L = T * v_f * delta_t; D = 300; w = rho/tau #m\n",
        "    delta_n = 1\n",
        "    non_connected = 0; all_connected = 1; ASL = 0; ex_ASL = 1; aggressive = 1\n",
        "    # plot the figure\n",
        "    fig = plt.figure(figsize=(7,4),num = 1,dpi = 80)\n",
        "    start = datetime.datetime.now()\n",
        "\n",
        "    start = datetime.datetime.now()                                               #D,delta_n,L_int,l_n,s_0,t_sim,G,Y,R,T,delta_t,tau,v_f,a_0,b,model_id,agg,asl_id\n",
        "    loop,improvement_rate1,improvement_rate2,improvement_rate3,improvement_rate4 = improvement_rate_flow(D,delta_n,L_int,l_n,s_0,t_sim,G,Y,R,T,delta_t,tau,v_f,a_0,b,3,aggressive,ex_ASL)\n",
        "    end = datetime.datetime.now()\n",
        "    print(\"time\",end-start)\n",
        "\n",
        "    fig = plt.figure(figsize=(7,4),num = 1,dpi = 80)\n",
        "    \n",
        "    ax1 = fig.add_subplot(1,1,1)\n",
        "    ax1.set_xlabel(\"$Implementation \\ area\\ (m)$\")\n",
        "    ax1.set_ylabel(\"$Reduction \\ (\\%)$\")\n",
        "    plt.ylim(-0.1,50)\n",
        "    ax1.scatter(loop, improvement_rate1,color = 'r',marker = 'o',s=15,label = \"$Vehicle\\ number=20$\"),\n",
        "    ax1.scatter(loop, improvement_rate2,color = 'g',marker = 'v',s=15,label = \"$Vehicle\\ number=30$\")\n",
        "    ax1.scatter(loop, improvement_rate3,color = 'b',marker = 's',s=15,label = \"$Vehicle\\ number=40$\")\n",
        "    ax1.scatter(loop, improvement_rate4,color = 'brown',marker = 'x',s=15,label = \"$Vehicle\\ number=50$\")\n",
        "    ax1.legend(loc = 'lower right')\n",
        "    ax1.grid()\n",
        "    end = datetime.datetime.now()\n",
        "    print(\"time\",end-start)"
      ],
      "execution_count": null,
      "outputs": []
    },
    {
      "cell_type": "code",
      "metadata": {
        "id": "WJ796lvtxNVR"
      },
      "source": [
        "def model_plot(model_id):\n",
        "    if model_id == 1:\n",
        "        model = widgets.interact(IDM_example,\n",
        "            tau = widgets.FloatSlider(min=0.5,max=3,step=0.5,value = 1.5,description=r\"$\\tau$\"),\n",
        "            delta_t = widgets.FloatSlider(min=0.1,max=2,step=0.1,value = 1.5,description=r\"$\\Delta t$\"),\n",
        "            l_n = widgets.FloatSlider(min=3,max=8,step=1,value = 5,description=\"$l$\"),\n",
        "            s_0 = widgets.FloatSlider(min=0,max=4,step=1,value = 2,description=\"$S_0$\"),\n",
        "            v_f = widgets.FloatSlider(min=10,max=20,step=1,value = 12,description=\"$v_f$\"),\n",
        "            a_0 = widgets.FloatSlider(min=0,max=4,step=1,value = 1.5,description=\"$a_0$\"),\n",
        "            b = widgets.FloatSlider(min=0,max=6,step=1,value = 3,description=\"$b$\"),)\n",
        "    elif model_id == 2:\n",
        "            model = widgets.interact(MPR_example,\n",
        "            tau = widgets.FloatSlider(min=0.5,max=3,step=0.5,value = 1.5,description=r\"$\\tau$\"),\n",
        "            delta_t = widgets.FloatSlider(min=0.1,max=2,step=0.1,value = 1.5,description=r\"$\\Delta t$\"),\n",
        "            l_n = widgets.FloatSlider(min=3,max=8,step=1,value = 5,description=\"$l$\"),\n",
        "            s_0 = widgets.FloatSlider(min=0,max=4,step=1,value = 2,description=\"$S_0$\"),\n",
        "            v_f = widgets.FloatSlider(min=10,max=20,step=1,value = 12,description=\"$v_f$\"),\n",
        "            a_0 = widgets.FloatSlider(min=0,max=4,step=1,value = 1.5,description=\"$a_0$\"),\n",
        "            b = widgets.FloatSlider(min=0,max=6,step=1,value = 3,description=\"$b$\"),)\n",
        "    elif model_id == 3:\n",
        "            model = widgets.interact(starting_example,\n",
        "            tau = widgets.FloatSlider(min=0.5,max=3,step=0.5,value = 1.5,description=r\"$\\tau$\"),\n",
        "            delta_t = widgets.FloatSlider(min=0.1,max=2,step=0.1,value = 1.5,description=r\"$\\Delta t$\"),\n",
        "            l_n = widgets.FloatSlider(min=3,max=8,step=1,value = 5,description=\"$l$\"),\n",
        "            s_0 = widgets.FloatSlider(min=0,max=4,step=1,value = 2,description=\"$S_0$\"),\n",
        "            v_f = widgets.FloatSlider(min=10,max=20,step=1,value = 12,description=\"$v_f$\"),\n",
        "            a_0 = widgets.FloatSlider(min=0,max=4,step=1,value = 1.5,description=\"$a_0$\"),\n",
        "            b = widgets.FloatSlider(min=0,max=6,step=1,value = 3,description=\"$b$\"),)\n",
        "    elif model_id == 4:\n",
        "            model = widgets.interact(fuel_example,\n",
        "            tau = widgets.FloatSlider(min=0.5,max=3,step=0.5,value = 1.5,description=r\"$\\tau$\"),\n",
        "            delta_t = widgets.FloatSlider(min=0.1,max=2,step=0.1,value = 1.5,description=r\"$\\Delta t$\"),\n",
        "            l_n = widgets.FloatSlider(min=3,max=8,step=1,value = 5,description=\"$l$\"),\n",
        "            s_0 = widgets.FloatSlider(min=0,max=4,step=1,value = 2,description=\"$S_0$\"),\n",
        "            v_f = widgets.FloatSlider(min=10,max=20,step=1,value = 12,description=\"$v_f$\"),\n",
        "            a_0 = widgets.FloatSlider(min=0,max=4,step=1,value = 1.5,description=\"$a_0$\"),\n",
        "            b = widgets.FloatSlider(min=0,max=6,step=1,value = 3,description=\"$b$\"),)\n",
        "    elif model_id == 5:\n",
        "            model = widgets.interact(starting_fuel,\n",
        "            tau = widgets.FloatSlider(min=0.5,max=3,step=0.5,value = 1.5,description=r\"$\\tau$\"),\n",
        "            delta_t = widgets.FloatSlider(min=0.1,max=2,step=0.1,value =1.5,description=r\"$\\Delta t$\"),\n",
        "            l_n = widgets.FloatSlider(min=3,max=8,step=1,value = 5,description=\"$l$\"),\n",
        "            s_0 = widgets.FloatSlider(min=0,max=4,step=1,value = 2,description=\"$S_0$\"),\n",
        "            v_f = widgets.FloatSlider(min=10,max=20,step=1,value = 12,description=\"$v_f$\"),\n",
        "            a_0 = widgets.FloatSlider(min=0,max=4,step=1,value = 1.5,description=\"$a_0$\"),\n",
        "            b = widgets.FloatSlider(min=0,max=6,step=1,value = 3,description=\"$b$\"),)\n",
        "    return model"
      ],
      "execution_count": null,
      "outputs": []
    },
    {
      "cell_type": "code",
      "metadata": {
        "colab": {
          "base_uri": "https://localhost:8080/",
          "height": 1000,
          "referenced_widgets": [
            "f37829d09e744f2aaac7750779f7ab90",
            "0d175be0c0ff4b3d887fdee6c8507974",
            "ff23f81dd9bf40b69ce4bcef0eefad15",
            "5e60c1ccae2b4a57872d401cebc4ecac",
            "9134edccab7949b9bc36ed8d0e8272b4",
            "f0fc9407238b408397bad6a1b0e1c353",
            "26d579d792b34ad9ad5c28fabefcaff4",
            "0baa0604821945c9824c877ae149d062",
            "51824f6f2ee24abfae57e82ee067d5c3",
            "759794b5e831448f89d32c683712bbc9",
            "78ac49f762b24c01b9a1a738e1678220",
            "a6dbe82ce16049fa92ba20aa640b4b5e",
            "686cae8e030d4e62a0c9263d7282f23d",
            "96bfd3df865849e7bc43ed45b895a3f1",
            "f79dd5fd8ebc4927bf0441b063a7e3a7",
            "ff8d97a46d72429fb89284f050b5f34f",
            "a8f471b68c1843bca68cfc00df4b0c9c",
            "e5b13a0ea15a45dc80d1b356e26b5fea",
            "7aca6650e2eb4bd094ab1ad624286f8b",
            "4ddeb8ff83a9475487e12aff33195d5f",
            "984db6ec08674cc687e9b90ceec5addf",
            "6b61083fee9646298642fe48fba91d0a",
            "88e8d624ac5e44eaa30a740d6829aed0",
            "f397c46a4de545719800ea072870ed44",
            "86327a5bb84a435a9f220c160493fbfe",
            "440161b1ada44e46aa0e881a9b8ec0b6",
            "6d81ab24636c474cbc1992cb22f7c60e",
            "ac74e17c17b54f39ae30b32d81bb3526",
            "6e3f0850681c48f08a74f0bb44ad54b8",
            "f06a1e45192340d49be6f9ab2f436c20",
            "7e8c00a9266446d9951784be4e19779f",
            "9913401b6aeb45348ef29e03432aaaf1"
          ]
        },
        "id": "3YlEXMcexQOb",
        "outputId": "37d2d2f3-aab0-4be5-ae86-b5e7ac781cff"
      },
      "source": [
        "widgets.interact(model_plot,\n",
        "            model_id = widgets.FloatSlider(min=1,max=6,step=1,value = 4,description=\"model id\"))"
      ],
      "execution_count": 259,
      "outputs": [
        {
          "output_type": "display_data",
          "data": {
            "text/plain": [
              "interactive(children=(FloatSlider(value=4.0, description='model id', max=6.0, min=1.0, step=1.0), Output()), _…"
            ],
            "application/vnd.jupyter.widget-view+json": {
              "version_major": 2,
              "version_minor": 0,
              "model_id": "f37829d09e744f2aaac7750779f7ab90"
            }
          },
          "metadata": {}
        },
        {
          "output_type": "execute_result",
          "data": {
            "text/plain": [
              "<function __main__.model_plot>"
            ]
          },
          "metadata": {},
          "execution_count": 259
        }
      ]
    },
    {
      "cell_type": "markdown",
      "source": [
        "#end"
      ],
      "metadata": {
        "id": "HVZi7JMGO-xp"
      }
    }
  ]
}